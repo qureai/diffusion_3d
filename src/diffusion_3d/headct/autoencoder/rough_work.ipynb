{
 "cells": [
  {
   "cell_type": "code",
   "execution_count": null,
   "metadata": {},
   "outputs": [],
   "source": [
    "import torch\n",
    "from munch import munchify\n",
    "\n",
    "from diffusion_3d.headct.ldm_uncontrolled.dataset import HeadCTDataset\n",
    "from diffusion_3d.utils.visualize import plot_scans"
   ]
  },
  {
   "cell_type": "markdown",
   "metadata": {},
   "source": [
    "# Check dataset"
   ]
  },
  {
   "cell_type": "code",
   "execution_count": 38,
   "metadata": {},
   "outputs": [],
   "source": [
    "image_size = (32, 256, 256)\n",
    "\n",
    "config = munchify(\n",
    "    dict(\n",
    "        csvpath=r\"/raid3/arjun/ct_pretraining/csvs/sources.csv\",\n",
    "        datapath=r\"/raid3/arjun/ct_pretraining/scans/\",\n",
    "        checkpointspath=r\"/raid3/arjun/checkpoints/diffusion_3d/\",\n",
    "        #\n",
    "        limited_dataset_size=None,\n",
    "        #\n",
    "        sources=[\"vrad\", \"medall\", \"fts\"],\n",
    "        bodyparts=[\"head\"],\n",
    "        allowed_spacings=((0.4, 7), (-1, -1), (-1, -1)),\n",
    "        allowed_shapes=((64, -1), (-1, -1), (-1, -1)),\n",
    "        #\n",
    "        train_augmentations=[\n",
    "            {\n",
    "                \"__fn_name__\": \"pad_to_target_shape\",\n",
    "                \"target_shape\": (36, 512, 512),\n",
    "                \"mode\": \"random\",\n",
    "            },\n",
    "            {\n",
    "                \"__fn_name__\": \"random_crop\",\n",
    "                \"target_shape\": (-1, 512, 512),\n",
    "            },\n",
    "            {\n",
    "                \"__fn_name__\": \"random_rotate\",\n",
    "                \"degrees\": 25,\n",
    "            },\n",
    "            {\n",
    "                \"__fn_name__\": \"random_resize\",\n",
    "                \"min_shape\": image_size,\n",
    "                \"max_shape\": (\n",
    "                    int(image_size[0] * 1.2),\n",
    "                    min(int(image_size[1] * 1.1), 512),\n",
    "                    min(int(image_size[2] * 1.1), 512),\n",
    "                ),\n",
    "                \"interpolation_mode\": \"trilinear\",\n",
    "            },\n",
    "            {\n",
    "                \"__fn_name__\": \"random_crop\",\n",
    "                \"target_shape\": image_size,\n",
    "            },\n",
    "            {\n",
    "                \"__fn_name__\": \"random_windowing\",\n",
    "                \"hotspots_and_stds\": [\n",
    "                    [(80, 40), (7, 2)],  # Brain window\n",
    "                    [(37, 37), (4, 2)],  # Stroke window\n",
    "                    [(3400, 650), (360, 35)],  # Bone window\n",
    "                    [(8, 32), (0.5, 2)],  # Another stroke window\n",
    "                    [(210, 75), (10, 4)],  # subdural window\n",
    "                    [(375, 40), (10, 2)],  # Soft tissue window\n",
    "                ],\n",
    "                \"sampling_probability\": [0.4, 0.3, 0.15, 0.05, 0.05, 0.05],\n",
    "                \"normalize_range\": (0, 1),\n",
    "            },\n",
    "            {\n",
    "                \"__fn_name__\": \"random_horizontal_flip\",\n",
    "                \"probability\": 0.5,\n",
    "            },\n",
    "            [\n",
    "                [0.4, 0.3, 0.3],\n",
    "                [],\n",
    "                [\n",
    "                    {\n",
    "                        \"__fn_name__\": \"random_gaussian_blurring\",\n",
    "                        \"sigma_range\": (0, 1),\n",
    "                    }\n",
    "                ],\n",
    "                [\n",
    "                    {\n",
    "                        \"__fn_name__\": \"random_unsharp_masking\",\n",
    "                        \"sigma_range\": (0, 1),\n",
    "                        \"alpha_range\": (0.5, 2),\n",
    "                    }\n",
    "                ],\n",
    "            ],\n",
    "        ],\n",
    "        #\n",
    "        num_workers=6,\n",
    "        # batch_size=int(torch.cuda.get_device_properties(0).total_memory // 1.25e9),  # (32, 384, 384) 100M\n",
    "        # batch_size=int(torch.cuda.get_device_properties(0).total_memory // 3.2e9),  # (48, 384, 384) 100M\n",
    "        batch_size=int(torch.cuda.get_device_properties(0).total_memory // 4e9),  # (64, 384, 384) 100M\n",
    "        # train_sample_size=168_000,\n",
    "        train_sample_size=70_000,  # (64, 384, 384)\n",
    "        sample_balance_cols=[\"Source\", \"BodyPart\"],\n",
    "    )\n",
    ")"
   ]
  },
  {
   "cell_type": "code",
   "execution_count": null,
   "metadata": {},
   "outputs": [
    {
     "data": {
      "application/vnd.jupyter.widget-view+json": {
       "model_id": "1177c901fda14b50a4b54bc4701ae540",
       "version_major": 2,
       "version_minor": 0
      },
      "text/plain": [
       "train:   0%|          | 0/194552 [00:00<?, ?it/s]"
      ]
     },
     "metadata": {},
     "output_type": "display_data"
    },
    {
     "name": "stdout",
     "output_type": "stream",
     "text": [
      "No. of train datapoints: 77860\n"
     ]
    }
   ],
   "source": [
    "dataset = HeadCTDataset(config, \"train\")"
   ]
  },
  {
   "cell_type": "code",
   "execution_count": 40,
   "metadata": {},
   "outputs": [
    {
     "name": "stdout",
     "output_type": "stream",
     "text": [
      "tensor([5.1445, 0.9580, 0.9399], dtype=torch.float16)\n",
      "1.2.840.113619.2.278.3.2831165736.943.1356932353.328\n",
      "1\n",
      "torch.Size([1, 32, 256, 256])\n"
     ]
    },
    {
     "data": {
      "application/vnd.jupyter.widget-view+json": {
       "model_id": "b4d67fe8201d4a4aa2d65e4f46aa8f87",
       "version_major": 2,
       "version_minor": 0
      },
      "text/plain": [
       "interactive(children=(IntSlider(value=0, description='z', max=31), Output()), _dom_classes=('widget-interact',…"
      ]
     },
     "metadata": {},
     "output_type": "display_data"
    }
   ],
   "source": [
    "datapoint = dataset[0]\n",
    "\n",
    "print(datapoint['spacing'])\n",
    "print(datapoint['uid'])\n",
    "print(datapoint['index'])\n",
    "print(datapoint['scan'].shape)\n",
    "plot_scans(datapoint['scan'][0])"
   ]
  },
  {
   "cell_type": "code",
   "execution_count": null,
   "metadata": {},
   "outputs": [],
   "source": []
  },
  {
   "cell_type": "code",
   "execution_count": null,
   "metadata": {},
   "outputs": [],
   "source": []
  }
 ],
 "metadata": {
  "kernelspec": {
   "display_name": "base",
   "language": "python",
   "name": "python3"
  },
  "language_info": {
   "codemirror_mode": {
    "name": "ipython",
    "version": 3
   },
   "file_extension": ".py",
   "mimetype": "text/x-python",
   "name": "python",
   "nbconvert_exporter": "python",
   "pygments_lexer": "ipython3",
   "version": "3.10.14"
  }
 },
 "nbformat": 4,
 "nbformat_minor": 2
}

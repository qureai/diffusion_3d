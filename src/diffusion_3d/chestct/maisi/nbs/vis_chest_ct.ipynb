{
 "cells": [
  {
   "cell_type": "code",
   "execution_count": 19,
   "metadata": {},
   "outputs": [],
   "source": [
    "from neuro_utils.visualize import get_annotated_scan, plot_scans\n",
    "from safetensors import safe_open\n",
    "\n",
    "# from qct_utils."
   ]
  },
  {
   "cell_type": "code",
   "execution_count": 7,
   "metadata": {},
   "outputs": [
    {
     "data": {
      "text/html": [
       "<pre style=\"white-space:pre;overflow-x:auto;line-height:normal;font-family:Menlo,'DejaVu Sans Mono',consolas,'Courier New',monospace\"></pre>\n"
      ],
      "text/plain": []
     },
     "metadata": {},
     "output_type": "display_data"
    },
    {
     "data": {
      "text/plain": [
       "\u001b[1;35mtorch.Size\u001b[0m\u001b[1m(\u001b[0m\u001b[1m[\u001b[0m\u001b[1;36m121\u001b[0m, \u001b[1;36m272\u001b[0m, \u001b[1;36m367\u001b[0m\u001b[1m]\u001b[0m\u001b[1m)\u001b[0m"
      ]
     },
     "execution_count": 7,
     "metadata": {},
     "output_type": "execute_result"
    }
   ],
   "source": [
    "with safe_open(r'/raid3/arjun/ct_pretraining/scans/lidc_cache/batch_0/1.3.6.1.4.1.14519.5.2.1.6279.6001.102681962408431413578140925249.safetensors', 'pt') as f:\n",
    "    scan = f.get_tensor('images')\n",
    "\n",
    "scan.shape"
   ]
  },
  {
   "cell_type": "code",
   "execution_count": null,
   "metadata": {},
   "outputs": [
    {
     "data": {
      "application/vnd.jupyter.widget-view+json": {
       "model_id": "a980b02b73114318a7b02643b4956588",
       "version_major": 2,
       "version_minor": 0
      },
      "text/plain": [
       "interactive(children=(IntSlider(value=0, description='z', max=120), Output()), _dom_classes=('widget-interact'…"
      ]
     },
     "metadata": {},
     "output_type": "display_data"
    }
   ],
   "source": [
    "clipped_scan = scan.clip(-150, 1350)\n",
    "plot_scans(clipped_scan)"
   ]
  },
  {
   "cell_type": "code",
   "execution_count": 24,
   "metadata": {},
   "outputs": [],
   "source": [
    "import numpy as np\n",
    "from skimage.morphology import ball, binary_closing, flood_fill\n",
    "\n",
    "\n",
    "def get_bone_masks_2(CT_array, thresh=205.0, invert=False, footprints=[ball(3)], invert_closing_footprints=ball(3)):\n",
    "    '''\n",
    "    This function takes in a CT image and returns the bone mask of the image\n",
    "    '''\n",
    "    CT_bone = (CT_array>thresh)\n",
    "    if invert:\n",
    "        CT_bone = ~CT_bone\n",
    "\n",
    "    CT_bone_list = []\n",
    "    for footprint in footprints:\n",
    "        CT_bone = binary_closing(CT_bone, footprint=footprint)\n",
    "        CT_bone_list.append(CT_bone)\n",
    "\n",
    "    if invert:\n",
    "        CT_bone_list = [binary_closing(~CT_bone, footprint=invert_closing_footprints) for CT_bone in CT_bone_list]\n",
    "\n",
    "    CT_bone_list = [(CT_bone).astype(np.uint8) for CT_bone in CT_bone_list]\n",
    "    return CT_bone_list"
   ]
  },
  {
   "cell_type": "code",
   "execution_count": 29,
   "metadata": {},
   "outputs": [
    {
     "data": {
      "application/vnd.jupyter.widget-view+json": {
       "model_id": "8c1e1ffdd5864b8ca7898fa9e2a5bf9a",
       "version_major": 2,
       "version_minor": 0
      },
      "text/plain": [
       "interactive(children=(IntSlider(value=0, description='z', max=120), Output()), _dom_classes=('widget-interact'…"
      ]
     },
     "metadata": {},
     "output_type": "display_data"
    }
   ],
   "source": [
    "plot1 = clipped_scan\n",
    "plot2 = get_annotated_scan(clipped_scan.numpy(), get_bone_masks_2(clipped_scan, thresh=205.0, invert=True, footprints=[ball(1)], invert_closing_footprints=ball(3)))\n",
    "\n",
    "plot_scans([plot1, plot2])"
   ]
  }
 ],
 "metadata": {
  "kernelspec": {
   "display_name": "base",
   "language": "python",
   "name": "python3"
  },
  "language_info": {
   "codemirror_mode": {
    "name": "ipython",
    "version": 3
   },
   "file_extension": ".py",
   "mimetype": "text/x-python",
   "name": "python",
   "nbconvert_exporter": "python",
   "pygments_lexer": "ipython3",
   "version": "3.10.14"
  }
 },
 "nbformat": 4,
 "nbformat_minor": 2
}

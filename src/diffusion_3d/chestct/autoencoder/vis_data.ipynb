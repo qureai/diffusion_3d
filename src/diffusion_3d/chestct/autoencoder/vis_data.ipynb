{
 "cells": [
  {
   "cell_type": "code",
   "execution_count": null,
   "metadata": {},
   "outputs": [],
   "source": [
    "from diffusion_3d.chestct.autoencoder.vae.config import get_config\n",
    "from diffusion_3d.datasets.ct_rate import CTRATEDataModule, CTRATEDataset\n",
    "from diffusion_3d.utils.visualize import plot_scans"
   ]
  },
  {
   "cell_type": "code",
   "execution_count": null,
   "metadata": {},
   "outputs": [
    {
     "data": {
      "text/html": [
       "<pre style=\"white-space:pre;overflow-x:auto;line-height:normal;font-family:Menlo,'DejaVu Sans Mono',consolas,'Courier New',monospace\"></pre>\n"
      ],
      "text/plain": []
     },
     "metadata": {},
     "output_type": "display_data"
    },
    {
     "data": {
      "text/plain": [
       "\u001b[1;35mMunch\u001b[0m\u001b[1m(\u001b[0m\u001b[1m{\u001b[0m\u001b[32m'data'\u001b[0m: \u001b[1;35mMunch\u001b[0m\u001b[1m(\u001b[0m\u001b[1m{\u001b[0m\u001b[32m'csvpath'\u001b[0m: \u001b[32m'/raid3/arjun/ct_pretraining/csvs/sources.csv'\u001b[0m, \u001b[32m'datapath'\u001b[0m: \u001b[32m'/raid3/arjun/ct_pretraining/scans/'\u001b[0m, \u001b[32m'checkpointspath'\u001b[0m: \u001b[32m'/raid3/arjun/checkpoints/adaptive_autoencoder/'\u001b[0m, \u001b[32m'limited_dataset_size'\u001b[0m: \u001b[3;35mNone\u001b[0m, \u001b[32m'allowed_spacings'\u001b[0m: \u001b[1m(\u001b[0m\u001b[1m(\u001b[0m\u001b[1;36m0.4\u001b[0m, \u001b[1;36m7\u001b[0m\u001b[1m)\u001b[0m, \u001b[1m(\u001b[0m\u001b[1;36m-1\u001b[0m, \u001b[1;36m-1\u001b[0m\u001b[1m)\u001b[0m, \u001b[1m(\u001b[0m\u001b[1;36m-1\u001b[0m, \u001b[1;36m-1\u001b[0m\u001b[1m)\u001b[0m\u001b[1m)\u001b[0m, \u001b[32m'allowed_shapes'\u001b[0m: \u001b[1m(\u001b[0m\u001b[1m(\u001b[0m\u001b[1;36m96\u001b[0m, \u001b[1;36m-1\u001b[0m\u001b[1m)\u001b[0m, \u001b[1m(\u001b[0m\u001b[1;36m256\u001b[0m, \u001b[1;36m-1\u001b[0m\u001b[1m)\u001b[0m, \u001b[1m(\u001b[0m\u001b[1;36m256\u001b[0m, \u001b[1;36m-1\u001b[0m\u001b[1m)\u001b[0m\u001b[1m)\u001b[0m, \u001b[32m'train_augmentations'\u001b[0m: \u001b[1;35mMunch\u001b[0m\u001b[1m(\u001b[0m\u001b[1m{\u001b[0m\u001b[32m'_target_'\u001b[0m: \u001b[32m'monai.transforms.Compose'\u001b[0m, \u001b[32m'transforms'\u001b[0m: \u001b[1m[\u001b[0m\u001b[1;35mMunch\u001b[0m\u001b[1m(\u001b[0m\u001b[1m{\u001b[0m\u001b[32m'_target_'\u001b[0m: \u001b[32m'vision_architectures.transforms.croppad.CropForegroundWithCropTrackingd'\u001b[0m, \u001b[32m'keys'\u001b[0m: \u001b[1m[\u001b[0m\u001b[32m'image'\u001b[0m\u001b[1m]\u001b[0m, \u001b[32m'source_key'\u001b[0m: \u001b[32m'image'\u001b[0m, \u001b[32m'allow_smaller'\u001b[0m: \u001b[3;92mTrue\u001b[0m\u001b[1m}\u001b[0m\u001b[1m)\u001b[0m, \u001b[1;35mMunch\u001b[0m\u001b[1m(\u001b[0m\u001b[1m{\u001b[0m\u001b[32m'_target_'\u001b[0m: \u001b[32m'monai.transforms.ScaleIntensityRanged'\u001b[0m, \u001b[32m'keys'\u001b[0m: \u001b[1m[\u001b[0m\u001b[32m'image'\u001b[0m\u001b[1m]\u001b[0m, \u001b[32m'a_min'\u001b[0m: \u001b[1;36m-1000\u001b[0m, \u001b[32m'a_max'\u001b[0m: \u001b[1;36m2000\u001b[0m, \u001b[32m'b_min'\u001b[0m: \u001b[1;36m-1.0\u001b[0m, \u001b[32m'b_max'\u001b[0m: \u001b[1;36m1.0\u001b[0m, \u001b[32m'clip'\u001b[0m: \u001b[3;92mTrue\u001b[0m\u001b[1m}\u001b[0m\u001b[1m)\u001b[0m, \u001b[1;35mMunch\u001b[0m\u001b[1m(\u001b[0m\u001b[1m{\u001b[0m\u001b[32m'_target_'\u001b[0m: \u001b[32m'vision_architectures.transforms.croppad.RandSpatialCropSamplesWithCropTrackingd'\u001b[0m, \u001b[32m'keys'\u001b[0m: \u001b[1m[\u001b[0m\u001b[32m'image'\u001b[0m\u001b[1m]\u001b[0m, \u001b[32m'roi_size'\u001b[0m: \u001b[1m(\u001b[0m\u001b[1;36m76\u001b[0m, \u001b[1;36m76\u001b[0m, \u001b[1;36m76\u001b[0m\u001b[1m)\u001b[0m, \u001b[32m'max_roi_size'\u001b[0m: \u001b[1m(\u001b[0m\u001b[1;36m115\u001b[0m, \u001b[1;36m115\u001b[0m, \u001b[1;36m115\u001b[0m\u001b[1m)\u001b[0m, \u001b[32m'random_size'\u001b[0m: \u001b[3;92mTrue\u001b[0m, \u001b[32m'num_samples'\u001b[0m: \u001b[1;36m5\u001b[0m\u001b[1m}\u001b[0m\u001b[1m)\u001b[0m, \u001b[1;35mMunch\u001b[0m\u001b[1m(\u001b[0m\u001b[1m{\u001b[0m\u001b[32m'_target_'\u001b[0m: \u001b[32m'vision_architectures.transforms.spatial.ResizedWithCropTrackingd'\u001b[0m, \u001b[32m'keys'\u001b[0m: \u001b[1m[\u001b[0m\u001b[32m'image'\u001b[0m\u001b[1m]\u001b[0m, \u001b[32m'original_shape_key'\u001b[0m: \u001b[32m'Shape'\u001b[0m, \u001b[32m'spatial_size'\u001b[0m: \u001b[1m(\u001b[0m\u001b[1;36m96\u001b[0m, \u001b[1;36m96\u001b[0m, \u001b[1;36m96\u001b[0m\u001b[1m)\u001b[0m, \u001b[32m'mode'\u001b[0m: \u001b[32m'trilinear'\u001b[0m, \u001b[32m'anti_aliasing'\u001b[0m: \u001b[3;92mTrue\u001b[0m\u001b[1m}\u001b[0m\u001b[1m)\u001b[0m, \u001b[1;35mMunch\u001b[0m\u001b[1m(\u001b[0m\u001b[1m{\u001b[0m\u001b[32m'_target_'\u001b[0m: \u001b[32m'monai.transforms.ScaleIntensityRanged'\u001b[0m, \u001b[32m'keys'\u001b[0m: \u001b[1m[\u001b[0m\u001b[32m'image'\u001b[0m\u001b[1m]\u001b[0m, \u001b[32m'a_min'\u001b[0m: \u001b[1;36m-1.0\u001b[0m, \u001b[32m'a_max'\u001b[0m: \u001b[1;36m1.0\u001b[0m, \u001b[32m'b_min'\u001b[0m: \u001b[1;36m-1.0\u001b[0m, \u001b[32m'b_max'\u001b[0m: \u001b[1;36m1.0\u001b[0m, \u001b[32m'clip'\u001b[0m: \u001b[3;92mTrue\u001b[0m\u001b[1m}\u001b[0m\u001b[1m)\u001b[0m, \u001b[1;35mMunch\u001b[0m\u001b[1m(\u001b[0m\u001b[1m{\u001b[0m\u001b[32m'_target_'\u001b[0m: \u001b[32m'monai.transforms.RandomOrder'\u001b[0m, \u001b[32m'transforms'\u001b[0m: \u001b[1m[\u001b[0m\u001b[1;35mMunch\u001b[0m\u001b[1m(\u001b[0m\u001b[1m{\u001b[0m\u001b[32m'_target_'\u001b[0m: \u001b[32m'vision_architectures.transforms.spatial.RandFlipWithCropTrackingd'\u001b[0m, \u001b[32m'keys'\u001b[0m: \u001b[1m[\u001b[0m\u001b[32m'image'\u001b[0m\u001b[1m]\u001b[0m, \u001b[32m'original_shape_key'\u001b[0m: \u001b[32m'Shape'\u001b[0m, \u001b[32m'prob'\u001b[0m: \u001b[1;36m0.5\u001b[0m\u001b[1m}\u001b[0m\u001b[1m)\u001b[0m, \u001b[1;35mMunch\u001b[0m\u001b[1m(\u001b[0m\u001b[1m{\u001b[0m\u001b[32m'_target_'\u001b[0m: \u001b[32m'monai.transforms.Compose'\u001b[0m, \u001b[32m'transforms'\u001b[0m: \u001b[1m[\u001b[0m\u001b[1;35mMunch\u001b[0m\u001b[1m(\u001b[0m\u001b[1m{\u001b[0m\u001b[32m'_target_'\u001b[0m: \u001b[32m'monai.transforms.RandKSpaceSpikeNoised'\u001b[0m, \u001b[32m'keys'\u001b[0m: \u001b[1m[\u001b[0m\u001b[32m'image'\u001b[0m\u001b[1m]\u001b[0m, \u001b[32m'prob'\u001b[0m: \u001b[1;36m0.1\u001b[0m\u001b[1m}\u001b[0m\u001b[1m)\u001b[0m, \u001b[1;35mMunch\u001b[0m\u001b[1m(\u001b[0m\u001b[1m{\u001b[0m\u001b[32m'_target_'\u001b[0m: \u001b[32m'monai.transforms.ScaleIntensityRanged'\u001b[0m, \u001b[32m'keys'\u001b[0m: \u001b[1m[\u001b[0m\u001b[32m'image'\u001b[0m\u001b[1m]\u001b[0m, \u001b[32m'a_min'\u001b[0m: \u001b[1;36m-1.0\u001b[0m, \u001b[32m'a_max'\u001b[0m: \u001b[1;36m1.0\u001b[0m, \u001b[32m'b_min'\u001b[0m: \u001b[1;36m-1.0\u001b[0m, \u001b[32m'b_max'\u001b[0m: \u001b[1;36m1.0\u001b[0m, \u001b[32m'clip'\u001b[0m: \u001b[3;92mTrue\u001b[0m\u001b[1m}\u001b[0m\u001b[1m)\u001b[0m\u001b[1m]\u001b[0m\u001b[1m}\u001b[0m\u001b[1m)\u001b[0m, \u001b[1;35mMunch\u001b[0m\u001b[1m(\u001b[0m\u001b[1m{\u001b[0m\u001b[32m'_target_'\u001b[0m: \u001b[32m'monai.transforms.OneOf'\u001b[0m, \u001b[32m'transforms'\u001b[0m: \u001b[1m[\u001b[0m\u001b[1;35mMunch\u001b[0m\u001b[1m(\u001b[0m\u001b[1m{\u001b[0m\u001b[32m'_target_'\u001b[0m: \u001b[32m'monai.transforms.Compose'\u001b[0m, \u001b[32m'transforms'\u001b[0m: \u001b[1m[\u001b[0m\u001b[1;35mMunch\u001b[0m\u001b[1m(\u001b[0m\u001b[1m{\u001b[0m\u001b[32m'_target_'\u001b[0m: \u001b[32m'monai.transforms.RandGaussianNoised'\u001b[0m, \u001b[32m'keys'\u001b[0m: \u001b[1m[\u001b[0m\u001b[32m'image'\u001b[0m\u001b[1m]\u001b[0m, \u001b[32m'prob'\u001b[0m: \u001b[1;36m0.75\u001b[0m\u001b[1m}\u001b[0m\u001b[1m)\u001b[0m, \u001b[1;35mMunch\u001b[0m\u001b[1m(\u001b[0m\u001b[1m{\u001b[0m\u001b[32m'_target_'\u001b[0m: \u001b[32m'monai.transforms.ScaleIntensityRanged'\u001b[0m, \u001b[32m'keys'\u001b[0m: \u001b[1m[\u001b[0m\u001b[32m'image'\u001b[0m\u001b[1m]\u001b[0m, \u001b[32m'a_min'\u001b[0m: \u001b[1;36m-1.0\u001b[0m, \u001b[32m'a_max'\u001b[0m: \u001b[1;36m1.0\u001b[0m, \u001b[32m'b_min'\u001b[0m: \u001b[1;36m-1.0\u001b[0m, \u001b[32m'b_max'\u001b[0m: \u001b[1;36m1.0\u001b[0m, \u001b[32m'clip'\u001b[0m: \u001b[3;92mTrue\u001b[0m\u001b[1m}\u001b[0m\u001b[1m)\u001b[0m\u001b[1m]\u001b[0m\u001b[1m}\u001b[0m\u001b[1m)\u001b[0m, \u001b[1;35mMunch\u001b[0m\u001b[1m(\u001b[0m\u001b[1m{\u001b[0m\u001b[32m'_target_'\u001b[0m: \u001b[32m'monai.transforms.Compose'\u001b[0m, \u001b[32m'transforms'\u001b[0m: \u001b[1m[\u001b[0m\u001b[1;35mMunch\u001b[0m\u001b[1m(\u001b[0m\u001b[1m{\u001b[0m\u001b[32m'_target_'\u001b[0m: \u001b[32m'monai.transforms.RandGaussianSmoothd'\u001b[0m, \u001b[32m'keys'\u001b[0m: \u001b[1m[\u001b[0m\u001b[32m'image'\u001b[0m\u001b[1m]\u001b[0m, \u001b[32m'prob'\u001b[0m: \u001b[1;36m0.75\u001b[0m\u001b[1m}\u001b[0m\u001b[1m)\u001b[0m, \u001b[1;35mMunch\u001b[0m\u001b[1m(\u001b[0m\u001b[1m{\u001b[0m\u001b[32m'_target_'\u001b[0m: \u001b[32m'monai.transforms.ScaleIntensityRanged'\u001b[0m, \u001b[32m'keys'\u001b[0m: \u001b[1m[\u001b[0m\u001b[32m'image'\u001b[0m\u001b[1m]\u001b[0m, \u001b[32m'a_min'\u001b[0m: \u001b[1;36m-1.0\u001b[0m, \u001b[32m'a_max'\u001b[0m: \u001b[1;36m1.0\u001b[0m, \u001b[32m'b_min'\u001b[0m: \u001b[1;36m-1.0\u001b[0m, \u001b[32m'b_max'\u001b[0m: \u001b[1;36m1.0\u001b[0m, \u001b[32m'clip'\u001b[0m: \u001b[3;92mTrue\u001b[0m\u001b[1m}\u001b[0m\u001b[1m)\u001b[0m\u001b[1m]\u001b[0m\u001b[1m}\u001b[0m\u001b[1m)\u001b[0m, \u001b[1;35mMunch\u001b[0m\u001b[1m(\u001b[0m\u001b[1m{\u001b[0m\u001b[32m'_target_'\u001b[0m: \u001b[32m'monai.transforms.Compose'\u001b[0m, \u001b[32m'transforms'\u001b[0m: \u001b[1m[\u001b[0m\u001b[1;35mMunch\u001b[0m\u001b[1m(\u001b[0m\u001b[1m{\u001b[0m\u001b[32m'_target_'\u001b[0m: \u001b[32m'monai.transforms.RandGaussianSharpend'\u001b[0m, \u001b[32m'keys'\u001b[0m: \u001b[1m[\u001b[0m\u001b[32m'image'\u001b[0m\u001b[1m]\u001b[0m, \u001b[32m'prob'\u001b[0m: \u001b[1;36m0.75\u001b[0m\u001b[1m}\u001b[0m\u001b[1m)\u001b[0m, \u001b[1;35mMunch\u001b[0m\u001b[1m(\u001b[0m\u001b[1m{\u001b[0m\u001b[32m'_target_'\u001b[0m: \u001b[32m'monai.transforms.ScaleIntensityRanged'\u001b[0m, \u001b[32m'keys'\u001b[0m: \u001b[1m[\u001b[0m\u001b[32m'image'\u001b[0m\u001b[1m]\u001b[0m, \u001b[32m'a_min'\u001b[0m: \u001b[1;36m-1.0\u001b[0m, \u001b[32m'a_max'\u001b[0m: \u001b[1;36m1.0\u001b[0m, \u001b[32m'b_min'\u001b[0m: \u001b[1;36m-1.0\u001b[0m, \u001b[32m'b_max'\u001b[0m: \u001b[1;36m1.0\u001b[0m, \u001b[32m'clip'\u001b[0m: \u001b[3;92mTrue\u001b[0m\u001b[1m}\u001b[0m\u001b[1m)\u001b[0m\u001b[1m]\u001b[0m\u001b[1m}\u001b[0m\u001b[1m)\u001b[0m\u001b[1m]\u001b[0m\u001b[1m}\u001b[0m\u001b[1m)\u001b[0m\u001b[1m]\u001b[0m\u001b[1m}\u001b[0m\u001b[1m)\u001b[0m, \u001b[1;35mMunch\u001b[0m\u001b[1m(\u001b[0m\u001b[1m{\u001b[0m\u001b[32m'_target_'\u001b[0m: \u001b[32m'monai.transforms.ScaleIntensityRanged'\u001b[0m, \u001b[32m'keys'\u001b[0m: \u001b[1m[\u001b[0m\u001b[32m'image'\u001b[0m\u001b[1m]\u001b[0m, \u001b[32m'a_min'\u001b[0m: \u001b[1;36m-1.0\u001b[0m, \u001b[32m'a_max'\u001b[0m: \u001b[1;36m1.0\u001b[0m, \u001b[32m'b_min'\u001b[0m: \u001b[1;36m-1.0\u001b[0m, \u001b[32m'b_max'\u001b[0m: \u001b[1;36m1.0\u001b[0m, \u001b[32m'clip'\u001b[0m: \u001b[3;92mTrue\u001b[0m\u001b[1m}\u001b[0m\u001b[1m)\u001b[0m\u001b[1m]\u001b[0m\u001b[1m}\u001b[0m\u001b[1m)\u001b[0m, \u001b[32m'val_augmentations'\u001b[0m: \u001b[1;35mMunch\u001b[0m\u001b[1m(\u001b[0m\u001b[1m{\u001b[0m\u001b[32m'_target_'\u001b[0m: \u001b[32m'monai.transforms.Compose'\u001b[0m, \u001b[32m'transforms'\u001b[0m: \u001b[1m[\u001b[0m\u001b[1;35mMunch\u001b[0m\u001b[1m(\u001b[0m\u001b[1m{\u001b[0m\u001b[32m'_target_'\u001b[0m: \u001b[32m'vision_architectures.transforms.croppad.CropForegroundWithCropTrackingd'\u001b[0m, \u001b[32m'keys'\u001b[0m: \u001b[1m[\u001b[0m\u001b[32m'image'\u001b[0m\u001b[1m]\u001b[0m, \u001b[32m'source_key'\u001b[0m: \u001b[32m'image'\u001b[0m, \u001b[32m'allow_smaller'\u001b[0m: \u001b[3;92mTrue\u001b[0m\u001b[1m}\u001b[0m\u001b[1m)\u001b[0m, \u001b[1;35mMunch\u001b[0m\u001b[1m(\u001b[0m\u001b[1m{\u001b[0m\u001b[32m'_target_'\u001b[0m: \u001b[32m'monai.transforms.ScaleIntensityRanged'\u001b[0m, \u001b[32m'keys'\u001b[0m: \u001b[1m[\u001b[0m\u001b[32m'image'\u001b[0m\u001b[1m]\u001b[0m, \u001b[32m'a_min'\u001b[0m: \u001b[1;36m-1000\u001b[0m, \u001b[32m'a_max'\u001b[0m: \u001b[1;36m2000\u001b[0m, \u001b[32m'b_min'\u001b[0m: \u001b[1;36m-1.0\u001b[0m, \u001b[32m'b_max'\u001b[0m: \u001b[1;36m1.0\u001b[0m, \u001b[32m'clip'\u001b[0m: \u001b[3;92mTrue\u001b[0m\u001b[1m}\u001b[0m\u001b[1m)\u001b[0m, \u001b[1;35mMunch\u001b[0m\u001b[1m(\u001b[0m\u001b[1m{\u001b[0m\u001b[32m'_target_'\u001b[0m: \u001b[32m'vision_architectures.transforms.croppad.RandSpatialCropSamplesWithCropTrackingd'\u001b[0m, \u001b[32m'keys'\u001b[0m: \u001b[1m[\u001b[0m\u001b[32m'image'\u001b[0m\u001b[1m]\u001b[0m, \u001b[32m'roi_size'\u001b[0m: \u001b[1m(\u001b[0m\u001b[1;36m96\u001b[0m, \u001b[1;36m96\u001b[0m, \u001b[1;36m96\u001b[0m\u001b[1m)\u001b[0m, \u001b[32m'num_samples'\u001b[0m: \u001b[1;36m20\u001b[0m\u001b[1m}\u001b[0m\u001b[1m)\u001b[0m, \u001b[1;35mMunch\u001b[0m\u001b[1m(\u001b[0m\u001b[1m{\u001b[0m\u001b[32m'_target_'\u001b[0m: \u001b[32m'monai.transforms.ScaleIntensityRanged'\u001b[0m, \u001b[32m'keys'\u001b[0m: \u001b[1m[\u001b[0m\u001b[32m'image'\u001b[0m\u001b[1m]\u001b[0m, \u001b[32m'a_min'\u001b[0m: \u001b[1;36m-1.0\u001b[0m, \u001b[32m'a_max'\u001b[0m: \u001b[1;36m1.0\u001b[0m, \u001b[32m'b_min'\u001b[0m: \u001b[1;36m-1.0\u001b[0m, \u001b[32m'b_max'\u001b[0m: \u001b[1;36m1.0\u001b[0m, \u001b[32m'clip'\u001b[0m: \u001b[3;92mTrue\u001b[0m\u001b[1m}\u001b[0m\u001b[1m)\u001b[0m\u001b[1m]\u001b[0m\u001b[1m}\u001b[0m\u001b[1m)\u001b[0m, \u001b[32m'test_augmentations'\u001b[0m: \u001b[1;35mMunch\u001b[0m\u001b[1m(\u001b[0m\u001b[1m{\u001b[0m\u001b[32m'_target_'\u001b[0m: \u001b[32m'monai.transforms.Compose'\u001b[0m, \u001b[32m'transforms'\u001b[0m: \u001b[1m[\u001b[0m\u001b[1;35mMunch\u001b[0m\u001b[1m(\u001b[0m\u001b[1m{\u001b[0m\u001b[32m'_target_'\u001b[0m: \u001b[32m'vision_architectures.transforms.croppad.CropForegroundWithCropTrackingd'\u001b[0m, \u001b[32m'keys'\u001b[0m: \u001b[1m[\u001b[0m\u001b[32m'image'\u001b[0m\u001b[1m]\u001b[0m, \u001b[32m'source_key'\u001b[0m: \u001b[32m'image'\u001b[0m, \u001b[32m'allow_smaller'\u001b[0m: \u001b[3;92mTrue\u001b[0m\u001b[1m}\u001b[0m\u001b[1m)\u001b[0m, \u001b[1;35mMunch\u001b[0m\u001b[1m(\u001b[0m\u001b[1m{\u001b[0m\u001b[32m'_target_'\u001b[0m: \u001b[32m'monai.transforms.ScaleIntensityRanged'\u001b[0m, \u001b[32m'keys'\u001b[0m: \u001b[1m[\u001b[0m\u001b[32m'image'\u001b[0m\u001b[1m]\u001b[0m, \u001b[32m'a_min'\u001b[0m: \u001b[1;36m-1000\u001b[0m, \u001b[32m'a_max'\u001b[0m: \u001b[1;36m2000\u001b[0m, \u001b[32m'b_min'\u001b[0m: \u001b[1;36m-1.0\u001b[0m, \u001b[32m'b_max'\u001b[0m: \u001b[1;36m1.0\u001b[0m, \u001b[32m'clip'\u001b[0m: \u001b[3;92mTrue\u001b[0m\u001b[1m}\u001b[0m\u001b[1m)\u001b[0m, \u001b[1;35mMunch\u001b[0m\u001b[1m(\u001b[0m\u001b[1m{\u001b[0m\u001b[32m'_target_'\u001b[0m: \u001b[32m'monai.transforms.SpatialPadd'\u001b[0m, \u001b[32m'keys'\u001b[0m: \u001b[1m[\u001b[0m\u001b[32m'image'\u001b[0m\u001b[1m]\u001b[0m, \u001b[32m'spatial_size'\u001b[0m: \u001b[1m(\u001b[0m\u001b[1;36m32\u001b[0m, \u001b[1;36m128\u001b[0m, \u001b[1;36m128\u001b[0m\u001b[1m)\u001b[0m, \u001b[32m'mode'\u001b[0m: \u001b[32m'constant'\u001b[0m, \u001b[32m'value'\u001b[0m: \u001b[1;36m-1\u001b[0m\u001b[1m}\u001b[0m\u001b[1m)\u001b[0m, \u001b[1;35mMunch\u001b[0m\u001b[1m(\u001b[0m\u001b[1m{\u001b[0m\u001b[32m'_target_'\u001b[0m: \u001b[32m'monai.transforms.DivisiblePadd'\u001b[0m, \u001b[32m'keys'\u001b[0m: \u001b[1m[\u001b[0m\u001b[32m'image'\u001b[0m\u001b[1m]\u001b[0m, \u001b[32m'k'\u001b[0m: \u001b[1m(\u001b[0m\u001b[1;36m16\u001b[0m, \u001b[1;36m16\u001b[0m, \u001b[1;36m16\u001b[0m\u001b[1m)\u001b[0m, \u001b[32m'mode'\u001b[0m: \u001b[32m'constant'\u001b[0m, \u001b[32m'value'\u001b[0m: \u001b[1;36m-1\u001b[0m\u001b[1m}\u001b[0m\u001b[1m)\u001b[0m\u001b[1m]\u001b[0m\u001b[1m}\u001b[0m\u001b[1m)\u001b[0m, \u001b[32m'num_workers'\u001b[0m: \u001b[1;36m16\u001b[0m, \u001b[32m'train_batch_size'\u001b[0m: \u001b[1;36m4\u001b[0m, \u001b[32m'val_batch_size'\u001b[0m: \u001b[1;36m1\u001b[0m, \u001b[32m'train_sample_size'\u001b[0m: \u001b[1;36m2000\u001b[0m, \u001b[32m'sample_balance_cols'\u001b[0m: \u001b[1m[\u001b[0m\u001b[32m'Source'\u001b[0m, \u001b[32m'BodyPart'\u001b[0m\u001b[1m]\u001b[0m\u001b[1m}\u001b[0m\u001b[1m)\u001b[0m, \u001b[32m'model'\u001b[0m: \u001b[1;35mMunch\u001b[0m\u001b[1m(\u001b[0m\u001b[1m{\u001b[0m\u001b[32m'swin'\u001b[0m: \u001b[1;35mSwinV23DConfig\u001b[0m\u001b[1m(\u001b[0m\u001b[33mdim\u001b[0m=\u001b[1;36m24\u001b[0m, \u001b[33mstages\u001b[0m=\u001b[1m[\u001b[0m\u001b[1;35mSwinV23DStageConfig\u001b[0m\u001b[1m(\u001b[0m\u001b[33mdim\u001b[0m=\u001b[1;36m24\u001b[0m, \u001b[33mmlp_ratio\u001b[0m=\u001b[1;36m4\u001b[0m, \u001b[33mactivation\u001b[0m=\u001b[32m'gelu'\u001b[0m, \u001b[33mmlp_drop_prob\u001b[0m=\u001b[1;36m0\u001b[0m\u001b[1;36m.1\u001b[0m, \u001b[33mnum_heads\u001b[0m=\u001b[1;36m8\u001b[0m, \u001b[33mratio_q_to_kv_heads\u001b[0m=\u001b[1;36m1\u001b[0m, \u001b[33mlogit_scale_learnable\u001b[0m=\u001b[3;91mFalse\u001b[0m, \u001b[33mattn_drop_prob\u001b[0m=\u001b[1;36m0\u001b[0m\u001b[1;36m.1\u001b[0m, \u001b[33mproj_drop_prob\u001b[0m=\u001b[1;36m0\u001b[0m\u001b[1;36m.1\u001b[0m, \u001b[33mmax_attention_batch_size\u001b[0m=\u001b[1;36m4096\u001b[0m, \u001b[33mnorm_location\u001b[0m=\u001b[32m'post'\u001b[0m, \u001b[33mlayer_norm_eps\u001b[0m=\u001b[1;36m1e\u001b[0m\u001b[1;36m-06\u001b[0m, \u001b[33mdepth\u001b[0m=\u001b[1;36m2\u001b[0m, \u001b[33mwindow_size\u001b[0m=\u001b[1m(\u001b[0m\u001b[1;36m4\u001b[0m, \u001b[1;36m4\u001b[0m, \u001b[1;36m4\u001b[0m\u001b[1m)\u001b[0m, \u001b[33muse_relative_position_bias\u001b[0m=\u001b[3;92mTrue\u001b[0m, \u001b[33mpatch_merging\u001b[0m=\u001b[3;35mNone\u001b[0m, \u001b[33mpatch_splitting\u001b[0m=\u001b[3;35mNone\u001b[0m, \u001b[33min_dim\u001b[0m=\u001b[1;36m24\u001b[0m, \u001b[33mout_dim\u001b[0m=\u001b[1;36m24\u001b[0m\u001b[1m)\u001b[0m, \u001b[1;35mSwinV23DStageConfig\u001b[0m\u001b[1m(\u001b[0m\u001b[33mdim\u001b[0m=\u001b[1;36m48\u001b[0m, \u001b[33mmlp_ratio\u001b[0m=\u001b[1;36m4\u001b[0m, \u001b[33mactivation\u001b[0m=\u001b[32m'gelu'\u001b[0m, \u001b[33mmlp_drop_prob\u001b[0m=\u001b[1;36m0\u001b[0m\u001b[1;36m.1\u001b[0m, \u001b[33mnum_heads\u001b[0m=\u001b[1;36m8\u001b[0m, \u001b[33mratio_q_to_kv_heads\u001b[0m=\u001b[1;36m1\u001b[0m, \u001b[33mlogit_scale_learnable\u001b[0m=\u001b[3;91mFalse\u001b[0m, \u001b[33mattn_drop_prob\u001b[0m=\u001b[1;36m0\u001b[0m\u001b[1;36m.1\u001b[0m, \u001b[33mproj_drop_prob\u001b[0m=\u001b[1;36m0\u001b[0m\u001b[1;36m.1\u001b[0m, \u001b[33mmax_attention_batch_size\u001b[0m=\u001b[1;36m4096\u001b[0m, \u001b[33mnorm_location\u001b[0m=\u001b[32m'post'\u001b[0m, \u001b[33mlayer_norm_eps\u001b[0m=\u001b[1;36m1e\u001b[0m\u001b[1;36m-06\u001b[0m, \u001b[33mdepth\u001b[0m=\u001b[1;36m2\u001b[0m, \u001b[33mwindow_size\u001b[0m=\u001b[1m(\u001b[0m\u001b[1;36m4\u001b[0m, \u001b[1;36m4\u001b[0m, \u001b[1;36m4\u001b[0m\u001b[1m)\u001b[0m, \u001b[33muse_relative_position_bias\u001b[0m=\u001b[3;92mTrue\u001b[0m, \u001b[33mpatch_merging\u001b[0m=\u001b[1;35mSwinV23DPatchMergingConfig\u001b[0m\u001b[1m(\u001b[0m\u001b[33mout_dim_ratio\u001b[0m=\u001b[1;36m2\u001b[0m, \u001b[33mmerge_window_size\u001b[0m=\u001b[1m(\u001b[0m\u001b[1;36m2\u001b[0m, \u001b[1;36m2\u001b[0m, \u001b[1;36m2\u001b[0m\u001b[1m)\u001b[0m\u001b[1m)\u001b[0m, \u001b[33mpatch_splitting\u001b[0m=\u001b[3;35mNone\u001b[0m, \u001b[33min_dim\u001b[0m=\u001b[1;36m24\u001b[0m, \u001b[33mout_dim\u001b[0m=\u001b[1;36m48\u001b[0m\u001b[1m)\u001b[0m, \u001b[1;35mSwinV23DStageConfig\u001b[0m\u001b[1m(\u001b[0m\u001b[33mdim\u001b[0m=\u001b[1;36m96\u001b[0m, \u001b[33mmlp_ratio\u001b[0m=\u001b[1;36m4\u001b[0m, \u001b[33mactivation\u001b[0m=\u001b[32m'gelu'\u001b[0m, \u001b[33mmlp_drop_prob\u001b[0m=\u001b[1;36m0\u001b[0m\u001b[1;36m.1\u001b[0m, \u001b[33mnum_heads\u001b[0m=\u001b[1;36m16\u001b[0m, \u001b[33mratio_q_to_kv_heads\u001b[0m=\u001b[1;36m1\u001b[0m, \u001b[33mlogit_scale_learnable\u001b[0m=\u001b[3;91mFalse\u001b[0m, \u001b[33mattn_drop_prob\u001b[0m=\u001b[1;36m0\u001b[0m\u001b[1;36m.1\u001b[0m, \u001b[33mproj_drop_prob\u001b[0m=\u001b[1;36m0\u001b[0m\u001b[1;36m.1\u001b[0m, \u001b[33mmax_attention_batch_size\u001b[0m=\u001b[1;36m4096\u001b[0m, \u001b[33mnorm_location\u001b[0m=\u001b[32m'post'\u001b[0m, \u001b[33mlayer_norm_eps\u001b[0m=\u001b[1;36m1e\u001b[0m\u001b[1;36m-06\u001b[0m, \u001b[33mdepth\u001b[0m=\u001b[1;36m4\u001b[0m, \u001b[33mwindow_size\u001b[0m=\u001b[1m(\u001b[0m\u001b[1;36m4\u001b[0m, \u001b[1;36m4\u001b[0m, \u001b[1;36m4\u001b[0m\u001b[1m)\u001b[0m, \u001b[33muse_relative_position_bias\u001b[0m=\u001b[3;92mTrue\u001b[0m, \u001b[33mpatch_merging\u001b[0m=\u001b[1;35mSwinV23DPatchMergingConfig\u001b[0m\u001b[1m(\u001b[0m\u001b[33mout_dim_ratio\u001b[0m=\u001b[1;36m2\u001b[0m, \u001b[33mmerge_window_size\u001b[0m=\u001b[1m(\u001b[0m\u001b[1;36m2\u001b[0m, \u001b[1;36m2\u001b[0m, \u001b[1;36m2\u001b[0m\u001b[1m)\u001b[0m\u001b[1m)\u001b[0m, \u001b[33mpatch_splitting\u001b[0m=\u001b[3;35mNone\u001b[0m, \u001b[33min_dim\u001b[0m=\u001b[1;36m48\u001b[0m, \u001b[33mout_dim\u001b[0m=\u001b[1;36m96\u001b[0m\u001b[1m)\u001b[0m, \u001b[1;35mSwinV23DStageConfig\u001b[0m\u001b[1m(\u001b[0m\u001b[33mdim\u001b[0m=\u001b[1;36m192\u001b[0m, \u001b[33mmlp_ratio\u001b[0m=\u001b[1;36m4\u001b[0m, \u001b[33mactivation\u001b[0m=\u001b[32m'gelu'\u001b[0m, \u001b[33mmlp_drop_prob\u001b[0m=\u001b[1;36m0\u001b[0m\u001b[1;36m.1\u001b[0m, \u001b[33mnum_heads\u001b[0m=\u001b[1;36m16\u001b[0m, \u001b[33mratio_q_to_kv_heads\u001b[0m=\u001b[1;36m1\u001b[0m, \u001b[33mlogit_scale_learnable\u001b[0m=\u001b[3;91mFalse\u001b[0m, \u001b[33mattn_drop_prob\u001b[0m=\u001b[1;36m0\u001b[0m\u001b[1;36m.1\u001b[0m, \u001b[33mproj_drop_prob\u001b[0m=\u001b[1;36m0\u001b[0m\u001b[1;36m.1\u001b[0m, \u001b[33mmax_attention_batch_size\u001b[0m=\u001b[1;36m4096\u001b[0m, \u001b[33mnorm_location\u001b[0m=\u001b[32m'post'\u001b[0m, \u001b[33mlayer_norm_eps\u001b[0m=\u001b[1;36m1e\u001b[0m\u001b[1;36m-06\u001b[0m, \u001b[33mdepth\u001b[0m=\u001b[1;36m2\u001b[0m, \u001b[33mwindow_size\u001b[0m=\u001b[1m(\u001b[0m\u001b[1;36m6\u001b[0m, \u001b[1;36m6\u001b[0m, \u001b[1;36m6\u001b[0m\u001b[1m)\u001b[0m, \u001b[33muse_relative_position_bias\u001b[0m=\u001b[3;92mTrue\u001b[0m, \u001b[33mpatch_merging\u001b[0m=\u001b[1;35mSwinV23DPatchMergingConfig\u001b[0m\u001b[1m(\u001b[0m\u001b[33mout_dim_ratio\u001b[0m=\u001b[1;36m2\u001b[0m, \u001b[33mmerge_window_size\u001b[0m=\u001b[1m(\u001b[0m\u001b[1;36m2\u001b[0m, \u001b[1;36m2\u001b[0m, \u001b[1;36m2\u001b[0m\u001b[1m)\u001b[0m\u001b[1m)\u001b[0m, \u001b[33mpatch_splitting\u001b[0m=\u001b[3;35mNone\u001b[0m, \u001b[33min_dim\u001b[0m=\u001b[1;36m96\u001b[0m, \u001b[33mout_dim\u001b[0m=\u001b[1;36m192\u001b[0m\u001b[1m)\u001b[0m\u001b[1m]\u001b[0m, \u001b[33mdrop_prob\u001b[0m=\u001b[1;36m0\u001b[0m\u001b[1;36m.1\u001b[0m, \u001b[33membed_spacing_info\u001b[0m=\u001b[3;91mFalse\u001b[0m, \u001b[33min_channels\u001b[0m=\u001b[1;36m1\u001b[0m, \u001b[33mpatch_size\u001b[0m=\u001b[1m(\u001b[0m\u001b[1;36m2\u001b[0m, \u001b[1;36m2\u001b[0m, \u001b[1;36m2\u001b[0m\u001b[1m)\u001b[0m, \u001b[33mimage_size\u001b[0m=\u001b[3;35mNone\u001b[0m, \u001b[33muse_absolute_position_embeddings\u001b[0m=\u001b[3;92mTrue\u001b[0m, \u001b[33mlearnable_absolute_position_embeddings\u001b[0m=\u001b[3;91mFalse\u001b[0m\u001b[1m)\u001b[0m, \u001b[32m'adaptor'\u001b[0m: \u001b[1;35mPerceiver3DConfig\u001b[0m\u001b[1m(\u001b[0m\u001b[33mencode\u001b[0m=\u001b[1;35mPerceiver3DEncoderEncodeConfig\u001b[0m\u001b[1m(\u001b[0m\u001b[33mdim\u001b[0m=\u001b[1;36m192\u001b[0m, \u001b[33mmlp_ratio\u001b[0m=\u001b[1;36m4\u001b[0m, \u001b[33mactivation\u001b[0m=\u001b[32m'gelu'\u001b[0m, \u001b[33mmlp_drop_prob\u001b[0m=\u001b[1;36m0\u001b[0m\u001b[1;36m.1\u001b[0m, \u001b[33mnum_heads\u001b[0m=\u001b[1;36m16\u001b[0m, \u001b[33mratio_q_to_kv_heads\u001b[0m=\u001b[1;36m1\u001b[0m, \u001b[33mlogit_scale_learnable\u001b[0m=\u001b[3;91mFalse\u001b[0m, \u001b[33mattn_drop_prob\u001b[0m=\u001b[1;36m0\u001b[0m\u001b[1;36m.1\u001b[0m, \u001b[33mproj_drop_prob\u001b[0m=\u001b[1;36m0\u001b[0m\u001b[1;36m.1\u001b[0m, \u001b[33mmax_attention_batch_size\u001b[0m=\u001b[1;36m-1\u001b[0m, \u001b[33mnorm_location\u001b[0m=\u001b[32m'post'\u001b[0m, \u001b[33mlayer_norm_eps\u001b[0m=\u001b[1;36m1e\u001b[0m\u001b[1;36m-06\u001b[0m, \u001b[33mnum_latent_tokens\u001b[0m=\u001b[1;36m1024\u001b[0m, \u001b[33mnum_layers\u001b[0m=\u001b[1;36m2\u001b[0m\u001b[1m)\u001b[0m, \u001b[33mprocess\u001b[0m=\u001b[1;35mPerceiver3DEncoderProcessConfig\u001b[0m\u001b[1m(\u001b[0m\u001b[33mdim\u001b[0m=\u001b[1;36m192\u001b[0m, \u001b[33mmlp_ratio\u001b[0m=\u001b[1;36m4\u001b[0m, \u001b[33mactivation\u001b[0m=\u001b[32m'gelu'\u001b[0m, \u001b[33mmlp_drop_prob\u001b[0m=\u001b[1;36m0\u001b[0m\u001b[1;36m.1\u001b[0m, \u001b[33mnum_heads\u001b[0m=\u001b[1;36m16\u001b[0m, \u001b[33mratio_q_to_kv_heads\u001b[0m=\u001b[1;36m1\u001b[0m, \u001b[33mlogit_scale_learnable\u001b[0m=\u001b[3;91mFalse\u001b[0m, \u001b[33mattn_drop_prob\u001b[0m=\u001b[1;36m0\u001b[0m\u001b[1;36m.1\u001b[0m, \u001b[33mproj_drop_prob\u001b[0m=\u001b[1;36m0\u001b[0m\u001b[1;36m.1\u001b[0m, \u001b[33mmax_attention_batch_size\u001b[0m=\u001b[1;36m-1\u001b[0m, \u001b[33mnorm_location\u001b[0m=\u001b[32m'post'\u001b[0m, \u001b[33mlayer_norm_eps\u001b[0m=\u001b[1;36m1e\u001b[0m\u001b[1;36m-06\u001b[0m, \u001b[33mnum_layers\u001b[0m=\u001b[1;36m4\u001b[0m\u001b[1m)\u001b[0m, \u001b[33mdecode\u001b[0m=\u001b[1;35mPerceiver3DDecoderConfig\u001b[0m\u001b[1m(\u001b[0m\u001b[33mdim\u001b[0m=\u001b[1;36m192\u001b[0m, \u001b[33mmlp_ratio\u001b[0m=\u001b[1;36m4\u001b[0m, \u001b[33mactivation\u001b[0m=\u001b[32m'gelu'\u001b[0m, \u001b[33mmlp_drop_prob\u001b[0m=\u001b[1;36m0\u001b[0m\u001b[1;36m.1\u001b[0m, \u001b[33mnum_heads\u001b[0m=\u001b[1;36m16\u001b[0m, \u001b[33mratio_q_to_kv_heads\u001b[0m=\u001b[1;36m1\u001b[0m, \u001b[33mlogit_scale_learnable\u001b[0m=\u001b[3;91mFalse\u001b[0m, \u001b[33mattn_drop_prob\u001b[0m=\u001b[1;36m0\u001b[0m\u001b[1;36m.1\u001b[0m, \u001b[33mproj_drop_prob\u001b[0m=\u001b[1;36m0\u001b[0m\u001b[1;36m.1\u001b[0m, \u001b[33mmax_attention_batch_size\u001b[0m=\u001b[1;36m-1\u001b[0m, \u001b[33mnorm_location\u001b[0m=\u001b[32m'post'\u001b[0m, \u001b[33mlayer_norm_eps\u001b[0m=\u001b[1;36m1e\u001b[0m\u001b[1;36m-06\u001b[0m, \u001b[33mnum_layers\u001b[0m=\u001b[1;36m2\u001b[0m, \u001b[33mout_channels\u001b[0m=\u001b[1;36m192\u001b[0m\u001b[1m)\u001b[0m\u001b[1m)\u001b[0m, \u001b[32m'decoder'\u001b[0m: \u001b[1;35mSwinV23DDecoderConfig\u001b[0m\u001b[1m(\u001b[0m\u001b[33mdim\u001b[0m=\u001b[1;36m192\u001b[0m, \u001b[33mstages\u001b[0m=\u001b[1m[\u001b[0m\u001b[1;35mSwinV23DStageConfig\u001b[0m\u001b[1m(\u001b[0m\u001b[33mdim\u001b[0m=\u001b[1;36m192\u001b[0m, \u001b[33mmlp_ratio\u001b[0m=\u001b[1;36m4\u001b[0m, \u001b[33mactivation\u001b[0m=\u001b[32m'gelu'\u001b[0m, \u001b[33mmlp_drop_prob\u001b[0m=\u001b[1;36m0\u001b[0m\u001b[1;36m.1\u001b[0m, \u001b[33mnum_heads\u001b[0m=\u001b[1;36m16\u001b[0m, \u001b[33mratio_q_to_kv_heads\u001b[0m=\u001b[1;36m1\u001b[0m, \u001b[33mlogit_scale_learnable\u001b[0m=\u001b[3;91mFalse\u001b[0m, \u001b[33mattn_drop_prob\u001b[0m=\u001b[1;36m0\u001b[0m\u001b[1;36m.1\u001b[0m, \u001b[33mproj_drop_prob\u001b[0m=\u001b[1;36m0\u001b[0m\u001b[1;36m.1\u001b[0m, \u001b[33mmax_attention_batch_size\u001b[0m=\u001b[1;36m4096\u001b[0m, \u001b[33mnorm_location\u001b[0m=\u001b[32m'post'\u001b[0m, \u001b[33mlayer_norm_eps\u001b[0m=\u001b[1;36m1e\u001b[0m\u001b[1;36m-06\u001b[0m, \u001b[33mdepth\u001b[0m=\u001b[1;36m2\u001b[0m, \u001b[33mwindow_size\u001b[0m=\u001b[1m(\u001b[0m\u001b[1;36m6\u001b[0m, \u001b[1;36m6\u001b[0m, \u001b[1;36m6\u001b[0m\u001b[1m)\u001b[0m, \u001b[33muse_relative_position_bias\u001b[0m=\u001b[3;92mTrue\u001b[0m, \u001b[33mpatch_merging\u001b[0m=\u001b[3;35mNone\u001b[0m, \u001b[33mpatch_splitting\u001b[0m=\u001b[1;35mSwinV23DPatchSplittingConfig\u001b[0m\u001b[1m(\u001b[0m\u001b[33mout_dim_ratio\u001b[0m=\u001b[1;36m2\u001b[0m, \u001b[33mfinal_window_size\u001b[0m=\u001b[1m(\u001b[0m\u001b[1;36m2\u001b[0m, \u001b[1;36m2\u001b[0m, \u001b[1;36m2\u001b[0m\u001b[1m)\u001b[0m\u001b[1m)\u001b[0m, \u001b[33min_dim\u001b[0m=\u001b[1;36m192\u001b[0m, \u001b[33mout_dim\u001b[0m=\u001b[1;36m96\u001b[0m\u001b[1m)\u001b[0m, \u001b[1;35mSwinV23DStageConfig\u001b[0m\u001b[1m(\u001b[0m\u001b[33mdim\u001b[0m=\u001b[1;36m96\u001b[0m, \u001b[33mmlp_ratio\u001b[0m=\u001b[1;36m4\u001b[0m, \u001b[33mactivation\u001b[0m=\u001b[32m'gelu'\u001b[0m, \u001b[33mmlp_drop_prob\u001b[0m=\u001b[1;36m0\u001b[0m\u001b[1;36m.1\u001b[0m, \u001b[33mnum_heads\u001b[0m=\u001b[1;36m16\u001b[0m, \u001b[33mratio_q_to_kv_heads\u001b[0m=\u001b[1;36m1\u001b[0m, \u001b[33mlogit_scale_learnable\u001b[0m=\u001b[3;91mFalse\u001b[0m, \u001b[33mattn_drop_prob\u001b[0m=\u001b[1;36m0\u001b[0m\u001b[1;36m.1\u001b[0m, \u001b[33mproj_drop_prob\u001b[0m=\u001b[1;36m0\u001b[0m\u001b[1;36m.1\u001b[0m, \u001b[33mmax_attention_batch_size\u001b[0m=\u001b[1;36m4096\u001b[0m, \u001b[33mnorm_location\u001b[0m=\u001b[32m'post'\u001b[0m, \u001b[33mlayer_norm_eps\u001b[0m=\u001b[1;36m1e\u001b[0m\u001b[1;36m-06\u001b[0m, \u001b[33mdepth\u001b[0m=\u001b[1;36m4\u001b[0m, \u001b[33mwindow_size\u001b[0m=\u001b[1m(\u001b[0m\u001b[1;36m4\u001b[0m, \u001b[1;36m4\u001b[0m, \u001b[1;36m4\u001b[0m\u001b[1m)\u001b[0m, \u001b[33muse_relative_position_bias\u001b[0m=\u001b[3;92mTrue\u001b[0m, \u001b[33mpatch_merging\u001b[0m=\u001b[3;35mNone\u001b[0m, \u001b[33mpatch_splitting\u001b[0m=\u001b[1;35mSwinV23DPatchSplittingConfig\u001b[0m\u001b[1m(\u001b[0m\u001b[33mout_dim_ratio\u001b[0m=\u001b[1;36m2\u001b[0m, \u001b[33mfinal_window_size\u001b[0m=\u001b[1m(\u001b[0m\u001b[1;36m2\u001b[0m, \u001b[1;36m2\u001b[0m, \u001b[1;36m2\u001b[0m\u001b[1m)\u001b[0m\u001b[1m)\u001b[0m, \u001b[33min_dim\u001b[0m=\u001b[1;36m96\u001b[0m, \u001b[33mout_dim\u001b[0m=\u001b[1;36m48\u001b[0m\u001b[1m)\u001b[0m, \u001b[1;35mSwinV23DStageConfig\u001b[0m\u001b[1m(\u001b[0m\u001b[33mdim\u001b[0m=\u001b[1;36m48\u001b[0m, \u001b[33mmlp_ratio\u001b[0m=\u001b[1;36m4\u001b[0m, \u001b[33mactivation\u001b[0m=\u001b[32m'gelu'\u001b[0m, \u001b[33mmlp_drop_prob\u001b[0m=\u001b[1;36m0\u001b[0m\u001b[1;36m.1\u001b[0m, \u001b[33mnum_heads\u001b[0m=\u001b[1;36m8\u001b[0m, \u001b[33mratio_q_to_kv_heads\u001b[0m=\u001b[1;36m1\u001b[0m, \u001b[33mlogit_scale_learnable\u001b[0m=\u001b[3;91mFalse\u001b[0m, \u001b[33mattn_drop_prob\u001b[0m=\u001b[1;36m0\u001b[0m\u001b[1;36m.1\u001b[0m, \u001b[33mproj_drop_prob\u001b[0m=\u001b[1;36m0\u001b[0m\u001b[1;36m.1\u001b[0m, \u001b[33mmax_attention_batch_size\u001b[0m=\u001b[1;36m4096\u001b[0m, \u001b[33mnorm_location\u001b[0m=\u001b[32m'post'\u001b[0m, \u001b[33mlayer_norm_eps\u001b[0m=\u001b[1;36m1e\u001b[0m\u001b[1;36m-06\u001b[0m, \u001b[33mdepth\u001b[0m=\u001b[1;36m2\u001b[0m, \u001b[33mwindow_size\u001b[0m=\u001b[1m(\u001b[0m\u001b[1;36m4\u001b[0m, \u001b[1;36m4\u001b[0m, \u001b[1;36m4\u001b[0m\u001b[1m)\u001b[0m, \u001b[33muse_relative_position_bias\u001b[0m=\u001b[3;92mTrue\u001b[0m, \u001b[33mpatch_merging\u001b[0m=\u001b[3;35mNone\u001b[0m, \u001b[33mpatch_splitting\u001b[0m=\u001b[1;35mSwinV23DPatchSplittingConfig\u001b[0m\u001b[1m(\u001b[0m\u001b[33mout_dim_ratio\u001b[0m=\u001b[1;36m2\u001b[0m, \u001b[33mfinal_window_size\u001b[0m=\u001b[1m(\u001b[0m\u001b[1;36m2\u001b[0m, \u001b[1;36m2\u001b[0m, \u001b[1;36m2\u001b[0m\u001b[1m)\u001b[0m\u001b[1m)\u001b[0m, \u001b[33min_dim\u001b[0m=\u001b[1;36m48\u001b[0m, \u001b[33mout_dim\u001b[0m=\u001b[1;36m24\u001b[0m\u001b[1m)\u001b[0m, \u001b[1;35mSwinV23DStageConfig\u001b[0m\u001b[1m(\u001b[0m\u001b[33mdim\u001b[0m=\u001b[1;36m24\u001b[0m, \u001b[33mmlp_ratio\u001b[0m=\u001b[1;36m4\u001b[0m, \u001b[33mactivation\u001b[0m=\u001b[32m'gelu'\u001b[0m, \u001b[33mmlp_drop_prob\u001b[0m=\u001b[1;36m0\u001b[0m\u001b[1;36m.1\u001b[0m, \u001b[33mnum_heads\u001b[0m=\u001b[1;36m4\u001b[0m, \u001b[33mratio_q_to_kv_heads\u001b[0m=\u001b[1;36m1\u001b[0m, \u001b[33mlogit_scale_learnable\u001b[0m=\u001b[3;91mFalse\u001b[0m, \u001b[33mattn_drop_prob\u001b[0m=\u001b[1;36m0\u001b[0m\u001b[1;36m.1\u001b[0m, \u001b[33mproj_drop_prob\u001b[0m=\u001b[1;36m0\u001b[0m\u001b[1;36m.1\u001b[0m, \u001b[33mmax_attention_batch_size\u001b[0m=\u001b[1;36m4096\u001b[0m, \u001b[33mnorm_location\u001b[0m=\u001b[32m'post'\u001b[0m, \u001b[33mlayer_norm_eps\u001b[0m=\u001b[1;36m1e\u001b[0m\u001b[1;36m-06\u001b[0m, \u001b[33mdepth\u001b[0m=\u001b[1;36m2\u001b[0m, \u001b[33mwindow_size\u001b[0m=\u001b[1m(\u001b[0m\u001b[1;36m4\u001b[0m, \u001b[1;36m4\u001b[0m, \u001b[1;36m4\u001b[0m\u001b[1m)\u001b[0m, \u001b[33muse_relative_position_bias\u001b[0m=\u001b[3;92mTrue\u001b[0m, \u001b[33mpatch_merging\u001b[0m=\u001b[3;35mNone\u001b[0m, \u001b[33mpatch_splitting\u001b[0m=\u001b[3;35mNone\u001b[0m, \u001b[33min_dim\u001b[0m=\u001b[1;36m24\u001b[0m, \u001b[33mout_dim\u001b[0m=\u001b[1;36m24\u001b[0m\u001b[1m)\u001b[0m\u001b[1m]\u001b[0m, \u001b[33mdrop_prob\u001b[0m=\u001b[1;36m0\u001b[0m\u001b[1;36m.1\u001b[0m, \u001b[33membed_spacing_info\u001b[0m=\u001b[3;91mFalse\u001b[0m\u001b[1m)\u001b[0m, \u001b[32m'unembedding'\u001b[0m: \u001b[1;35mMunch\u001b[0m\u001b[1m(\u001b[0m\u001b[1m{\u001b[0m\u001b[32m'num_upsamples'\u001b[0m: \u001b[1;36m1\u001b[0m, \u001b[32m'upsample_channels'\u001b[0m: \u001b[1m[\u001b[0m\u001b[1;36m12\u001b[0m\u001b[1m]\u001b[0m, \u001b[32m'in_channels'\u001b[0m: \u001b[1;36m24\u001b[0m, \u001b[32m'out_channels'\u001b[0m: \u001b[1;36m1\u001b[0m\u001b[1m}\u001b[0m\u001b[1m)\u001b[0m, \u001b[32m'pathway_drop_prob'\u001b[0m: \u001b[1;36m0.1\u001b[0m\u001b[1m}\u001b[0m\u001b[1m)\u001b[0m, \u001b[32m'training'\u001b[0m: \u001b[1;35mMunch\u001b[0m\u001b[1m(\u001b[0m\u001b[1m{\u001b[0m\u001b[32m'start_from_checkpoint'\u001b[0m: \u001b[32m'/raid3/arjun/checkpoints/adaptive_autoencoder/v27__2025_03_07/version_0/checkpoints/last.ckpt'\u001b[0m, \u001b[32m'max_epochs'\u001b[0m: \u001b[1;36m200\u001b[0m, \u001b[32m'lr'\u001b[0m: \u001b[1;36m0.0005\u001b[0m, \u001b[32m'seed'\u001b[0m: \u001b[1;36m42\u001b[0m, \u001b[32m'check_val_every_n_epoch'\u001b[0m: \u001b[1;36m1\u001b[0m, \u001b[32m'loss_weights'\u001b[0m: \u001b[1;35mMunch\u001b[0m\u001b[1m(\u001b[0m\u001b[1m{\u001b[0m\u001b[32m'reconstruction_loss'\u001b[0m: \u001b[1;36m1.0\u001b[0m, \u001b[32m'perceptual_loss'\u001b[0m: \u001b[1;36m0.1\u001b[0m, \u001b[32m'ms_ssim_loss'\u001b[0m: \u001b[1;36m0.1\u001b[0m, \u001b[32m'kl_loss'\u001b[0m: \u001b[1;36m0.0001\u001b[0m\u001b[1m}\u001b[0m\u001b[1m)\u001b[0m, \u001b[32m'kl_annealing_start_epoch'\u001b[0m: \u001b[1;36m25\u001b[0m, \u001b[32m'kl_annealing_epochs'\u001b[0m: \u001b[1;36m30\u001b[0m, \u001b[32m'residual_connection_epochs'\u001b[0m: \u001b[1;36m50\u001b[0m, \u001b[32m'checkpointing_level'\u001b[0m: \u001b[1;36m2\u001b[0m, \u001b[32m'fast_dev_run'\u001b[0m: \u001b[3;91mFalse\u001b[0m, \u001b[32m'strategy'\u001b[0m: \u001b[32m'ddp'\u001b[0m, \u001b[32m'accumulate_grad_batches'\u001b[0m: \u001b[1;36m10\u001b[0m, \u001b[32m'gradient_clip_val'\u001b[0m: \u001b[1;36m1.0\u001b[0m\u001b[1m}\u001b[0m\u001b[1m)\u001b[0m, \u001b[32m'distributed'\u001b[0m: \u001b[1;35mMunch\u001b[0m\u001b[1m(\u001b[0m\u001b[1m{\u001b[0m\u001b[32m'distributed'\u001b[0m: \u001b[3;91mFalse\u001b[0m, \u001b[32m'nodes'\u001b[0m: \u001b[1m[\u001b[0m\u001b[1m(\u001b[0m\u001b[32m'qrnd10.internal.qure.ai'\u001b[0m, \u001b[1m[\u001b[0m\u001b[32m'10.67.21.10'\u001b[0m, \u001b[1;36m4\u001b[0m\u001b[1m]\u001b[0m\u001b[1m)\u001b[0m, \u001b[1m(\u001b[0m\u001b[32m'qrnd8.internal.qure.ai'\u001b[0m, \u001b[1m[\u001b[0m\u001b[32m'10.67.21.8'\u001b[0m, \u001b[1;36m4\u001b[0m\u001b[1m]\u001b[0m\u001b[1m)\u001b[0m\u001b[1m]\u001b[0m\u001b[1m}\u001b[0m\u001b[1m)\u001b[0m, \u001b[32m'additional'\u001b[0m: \u001b[1;35mMunch\u001b[0m\u001b[1m(\u001b[0m\u001b[1m{\u001b[0m\u001b[32m'task_name'\u001b[0m: \u001b[32m'v28__2025_03_08__v27'\u001b[0m, \u001b[32m'log_on_clearml'\u001b[0m: \u001b[3;92mTrue\u001b[0m, \u001b[32m'clearml_project'\u001b[0m: \u001b[32m'adaptive_autoencoder'\u001b[0m, \u001b[32m'clearml_tags'\u001b[0m: \u001b[1m[\u001b[0m\u001b[32m'Training image size: \u001b[0m\u001b[32m(\u001b[0m\u001b[32m96, 96, 96\u001b[0m\u001b[32m)\u001b[0m\u001b[32m'\u001b[0m, \u001b[32m'Patch sizes: \u001b[0m\u001b[32m[\u001b[0m\u001b[32m(\u001b[0m\u001b[32m2, 2, 2\u001b[0m\u001b[32m)\u001b[0m\u001b[32m, \u001b[0m\u001b[32m(\u001b[0m\u001b[32m2, 2, 2\u001b[0m\u001b[32m)\u001b[0m\u001b[32m, \u001b[0m\u001b[32m(\u001b[0m\u001b[32m4, 4, 4\u001b[0m\u001b[32m)\u001b[0m\u001b[32m, \u001b[0m\u001b[32m(\u001b[0m\u001b[32m8, 8, 8\u001b[0m\u001b[32m)\u001b[0m\u001b[32m, \u001b[0m\u001b[32m(\u001b[0m\u001b[32m16, 16, 16\u001b[0m\u001b[32m)\u001b[0m\u001b[32m]\u001b[0m\u001b[32m'\u001b[0m, \u001b[32m'Grid sizes: \u001b[0m\u001b[32m[\u001b[0m\u001b[32m(\u001b[0m\u001b[32m48, 48, 48\u001b[0m\u001b[32m)\u001b[0m\u001b[32m, \u001b[0m\u001b[32m(\u001b[0m\u001b[32m48, 48, 48\u001b[0m\u001b[32m)\u001b[0m\u001b[32m, \u001b[0m\u001b[32m(\u001b[0m\u001b[32m24, 24, 24\u001b[0m\u001b[32m)\u001b[0m\u001b[32m, \u001b[0m\u001b[32m(\u001b[0m\u001b[32m12, 12, 12\u001b[0m\u001b[32m)\u001b[0m\u001b[32m, \u001b[0m\u001b[32m(\u001b[0m\u001b[32m6, 6, 6\u001b[0m\u001b[32m)\u001b[0m\u001b[32m]\u001b[0m\u001b[32m'\u001b[0m, \u001b[32m'Dimensions: \u001b[0m\u001b[32m[\u001b[0m\u001b[32m24, 48, 96, 192\u001b[0m\u001b[32m]\u001b[0m\u001b[32m'\u001b[0m, \u001b[32m'Train batch size: 4'\u001b[0m, \u001b[32m'Compression: \u001b[0m\u001b[32m(\u001b[0m\u001b[32m16, 16, 16\u001b[0m\u001b[32m)\u001b[0m\u001b[32m'\u001b[0m, \u001b[32m'Checkpointing level: 2'\u001b[0m, \u001b[32m'VAE'\u001b[0m, \u001b[32m'Added sigmoid scheduler to kl and resuidual connection'\u001b[0m, \u001b[32m'Added gradient flow stabilizers'\u001b[0m, \u001b[32m'Added residual connection skipping the perceiver with annealing'\u001b[0m\u001b[1m]\u001b[0m\u001b[1m}\u001b[0m\u001b[1m)\u001b[0m, \u001b[32m'image_size'\u001b[0m: \u001b[1m(\u001b[0m\u001b[1;36m96\u001b[0m, \u001b[1;36m96\u001b[0m, \u001b[1;36m96\u001b[0m\u001b[1m)\u001b[0m\u001b[1m}\u001b[0m\u001b[1m)\u001b[0m"
      ]
     },
     "execution_count": 22,
     "metadata": {},
     "output_type": "execute_result"
    }
   ],
   "source": [
    "cfg = get_config()\n",
    "cfg"
   ]
  },
  {
   "cell_type": "markdown",
   "metadata": {},
   "source": [
    "# Train dataset and dataloader"
   ]
  },
  {
   "cell_type": "code",
   "execution_count": null,
   "metadata": {},
   "outputs": [
    {
     "data": {
      "application/vnd.jupyter.widget-view+json": {
       "model_id": "f215dae667414a038b53416a2c1b3960",
       "version_major": 2,
       "version_minor": 0
      },
      "text/plain": [
       "train:   0%|          | 0/48996 [00:00<?, ?it/s]"
      ]
     },
     "metadata": {},
     "output_type": "display_data"
    },
    {
     "name": "stdout",
     "output_type": "stream",
     "text": [
      "No. of train datapoints: 48993\n"
     ]
    }
   ],
   "source": [
    "dataset = CTRATEDataset(cfg.data, \"train\")"
   ]
  },
  {
   "cell_type": "code",
   "execution_count": null,
   "metadata": {},
   "outputs": [
    {
     "name": "stdout",
     "output_type": "stream",
     "text": [
      "torch.Size([1, 96, 96, 96])\n",
      "torch.Size([1, 96, 96, 96])\n",
      "torch.Size([1, 96, 96, 96])\n",
      "torch.Size([1, 96, 96, 96])\n"
     ]
    },
    {
     "data": {
      "application/vnd.jupyter.widget-view+json": {
       "model_id": "ea5ce2d201e14a21adc99f6620019fdd",
       "version_major": 2,
       "version_minor": 0
      },
      "text/plain": [
       "interactive(children=(IntSlider(value=0, description='z', max=95), Output()), _dom_classes=('widget-interact',…"
      ]
     },
     "metadata": {},
     "output_type": "display_data"
    }
   ],
   "source": [
    "plots = []\n",
    "for _ in range(4):\n",
    "    image = dataset[1][0][\"image\"]\n",
    "    print(image.shape)\n",
    "    plots.append(image[0])\n",
    "\n",
    "plot_scans(plots)"
   ]
  },
  {
   "cell_type": "code",
   "execution_count": null,
   "metadata": {},
   "outputs": [
    {
     "data": {
      "text/html": [
       "<pre style=\"white-space:pre;overflow-x:auto;line-height:normal;font-family:Menlo,'DejaVu Sans Mono',consolas,'Courier New',monospace\"></pre>\n"
      ],
      "text/plain": []
     },
     "metadata": {},
     "output_type": "display_data"
    },
    {
     "data": {
      "text/plain": [
       "\n",
       "\u001b[1m{\u001b[0m\n",
       "    \u001b[32m'SeriesUID'\u001b[0m: \u001b[32m'train_9077_a_2'\u001b[0m,\n",
       "    \u001b[32m'StudyUID'\u001b[0m: \u001b[32m'train_9077'\u001b[0m,\n",
       "    \u001b[32m'Modality'\u001b[0m: \u001b[32m'ct'\u001b[0m,\n",
       "    \u001b[32m'BodyPart'\u001b[0m: \u001b[32m'chest'\u001b[0m,\n",
       "    \u001b[32m'Source'\u001b[0m: \u001b[32m'ct_rate'\u001b[0m,\n",
       "    \u001b[32m'Spacing'\u001b[0m: \u001b[1m(\u001b[0m\u001b[1;36m0.75\u001b[0m, \u001b[1;36m0.7188\u001b[0m, \u001b[1;36m0.7188\u001b[0m\u001b[1m)\u001b[0m,\n",
       "    \u001b[32m'Shape'\u001b[0m: \u001b[1;35mtensor\u001b[0m\u001b[1m(\u001b[0m\u001b[1m[\u001b[0m\u001b[1;36m349\u001b[0m, \u001b[1;36m630\u001b[0m, \u001b[1;36m564\u001b[0m\u001b[1m]\u001b[0m, \u001b[33mdtype\u001b[0m=\u001b[35mtorch\u001b[0m.int32\u001b[1m)\u001b[0m,\n",
       "    \u001b[32m'FilePath'\u001b[0m: \u001b[32m'ct_rate/batch_0/train_9077_a_2.safetensors'\u001b[0m,\n",
       "    \u001b[32m'SliceThickness'\u001b[0m: \u001b[1;36m0.75\u001b[0m,\n",
       "    \u001b[32m'image'\u001b[0m: \u001b[1;35mmetatensor\u001b[0m\u001b[1m(\u001b[0m\u001b[1m[\u001b[0m\u001b[1m[\u001b[0m\u001b[1m[\u001b[0m\u001b[1m[\u001b[0m\u001b[1;36m-1.0000\u001b[0m, \u001b[1;36m-1.0000\u001b[0m, \u001b[1;36m-1.0000\u001b[0m,  \u001b[33m...\u001b[0m, \u001b[1;36m-1.0000\u001b[0m, \u001b[1;36m-1.0000\u001b[0m, \u001b[1;36m-1.0000\u001b[0m\u001b[1m]\u001b[0m,\n",
       "          \u001b[1m[\u001b[0m\u001b[1;36m-1.0000\u001b[0m, \u001b[1;36m-1.0000\u001b[0m, \u001b[1;36m-1.0000\u001b[0m,  \u001b[33m...\u001b[0m, \u001b[1;36m-1.0000\u001b[0m, \u001b[1;36m-1.0000\u001b[0m, \u001b[1;36m-1.0000\u001b[0m\u001b[1m]\u001b[0m,\n",
       "          \u001b[1m[\u001b[0m\u001b[1;36m-1.0000\u001b[0m, \u001b[1;36m-1.0000\u001b[0m, \u001b[1;36m-1.0000\u001b[0m,  \u001b[33m...\u001b[0m, \u001b[1;36m-1.0000\u001b[0m, \u001b[1;36m-1.0000\u001b[0m, \u001b[1;36m-1.0000\u001b[0m\u001b[1m]\u001b[0m,\n",
       "          \u001b[33m...\u001b[0m,\n",
       "          \u001b[1m[\u001b[0m\u001b[1;36m-1.0000\u001b[0m, \u001b[1;36m-1.0000\u001b[0m, \u001b[1;36m-1.0000\u001b[0m,  \u001b[33m...\u001b[0m, \u001b[1;36m-1.0000\u001b[0m, \u001b[1;36m-1.0000\u001b[0m, \u001b[1;36m-1.0000\u001b[0m\u001b[1m]\u001b[0m,\n",
       "          \u001b[1m[\u001b[0m\u001b[1;36m-1.0000\u001b[0m, \u001b[1;36m-1.0000\u001b[0m, \u001b[1;36m-1.0000\u001b[0m,  \u001b[33m...\u001b[0m, \u001b[1;36m-1.0000\u001b[0m, \u001b[1;36m-1.0000\u001b[0m, \u001b[1;36m-1.0000\u001b[0m\u001b[1m]\u001b[0m,\n",
       "          \u001b[1m[\u001b[0m\u001b[1;36m-1.0000\u001b[0m, \u001b[1;36m-1.0000\u001b[0m, \u001b[1;36m-1.0000\u001b[0m,  \u001b[33m...\u001b[0m, \u001b[1;36m-1.0000\u001b[0m, \u001b[1;36m-1.0000\u001b[0m, \u001b[1;36m-1.0000\u001b[0m\u001b[1m]\u001b[0m\u001b[1m]\u001b[0m,\n",
       "\n",
       "         \u001b[1m[\u001b[0m\u001b[1m[\u001b[0m\u001b[1;36m-1.0000\u001b[0m, \u001b[1;36m-1.0000\u001b[0m, \u001b[1;36m-1.0000\u001b[0m,  \u001b[33m...\u001b[0m, \u001b[1;36m-1.0000\u001b[0m, \u001b[1;36m-1.0000\u001b[0m, \u001b[1;36m-1.0000\u001b[0m\u001b[1m]\u001b[0m,\n",
       "          \u001b[1m[\u001b[0m\u001b[1;36m-1.0000\u001b[0m, \u001b[1;36m-1.0000\u001b[0m, \u001b[1;36m-1.0000\u001b[0m,  \u001b[33m...\u001b[0m, \u001b[1;36m-1.0000\u001b[0m, \u001b[1;36m-1.0000\u001b[0m, \u001b[1;36m-1.0000\u001b[0m\u001b[1m]\u001b[0m,\n",
       "          \u001b[1m[\u001b[0m\u001b[1;36m-1.0000\u001b[0m, \u001b[1;36m-1.0000\u001b[0m, \u001b[1;36m-1.0000\u001b[0m,  \u001b[33m...\u001b[0m, \u001b[1;36m-0.7399\u001b[0m, \u001b[1;36m-0.9996\u001b[0m, \u001b[1;36m-1.0000\u001b[0m\u001b[1m]\u001b[0m,\n",
       "          \u001b[33m...\u001b[0m,\n",
       "          \u001b[1m[\u001b[0m\u001b[1;36m-1.0000\u001b[0m, \u001b[1;36m-0.9645\u001b[0m, \u001b[1;36m-0.7033\u001b[0m,  \u001b[33m...\u001b[0m, \u001b[1;36m-1.0000\u001b[0m, \u001b[1;36m-1.0000\u001b[0m, \u001b[1;36m-1.0000\u001b[0m\u001b[1m]\u001b[0m,\n",
       "          \u001b[1m[\u001b[0m\u001b[1;36m-1.0000\u001b[0m, \u001b[1;36m-1.0000\u001b[0m, \u001b[1;36m-1.0000\u001b[0m,  \u001b[33m...\u001b[0m, \u001b[1;36m-1.0000\u001b[0m, \u001b[1;36m-1.0000\u001b[0m, \u001b[1;36m-1.0000\u001b[0m\u001b[1m]\u001b[0m,\n",
       "          \u001b[1m[\u001b[0m\u001b[1;36m-1.0000\u001b[0m, \u001b[1;36m-1.0000\u001b[0m, \u001b[1;36m-1.0000\u001b[0m,  \u001b[33m...\u001b[0m, \u001b[1;36m-1.0000\u001b[0m, \u001b[1;36m-1.0000\u001b[0m, \u001b[1;36m-1.0000\u001b[0m\u001b[1m]\u001b[0m\u001b[1m]\u001b[0m,\n",
       "\n",
       "         \u001b[1m[\u001b[0m\u001b[1m[\u001b[0m\u001b[1;36m-1.0000\u001b[0m, \u001b[1;36m-1.0000\u001b[0m, \u001b[1;36m-1.0000\u001b[0m,  \u001b[33m...\u001b[0m, \u001b[1;36m-1.0000\u001b[0m, \u001b[1;36m-1.0000\u001b[0m, \u001b[1;36m-1.0000\u001b[0m\u001b[1m]\u001b[0m,\n",
       "          \u001b[1m[\u001b[0m\u001b[1;36m-1.0000\u001b[0m, \u001b[1;36m-1.0000\u001b[0m, \u001b[1;36m-1.0000\u001b[0m,  \u001b[33m...\u001b[0m, \u001b[1;36m-0.7468\u001b[0m, \u001b[1;36m-1.0000\u001b[0m, \u001b[1;36m-1.0000\u001b[0m\u001b[1m]\u001b[0m,\n",
       "          \u001b[1m[\u001b[0m\u001b[1;36m-1.0000\u001b[0m, \u001b[1;36m-1.0000\u001b[0m, \u001b[1;36m-0.8590\u001b[0m,  \u001b[33m...\u001b[0m, \u001b[1;36m-0.4711\u001b[0m, \u001b[1;36m-0.7546\u001b[0m, \u001b[1;36m-1.0000\u001b[0m\u001b[1m]\u001b[0m,\n",
       "          \u001b[33m...\u001b[0m,\n",
       "          \u001b[1m[\u001b[0m\u001b[1;36m-1.0000\u001b[0m, \u001b[1;36m-0.7154\u001b[0m, \u001b[1;36m-0.4265\u001b[0m,  \u001b[33m...\u001b[0m, \u001b[1;36m-1.0000\u001b[0m, \u001b[1;36m-1.0000\u001b[0m, \u001b[1;36m-1.0000\u001b[0m\u001b[1m]\u001b[0m,\n",
       "          \u001b[1m[\u001b[0m\u001b[1;36m-1.0000\u001b[0m, \u001b[1;36m-0.9818\u001b[0m, \u001b[1;36m-0.7354\u001b[0m,  \u001b[33m...\u001b[0m, \u001b[1;36m-1.0000\u001b[0m, \u001b[1;36m-1.0000\u001b[0m, \u001b[1;36m-1.0000\u001b[0m\u001b[1m]\u001b[0m,\n",
       "          \u001b[1m[\u001b[0m\u001b[1;36m-1.0000\u001b[0m, \u001b[1;36m-1.0000\u001b[0m, \u001b[1;36m-1.0000\u001b[0m,  \u001b[33m...\u001b[0m, \u001b[1;36m-1.0000\u001b[0m, \u001b[1;36m-1.0000\u001b[0m, \u001b[1;36m-1.0000\u001b[0m\u001b[1m]\u001b[0m\u001b[1m]\u001b[0m,\n",
       "\n",
       "         \u001b[33m...\u001b[0m,\n",
       "\n",
       "         \u001b[1m[\u001b[0m\u001b[1m[\u001b[0m\u001b[1;36m-1.0000\u001b[0m, \u001b[1;36m-0.9920\u001b[0m, \u001b[1;36m-0.8581\u001b[0m,  \u001b[33m...\u001b[0m, \u001b[1;36m-1.0000\u001b[0m, \u001b[1;36m-1.0000\u001b[0m, \u001b[1;36m-1.0000\u001b[0m\u001b[1m]\u001b[0m,\n",
       "          \u001b[1m[\u001b[0m\u001b[1;36m-0.9511\u001b[0m, \u001b[1;36m-0.6677\u001b[0m, \u001b[1;36m-0.5379\u001b[0m,  \u001b[33m...\u001b[0m, \u001b[1;36m-1.0000\u001b[0m, \u001b[1;36m-1.0000\u001b[0m, \u001b[1;36m-1.0000\u001b[0m\u001b[1m]\u001b[0m,\n",
       "          \u001b[1m[\u001b[0m\u001b[1;36m-0.7985\u001b[0m, \u001b[1;36m-0.4450\u001b[0m, \u001b[1;36m-0.2874\u001b[0m,  \u001b[33m...\u001b[0m, \u001b[1;36m-1.0000\u001b[0m, \u001b[1;36m-1.0000\u001b[0m, \u001b[1;36m-1.0000\u001b[0m\u001b[1m]\u001b[0m,\n",
       "          \u001b[33m...\u001b[0m,\n",
       "          \u001b[1m[\u001b[0m\u001b[1;36m-1.0000\u001b[0m, \u001b[1;36m-0.6904\u001b[0m, \u001b[1;36m-0.4757\u001b[0m,  \u001b[33m...\u001b[0m, \u001b[1;36m-0.9584\u001b[0m, \u001b[1;36m-1.0000\u001b[0m, \u001b[1;36m-1.0000\u001b[0m\u001b[1m]\u001b[0m,\n",
       "          \u001b[1m[\u001b[0m\u001b[1;36m-1.0000\u001b[0m, \u001b[1;36m-1.0000\u001b[0m, \u001b[1;36m-0.8365\u001b[0m,  \u001b[33m...\u001b[0m, \u001b[1;36m-1.0000\u001b[0m, \u001b[1;36m-1.0000\u001b[0m, \u001b[1;36m-1.0000\u001b[0m\u001b[1m]\u001b[0m,\n",
       "          \u001b[1m[\u001b[0m\u001b[1;36m-1.0000\u001b[0m, \u001b[1;36m-1.0000\u001b[0m, \u001b[1;36m-1.0000\u001b[0m,  \u001b[33m...\u001b[0m, \u001b[1;36m-1.0000\u001b[0m, \u001b[1;36m-1.0000\u001b[0m, \u001b[1;36m-1.0000\u001b[0m\u001b[1m]\u001b[0m\u001b[1m]\u001b[0m,\n",
       "\n",
       "         \u001b[1m[\u001b[0m\u001b[1m[\u001b[0m\u001b[1;36m-1.0000\u001b[0m, \u001b[1;36m-1.0000\u001b[0m, \u001b[1;36m-0.9850\u001b[0m,  \u001b[33m...\u001b[0m, \u001b[1;36m-1.0000\u001b[0m, \u001b[1;36m-1.0000\u001b[0m, \u001b[1;36m-1.0000\u001b[0m\u001b[1m]\u001b[0m,\n",
       "          \u001b[1m[\u001b[0m\u001b[1;36m-1.0000\u001b[0m, \u001b[1;36m-0.8522\u001b[0m, \u001b[1;36m-0.7170\u001b[0m,  \u001b[33m...\u001b[0m, \u001b[1;36m-1.0000\u001b[0m, \u001b[1;36m-1.0000\u001b[0m, \u001b[1;36m-1.0000\u001b[0m\u001b[1m]\u001b[0m,\n",
       "          \u001b[1m[\u001b[0m\u001b[1;36m-0.9439\u001b[0m, \u001b[1;36m-0.6591\u001b[0m, \u001b[1;36m-0.5113\u001b[0m,  \u001b[33m...\u001b[0m, \u001b[1;36m-1.0000\u001b[0m, \u001b[1;36m-1.0000\u001b[0m, \u001b[1;36m-1.0000\u001b[0m\u001b[1m]\u001b[0m,\n",
       "          \u001b[33m...\u001b[0m,\n",
       "          \u001b[1m[\u001b[0m\u001b[1;36m-1.0000\u001b[0m, \u001b[1;36m-0.9294\u001b[0m, \u001b[1;36m-0.7451\u001b[0m,  \u001b[33m...\u001b[0m, \u001b[1;36m-1.0000\u001b[0m, \u001b[1;36m-1.0000\u001b[0m, \u001b[1;36m-1.0000\u001b[0m\u001b[1m]\u001b[0m,\n",
       "          \u001b[1m[\u001b[0m\u001b[1;36m-1.0000\u001b[0m, \u001b[1;36m-1.0000\u001b[0m, \u001b[1;36m-1.0000\u001b[0m,  \u001b[33m...\u001b[0m, \u001b[1;36m-1.0000\u001b[0m, \u001b[1;36m-1.0000\u001b[0m, \u001b[1;36m-1.0000\u001b[0m\u001b[1m]\u001b[0m,\n",
       "          \u001b[1m[\u001b[0m\u001b[1;36m-1.0000\u001b[0m, \u001b[1;36m-1.0000\u001b[0m, \u001b[1;36m-1.0000\u001b[0m,  \u001b[33m...\u001b[0m, \u001b[1;36m-1.0000\u001b[0m, \u001b[1;36m-1.0000\u001b[0m, \u001b[1;36m-1.0000\u001b[0m\u001b[1m]\u001b[0m\u001b[1m]\u001b[0m,\n",
       "\n",
       "         \u001b[1m[\u001b[0m\u001b[1m[\u001b[0m\u001b[1;36m-1.0000\u001b[0m, \u001b[1;36m-1.0000\u001b[0m, \u001b[1;36m-1.0000\u001b[0m,  \u001b[33m...\u001b[0m, \u001b[1;36m-1.0000\u001b[0m, \u001b[1;36m-1.0000\u001b[0m, \u001b[1;36m-1.0000\u001b[0m\u001b[1m]\u001b[0m,\n",
       "          \u001b[1m[\u001b[0m\u001b[1;36m-1.0000\u001b[0m, \u001b[1;36m-1.0000\u001b[0m, \u001b[1;36m-1.0000\u001b[0m,  \u001b[33m...\u001b[0m, \u001b[1;36m-1.0000\u001b[0m, \u001b[1;36m-1.0000\u001b[0m, \u001b[1;36m-1.0000\u001b[0m\u001b[1m]\u001b[0m,\n",
       "          \u001b[1m[\u001b[0m\u001b[1;36m-1.0000\u001b[0m, \u001b[1;36m-0.9807\u001b[0m, \u001b[1;36m-0.8966\u001b[0m,  \u001b[33m...\u001b[0m, \u001b[1;36m-1.0000\u001b[0m, \u001b[1;36m-1.0000\u001b[0m, \u001b[1;36m-1.0000\u001b[0m\u001b[1m]\u001b[0m,\n",
       "          \u001b[33m...\u001b[0m,\n",
       "          \u001b[1m[\u001b[0m\u001b[1;36m-1.0000\u001b[0m, \u001b[1;36m-1.0000\u001b[0m, \u001b[1;36m-1.0000\u001b[0m,  \u001b[33m...\u001b[0m, \u001b[1;36m-1.0000\u001b[0m, \u001b[1;36m-1.0000\u001b[0m, \u001b[1;36m-1.0000\u001b[0m\u001b[1m]\u001b[0m,\n",
       "          \u001b[1m[\u001b[0m\u001b[1;36m-1.0000\u001b[0m, \u001b[1;36m-1.0000\u001b[0m, \u001b[1;36m-1.0000\u001b[0m,  \u001b[33m...\u001b[0m, \u001b[1;36m-1.0000\u001b[0m, \u001b[1;36m-1.0000\u001b[0m, \u001b[1;36m-1.0000\u001b[0m\u001b[1m]\u001b[0m,\n",
       "          \u001b[1m[\u001b[0m\u001b[1;36m-1.0000\u001b[0m, \u001b[1;36m-1.0000\u001b[0m, \u001b[1;36m-1.0000\u001b[0m,  \u001b[33m...\u001b[0m, \u001b[1;36m-1.0000\u001b[0m, \u001b[1;36m-1.0000\u001b[0m, \u001b[1;36m-1.0000\u001b[0m\u001b[1m]\u001b[0m\u001b[1m]\u001b[0m\u001b[1m]\u001b[0m\u001b[1m]\u001b[0m\u001b[1m)\u001b[0m,\n",
       "    \u001b[32m'foreground_start_coord'\u001b[0m: \u001b[1;35marray\u001b[0m\u001b[1m(\u001b[0m\u001b[1m[\u001b[0m \u001b[1;36m0\u001b[0m, \u001b[1;36m23\u001b[0m,  \u001b[1;36m0\u001b[0m\u001b[1m]\u001b[0m\u001b[1m)\u001b[0m,\n",
       "    \u001b[32m'foreground_end_coord'\u001b[0m: \u001b[1;35marray\u001b[0m\u001b[1m(\u001b[0m\u001b[1m[\u001b[0m\u001b[1;36m401\u001b[0m, \u001b[1;36m512\u001b[0m, \u001b[1;36m512\u001b[0m\u001b[1m]\u001b[0m\u001b[1m)\u001b[0m,\n",
       "    \u001b[32m'crop_offset'\u001b[0m: \u001b[1;35mtensor\u001b[0m\u001b[1m(\u001b[0m\u001b[1m[\u001b[0m \u001b[1;36m48\u001b[0m, \u001b[1;36m168\u001b[0m, \u001b[1;36m406\u001b[0m\u001b[1m]\u001b[0m, \u001b[33mdtype\u001b[0m=\u001b[35mtorch\u001b[0m.int32\u001b[1m)\u001b[0m\n",
       "\u001b[1m}\u001b[0m"
      ]
     },
     "execution_count": 48,
     "metadata": {},
     "output_type": "execute_result"
    }
   ],
   "source": [
    "dataset[1][0]"
   ]
  },
  {
   "cell_type": "code",
   "execution_count": null,
   "metadata": {},
   "outputs": [
    {
     "data": {
      "application/vnd.jupyter.widget-view+json": {
       "model_id": "a50d46c550574c3fbcbdfa392c0297d7",
       "version_major": 2,
       "version_minor": 0
      },
      "text/plain": [
       "train:   0%|          | 0/48996 [00:00<?, ?it/s]"
      ]
     },
     "metadata": {},
     "output_type": "display_data"
    },
    {
     "name": "stdout",
     "output_type": "stream",
     "text": [
      "No. of train datapoints: 48993\n"
     ]
    },
    {
     "data": {
      "application/vnd.jupyter.widget-view+json": {
       "model_id": "55cb50882f92422d8c2742fcd3fe9863",
       "version_major": 2,
       "version_minor": 0
      },
      "text/plain": [
       "Calculating sample weights:   0%|          | 0/48993 [00:00<?, ?it/s]"
      ]
     },
     "metadata": {},
     "output_type": "display_data"
    },
    {
     "name": "stdout",
     "output_type": "stream",
     "text": [
      "torch.Size([20, 1, 96, 96, 96])\n"
     ]
    }
   ],
   "source": [
    "dataloader = CTRATEDataModule(cfg.data).train_dataloader()\n",
    "for batch in dataloader:\n",
    "    print(batch[\"image\"].shape)\n",
    "    break"
   ]
  },
  {
   "cell_type": "markdown",
   "metadata": {},
   "source": [
    "# Val dataset and dataloader"
   ]
  },
  {
   "cell_type": "code",
   "execution_count": null,
   "metadata": {},
   "outputs": [
    {
     "data": {
      "application/vnd.jupyter.widget-view+json": {
       "model_id": "e0612b43d94940f0b82d588ee4eb9f4f",
       "version_major": 2,
       "version_minor": 0
      },
      "text/plain": [
       "valid:   0%|          | 0/1189 [00:00<?, ?it/s]"
      ]
     },
     "metadata": {},
     "output_type": "display_data"
    },
    {
     "name": "stdout",
     "output_type": "stream",
     "text": [
      "No. of valid datapoints: 1189\n"
     ]
    }
   ],
   "source": [
    "dataset = CTRATEDataset(cfg.data, \"valid\")"
   ]
  },
  {
   "cell_type": "code",
   "execution_count": null,
   "metadata": {},
   "outputs": [
    {
     "name": "stdout",
     "output_type": "stream",
     "text": [
      "torch.Size([1, 96, 96, 96])\n"
     ]
    },
    {
     "data": {
      "application/vnd.jupyter.widget-view+json": {
       "model_id": "d9d76e052fde4033a9fd9ab213abbf7f",
       "version_major": 2,
       "version_minor": 0
      },
      "text/plain": [
       "interactive(children=(IntSlider(value=0, description='z', max=95), Output()), _dom_classes=('widget-interact',…"
      ]
     },
     "metadata": {},
     "output_type": "display_data"
    },
    {
     "name": "stdout",
     "output_type": "stream",
     "text": [
      "torch.Size([1, 96, 96, 96])\n"
     ]
    },
    {
     "data": {
      "application/vnd.jupyter.widget-view+json": {
       "model_id": "32d7e51489244843b3fb5b86a3beb2f2",
       "version_major": 2,
       "version_minor": 0
      },
      "text/plain": [
       "interactive(children=(IntSlider(value=0, description='z', max=95), Output()), _dom_classes=('widget-interact',…"
      ]
     },
     "metadata": {},
     "output_type": "display_data"
    },
    {
     "name": "stdout",
     "output_type": "stream",
     "text": [
      "torch.Size([1, 96, 96, 96])\n"
     ]
    },
    {
     "data": {
      "application/vnd.jupyter.widget-view+json": {
       "model_id": "c884ceab1cde4d6cb72920801cc89270",
       "version_major": 2,
       "version_minor": 0
      },
      "text/plain": [
       "interactive(children=(IntSlider(value=0, description='z', max=95), Output()), _dom_classes=('widget-interact',…"
      ]
     },
     "metadata": {},
     "output_type": "display_data"
    }
   ],
   "source": [
    "for i in range(3):\n",
    "    image = dataset[5 * i][0][\"image\"]\n",
    "    print(image.shape)\n",
    "    plot_scans(image[0])"
   ]
  },
  {
   "cell_type": "code",
   "execution_count": null,
   "metadata": {},
   "outputs": [
    {
     "data": {
      "application/vnd.jupyter.widget-view+json": {
       "model_id": "813e36ed96e24b69a123121db3b417af",
       "version_major": 2,
       "version_minor": 0
      },
      "text/plain": [
       "valid:   0%|          | 0/1189 [00:00<?, ?it/s]"
      ]
     },
     "metadata": {},
     "output_type": "display_data"
    },
    {
     "name": "stdout",
     "output_type": "stream",
     "text": [
      "No. of valid datapoints: 1189\n",
      "torch.Size([20, 1, 96, 96, 96])\n"
     ]
    }
   ],
   "source": [
    "dataloader = CTRATEDataModule(cfg.data).val_dataloader()\n",
    "for batch in dataloader:\n",
    "    print(batch[\"image\"].shape)\n",
    "    break"
   ]
  },
  {
   "cell_type": "code",
   "execution_count": null,
   "metadata": {},
   "outputs": [],
   "source": []
  },
  {
   "cell_type": "code",
   "execution_count": null,
   "metadata": {},
   "outputs": [],
   "source": []
  },
  {
   "cell_type": "code",
   "execution_count": null,
   "metadata": {},
   "outputs": [
    {
     "name": "stdout",
     "output_type": "stream",
     "text": [
      "torch.Size([5, 1, 4, 4, 4])\n"
     ]
    }
   ],
   "source": [
    "import torch\n",
    "\n",
    "from diffusion_3d.chestct.autoencoder.vae.nn import AdaptorResidualConnection\n",
    "\n",
    "a = AdaptorResidualConnection(0.5)\n",
    "a.set_num_steps(10)\n",
    "a.weight_scheduler.step()\n",
    "a.weight_scheduler.step()\n",
    "a.weight_scheduler.step()\n",
    "a.weight_scheduler.step()\n",
    "a.weight_scheduler.step()\n",
    "\n",
    "in1, in2 = torch.rand(2, 5, 1, 4, 4, 4)\n",
    "out = a(in1, in2)\n",
    "print(out.shape)"
   ]
  }
 ],
 "metadata": {
  "kernelspec": {
   "display_name": "base",
   "language": "python",
   "name": "python3"
  },
  "language_info": {
   "codemirror_mode": {
    "name": "ipython",
    "version": 3
   },
   "file_extension": ".py",
   "mimetype": "text/x-python",
   "name": "python",
   "nbconvert_exporter": "python",
   "pygments_lexer": "ipython3",
   "version": "3.10.14"
  }
 },
 "nbformat": 4,
 "nbformat_minor": 2
}

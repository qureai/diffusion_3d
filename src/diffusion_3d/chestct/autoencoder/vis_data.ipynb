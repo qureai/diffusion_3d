{
 "cells": [
  {
   "cell_type": "code",
   "execution_count": 1,
   "metadata": {},
   "outputs": [],
   "source": [
    "from diffusion_3d.chestct.autoencoder.nvae.cnn.config import get_config\n",
    "from diffusion_3d.datasets.ct_rate import CTRATEDataModule, CTRATEDataset\n",
    "from diffusion_3d.utils.visualize import plot_scans"
   ]
  },
  {
   "cell_type": "code",
   "execution_count": 6,
   "metadata": {},
   "outputs": [
    {
     "data": {
      "text/html": [
       "<pre style=\"white-space:pre;overflow-x:auto;line-height:normal;font-family:Menlo,'DejaVu Sans Mono',consolas,'Courier New',monospace\"></pre>\n"
      ],
      "text/plain": []
     },
     "metadata": {},
     "output_type": "display_data"
    },
    {
     "data": {
      "text/plain": [
       "\u001b[1;35mMunch\u001b[0m\u001b[1m(\u001b[0m\u001b[1m{\u001b[0m\u001b[32m'data'\u001b[0m: \u001b[1;35mMunch\u001b[0m\u001b[1m(\u001b[0m\u001b[1m{\u001b[0m\u001b[32m'csvpath'\u001b[0m: \u001b[32m'/raid3/arjun/ct_pretraining/csvs/sources.csv'\u001b[0m, \u001b[32m'datapath'\u001b[0m: \u001b[32m'/raid3/arjun/ct_pretraining/scans/'\u001b[0m, \u001b[32m'checkpointspath'\u001b[0m: \u001b[32m'/raid3/arjun/checkpoints/adaptive_autoencoder/'\u001b[0m, \u001b[32m'limited_dataset_size'\u001b[0m: \u001b[3;35mNone\u001b[0m, \u001b[32m'allowed_spacings'\u001b[0m: \u001b[1m(\u001b[0m\u001b[1m(\u001b[0m\u001b[1;36m0.4\u001b[0m, \u001b[1;36m7\u001b[0m\u001b[1m)\u001b[0m, \u001b[1m(\u001b[0m\u001b[1;36m-1\u001b[0m, \u001b[1;36m-1\u001b[0m\u001b[1m)\u001b[0m, \u001b[1m(\u001b[0m\u001b[1;36m-1\u001b[0m, \u001b[1;36m-1\u001b[0m\u001b[1m)\u001b[0m\u001b[1m)\u001b[0m, \u001b[32m'allowed_shapes'\u001b[0m: \u001b[1m(\u001b[0m\u001b[1m(\u001b[0m\u001b[1;36m128\u001b[0m, \u001b[1;36m-1\u001b[0m\u001b[1m)\u001b[0m, \u001b[1m(\u001b[0m\u001b[1;36m256\u001b[0m, \u001b[1;36m-1\u001b[0m\u001b[1m)\u001b[0m, \u001b[1m(\u001b[0m\u001b[1;36m256\u001b[0m, \u001b[1;36m-1\u001b[0m\u001b[1m)\u001b[0m\u001b[1m)\u001b[0m, \u001b[32m'train_augmentations'\u001b[0m: \u001b[1;35mMunch\u001b[0m\u001b[1m(\u001b[0m\u001b[1m{\u001b[0m\u001b[32m'_target_'\u001b[0m: \u001b[32m'monai.transforms.Compose'\u001b[0m, \u001b[32m'transforms'\u001b[0m: \u001b[1m[\u001b[0m\u001b[1;35mMunch\u001b[0m\u001b[1m(\u001b[0m\u001b[1m{\u001b[0m\u001b[32m'_target_'\u001b[0m: \u001b[32m'vision_architectures.transforms.croppad.CropForegroundWithCropTrackingd'\u001b[0m, \u001b[32m'keys'\u001b[0m: \u001b[1m[\u001b[0m\u001b[32m'image'\u001b[0m\u001b[1m]\u001b[0m, \u001b[32m'source_key'\u001b[0m: \u001b[32m'image'\u001b[0m, \u001b[32m'allow_smaller'\u001b[0m: \u001b[3;92mTrue\u001b[0m\u001b[1m}\u001b[0m\u001b[1m)\u001b[0m, \u001b[1;35mMunch\u001b[0m\u001b[1m(\u001b[0m\u001b[1m{\u001b[0m\u001b[32m'_target_'\u001b[0m: \u001b[32m'monai.transforms.ScaleIntensityRanged'\u001b[0m, \u001b[32m'keys'\u001b[0m: \u001b[1m[\u001b[0m\u001b[32m'image'\u001b[0m\u001b[1m]\u001b[0m, \u001b[32m'a_min'\u001b[0m: \u001b[1;36m-1000\u001b[0m, \u001b[32m'a_max'\u001b[0m: \u001b[1;36m2000\u001b[0m, \u001b[32m'b_min'\u001b[0m: \u001b[1;36m-1.0\u001b[0m, \u001b[32m'b_max'\u001b[0m: \u001b[1;36m1.0\u001b[0m, \u001b[32m'clip'\u001b[0m: \u001b[3;92mTrue\u001b[0m\u001b[1m}\u001b[0m\u001b[1m)\u001b[0m, \u001b[1;35mMunch\u001b[0m\u001b[1m(\u001b[0m\u001b[1m{\u001b[0m\u001b[32m'_target_'\u001b[0m: \u001b[32m'vision_architectures.transforms.croppad.RandSpatialCropSamplesWithCropTrackingd'\u001b[0m, \u001b[32m'keys'\u001b[0m: \u001b[1m[\u001b[0m\u001b[32m'image'\u001b[0m\u001b[1m]\u001b[0m, \u001b[32m'roi_size'\u001b[0m: \u001b[1m(\u001b[0m\u001b[1;36m102\u001b[0m, \u001b[1;36m102\u001b[0m, \u001b[1;36m102\u001b[0m\u001b[1m)\u001b[0m, \u001b[32m'max_roi_size'\u001b[0m: \u001b[1m(\u001b[0m\u001b[1;36m153\u001b[0m, \u001b[1;36m153\u001b[0m, \u001b[1;36m153\u001b[0m\u001b[1m)\u001b[0m, \u001b[32m'random_size'\u001b[0m: \u001b[3;92mTrue\u001b[0m, \u001b[32m'num_samples'\u001b[0m: \u001b[1;36m5\u001b[0m\u001b[1m}\u001b[0m\u001b[1m)\u001b[0m, \u001b[1;35mMunch\u001b[0m\u001b[1m(\u001b[0m\u001b[1m{\u001b[0m\u001b[32m'_target_'\u001b[0m: \u001b[32m'vision_architectures.transforms.spatial.ResizedWithCropTrackingd'\u001b[0m, \u001b[32m'keys'\u001b[0m: \u001b[1m[\u001b[0m\u001b[32m'image'\u001b[0m\u001b[1m]\u001b[0m, \u001b[32m'original_shape_key'\u001b[0m: \u001b[32m'Shape'\u001b[0m, \u001b[32m'spatial_size'\u001b[0m: \u001b[1m(\u001b[0m\u001b[1;36m128\u001b[0m, \u001b[1;36m128\u001b[0m, \u001b[1;36m128\u001b[0m\u001b[1m)\u001b[0m, \u001b[32m'mode'\u001b[0m: \u001b[32m'trilinear'\u001b[0m, \u001b[32m'anti_aliasing'\u001b[0m: \u001b[3;92mTrue\u001b[0m\u001b[1m}\u001b[0m\u001b[1m)\u001b[0m, \u001b[1;35mMunch\u001b[0m\u001b[1m(\u001b[0m\u001b[1m{\u001b[0m\u001b[32m'_target_'\u001b[0m: \u001b[32m'vision_architectures.transforms.clipping.Clipd'\u001b[0m, \u001b[32m'keys'\u001b[0m: \u001b[1m[\u001b[0m\u001b[32m'image'\u001b[0m\u001b[1m]\u001b[0m, \u001b[32m'min_value'\u001b[0m: \u001b[1;36m-1.0\u001b[0m, \u001b[32m'max_value'\u001b[0m: \u001b[1;36m1.0\u001b[0m\u001b[1m}\u001b[0m\u001b[1m)\u001b[0m, \u001b[1;35mMunch\u001b[0m\u001b[1m(\u001b[0m\u001b[1m{\u001b[0m\u001b[32m'_target_'\u001b[0m: \u001b[32m'monai.transforms.RandomOrder'\u001b[0m, \u001b[32m'transforms'\u001b[0m: \u001b[1m[\u001b[0m\u001b[1;35mMunch\u001b[0m\u001b[1m(\u001b[0m\u001b[1m{\u001b[0m\u001b[32m'_target_'\u001b[0m: \u001b[32m'vision_architectures.transforms.spatial.RandFlipWithCropTrackingd'\u001b[0m, \u001b[32m'keys'\u001b[0m: \u001b[1m[\u001b[0m\u001b[32m'image'\u001b[0m\u001b[1m]\u001b[0m, \u001b[32m'original_shape_key'\u001b[0m: \u001b[32m'Shape'\u001b[0m, \u001b[32m'prob'\u001b[0m: \u001b[1;36m0.5\u001b[0m\u001b[1m}\u001b[0m\u001b[1m)\u001b[0m, \u001b[1;35mMunch\u001b[0m\u001b[1m(\u001b[0m\u001b[1m{\u001b[0m\u001b[32m'_target_'\u001b[0m: \u001b[32m'monai.transforms.Compose'\u001b[0m, \u001b[32m'transforms'\u001b[0m: \u001b[1m[\u001b[0m\u001b[1;35mMunch\u001b[0m\u001b[1m(\u001b[0m\u001b[1m{\u001b[0m\u001b[32m'_target_'\u001b[0m: \u001b[32m'monai.transforms.RandKSpaceSpikeNoised'\u001b[0m, \u001b[32m'keys'\u001b[0m: \u001b[1m[\u001b[0m\u001b[32m'image'\u001b[0m\u001b[1m]\u001b[0m, \u001b[32m'prob'\u001b[0m: \u001b[1;36m0.1\u001b[0m\u001b[1m}\u001b[0m\u001b[1m)\u001b[0m, \u001b[1;35mMunch\u001b[0m\u001b[1m(\u001b[0m\u001b[1m{\u001b[0m\u001b[32m'_target_'\u001b[0m: \u001b[32m'vision_architectures.transforms.clipping.Clipd'\u001b[0m, \u001b[32m'keys'\u001b[0m: \u001b[1m[\u001b[0m\u001b[32m'image'\u001b[0m\u001b[1m]\u001b[0m, \u001b[32m'min_value'\u001b[0m: \u001b[1;36m-1.0\u001b[0m, \u001b[32m'max_value'\u001b[0m: \u001b[1;36m1.0\u001b[0m\u001b[1m}\u001b[0m\u001b[1m)\u001b[0m\u001b[1m]\u001b[0m\u001b[1m}\u001b[0m\u001b[1m)\u001b[0m, \u001b[1;35mMunch\u001b[0m\u001b[1m(\u001b[0m\u001b[1m{\u001b[0m\u001b[32m'_target_'\u001b[0m: \u001b[32m'monai.transforms.OneOf'\u001b[0m, \u001b[32m'transforms'\u001b[0m: \u001b[1m[\u001b[0m\u001b[1;35mMunch\u001b[0m\u001b[1m(\u001b[0m\u001b[1m{\u001b[0m\u001b[32m'_target_'\u001b[0m: \u001b[32m'monai.transforms.Compose'\u001b[0m, \u001b[32m'transforms'\u001b[0m: \u001b[1m[\u001b[0m\u001b[1;35mMunch\u001b[0m\u001b[1m(\u001b[0m\u001b[1m{\u001b[0m\u001b[32m'_target_'\u001b[0m: \u001b[32m'monai.transforms.RandGaussianNoised'\u001b[0m, \u001b[32m'keys'\u001b[0m: \u001b[1m[\u001b[0m\u001b[32m'image'\u001b[0m\u001b[1m]\u001b[0m, \u001b[32m'prob'\u001b[0m: \u001b[1;36m0.75\u001b[0m\u001b[1m}\u001b[0m\u001b[1m)\u001b[0m, \u001b[1;35mMunch\u001b[0m\u001b[1m(\u001b[0m\u001b[1m{\u001b[0m\u001b[32m'_target_'\u001b[0m: \u001b[32m'vision_architectures.transforms.clipping.Clipd'\u001b[0m, \u001b[32m'keys'\u001b[0m: \u001b[1m[\u001b[0m\u001b[32m'image'\u001b[0m\u001b[1m]\u001b[0m, \u001b[32m'min_value'\u001b[0m: \u001b[1;36m-1.0\u001b[0m, \u001b[32m'max_value'\u001b[0m: \u001b[1;36m1.0\u001b[0m\u001b[1m}\u001b[0m\u001b[1m)\u001b[0m\u001b[1m]\u001b[0m\u001b[1m}\u001b[0m\u001b[1m)\u001b[0m, \u001b[1;35mMunch\u001b[0m\u001b[1m(\u001b[0m\u001b[1m{\u001b[0m\u001b[32m'_target_'\u001b[0m: \u001b[32m'monai.transforms.Compose'\u001b[0m, \u001b[32m'transforms'\u001b[0m: \u001b[1m[\u001b[0m\u001b[1;35mMunch\u001b[0m\u001b[1m(\u001b[0m\u001b[1m{\u001b[0m\u001b[32m'_target_'\u001b[0m: \u001b[32m'monai.transforms.RandGaussianSmoothd'\u001b[0m, \u001b[32m'keys'\u001b[0m: \u001b[1m[\u001b[0m\u001b[32m'image'\u001b[0m\u001b[1m]\u001b[0m, \u001b[32m'prob'\u001b[0m: \u001b[1;36m0.75\u001b[0m\u001b[1m}\u001b[0m\u001b[1m)\u001b[0m, \u001b[1;35mMunch\u001b[0m\u001b[1m(\u001b[0m\u001b[1m{\u001b[0m\u001b[32m'_target_'\u001b[0m: \u001b[32m'vision_architectures.transforms.clipping.Clipd'\u001b[0m, \u001b[32m'keys'\u001b[0m: \u001b[1m[\u001b[0m\u001b[32m'image'\u001b[0m\u001b[1m]\u001b[0m, \u001b[32m'min_value'\u001b[0m: \u001b[1;36m-1.0\u001b[0m, \u001b[32m'max_value'\u001b[0m: \u001b[1;36m1.0\u001b[0m\u001b[1m}\u001b[0m\u001b[1m)\u001b[0m\u001b[1m]\u001b[0m\u001b[1m}\u001b[0m\u001b[1m)\u001b[0m, \u001b[1;35mMunch\u001b[0m\u001b[1m(\u001b[0m\u001b[1m{\u001b[0m\u001b[32m'_target_'\u001b[0m: \u001b[32m'monai.transforms.Compose'\u001b[0m, \u001b[32m'transforms'\u001b[0m: \u001b[1m[\u001b[0m\u001b[1;35mMunch\u001b[0m\u001b[1m(\u001b[0m\u001b[1m{\u001b[0m\u001b[32m'_target_'\u001b[0m: \u001b[32m'monai.transforms.RandGaussianSharpend'\u001b[0m, \u001b[32m'keys'\u001b[0m: \u001b[1m[\u001b[0m\u001b[32m'image'\u001b[0m\u001b[1m]\u001b[0m, \u001b[32m'prob'\u001b[0m: \u001b[1;36m0.75\u001b[0m\u001b[1m}\u001b[0m\u001b[1m)\u001b[0m, \u001b[1;35mMunch\u001b[0m\u001b[1m(\u001b[0m\u001b[1m{\u001b[0m\u001b[32m'_target_'\u001b[0m: \u001b[32m'vision_architectures.transforms.clipping.Clipd'\u001b[0m, \u001b[32m'keys'\u001b[0m: \u001b[1m[\u001b[0m\u001b[32m'image'\u001b[0m\u001b[1m]\u001b[0m, \u001b[32m'min_value'\u001b[0m: \u001b[1;36m-1.0\u001b[0m, \u001b[32m'max_value'\u001b[0m: \u001b[1;36m1.0\u001b[0m\u001b[1m}\u001b[0m\u001b[1m)\u001b[0m\u001b[1m]\u001b[0m\u001b[1m}\u001b[0m\u001b[1m)\u001b[0m\u001b[1m]\u001b[0m\u001b[1m}\u001b[0m\u001b[1m)\u001b[0m\u001b[1m]\u001b[0m\u001b[1m}\u001b[0m\u001b[1m)\u001b[0m, \u001b[1;35mMunch\u001b[0m\u001b[1m(\u001b[0m\u001b[1m{\u001b[0m\u001b[32m'_target_'\u001b[0m: \u001b[32m'vision_architectures.transforms.clipping.Clipd'\u001b[0m, \u001b[32m'keys'\u001b[0m: \u001b[1m[\u001b[0m\u001b[32m'image'\u001b[0m\u001b[1m]\u001b[0m, \u001b[32m'min_value'\u001b[0m: \u001b[1;36m-1.0\u001b[0m, \u001b[32m'max_value'\u001b[0m: \u001b[1;36m1.0\u001b[0m\u001b[1m}\u001b[0m\u001b[1m)\u001b[0m\u001b[1m]\u001b[0m\u001b[1m}\u001b[0m\u001b[1m)\u001b[0m, \u001b[32m'val_augmentations'\u001b[0m: \u001b[1;35mMunch\u001b[0m\u001b[1m(\u001b[0m\u001b[1m{\u001b[0m\u001b[32m'_target_'\u001b[0m: \u001b[32m'monai.transforms.Compose'\u001b[0m, \u001b[32m'transforms'\u001b[0m: \u001b[1m[\u001b[0m\u001b[1;35mMunch\u001b[0m\u001b[1m(\u001b[0m\u001b[1m{\u001b[0m\u001b[32m'_target_'\u001b[0m: \u001b[32m'vision_architectures.transforms.croppad.CropForegroundWithCropTrackingd'\u001b[0m, \u001b[32m'keys'\u001b[0m: \u001b[1m[\u001b[0m\u001b[32m'image'\u001b[0m\u001b[1m]\u001b[0m, \u001b[32m'source_key'\u001b[0m: \u001b[32m'image'\u001b[0m, \u001b[32m'allow_smaller'\u001b[0m: \u001b[3;92mTrue\u001b[0m\u001b[1m}\u001b[0m\u001b[1m)\u001b[0m, \u001b[1;35mMunch\u001b[0m\u001b[1m(\u001b[0m\u001b[1m{\u001b[0m\u001b[32m'_target_'\u001b[0m: \u001b[32m'monai.transforms.ScaleIntensityRanged'\u001b[0m, \u001b[32m'keys'\u001b[0m: \u001b[1m[\u001b[0m\u001b[32m'image'\u001b[0m\u001b[1m]\u001b[0m, \u001b[32m'a_min'\u001b[0m: \u001b[1;36m-1000\u001b[0m, \u001b[32m'a_max'\u001b[0m: \u001b[1;36m2000\u001b[0m, \u001b[32m'b_min'\u001b[0m: \u001b[1;36m-1.0\u001b[0m, \u001b[32m'b_max'\u001b[0m: \u001b[1;36m1.0\u001b[0m, \u001b[32m'clip'\u001b[0m: \u001b[3;92mTrue\u001b[0m\u001b[1m}\u001b[0m\u001b[1m)\u001b[0m, \u001b[1;35mMunch\u001b[0m\u001b[1m(\u001b[0m\u001b[1m{\u001b[0m\u001b[32m'_target_'\u001b[0m: \u001b[32m'vision_architectures.transforms.croppad.RandSpatialCropSamplesWithCropTrackingd'\u001b[0m, \u001b[32m'keys'\u001b[0m: \u001b[1m[\u001b[0m\u001b[32m'image'\u001b[0m\u001b[1m]\u001b[0m, \u001b[32m'roi_size'\u001b[0m: \u001b[1m(\u001b[0m\u001b[1;36m128\u001b[0m, \u001b[1;36m128\u001b[0m, \u001b[1;36m128\u001b[0m\u001b[1m)\u001b[0m, \u001b[32m'num_samples'\u001b[0m: \u001b[1;36m15\u001b[0m\u001b[1m}\u001b[0m\u001b[1m)\u001b[0m, \u001b[1;35mMunch\u001b[0m\u001b[1m(\u001b[0m\u001b[1m{\u001b[0m\u001b[32m'_target_'\u001b[0m: \u001b[32m'vision_architectures.transforms.spatial.ResizedWithCropTrackingd'\u001b[0m, \u001b[32m'keys'\u001b[0m: \u001b[1m[\u001b[0m\u001b[32m'image'\u001b[0m\u001b[1m]\u001b[0m, \u001b[32m'original_shape_key'\u001b[0m: \u001b[32m'Shape'\u001b[0m, \u001b[32m'spatial_size'\u001b[0m: \u001b[1m(\u001b[0m\u001b[1;36m128\u001b[0m, \u001b[1;36m128\u001b[0m, \u001b[1;36m128\u001b[0m\u001b[1m)\u001b[0m, \u001b[32m'mode'\u001b[0m: \u001b[32m'trilinear'\u001b[0m, \u001b[32m'anti_aliasing'\u001b[0m: \u001b[3;92mTrue\u001b[0m\u001b[1m}\u001b[0m\u001b[1m)\u001b[0m, \u001b[1;35mMunch\u001b[0m\u001b[1m(\u001b[0m\u001b[1m{\u001b[0m\u001b[32m'_target_'\u001b[0m: \u001b[32m'vision_architectures.transforms.clipping.Clipd'\u001b[0m, \u001b[32m'keys'\u001b[0m: \u001b[1m[\u001b[0m\u001b[32m'image'\u001b[0m\u001b[1m]\u001b[0m, \u001b[32m'min_value'\u001b[0m: \u001b[1;36m-1.0\u001b[0m, \u001b[32m'max_value'\u001b[0m: \u001b[1;36m1.0\u001b[0m\u001b[1m}\u001b[0m\u001b[1m)\u001b[0m\u001b[1m]\u001b[0m\u001b[1m}\u001b[0m\u001b[1m)\u001b[0m, \u001b[32m'test_augmentations'\u001b[0m: \u001b[1;35mMunch\u001b[0m\u001b[1m(\u001b[0m\u001b[1m{\u001b[0m\u001b[32m'_target_'\u001b[0m: \u001b[32m'monai.transforms.Compose'\u001b[0m, \u001b[32m'transforms'\u001b[0m: \u001b[1m[\u001b[0m\u001b[1;35mMunch\u001b[0m\u001b[1m(\u001b[0m\u001b[1m{\u001b[0m\u001b[32m'_target_'\u001b[0m: \u001b[32m'vision_architectures.transforms.croppad.CropForegroundWithCropTrackingd'\u001b[0m, \u001b[32m'keys'\u001b[0m: \u001b[1m[\u001b[0m\u001b[32m'image'\u001b[0m\u001b[1m]\u001b[0m, \u001b[32m'source_key'\u001b[0m: \u001b[32m'image'\u001b[0m, \u001b[32m'allow_smaller'\u001b[0m: \u001b[3;92mTrue\u001b[0m\u001b[1m}\u001b[0m\u001b[1m)\u001b[0m, \u001b[1;35mMunch\u001b[0m\u001b[1m(\u001b[0m\u001b[1m{\u001b[0m\u001b[32m'_target_'\u001b[0m: \u001b[32m'monai.transforms.ScaleIntensityRanged'\u001b[0m, \u001b[32m'keys'\u001b[0m: \u001b[1m[\u001b[0m\u001b[32m'image'\u001b[0m\u001b[1m]\u001b[0m, \u001b[32m'a_min'\u001b[0m: \u001b[1;36m-1000\u001b[0m, \u001b[32m'a_max'\u001b[0m: \u001b[1;36m2000\u001b[0m, \u001b[32m'b_min'\u001b[0m: \u001b[1;36m-1.0\u001b[0m, \u001b[32m'b_max'\u001b[0m: \u001b[1;36m1.0\u001b[0m, \u001b[32m'clip'\u001b[0m: \u001b[3;92mTrue\u001b[0m\u001b[1m}\u001b[0m\u001b[1m)\u001b[0m, \u001b[1;35mMunch\u001b[0m\u001b[1m(\u001b[0m\u001b[1m{\u001b[0m\u001b[32m'_target_'\u001b[0m: \u001b[32m'monai.transforms.CenterSpatialCropd'\u001b[0m, \u001b[32m'keys'\u001b[0m: \u001b[1m[\u001b[0m\u001b[32m'image'\u001b[0m\u001b[1m]\u001b[0m, \u001b[32m'roi_size'\u001b[0m: \u001b[1m(\u001b[0m\u001b[1;36m128\u001b[0m, \u001b[1;36m128\u001b[0m, \u001b[1;36m128\u001b[0m\u001b[1m)\u001b[0m\u001b[1m}\u001b[0m\u001b[1m)\u001b[0m, \u001b[1;35mMunch\u001b[0m\u001b[1m(\u001b[0m\u001b[1m{\u001b[0m\u001b[32m'_target_'\u001b[0m: \u001b[32m'vision_architectures.transforms.spatial.ResizedWithCropTrackingd'\u001b[0m, \u001b[32m'keys'\u001b[0m: \u001b[1m[\u001b[0m\u001b[32m'image'\u001b[0m\u001b[1m]\u001b[0m, \u001b[32m'original_shape_key'\u001b[0m: \u001b[32m'Shape'\u001b[0m, \u001b[32m'spatial_size'\u001b[0m: \u001b[1m(\u001b[0m\u001b[1;36m128\u001b[0m, \u001b[1;36m128\u001b[0m, \u001b[1;36m128\u001b[0m\u001b[1m)\u001b[0m, \u001b[32m'mode'\u001b[0m: \u001b[32m'trilinear'\u001b[0m, \u001b[32m'anti_aliasing'\u001b[0m: \u001b[3;92mTrue\u001b[0m\u001b[1m}\u001b[0m\u001b[1m)\u001b[0m, \u001b[1;35mMunch\u001b[0m\u001b[1m(\u001b[0m\u001b[1m{\u001b[0m\u001b[32m'_target_'\u001b[0m: \u001b[32m'vision_architectures.transforms.clipping.Clipd'\u001b[0m, \u001b[32m'keys'\u001b[0m: \u001b[1m[\u001b[0m\u001b[32m'image'\u001b[0m\u001b[1m]\u001b[0m, \u001b[32m'min_value'\u001b[0m: \u001b[1;36m-1.0\u001b[0m, \u001b[32m'max_value'\u001b[0m: \u001b[1;36m1.0\u001b[0m\u001b[1m}\u001b[0m\u001b[1m)\u001b[0m\u001b[1m]\u001b[0m\u001b[1m}\u001b[0m\u001b[1m)\u001b[0m, \u001b[32m'num_workers'\u001b[0m: \u001b[1;36m12\u001b[0m, \u001b[32m'train_batch_size'\u001b[0m: \u001b[1;36m3\u001b[0m, \u001b[32m'val_batch_size'\u001b[0m: \u001b[1;36m1\u001b[0m, \u001b[32m'test_batch_size'\u001b[0m: \u001b[1;36m15\u001b[0m, \u001b[32m'train_sample_size'\u001b[0m: \u001b[1;36m10800\u001b[0m, \u001b[32m'sample_balance_cols'\u001b[0m: \u001b[1m[\u001b[0m\u001b[32m'Source'\u001b[0m, \u001b[32m'BodyPart'\u001b[0m\u001b[1m]\u001b[0m\u001b[1m}\u001b[0m\u001b[1m)\u001b[0m, \u001b[32m'model'\u001b[0m: \u001b[1;35mMunch\u001b[0m\u001b[1m(\u001b[0m\u001b[1m{\u001b[0m\u001b[32m'in_channels'\u001b[0m: \u001b[1;36m1\u001b[0m, \u001b[32m'num_channels'\u001b[0m: \u001b[1m[\u001b[0m\u001b[1;36m8\u001b[0m, \u001b[1;36m16\u001b[0m, \u001b[1;36m32\u001b[0m, \u001b[1;36m64\u001b[0m, \u001b[1;36m128\u001b[0m\u001b[1m]\u001b[0m, \u001b[32m'depths'\u001b[0m: \u001b[1m[\u001b[0m\u001b[1;36m4\u001b[0m, \u001b[1;36m4\u001b[0m, \u001b[1;36m4\u001b[0m, \u001b[1;36m4\u001b[0m, \u001b[1;36m4\u001b[0m\u001b[1m]\u001b[0m, \u001b[32m'latent_dims'\u001b[0m: \u001b[1m[\u001b[0m\u001b[3;35mNone\u001b[0m, \u001b[3;35mNone\u001b[0m, \u001b[1;36m4\u001b[0m, \u001b[3;35mNone\u001b[0m, \u001b[1;36m16\u001b[0m\u001b[1m]\u001b[0m, \u001b[32m'kernel_size'\u001b[0m: \u001b[1;36m3\u001b[0m, \u001b[32m'normalization'\u001b[0m: \u001b[32m'groupnorm'\u001b[0m, \u001b[32m'normalization_pre_args'\u001b[0m: \u001b[1m[\u001b[0m\u001b[1;36m4\u001b[0m\u001b[1m]\u001b[0m, \u001b[32m'activation'\u001b[0m: \u001b[32m'silu'\u001b[0m, \u001b[32m'survival_prob'\u001b[0m: \u001b[1;36m1.0\u001b[0m, \u001b[32m'latent'\u001b[0m: \u001b[1;35mMunch\u001b[0m\u001b[1m(\u001b[0m\u001b[1m{\u001b[0m\u001b[32m'kernel_size'\u001b[0m: \u001b[1;36m3\u001b[0m, \u001b[32m'normalization'\u001b[0m: \u001b[32m'groupnorm'\u001b[0m, \u001b[32m'normalization_pre_args_list'\u001b[0m: \u001b[1m[\u001b[0m\u001b[3;35mNone\u001b[0m, \u001b[3;35mNone\u001b[0m, \u001b[1;36m2\u001b[0m, \u001b[3;35mNone\u001b[0m, \u001b[1;36m4\u001b[0m\u001b[1m]\u001b[0m, \u001b[32m'activation'\u001b[0m: \u001b[32m'silu'\u001b[0m\u001b[1m}\u001b[0m\u001b[1m)\u001b[0m\u001b[1m}\u001b[0m\u001b[1m)\u001b[0m, \u001b[32m'training'\u001b[0m: \u001b[1;35mMunch\u001b[0m\u001b[1m(\u001b[0m\u001b[1m{\u001b[0m\u001b[32m'start_from_checkpoint'\u001b[0m: \u001b[32m'/raid3/arjun/checkpoints/adaptive_autoencoder/v65__2025_04_13/version_0/checkpoints/last.ckpt'\u001b[0m, \u001b[32m'max_epochs'\u001b[0m: \u001b[1;36m500\u001b[0m, \u001b[32m'lr'\u001b[0m: \u001b[1;36m0.0001\u001b[0m, \u001b[32m'seed'\u001b[0m: \u001b[1;36m42\u001b[0m, \u001b[32m'check_val_every_n_epoch'\u001b[0m: \u001b[1;36m1\u001b[0m, \u001b[32m'loss_weights'\u001b[0m: \u001b[1;35mMunch\u001b[0m\u001b[1m(\u001b[0m\u001b[1m{\u001b[0m\u001b[32m'reconstruction_loss'\u001b[0m: \u001b[1;36m0.9\u001b[0m, \u001b[32m'perceptual_loss'\u001b[0m: \u001b[1;36m0.3\u001b[0m, \u001b[32m'ms_ssim_loss'\u001b[0m: \u001b[1;36m0.1\u001b[0m, \u001b[32m'gen_fool_disc_loss'\u001b[0m: \u001b[1;36m0.6\u001b[0m, \u001b[32m'kl_loss_scale_2'\u001b[0m: \u001b[1;36m1e-06\u001b[0m, \u001b[32m'kl_loss_scale_4'\u001b[0m: \u001b[1;36m1e-06\u001b[0m, \u001b[32m'disc_catch_gen_loss'\u001b[0m: \u001b[1;36m0.5\u001b[0m, \u001b[32m'disc_identify_real_loss'\u001b[0m: \u001b[1;36m0.5\u001b[0m\u001b[1m}\u001b[0m\u001b[1m)\u001b[0m, \u001b[32m'kl_annealing'\u001b[0m: \u001b[1;35mMunch\u001b[0m\u001b[1m(\u001b[0m\u001b[1m{\u001b[0m\u001b[32m'scale_2'\u001b[0m: \u001b[1;35mMunch\u001b[0m\u001b[1m(\u001b[0m\u001b[1m{\u001b[0m\u001b[32m'start_epoch'\u001b[0m: \u001b[1;36m0\u001b[0m, \u001b[32m'wavelength'\u001b[0m: \u001b[1;36m30\u001b[0m\u001b[1m}\u001b[0m\u001b[1m)\u001b[0m, \u001b[32m'scale_4'\u001b[0m: \u001b[1;35mMunch\u001b[0m\u001b[1m(\u001b[0m\u001b[1m{\u001b[0m\u001b[32m'start_epoch'\u001b[0m: \u001b[1;36m0\u001b[0m, \u001b[32m'wavelength'\u001b[0m: \u001b[1;36m20\u001b[0m\u001b[1m}\u001b[0m\u001b[1m)\u001b[0m\u001b[1m}\u001b[0m\u001b[1m)\u001b[0m, \u001b[32m'free_nats_per_dim'\u001b[0m: \u001b[1;35mMunch\u001b[0m\u001b[1m(\u001b[0m\u001b[1m{\u001b[0m\u001b[32m'scale_2'\u001b[0m: \u001b[1;36m0.05\u001b[0m, \u001b[32m'scale_4'\u001b[0m: \u001b[1;36m0.05\u001b[0m\u001b[1m}\u001b[0m\u001b[1m)\u001b[0m, \u001b[32m'aur_threshold_per_dim'\u001b[0m: \u001b[1;36m0.05\u001b[0m, \u001b[32m'discriminator_annealing_epochs'\u001b[0m: \u001b[1;36m30\u001b[0m, \u001b[32m'checkpointing_level'\u001b[0m: \u001b[1;36m0\u001b[0m, \u001b[32m'freeze_scales'\u001b[0m: \u001b[1m[\u001b[0m\u001b[1;36m0\u001b[0m, \u001b[1;36m1\u001b[0m, \u001b[1;36m2\u001b[0m\u001b[1m]\u001b[0m, \u001b[32m'fast_dev_run'\u001b[0m: \u001b[1;36m20\u001b[0m, \u001b[32m'strategy'\u001b[0m: \u001b[32m'ddp_find_unused_parameters_true'\u001b[0m, \u001b[32m'accumulate_grad_batches'\u001b[0m: \u001b[1;36m5\u001b[0m, \u001b[32m'log_every_n_steps'\u001b[0m: \u001b[1;36m1\u001b[0m, \u001b[32m'gradient_clip_val'\u001b[0m: \u001b[1;36m5.0\u001b[0m\u001b[1m}\u001b[0m\u001b[1m)\u001b[0m, \u001b[32m'distributed'\u001b[0m: \u001b[1;35mMunch\u001b[0m\u001b[1m(\u001b[0m\u001b[1m{\u001b[0m\u001b[32m'distributed'\u001b[0m: \u001b[3;91mFalse\u001b[0m, \u001b[32m'nodes'\u001b[0m: \u001b[1m[\u001b[0m\u001b[1m(\u001b[0m\u001b[32m'qrnd10.internal.qure.ai'\u001b[0m, \u001b[1m[\u001b[0m\u001b[32m'10.67.21.10'\u001b[0m, \u001b[1;36m4\u001b[0m\u001b[1m]\u001b[0m\u001b[1m)\u001b[0m, \u001b[1m(\u001b[0m\u001b[32m'qrnd21.l40.sr.internal.qure.ai'\u001b[0m, \u001b[1m[\u001b[0m\u001b[32m'10.67.21.21'\u001b[0m, \u001b[1;36m4\u001b[0m\u001b[1m]\u001b[0m\u001b[1m)\u001b[0m, \u001b[1m(\u001b[0m\u001b[32m'qrnd8.internal.qure.ai'\u001b[0m, \u001b[1m[\u001b[0m\u001b[32m'10.67.21.8'\u001b[0m, \u001b[1;36m4\u001b[0m\u001b[1m]\u001b[0m\u001b[1m)\u001b[0m\u001b[1m]\u001b[0m\u001b[1m}\u001b[0m\u001b[1m)\u001b[0m, \u001b[32m'additional'\u001b[0m: \u001b[1;35mMunch\u001b[0m\u001b[1m(\u001b[0m\u001b[1m{\u001b[0m\u001b[32m'task_name'\u001b[0m: \u001b[32m'v68__2025_04_19__4xv65'\u001b[0m, \u001b[32m'log_on_clearml'\u001b[0m: \u001b[3;92mTrue\u001b[0m, \u001b[32m'clearml_project'\u001b[0m: \u001b[32m'adaptive_autoencoder'\u001b[0m, \u001b[32m'clearml_tags'\u001b[0m: \u001b[1m[\u001b[0m\u001b[32m'Training image size: \u001b[0m\u001b[32m(\u001b[0m\u001b[32m128, 128, 128\u001b[0m\u001b[32m)\u001b[0m\u001b[32m'\u001b[0m, \u001b[32m'Dimensions: \u001b[0m\u001b[32m[\u001b[0m\u001b[32m8, 16, 32, 64, 128\u001b[0m\u001b[32m]\u001b[0m\u001b[32m'\u001b[0m, \u001b[32m'Latent dimensions: \u001b[0m\u001b[32m[\u001b[0m\u001b[32mNone, None, 4, None, 16\u001b[0m\u001b[32m]\u001b[0m\u001b[32m'\u001b[0m, \u001b[32m'Train batch size: 3'\u001b[0m, \u001b[32m'Compression: 16'\u001b[0m, \u001b[32m'Checkpointing level: 0'\u001b[0m, \u001b[32m'Frozen scales: \u001b[0m\u001b[32m[\u001b[0m\u001b[32m0, 1, 2\u001b[0m\u001b[32m]\u001b[0m\u001b[32m'\u001b[0m, \u001b[32m'NVAE'\u001b[0m, \u001b[32m'Training 16x compression per dim'\u001b[0m, \u001b[32m'ms_ssim kernel = 7'\u001b[0m, \u001b[32m'Retraining second scale with discriminator'\u001b[0m\u001b[1m]\u001b[0m\u001b[1m}\u001b[0m\u001b[1m)\u001b[0m, \u001b[32m'image_size'\u001b[0m: \u001b[1m(\u001b[0m\u001b[1;36m128\u001b[0m, \u001b[1;36m128\u001b[0m, \u001b[1;36m128\u001b[0m\u001b[1m)\u001b[0m\u001b[1m}\u001b[0m\u001b[1m)\u001b[0m"
      ]
     },
     "execution_count": 6,
     "metadata": {},
     "output_type": "execute_result"
    }
   ],
   "source": [
    "cfg = get_config()\n",
    "cfg"
   ]
  },
  {
   "cell_type": "markdown",
   "metadata": {},
   "source": [
    "# Train dataset and dataloader"
   ]
  },
  {
   "cell_type": "code",
   "execution_count": 7,
   "metadata": {},
   "outputs": [
    {
     "data": {
      "application/vnd.jupyter.widget-view+json": {
       "model_id": "3f790a22345040769e3d9e65b595a494",
       "version_major": 2,
       "version_minor": 0
      },
      "text/plain": [
       "train:   0%|          | 0/48996 [00:00<?, ?it/s]"
      ]
     },
     "metadata": {},
     "output_type": "display_data"
    },
    {
     "name": "stdout",
     "output_type": "stream",
     "text": [
      "No. of train datapoints: 47599\n"
     ]
    }
   ],
   "source": [
    "dataset = CTRATEDataset(cfg.data, \"train\")"
   ]
  },
  {
   "cell_type": "code",
   "execution_count": 8,
   "metadata": {},
   "outputs": [
    {
     "name": "stdout",
     "output_type": "stream",
     "text": [
      "torch.Size([1, 128, 128, 128]) metatensor(-1.) metatensor(0.5113)\n",
      "torch.Size([1, 128, 128, 128]) metatensor(-1.) metatensor(0.6876)\n",
      "torch.Size([1, 128, 128, 128]) metatensor(-1.) metatensor(1.)\n",
      "torch.Size([1, 128, 128, 128]) metatensor(-1.) metatensor(1.)\n"
     ]
    },
    {
     "data": {
      "application/vnd.jupyter.widget-view+json": {
       "model_id": "a04b9e563662487da8026b32077210fa",
       "version_major": 2,
       "version_minor": 0
      },
      "text/plain": [
       "interactive(children=(IntSlider(value=0, description='z', max=127), Output()), _dom_classes=('widget-interact'…"
      ]
     },
     "metadata": {},
     "output_type": "display_data"
    }
   ],
   "source": [
    "plots = []\n",
    "for _ in range(4):\n",
    "    image = dataset[1][0][\"image\"]\n",
    "    print(image.shape, image.min(), image.max())\n",
    "    plots.append(image[0])\n",
    "\n",
    "plot_scans(plots)"
   ]
  },
  {
   "cell_type": "code",
   "execution_count": 9,
   "metadata": {},
   "outputs": [
    {
     "data": {
      "text/html": [
       "<pre style=\"white-space:pre;overflow-x:auto;line-height:normal;font-family:Menlo,'DejaVu Sans Mono',consolas,'Courier New',monospace\"></pre>\n"
      ],
      "text/plain": []
     },
     "metadata": {},
     "output_type": "display_data"
    },
    {
     "data": {
      "text/plain": [
       "\n",
       "\u001b[1m{\u001b[0m\n",
       "    \u001b[32m'SeriesUID'\u001b[0m: \u001b[32m'train_9077_a_2'\u001b[0m,\n",
       "    \u001b[32m'StudyUID'\u001b[0m: \u001b[32m'train_9077'\u001b[0m,\n",
       "    \u001b[32m'Modality'\u001b[0m: \u001b[32m'ct'\u001b[0m,\n",
       "    \u001b[32m'BodyPart'\u001b[0m: \u001b[32m'chest'\u001b[0m,\n",
       "    \u001b[32m'Source'\u001b[0m: \u001b[32m'ct_rate'\u001b[0m,\n",
       "    \u001b[32m'Spacing'\u001b[0m: \u001b[1m(\u001b[0m\u001b[1;36m0.75\u001b[0m, \u001b[1;36m0.7188\u001b[0m, \u001b[1;36m0.7188\u001b[0m\u001b[1m)\u001b[0m,\n",
       "    \u001b[32m'Shape'\u001b[0m: \u001b[1;35mtensor\u001b[0m\u001b[1m(\u001b[0m\u001b[1m[\u001b[0m\u001b[1;36m391\u001b[0m, \u001b[1;36m461\u001b[0m, \u001b[1;36m520\u001b[0m\u001b[1m]\u001b[0m, \u001b[33mdtype\u001b[0m=\u001b[35mtorch\u001b[0m.int32\u001b[1m)\u001b[0m,\n",
       "    \u001b[32m'FilePath'\u001b[0m: \u001b[32m'ct_rate/batch_0/train_9077_a_2.safetensors'\u001b[0m,\n",
       "    \u001b[32m'SliceThickness'\u001b[0m: \u001b[1;36m0.75\u001b[0m,\n",
       "    \u001b[32m'image'\u001b[0m: \u001b[1;35mmetatensor\u001b[0m\u001b[1m(\u001b[0m\u001b[1m[\u001b[0m\u001b[1m[\u001b[0m\u001b[1m[\u001b[0m\u001b[1m[\u001b[0m\u001b[1;36m-0.1113\u001b[0m, \u001b[1;36m-0.1514\u001b[0m, \u001b[1;36m-0.1651\u001b[0m,  \u001b[33m...\u001b[0m, \u001b[1;36m-0.5535\u001b[0m, \u001b[1;36m-0.5178\u001b[0m, \u001b[1;36m-0.3834\u001b[0m\u001b[1m]\u001b[0m,\n",
       "          \u001b[1m[\u001b[0m\u001b[1;36m-0.1317\u001b[0m, \u001b[1;36m-0.1820\u001b[0m, \u001b[1;36m-0.2038\u001b[0m,  \u001b[33m...\u001b[0m, \u001b[1;36m-0.6584\u001b[0m, \u001b[1;36m-0.6173\u001b[0m, \u001b[1;36m-0.4570\u001b[0m\u001b[1m]\u001b[0m,\n",
       "          \u001b[1m[\u001b[0m\u001b[1;36m-0.1323\u001b[0m, \u001b[1;36m-0.1808\u001b[0m, \u001b[1;36m-0.2023\u001b[0m,  \u001b[33m...\u001b[0m, \u001b[1;36m-0.6595\u001b[0m, \u001b[1;36m-0.6204\u001b[0m, \u001b[1;36m-0.4606\u001b[0m\u001b[1m]\u001b[0m,\n",
       "          \u001b[33m...\u001b[0m,\n",
       "          \u001b[1m[\u001b[0m\u001b[1;36m-0.4474\u001b[0m, \u001b[1;36m-0.6014\u001b[0m, \u001b[1;36m-0.6384\u001b[0m,  \u001b[33m...\u001b[0m, \u001b[1;36m-0.6394\u001b[0m, \u001b[1;36m-0.5755\u001b[0m, \u001b[1;36m-0.4056\u001b[0m\u001b[1m]\u001b[0m,\n",
       "          \u001b[1m[\u001b[0m\u001b[1;36m-0.4462\u001b[0m, \u001b[1;36m-0.6002\u001b[0m, \u001b[1;36m-0.6373\u001b[0m,  \u001b[33m...\u001b[0m, \u001b[1;36m-0.6344\u001b[0m, \u001b[1;36m-0.5576\u001b[0m, \u001b[1;36m-0.3825\u001b[0m\u001b[1m]\u001b[0m,\n",
       "          \u001b[1m[\u001b[0m\u001b[1;36m-0.3749\u001b[0m, \u001b[1;36m-0.5041\u001b[0m, \u001b[1;36m-0.5357\u001b[0m,  \u001b[33m...\u001b[0m, \u001b[1;36m-0.5385\u001b[0m, \u001b[1;36m-0.4722\u001b[0m, \u001b[1;36m-0.3227\u001b[0m\u001b[1m]\u001b[0m\u001b[1m]\u001b[0m,\n",
       "\n",
       "         \u001b[1m[\u001b[0m\u001b[1m[\u001b[0m\u001b[1;36m-0.1504\u001b[0m, \u001b[1;36m-0.2052\u001b[0m, \u001b[1;36m-0.2223\u001b[0m,  \u001b[33m...\u001b[0m, \u001b[1;36m-0.7451\u001b[0m, \u001b[1;36m-0.6984\u001b[0m, \u001b[1;36m-0.5182\u001b[0m\u001b[1m]\u001b[0m,\n",
       "          \u001b[1m[\u001b[0m\u001b[1;36m-0.1770\u001b[0m, \u001b[1;36m-0.2455\u001b[0m, \u001b[1;36m-0.2751\u001b[0m,  \u001b[33m...\u001b[0m, \u001b[1;36m-0.8867\u001b[0m, \u001b[1;36m-0.8323\u001b[0m, \u001b[1;36m-0.6169\u001b[0m\u001b[1m]\u001b[0m,\n",
       "          \u001b[1m[\u001b[0m\u001b[1;36m-0.1794\u001b[0m, \u001b[1;36m-0.2456\u001b[0m, \u001b[1;36m-0.2751\u001b[0m,  \u001b[33m...\u001b[0m, \u001b[1;36m-0.8880\u001b[0m, \u001b[1;36m-0.8362\u001b[0m, \u001b[1;36m-0.6213\u001b[0m\u001b[1m]\u001b[0m,\n",
       "          \u001b[33m...\u001b[0m,\n",
       "          \u001b[1m[\u001b[0m\u001b[1;36m-0.6045\u001b[0m, \u001b[1;36m-0.8137\u001b[0m, \u001b[1;36m-0.8652\u001b[0m,  \u001b[33m...\u001b[0m, \u001b[1;36m-0.8652\u001b[0m, \u001b[1;36m-0.7786\u001b[0m, \u001b[1;36m-0.5487\u001b[0m\u001b[1m]\u001b[0m,\n",
       "          \u001b[1m[\u001b[0m\u001b[1;36m-0.6031\u001b[0m, \u001b[1;36m-0.8118\u001b[0m, \u001b[1;36m-0.8628\u001b[0m,  \u001b[33m...\u001b[0m, \u001b[1;36m-0.8583\u001b[0m, \u001b[1;36m-0.7538\u001b[0m, \u001b[1;36m-0.5164\u001b[0m\u001b[1m]\u001b[0m,\n",
       "          \u001b[1m[\u001b[0m\u001b[1;36m-0.5065\u001b[0m, \u001b[1;36m-0.6813\u001b[0m, \u001b[1;36m-0.7242\u001b[0m,  \u001b[33m...\u001b[0m, \u001b[1;36m-0.7287\u001b[0m, \u001b[1;36m-0.6387\u001b[0m, \u001b[1;36m-0.4360\u001b[0m\u001b[1m]\u001b[0m\u001b[1m]\u001b[0m,\n",
       "\n",
       "         \u001b[1m[\u001b[0m\u001b[1m[\u001b[0m\u001b[1;36m-0.1600\u001b[0m, \u001b[1;36m-0.2171\u001b[0m, \u001b[1;36m-0.2300\u001b[0m,  \u001b[33m...\u001b[0m, \u001b[1;36m-0.8044\u001b[0m, \u001b[1;36m-0.7567\u001b[0m, \u001b[1;36m-0.5628\u001b[0m\u001b[1m]\u001b[0m,\n",
       "          \u001b[1m[\u001b[0m\u001b[1;36m-0.1886\u001b[0m, \u001b[1;36m-0.2613\u001b[0m, \u001b[1;36m-0.2908\u001b[0m,  \u001b[33m...\u001b[0m, \u001b[1;36m-0.9574\u001b[0m, \u001b[1;36m-0.9004\u001b[0m, \u001b[1;36m-0.6684\u001b[0m\u001b[1m]\u001b[0m,\n",
       "          \u001b[1m[\u001b[0m\u001b[1;36m-0.1932\u001b[0m, \u001b[1;36m-0.2649\u001b[0m, \u001b[1;36m-0.2967\u001b[0m,  \u001b[33m...\u001b[0m, \u001b[1;36m-0.9579\u001b[0m, \u001b[1;36m-0.9030\u001b[0m, \u001b[1;36m-0.6713\u001b[0m\u001b[1m]\u001b[0m,\n",
       "          \u001b[33m...\u001b[0m,\n",
       "          \u001b[1m[\u001b[0m\u001b[1;36m-0.6548\u001b[0m, \u001b[1;36m-0.8831\u001b[0m, \u001b[1;36m-0.9413\u001b[0m,  \u001b[33m...\u001b[0m, \u001b[1;36m-0.9396\u001b[0m, \u001b[1;36m-0.8461\u001b[0m, \u001b[1;36m-0.5965\u001b[0m\u001b[1m]\u001b[0m,\n",
       "          \u001b[1m[\u001b[0m\u001b[1;36m-0.6539\u001b[0m, \u001b[1;36m-0.8809\u001b[0m, \u001b[1;36m-0.9377\u001b[0m,  \u001b[33m...\u001b[0m, \u001b[1;36m-0.9319\u001b[0m, \u001b[1;36m-0.8184\u001b[0m, \u001b[1;36m-0.5603\u001b[0m\u001b[1m]\u001b[0m,\n",
       "          \u001b[1m[\u001b[0m\u001b[1;36m-0.5492\u001b[0m, \u001b[1;36m-0.7389\u001b[0m, \u001b[1;36m-0.7856\u001b[0m,  \u001b[33m...\u001b[0m, \u001b[1;36m-0.7914\u001b[0m, \u001b[1;36m-0.6937\u001b[0m, \u001b[1;36m-0.4733\u001b[0m\u001b[1m]\u001b[0m\u001b[1m]\u001b[0m,\n",
       "\n",
       "         \u001b[33m...\u001b[0m,\n",
       "\n",
       "         \u001b[1m[\u001b[0m\u001b[1m[\u001b[0m\u001b[1;36m-0.4647\u001b[0m, \u001b[1;36m-0.6336\u001b[0m, \u001b[1;36m-0.6797\u001b[0m,  \u001b[33m...\u001b[0m, \u001b[1;36m-0.8200\u001b[0m, \u001b[1;36m-0.7684\u001b[0m, \u001b[1;36m-0.5684\u001b[0m\u001b[1m]\u001b[0m,\n",
       "          \u001b[1m[\u001b[0m\u001b[1;36m-0.5533\u001b[0m, \u001b[1;36m-0.7564\u001b[0m, \u001b[1;36m-0.8128\u001b[0m,  \u001b[33m...\u001b[0m, \u001b[1;36m-0.9748\u001b[0m, \u001b[1;36m-0.9137\u001b[0m, \u001b[1;36m-0.6762\u001b[0m\u001b[1m]\u001b[0m,\n",
       "          \u001b[1m[\u001b[0m\u001b[1;36m-0.5645\u001b[0m, \u001b[1;36m-0.7673\u001b[0m, \u001b[1;36m-0.8223\u001b[0m,  \u001b[33m...\u001b[0m, \u001b[1;36m-0.9759\u001b[0m, \u001b[1;36m-0.9150\u001b[0m, \u001b[1;36m-0.6772\u001b[0m\u001b[1m]\u001b[0m,\n",
       "          \u001b[33m...\u001b[0m,\n",
       "          \u001b[1m[\u001b[0m\u001b[1;36m-0.6540\u001b[0m, \u001b[1;36m-0.8829\u001b[0m, \u001b[1;36m-0.9421\u001b[0m,  \u001b[33m...\u001b[0m, \u001b[1;36m-0.9524\u001b[0m, \u001b[1;36m-0.8926\u001b[0m, \u001b[1;36m-0.6605\u001b[0m\u001b[1m]\u001b[0m,\n",
       "          \u001b[1m[\u001b[0m\u001b[1;36m-0.6539\u001b[0m, \u001b[1;36m-0.8834\u001b[0m, \u001b[1;36m-0.9426\u001b[0m,  \u001b[33m...\u001b[0m, \u001b[1;36m-0.9552\u001b[0m, \u001b[1;36m-0.8955\u001b[0m, \u001b[1;36m-0.6621\u001b[0m\u001b[1m]\u001b[0m,\n",
       "          \u001b[1m[\u001b[0m\u001b[1;36m-0.5496\u001b[0m, \u001b[1;36m-0.7429\u001b[0m, \u001b[1;36m-0.7931\u001b[0m,  \u001b[33m...\u001b[0m, \u001b[1;36m-0.8103\u001b[0m, \u001b[1;36m-0.7600\u001b[0m, \u001b[1;36m-0.5616\u001b[0m\u001b[1m]\u001b[0m\u001b[1m]\u001b[0m,\n",
       "\n",
       "         \u001b[1m[\u001b[0m\u001b[1m[\u001b[0m\u001b[1;36m-0.4306\u001b[0m, \u001b[1;36m-0.5867\u001b[0m, \u001b[1;36m-0.6277\u001b[0m,  \u001b[33m...\u001b[0m, \u001b[1;36m-0.7555\u001b[0m, \u001b[1;36m-0.7076\u001b[0m, \u001b[1;36m-0.5232\u001b[0m\u001b[1m]\u001b[0m,\n",
       "          \u001b[1m[\u001b[0m\u001b[1;36m-0.5149\u001b[0m, \u001b[1;36m-0.7013\u001b[0m, \u001b[1;36m-0.7493\u001b[0m,  \u001b[33m...\u001b[0m, \u001b[1;36m-0.8982\u001b[0m, \u001b[1;36m-0.8419\u001b[0m, \u001b[1;36m-0.6232\u001b[0m\u001b[1m]\u001b[0m,\n",
       "          \u001b[1m[\u001b[0m\u001b[1;36m-0.5239\u001b[0m, \u001b[1;36m-0.7098\u001b[0m, \u001b[1;36m-0.7574\u001b[0m,  \u001b[33m...\u001b[0m, \u001b[1;36m-0.8984\u001b[0m, \u001b[1;36m-0.8423\u001b[0m, \u001b[1;36m-0.6236\u001b[0m\u001b[1m]\u001b[0m,\n",
       "          \u001b[33m...\u001b[0m,\n",
       "          \u001b[1m[\u001b[0m\u001b[1;36m-0.6018\u001b[0m, \u001b[1;36m-0.8124\u001b[0m, \u001b[1;36m-0.8672\u001b[0m,  \u001b[33m...\u001b[0m, \u001b[1;36m-0.8776\u001b[0m, \u001b[1;36m-0.8228\u001b[0m, \u001b[1;36m-0.6093\u001b[0m\u001b[1m]\u001b[0m,\n",
       "          \u001b[1m[\u001b[0m\u001b[1;36m-0.6021\u001b[0m, \u001b[1;36m-0.8128\u001b[0m, \u001b[1;36m-0.8671\u001b[0m,  \u001b[33m...\u001b[0m, \u001b[1;36m-0.8806\u001b[0m, \u001b[1;36m-0.8256\u001b[0m, \u001b[1;36m-0.6106\u001b[0m\u001b[1m]\u001b[0m,\n",
       "          \u001b[1m[\u001b[0m\u001b[1;36m-0.5058\u001b[0m, \u001b[1;36m-0.6838\u001b[0m, \u001b[1;36m-0.7299\u001b[0m,  \u001b[33m...\u001b[0m, \u001b[1;36m-0.7469\u001b[0m, \u001b[1;36m-0.7003\u001b[0m, \u001b[1;36m-0.5174\u001b[0m\u001b[1m]\u001b[0m\u001b[1m]\u001b[0m,\n",
       "\n",
       "         \u001b[1m[\u001b[0m\u001b[1m[\u001b[0m\u001b[1;36m-0.3201\u001b[0m, \u001b[1;36m-0.4359\u001b[0m, \u001b[1;36m-0.4656\u001b[0m,  \u001b[33m...\u001b[0m, \u001b[1;36m-0.5584\u001b[0m, \u001b[1;36m-0.5227\u001b[0m, \u001b[1;36m-0.3863\u001b[0m\u001b[1m]\u001b[0m,\n",
       "          \u001b[1m[\u001b[0m\u001b[1;36m-0.3833\u001b[0m, \u001b[1;36m-0.5207\u001b[0m, \u001b[1;36m-0.5543\u001b[0m,  \u001b[33m...\u001b[0m, \u001b[1;36m-0.6643\u001b[0m, \u001b[1;36m-0.6227\u001b[0m, \u001b[1;36m-0.4610\u001b[0m\u001b[1m]\u001b[0m,\n",
       "          \u001b[1m[\u001b[0m\u001b[1;36m-0.3888\u001b[0m, \u001b[1;36m-0.5256\u001b[0m, \u001b[1;36m-0.5593\u001b[0m,  \u001b[33m...\u001b[0m, \u001b[1;36m-0.6643\u001b[0m, \u001b[1;36m-0.6228\u001b[0m, \u001b[1;36m-0.4613\u001b[0m\u001b[1m]\u001b[0m,\n",
       "          \u001b[33m...\u001b[0m,\n",
       "          \u001b[1m[\u001b[0m\u001b[1;36m-0.4441\u001b[0m, \u001b[1;36m-0.5996\u001b[0m, \u001b[1;36m-0.6408\u001b[0m,  \u001b[33m...\u001b[0m, \u001b[1;36m-0.6488\u001b[0m, \u001b[1;36m-0.6084\u001b[0m, \u001b[1;36m-0.4506\u001b[0m\u001b[1m]\u001b[0m,\n",
       "          \u001b[1m[\u001b[0m\u001b[1;36m-0.4445\u001b[0m, \u001b[1;36m-0.5998\u001b[0m, \u001b[1;36m-0.6399\u001b[0m,  \u001b[33m...\u001b[0m, \u001b[1;36m-0.6513\u001b[0m, \u001b[1;36m-0.6104\u001b[0m, \u001b[1;36m-0.4516\u001b[0m\u001b[1m]\u001b[0m,\n",
       "          \u001b[1m[\u001b[0m\u001b[1;36m-0.3734\u001b[0m, \u001b[1;36m-0.5047\u001b[0m, \u001b[1;36m-0.5387\u001b[0m,  \u001b[33m...\u001b[0m, \u001b[1;36m-0.5523\u001b[0m, \u001b[1;36m-0.5175\u001b[0m, \u001b[1;36m-0.3824\u001b[0m\u001b[1m]\u001b[0m\u001b[1m]\u001b[0m\u001b[1m]\u001b[0m\u001b[1m]\u001b[0m\u001b[1m)\u001b[0m,\n",
       "    \u001b[32m'foreground_start_coord'\u001b[0m: \u001b[1;35marray\u001b[0m\u001b[1m(\u001b[0m\u001b[1m[\u001b[0m \u001b[1;36m0\u001b[0m, \u001b[1;36m23\u001b[0m,  \u001b[1;36m0\u001b[0m\u001b[1m]\u001b[0m\u001b[1m)\u001b[0m,\n",
       "    \u001b[32m'foreground_end_coord'\u001b[0m: \u001b[1;35marray\u001b[0m\u001b[1m(\u001b[0m\u001b[1m[\u001b[0m\u001b[1;36m401\u001b[0m, \u001b[1;36m512\u001b[0m, \u001b[1;36m512\u001b[0m\u001b[1m]\u001b[0m\u001b[1m)\u001b[0m,\n",
       "    \u001b[32m'crop_offset'\u001b[0m: \u001b[1;35mtensor\u001b[0m\u001b[1m(\u001b[0m\u001b[1m[\u001b[0m \u001b[1;36m11\u001b[0m, \u001b[1;36m320\u001b[0m, \u001b[1;36m347\u001b[0m\u001b[1m]\u001b[0m, \u001b[33mdtype\u001b[0m=\u001b[35mtorch\u001b[0m.int32\u001b[1m)\u001b[0m\n",
       "\u001b[1m}\u001b[0m"
      ]
     },
     "execution_count": 9,
     "metadata": {},
     "output_type": "execute_result"
    }
   ],
   "source": [
    "dataset[1][0]"
   ]
  },
  {
   "cell_type": "code",
   "execution_count": 10,
   "metadata": {},
   "outputs": [
    {
     "data": {
      "application/vnd.jupyter.widget-view+json": {
       "model_id": "f079427d4b2a417fbb065a930de16382",
       "version_major": 2,
       "version_minor": 0
      },
      "text/plain": [
       "train:   0%|          | 0/48996 [00:00<?, ?it/s]"
      ]
     },
     "metadata": {},
     "output_type": "display_data"
    },
    {
     "name": "stdout",
     "output_type": "stream",
     "text": [
      "No. of train datapoints: 47599\n"
     ]
    },
    {
     "data": {
      "application/vnd.jupyter.widget-view+json": {
       "model_id": "5eca7812474d4ba1bdc5dcda1fef20f3",
       "version_major": 2,
       "version_minor": 0
      },
      "text/plain": [
       "Calculating sample weights:   0%|          | 0/47599 [00:00<?, ?it/s]"
      ]
     },
     "metadata": {},
     "output_type": "display_data"
    },
    {
     "name": "stdout",
     "output_type": "stream",
     "text": [
      "torch.Size([15, 1, 128, 128, 128])\n"
     ]
    }
   ],
   "source": [
    "dataloader = CTRATEDataModule(cfg.data).train_dataloader()\n",
    "for batch in dataloader:\n",
    "    print(batch[\"image\"].shape)\n",
    "    break"
   ]
  },
  {
   "cell_type": "markdown",
   "metadata": {},
   "source": [
    "# Val dataset and dataloader"
   ]
  },
  {
   "cell_type": "code",
   "execution_count": 8,
   "metadata": {},
   "outputs": [
    {
     "data": {
      "application/vnd.jupyter.widget-view+json": {
       "model_id": "8d83c3dc496a4f17b4abffa26f19e060",
       "version_major": 2,
       "version_minor": 0
      },
      "text/plain": [
       "valid:   0%|          | 0/500 [00:00<?, ?it/s]"
      ]
     },
     "metadata": {},
     "output_type": "display_data"
    },
    {
     "name": "stdout",
     "output_type": "stream",
     "text": [
      "No. of valid datapoints: 500\n"
     ]
    }
   ],
   "source": [
    "dataset = CTRATEDataset(cfg.data, \"valid\")"
   ]
  },
  {
   "cell_type": "code",
   "execution_count": 9,
   "metadata": {},
   "outputs": [
    {
     "name": "stdout",
     "output_type": "stream",
     "text": [
      "torch.Size([1, 64, 64, 64]) metatensor(-0.6253) metatensor(-0.2333)\n"
     ]
    },
    {
     "data": {
      "application/vnd.jupyter.widget-view+json": {
       "model_id": "7ad61b64d1fd4c979d2570b446a16114",
       "version_major": 2,
       "version_minor": 0
      },
      "text/plain": [
       "interactive(children=(IntSlider(value=0, description='z', max=63), Output()), _dom_classes=('widget-interact',…"
      ]
     },
     "metadata": {},
     "output_type": "display_data"
    },
    {
     "name": "stdout",
     "output_type": "stream",
     "text": [
      "torch.Size([1, 64, 64, 64]) metatensor(-1.) metatensor(0.5313)\n"
     ]
    },
    {
     "data": {
      "application/vnd.jupyter.widget-view+json": {
       "model_id": "5a1e3791d8b4493881772c350e7f31cf",
       "version_major": 2,
       "version_minor": 0
      },
      "text/plain": [
       "interactive(children=(IntSlider(value=0, description='z', max=63), Output()), _dom_classes=('widget-interact',…"
      ]
     },
     "metadata": {},
     "output_type": "display_data"
    },
    {
     "name": "stdout",
     "output_type": "stream",
     "text": [
      "torch.Size([1, 64, 64, 64]) metatensor(-1.) metatensor(0.2793)\n"
     ]
    },
    {
     "data": {
      "application/vnd.jupyter.widget-view+json": {
       "model_id": "a6fda229bd1543a1ab91b91d173fdbb4",
       "version_major": 2,
       "version_minor": 0
      },
      "text/plain": [
       "interactive(children=(IntSlider(value=0, description='z', max=63), Output()), _dom_classes=('widget-interact',…"
      ]
     },
     "metadata": {},
     "output_type": "display_data"
    }
   ],
   "source": [
    "for i in range(3):\n",
    "    image = dataset[5 * i][0][\"image\"]\n",
    "    print(image.shape, image.min(), image.max())\n",
    "    plot_scans(image[0])"
   ]
  },
  {
   "cell_type": "code",
   "execution_count": 10,
   "metadata": {},
   "outputs": [
    {
     "data": {
      "application/vnd.jupyter.widget-view+json": {
       "model_id": "b3e267f9e2294ab592d3176d43d8605a",
       "version_major": 2,
       "version_minor": 0
      },
      "text/plain": [
       "valid:   0%|          | 0/500 [00:00<?, ?it/s]"
      ]
     },
     "metadata": {},
     "output_type": "display_data"
    },
    {
     "name": "stdout",
     "output_type": "stream",
     "text": [
      "No. of valid datapoints: 500\n",
      "torch.Size([60, 1, 64, 64, 64])\n"
     ]
    }
   ],
   "source": [
    "dataloader = CTRATEDataModule(cfg.data).val_dataloader()\n",
    "for batch in dataloader:\n",
    "    print(batch[\"image\"].shape)\n",
    "    break"
   ]
  },
  {
   "cell_type": "code",
   "execution_count": null,
   "metadata": {},
   "outputs": [],
   "source": []
  },
  {
   "cell_type": "code",
   "execution_count": null,
   "metadata": {},
   "outputs": [],
   "source": []
  }
 ],
 "metadata": {
  "kernelspec": {
   "display_name": "env",
   "language": "python",
   "name": "python3"
  },
  "language_info": {
   "codemirror_mode": {
    "name": "ipython",
    "version": 3
   },
   "file_extension": ".py",
   "mimetype": "text/x-python",
   "name": "python",
   "nbconvert_exporter": "python",
   "pygments_lexer": "ipython3",
   "version": "3.11.11"
  }
 },
 "nbformat": 4,
 "nbformat_minor": 2
}

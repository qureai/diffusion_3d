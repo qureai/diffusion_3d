{
 "cells": [
  {
   "cell_type": "code",
   "execution_count": 1,
   "metadata": {},
   "outputs": [],
   "source": [
    "from diffusion_3d.chestct.autoencoder.nvae.cnn.config import get_config\n",
    "from diffusion_3d.datasets.ct_rate import CTRATEDataModule, CTRATEDataset\n",
    "from diffusion_3d.utils.visualize import plot_scans"
   ]
  },
  {
   "cell_type": "code",
   "execution_count": 5,
   "metadata": {},
   "outputs": [
    {
     "data": {
      "text/html": [
       "<pre style=\"white-space:pre;overflow-x:auto;line-height:normal;font-family:Menlo,'DejaVu Sans Mono',consolas,'Courier New',monospace\"></pre>\n"
      ],
      "text/plain": []
     },
     "metadata": {},
     "output_type": "display_data"
    },
    {
     "data": {
      "text/plain": [
       "\u001b[1;35mMunch\u001b[0m\u001b[1m(\u001b[0m\u001b[1m{\u001b[0m\u001b[32m'data'\u001b[0m: \u001b[1;35mMunch\u001b[0m\u001b[1m(\u001b[0m\u001b[1m{\u001b[0m\u001b[32m'csvpath'\u001b[0m: \u001b[32m'/raid3/arjun/ct_pretraining/csvs/sources.csv'\u001b[0m, \u001b[32m'datapath'\u001b[0m: \u001b[32m'/raid3/arjun/ct_pretraining/scans/'\u001b[0m, \u001b[32m'checkpointspath'\u001b[0m: \u001b[32m'/raid3/arjun/checkpoints/adaptive_autoencoder/'\u001b[0m, \u001b[32m'limited_dataset_size'\u001b[0m: \u001b[3;35mNone\u001b[0m, \u001b[32m'allowed_spacings'\u001b[0m: \u001b[1m(\u001b[0m\u001b[1m(\u001b[0m\u001b[1;36m0.4\u001b[0m, \u001b[1;36m7\u001b[0m\u001b[1m)\u001b[0m, \u001b[1m(\u001b[0m\u001b[1;36m-1\u001b[0m, \u001b[1;36m-1\u001b[0m\u001b[1m)\u001b[0m, \u001b[1m(\u001b[0m\u001b[1;36m-1\u001b[0m, \u001b[1;36m-1\u001b[0m\u001b[1m)\u001b[0m\u001b[1m)\u001b[0m, \u001b[32m'allowed_shapes'\u001b[0m: \u001b[1m(\u001b[0m\u001b[1m(\u001b[0m\u001b[1;36m8\u001b[0m, \u001b[1;36m-1\u001b[0m\u001b[1m)\u001b[0m, \u001b[1m(\u001b[0m\u001b[1;36m256\u001b[0m, \u001b[1;36m-1\u001b[0m\u001b[1m)\u001b[0m, \u001b[1m(\u001b[0m\u001b[1;36m256\u001b[0m, \u001b[1;36m-1\u001b[0m\u001b[1m)\u001b[0m\u001b[1m)\u001b[0m, \u001b[32m'train_augmentations'\u001b[0m: \u001b[1;35mMunch\u001b[0m\u001b[1m(\u001b[0m\u001b[1m{\u001b[0m\u001b[32m'_target_'\u001b[0m: \u001b[32m'monai.transforms.Compose'\u001b[0m, \u001b[32m'transforms'\u001b[0m: \u001b[1m[\u001b[0m\u001b[1;35mMunch\u001b[0m\u001b[1m(\u001b[0m\u001b[1m{\u001b[0m\u001b[32m'_target_'\u001b[0m: \u001b[32m'vision_architectures.transforms.croppad.CropForegroundWithCropTrackingd'\u001b[0m, \u001b[32m'keys'\u001b[0m: \u001b[1m[\u001b[0m\u001b[32m'image'\u001b[0m\u001b[1m]\u001b[0m, \u001b[32m'source_key'\u001b[0m: \u001b[32m'image'\u001b[0m, \u001b[32m'allow_smaller'\u001b[0m: \u001b[3;92mTrue\u001b[0m\u001b[1m}\u001b[0m\u001b[1m)\u001b[0m, \u001b[1;35mMunch\u001b[0m\u001b[1m(\u001b[0m\u001b[1m{\u001b[0m\u001b[32m'_target_'\u001b[0m: \u001b[32m'monai.transforms.ScaleIntensityRanged'\u001b[0m, \u001b[32m'keys'\u001b[0m: \u001b[1m[\u001b[0m\u001b[32m'image'\u001b[0m\u001b[1m]\u001b[0m, \u001b[32m'a_min'\u001b[0m: \u001b[1;36m-1500\u001b[0m, \u001b[32m'a_max'\u001b[0m: \u001b[1;36m1500\u001b[0m, \u001b[32m'b_min'\u001b[0m: \u001b[1;36m-1.0\u001b[0m, \u001b[32m'b_max'\u001b[0m: \u001b[1;36m1.0\u001b[0m, \u001b[32m'clip'\u001b[0m: \u001b[3;92mTrue\u001b[0m\u001b[1m}\u001b[0m\u001b[1m)\u001b[0m, \u001b[1;35mMunch\u001b[0m\u001b[1m(\u001b[0m\u001b[1m{\u001b[0m\u001b[32m'_target_'\u001b[0m: \u001b[32m'vision_architectures.transforms.croppad.RandSpatialCropSamplesWithCropTrackingd'\u001b[0m, \u001b[32m'keys'\u001b[0m: \u001b[1m[\u001b[0m\u001b[32m'image'\u001b[0m\u001b[1m]\u001b[0m, \u001b[32m'roi_size'\u001b[0m: \u001b[1m(\u001b[0m\u001b[1;36m6\u001b[0m, \u001b[1;36m409\u001b[0m, \u001b[1;36m409\u001b[0m\u001b[1m)\u001b[0m, \u001b[32m'max_roi_size'\u001b[0m: \u001b[1m(\u001b[0m\u001b[1;36m9\u001b[0m, \u001b[1;36m614\u001b[0m, \u001b[1;36m614\u001b[0m\u001b[1m)\u001b[0m, \u001b[32m'random_size'\u001b[0m: \u001b[3;92mTrue\u001b[0m, \u001b[32m'num_samples'\u001b[0m: \u001b[1;36m100\u001b[0m\u001b[1m}\u001b[0m\u001b[1m)\u001b[0m, \u001b[1;35mMunch\u001b[0m\u001b[1m(\u001b[0m\u001b[1m{\u001b[0m\u001b[32m'_target_'\u001b[0m: \u001b[32m'vision_architectures.transforms.spatial.ResizedWithCropTrackingd'\u001b[0m, \u001b[32m'keys'\u001b[0m: \u001b[1m[\u001b[0m\u001b[32m'image'\u001b[0m\u001b[1m]\u001b[0m, \u001b[32m'original_shape_key'\u001b[0m: \u001b[32m'Shape'\u001b[0m, \u001b[32m'spatial_size'\u001b[0m: \u001b[1m(\u001b[0m\u001b[1;36m8\u001b[0m, \u001b[1;36m512\u001b[0m, \u001b[1;36m512\u001b[0m\u001b[1m)\u001b[0m, \u001b[32m'mode'\u001b[0m: \u001b[32m'trilinear'\u001b[0m, \u001b[32m'anti_aliasing'\u001b[0m: \u001b[3;92mTrue\u001b[0m\u001b[1m}\u001b[0m\u001b[1m)\u001b[0m, \u001b[1;35mMunch\u001b[0m\u001b[1m(\u001b[0m\u001b[1m{\u001b[0m\u001b[32m'_target_'\u001b[0m: \u001b[32m'vision_architectures.transforms.clipping.Clipd'\u001b[0m, \u001b[32m'keys'\u001b[0m: \u001b[1m[\u001b[0m\u001b[32m'image'\u001b[0m\u001b[1m]\u001b[0m, \u001b[32m'min_value'\u001b[0m: \u001b[1;36m-1.0\u001b[0m, \u001b[32m'max_value'\u001b[0m: \u001b[1;36m1.0\u001b[0m\u001b[1m}\u001b[0m\u001b[1m)\u001b[0m, \u001b[1;35mMunch\u001b[0m\u001b[1m(\u001b[0m\u001b[1m{\u001b[0m\u001b[32m'_target_'\u001b[0m: \u001b[32m'monai.transforms.RandomOrder'\u001b[0m, \u001b[32m'transforms'\u001b[0m: \u001b[1m[\u001b[0m\u001b[1;35mMunch\u001b[0m\u001b[1m(\u001b[0m\u001b[1m{\u001b[0m\u001b[32m'_target_'\u001b[0m: \u001b[32m'vision_architectures.transforms.spatial.RandFlipWithCropTrackingd'\u001b[0m, \u001b[32m'keys'\u001b[0m: \u001b[1m[\u001b[0m\u001b[32m'image'\u001b[0m\u001b[1m]\u001b[0m, \u001b[32m'original_shape_key'\u001b[0m: \u001b[32m'Shape'\u001b[0m, \u001b[32m'prob'\u001b[0m: \u001b[1;36m0.5\u001b[0m\u001b[1m}\u001b[0m\u001b[1m)\u001b[0m, \u001b[1;35mMunch\u001b[0m\u001b[1m(\u001b[0m\u001b[1m{\u001b[0m\u001b[32m'_target_'\u001b[0m: \u001b[32m'monai.transforms.Compose'\u001b[0m, \u001b[32m'transforms'\u001b[0m: \u001b[1m[\u001b[0m\u001b[1;35mMunch\u001b[0m\u001b[1m(\u001b[0m\u001b[1m{\u001b[0m\u001b[32m'_target_'\u001b[0m: \u001b[32m'monai.transforms.RandKSpaceSpikeNoised'\u001b[0m, \u001b[32m'keys'\u001b[0m: \u001b[1m[\u001b[0m\u001b[32m'image'\u001b[0m\u001b[1m]\u001b[0m, \u001b[32m'prob'\u001b[0m: \u001b[1;36m0.1\u001b[0m\u001b[1m}\u001b[0m\u001b[1m)\u001b[0m, \u001b[1;35mMunch\u001b[0m\u001b[1m(\u001b[0m\u001b[1m{\u001b[0m\u001b[32m'_target_'\u001b[0m: \u001b[32m'vision_architectures.transforms.clipping.Clipd'\u001b[0m, \u001b[32m'keys'\u001b[0m: \u001b[1m[\u001b[0m\u001b[32m'image'\u001b[0m\u001b[1m]\u001b[0m, \u001b[32m'min_value'\u001b[0m: \u001b[1;36m-1.0\u001b[0m, \u001b[32m'max_value'\u001b[0m: \u001b[1;36m1.0\u001b[0m\u001b[1m}\u001b[0m\u001b[1m)\u001b[0m\u001b[1m]\u001b[0m\u001b[1m}\u001b[0m\u001b[1m)\u001b[0m, \u001b[1;35mMunch\u001b[0m\u001b[1m(\u001b[0m\u001b[1m{\u001b[0m\u001b[32m'_target_'\u001b[0m: \u001b[32m'monai.transforms.OneOf'\u001b[0m, \u001b[32m'transforms'\u001b[0m: \u001b[1m[\u001b[0m\u001b[1;35mMunch\u001b[0m\u001b[1m(\u001b[0m\u001b[1m{\u001b[0m\u001b[32m'_target_'\u001b[0m: \u001b[32m'monai.transforms.Compose'\u001b[0m, \u001b[32m'transforms'\u001b[0m: \u001b[1m[\u001b[0m\u001b[1;35mMunch\u001b[0m\u001b[1m(\u001b[0m\u001b[1m{\u001b[0m\u001b[32m'_target_'\u001b[0m: \u001b[32m'monai.transforms.RandGaussianNoised'\u001b[0m, \u001b[32m'keys'\u001b[0m: \u001b[1m[\u001b[0m\u001b[32m'image'\u001b[0m\u001b[1m]\u001b[0m, \u001b[32m'prob'\u001b[0m: \u001b[1;36m0.5\u001b[0m, \u001b[32m'std'\u001b[0m: \u001b[1;36m0.03\u001b[0m\u001b[1m}\u001b[0m\u001b[1m)\u001b[0m, \u001b[1;35mMunch\u001b[0m\u001b[1m(\u001b[0m\u001b[1m{\u001b[0m\u001b[32m'_target_'\u001b[0m: \u001b[32m'vision_architectures.transforms.clipping.Clipd'\u001b[0m, \u001b[32m'keys'\u001b[0m: \u001b[1m[\u001b[0m\u001b[32m'image'\u001b[0m\u001b[1m]\u001b[0m, \u001b[32m'min_value'\u001b[0m: \u001b[1;36m-1.0\u001b[0m, \u001b[32m'max_value'\u001b[0m: \u001b[1;36m1.0\u001b[0m\u001b[1m}\u001b[0m\u001b[1m)\u001b[0m\u001b[1m]\u001b[0m\u001b[1m}\u001b[0m\u001b[1m)\u001b[0m, \u001b[1;35mMunch\u001b[0m\u001b[1m(\u001b[0m\u001b[1m{\u001b[0m\u001b[32m'_target_'\u001b[0m: \u001b[32m'monai.transforms.Compose'\u001b[0m, \u001b[32m'transforms'\u001b[0m: \u001b[1m[\u001b[0m\u001b[1;35mMunch\u001b[0m\u001b[1m(\u001b[0m\u001b[1m{\u001b[0m\u001b[32m'_target_'\u001b[0m: \u001b[32m'monai.transforms.RandGaussianSmoothd'\u001b[0m, \u001b[32m'keys'\u001b[0m: \u001b[1m[\u001b[0m\u001b[32m'image'\u001b[0m\u001b[1m]\u001b[0m, \u001b[32m'prob'\u001b[0m: \u001b[1;36m0.5\u001b[0m\u001b[1m}\u001b[0m\u001b[1m)\u001b[0m, \u001b[1;35mMunch\u001b[0m\u001b[1m(\u001b[0m\u001b[1m{\u001b[0m\u001b[32m'_target_'\u001b[0m: \u001b[32m'vision_architectures.transforms.clipping.Clipd'\u001b[0m, \u001b[32m'keys'\u001b[0m: \u001b[1m[\u001b[0m\u001b[32m'image'\u001b[0m\u001b[1m]\u001b[0m, \u001b[32m'min_value'\u001b[0m: \u001b[1;36m-1.0\u001b[0m, \u001b[32m'max_value'\u001b[0m: \u001b[1;36m1.0\u001b[0m\u001b[1m}\u001b[0m\u001b[1m)\u001b[0m\u001b[1m]\u001b[0m\u001b[1m}\u001b[0m\u001b[1m)\u001b[0m\u001b[1m]\u001b[0m\u001b[1m}\u001b[0m\u001b[1m)\u001b[0m\u001b[1m]\u001b[0m\u001b[1m}\u001b[0m\u001b[1m)\u001b[0m, \u001b[1;35mMunch\u001b[0m\u001b[1m(\u001b[0m\u001b[1m{\u001b[0m\u001b[32m'_target_'\u001b[0m: \u001b[32m'vision_architectures.transforms.clipping.Clipd'\u001b[0m, \u001b[32m'keys'\u001b[0m: \u001b[1m[\u001b[0m\u001b[32m'image'\u001b[0m\u001b[1m]\u001b[0m, \u001b[32m'min_value'\u001b[0m: \u001b[1;36m-1.0\u001b[0m, \u001b[32m'max_value'\u001b[0m: \u001b[1;36m1.0\u001b[0m\u001b[1m}\u001b[0m\u001b[1m)\u001b[0m\u001b[1m]\u001b[0m\u001b[1m}\u001b[0m\u001b[1m)\u001b[0m, \u001b[32m'val_augmentations'\u001b[0m: \u001b[1;35mMunch\u001b[0m\u001b[1m(\u001b[0m\u001b[1m{\u001b[0m\u001b[32m'_target_'\u001b[0m: \u001b[32m'monai.transforms.Compose'\u001b[0m, \u001b[32m'transforms'\u001b[0m: \u001b[1m[\u001b[0m\u001b[1;35mMunch\u001b[0m\u001b[1m(\u001b[0m\u001b[1m{\u001b[0m\u001b[32m'_target_'\u001b[0m: \u001b[32m'vision_architectures.transforms.croppad.CropForegroundWithCropTrackingd'\u001b[0m, \u001b[32m'keys'\u001b[0m: \u001b[1m[\u001b[0m\u001b[32m'image'\u001b[0m\u001b[1m]\u001b[0m, \u001b[32m'source_key'\u001b[0m: \u001b[32m'image'\u001b[0m, \u001b[32m'allow_smaller'\u001b[0m: \u001b[3;92mTrue\u001b[0m\u001b[1m}\u001b[0m\u001b[1m)\u001b[0m, \u001b[1;35mMunch\u001b[0m\u001b[1m(\u001b[0m\u001b[1m{\u001b[0m\u001b[32m'_target_'\u001b[0m: \u001b[32m'monai.transforms.ScaleIntensityRanged'\u001b[0m, \u001b[32m'keys'\u001b[0m: \u001b[1m[\u001b[0m\u001b[32m'image'\u001b[0m\u001b[1m]\u001b[0m, \u001b[32m'a_min'\u001b[0m: \u001b[1;36m-1500\u001b[0m, \u001b[32m'a_max'\u001b[0m: \u001b[1;36m1500\u001b[0m, \u001b[32m'b_min'\u001b[0m: \u001b[1;36m-1.0\u001b[0m, \u001b[32m'b_max'\u001b[0m: \u001b[1;36m1.0\u001b[0m, \u001b[32m'clip'\u001b[0m: \u001b[3;92mTrue\u001b[0m\u001b[1m}\u001b[0m\u001b[1m)\u001b[0m, \u001b[1;35mMunch\u001b[0m\u001b[1m(\u001b[0m\u001b[1m{\u001b[0m\u001b[32m'_target_'\u001b[0m: \u001b[32m'vision_architectures.transforms.croppad.RandSpatialCropSamplesWithCropTrackingd'\u001b[0m, \u001b[32m'keys'\u001b[0m: \u001b[1m[\u001b[0m\u001b[32m'image'\u001b[0m\u001b[1m]\u001b[0m, \u001b[32m'roi_size'\u001b[0m: \u001b[1m(\u001b[0m\u001b[1;36m8\u001b[0m, \u001b[1;36m512\u001b[0m, \u001b[1;36m512\u001b[0m\u001b[1m)\u001b[0m, \u001b[32m'num_samples'\u001b[0m: \u001b[1;36m300\u001b[0m\u001b[1m}\u001b[0m\u001b[1m)\u001b[0m, \u001b[1;35mMunch\u001b[0m\u001b[1m(\u001b[0m\u001b[1m{\u001b[0m\u001b[32m'_target_'\u001b[0m: \u001b[32m'vision_architectures.transforms.spatial.ResizedWithCropTrackingd'\u001b[0m, \u001b[32m'keys'\u001b[0m: \u001b[1m[\u001b[0m\u001b[32m'image'\u001b[0m\u001b[1m]\u001b[0m, \u001b[32m'original_shape_key'\u001b[0m: \u001b[32m'Shape'\u001b[0m, \u001b[32m'spatial_size'\u001b[0m: \u001b[1m(\u001b[0m\u001b[1;36m8\u001b[0m, \u001b[1;36m512\u001b[0m, \u001b[1;36m512\u001b[0m\u001b[1m)\u001b[0m, \u001b[32m'mode'\u001b[0m: \u001b[32m'trilinear'\u001b[0m, \u001b[32m'anti_aliasing'\u001b[0m: \u001b[3;92mTrue\u001b[0m\u001b[1m}\u001b[0m\u001b[1m)\u001b[0m, \u001b[1;35mMunch\u001b[0m\u001b[1m(\u001b[0m\u001b[1m{\u001b[0m\u001b[32m'_target_'\u001b[0m: \u001b[32m'vision_architectures.transforms.clipping.Clipd'\u001b[0m, \u001b[32m'keys'\u001b[0m: \u001b[1m[\u001b[0m\u001b[32m'image'\u001b[0m\u001b[1m]\u001b[0m, \u001b[32m'min_value'\u001b[0m: \u001b[1;36m-1.0\u001b[0m, \u001b[32m'max_value'\u001b[0m: \u001b[1;36m1.0\u001b[0m\u001b[1m}\u001b[0m\u001b[1m)\u001b[0m\u001b[1m]\u001b[0m\u001b[1m}\u001b[0m\u001b[1m)\u001b[0m, \u001b[32m'test_augmentations'\u001b[0m: \u001b[1;35mMunch\u001b[0m\u001b[1m(\u001b[0m\u001b[1m{\u001b[0m\u001b[32m'_target_'\u001b[0m: \u001b[32m'monai.transforms.Compose'\u001b[0m, \u001b[32m'transforms'\u001b[0m: \u001b[1m[\u001b[0m\u001b[1;35mMunch\u001b[0m\u001b[1m(\u001b[0m\u001b[1m{\u001b[0m\u001b[32m'_target_'\u001b[0m: \u001b[32m'vision_architectures.transforms.croppad.CropForegroundWithCropTrackingd'\u001b[0m, \u001b[32m'keys'\u001b[0m: \u001b[1m[\u001b[0m\u001b[32m'image'\u001b[0m\u001b[1m]\u001b[0m, \u001b[32m'source_key'\u001b[0m: \u001b[32m'image'\u001b[0m, \u001b[32m'allow_smaller'\u001b[0m: \u001b[3;92mTrue\u001b[0m\u001b[1m}\u001b[0m\u001b[1m)\u001b[0m, \u001b[1;35mMunch\u001b[0m\u001b[1m(\u001b[0m\u001b[1m{\u001b[0m\u001b[32m'_target_'\u001b[0m: \u001b[32m'monai.transforms.ScaleIntensityRanged'\u001b[0m, \u001b[32m'keys'\u001b[0m: \u001b[1m[\u001b[0m\u001b[32m'image'\u001b[0m\u001b[1m]\u001b[0m, \u001b[32m'a_min'\u001b[0m: \u001b[1;36m-1500\u001b[0m, \u001b[32m'a_max'\u001b[0m: \u001b[1;36m1500\u001b[0m, \u001b[32m'b_min'\u001b[0m: \u001b[1;36m-1.0\u001b[0m, \u001b[32m'b_max'\u001b[0m: \u001b[1;36m1.0\u001b[0m, \u001b[32m'clip'\u001b[0m: \u001b[3;92mTrue\u001b[0m\u001b[1m}\u001b[0m\u001b[1m)\u001b[0m, \u001b[1;35mMunch\u001b[0m\u001b[1m(\u001b[0m\u001b[1m{\u001b[0m\u001b[32m'_target_'\u001b[0m: \u001b[32m'monai.transforms.CenterSpatialCropd'\u001b[0m, \u001b[32m'keys'\u001b[0m: \u001b[1m[\u001b[0m\u001b[32m'image'\u001b[0m\u001b[1m]\u001b[0m, \u001b[32m'roi_size'\u001b[0m: \u001b[1m(\u001b[0m\u001b[1;36m8\u001b[0m, \u001b[1;36m512\u001b[0m, \u001b[1;36m512\u001b[0m\u001b[1m)\u001b[0m\u001b[1m}\u001b[0m\u001b[1m)\u001b[0m, \u001b[1;35mMunch\u001b[0m\u001b[1m(\u001b[0m\u001b[1m{\u001b[0m\u001b[32m'_target_'\u001b[0m: \u001b[32m'vision_architectures.transforms.spatial.ResizedWithCropTrackingd'\u001b[0m, \u001b[32m'keys'\u001b[0m: \u001b[1m[\u001b[0m\u001b[32m'image'\u001b[0m\u001b[1m]\u001b[0m, \u001b[32m'original_shape_key'\u001b[0m: \u001b[32m'Shape'\u001b[0m, \u001b[32m'spatial_size'\u001b[0m: \u001b[1m(\u001b[0m\u001b[1;36m8\u001b[0m, \u001b[1;36m512\u001b[0m, \u001b[1;36m512\u001b[0m\u001b[1m)\u001b[0m, \u001b[32m'mode'\u001b[0m: \u001b[32m'trilinear'\u001b[0m, \u001b[32m'anti_aliasing'\u001b[0m: \u001b[3;92mTrue\u001b[0m\u001b[1m}\u001b[0m\u001b[1m)\u001b[0m, \u001b[1;35mMunch\u001b[0m\u001b[1m(\u001b[0m\u001b[1m{\u001b[0m\u001b[32m'_target_'\u001b[0m: \u001b[32m'vision_architectures.transforms.clipping.Clipd'\u001b[0m, \u001b[32m'keys'\u001b[0m: \u001b[1m[\u001b[0m\u001b[32m'image'\u001b[0m\u001b[1m]\u001b[0m, \u001b[32m'min_value'\u001b[0m: \u001b[1;36m-1.0\u001b[0m, \u001b[32m'max_value'\u001b[0m: \u001b[1;36m1.0\u001b[0m\u001b[1m}\u001b[0m\u001b[1m)\u001b[0m\u001b[1m]\u001b[0m\u001b[1m}\u001b[0m\u001b[1m)\u001b[0m, \u001b[32m'num_workers'\u001b[0m: \u001b[1;36m12\u001b[0m, \u001b[32m'train_batch_size'\u001b[0m: \u001b[1;36m3\u001b[0m, \u001b[32m'val_batch_size'\u001b[0m: \u001b[1;36m1\u001b[0m, \u001b[32m'test_batch_size'\u001b[0m: \u001b[1;36m4\u001b[0m, \u001b[32m'train_sample_size'\u001b[0m: \u001b[1;36m9600\u001b[0m, \u001b[32m'sample_balance_cols'\u001b[0m: \u001b[1m[\u001b[0m\u001b[32m'Source'\u001b[0m, \u001b[32m'BodyPart'\u001b[0m\u001b[1m]\u001b[0m\u001b[1m}\u001b[0m\u001b[1m)\u001b[0m, \u001b[32m'model'\u001b[0m: \u001b[1;35mMunch\u001b[0m\u001b[1m(\u001b[0m\u001b[1m{\u001b[0m\u001b[32m'in_channels'\u001b[0m: \u001b[1;36m1\u001b[0m, \u001b[32m'num_channels'\u001b[0m: \u001b[1m[\u001b[0m\u001b[1;36m16\u001b[0m, \u001b[1;36m32\u001b[0m, \u001b[1;36m64\u001b[0m\u001b[1m]\u001b[0m, \u001b[32m'depths'\u001b[0m: \u001b[1m[\u001b[0m\u001b[1;36m4\u001b[0m, \u001b[1;36m4\u001b[0m, \u001b[1;36m4\u001b[0m\u001b[1m]\u001b[0m, \u001b[32m'latent_dims'\u001b[0m: \u001b[1m[\u001b[0m\u001b[3;35mNone\u001b[0m, \u001b[3;35mNone\u001b[0m, \u001b[1;36m4\u001b[0m\u001b[1m]\u001b[0m, \u001b[32m'kernel_size'\u001b[0m: \u001b[1;36m3\u001b[0m, \u001b[32m'normalization'\u001b[0m: \u001b[32m'groupnorm'\u001b[0m, \u001b[32m'normalization_pre_args'\u001b[0m: \u001b[1m[\u001b[0m\u001b[1;36m4\u001b[0m\u001b[1m]\u001b[0m, \u001b[32m'activation'\u001b[0m: \u001b[32m'silu'\u001b[0m, \u001b[32m'survival_prob'\u001b[0m: \u001b[1;36m1.0\u001b[0m, \u001b[32m'latent'\u001b[0m: \u001b[1;35mMunch\u001b[0m\u001b[1m(\u001b[0m\u001b[1m{\u001b[0m\u001b[32m'kernel_size'\u001b[0m: \u001b[1;36m3\u001b[0m, \u001b[32m'normalization'\u001b[0m: \u001b[32m'groupnorm'\u001b[0m, \u001b[32m'normalization_pre_args_list'\u001b[0m: \u001b[1m[\u001b[0m\u001b[3;35mNone\u001b[0m, \u001b[3;35mNone\u001b[0m, \u001b[1;36m2\u001b[0m\u001b[1m]\u001b[0m, \u001b[32m'activation'\u001b[0m: \u001b[32m'silu'\u001b[0m\u001b[1m}\u001b[0m\u001b[1m)\u001b[0m\u001b[1m}\u001b[0m\u001b[1m)\u001b[0m, \u001b[32m'training'\u001b[0m: \u001b[1;35mMunch\u001b[0m\u001b[1m(\u001b[0m\u001b[1m{\u001b[0m\u001b[32m'start_from_checkpoint'\u001b[0m: \u001b[3;35mNone\u001b[0m, \u001b[32m'max_epochs'\u001b[0m: \u001b[1;36m500\u001b[0m, \u001b[32m'lr'\u001b[0m: \u001b[1;36m0.0001\u001b[0m, \u001b[32m'seed'\u001b[0m: \u001b[1;36m42\u001b[0m, \u001b[32m'check_val_every_n_epoch'\u001b[0m: \u001b[1;36m1\u001b[0m, \u001b[32m'loss_weights'\u001b[0m: \u001b[1;35mMunch\u001b[0m\u001b[1m(\u001b[0m\u001b[1m{\u001b[0m\u001b[32m'reconstruction_loss'\u001b[0m: \u001b[1;36m0.9\u001b[0m, \u001b[32m'perceptual_loss'\u001b[0m: \u001b[1;36m0.3\u001b[0m, \u001b[32m'ms_ssim_loss'\u001b[0m: \u001b[1;36m0.1\u001b[0m, \u001b[32m'gen_fool_disc_loss'\u001b[0m: \u001b[1;36m0.4\u001b[0m, \u001b[32m'kl_loss_scale_2'\u001b[0m: \u001b[1;36m5e-05\u001b[0m, \u001b[32m'disc_catch_gen_loss'\u001b[0m: \u001b[1;36m0.5\u001b[0m, \u001b[32m'disc_identify_real_loss'\u001b[0m: \u001b[1;36m0.5\u001b[0m\u001b[1m}\u001b[0m\u001b[1m)\u001b[0m, \u001b[32m'kl_annealing'\u001b[0m: \u001b[1;35mMunch\u001b[0m\u001b[1m(\u001b[0m\u001b[1m{\u001b[0m\u001b[32m'scale_2'\u001b[0m: \u001b[1;35mMunch\u001b[0m\u001b[1m(\u001b[0m\u001b[1m{\u001b[0m\u001b[32m'start_epoch'\u001b[0m: \u001b[1;36m0\u001b[0m, \u001b[32m'wavelength'\u001b[0m: \u001b[1;36m20\u001b[0m\u001b[1m}\u001b[0m\u001b[1m)\u001b[0m\u001b[1m}\u001b[0m\u001b[1m)\u001b[0m, \u001b[32m'free_nats_per_dim'\u001b[0m: \u001b[1;35mMunch\u001b[0m\u001b[1m(\u001b[0m\u001b[1m{\u001b[0m\u001b[32m'scale_2'\u001b[0m: \u001b[1;36m0.05\u001b[0m\u001b[1m}\u001b[0m\u001b[1m)\u001b[0m, \u001b[32m'aur_threshold_per_dim'\u001b[0m: \u001b[1;36m0.05\u001b[0m, \u001b[32m'discriminator_annealing_epochs'\u001b[0m: \u001b[1;36m30\u001b[0m, \u001b[32m'checkpointing_level'\u001b[0m: \u001b[1;36m0\u001b[0m, \u001b[32m'freeze_scales'\u001b[0m: \u001b[1m[\u001b[0m\u001b[1m]\u001b[0m, \u001b[32m'fast_dev_run'\u001b[0m: \u001b[3;91mFalse\u001b[0m, \u001b[32m'strategy'\u001b[0m: \u001b[32m'ddp_find_unused_parameters_true'\u001b[0m, \u001b[32m'accumulate_grad_batches'\u001b[0m: \u001b[1;36m1\u001b[0m, \u001b[32m'log_every_n_steps'\u001b[0m: \u001b[1;36m1\u001b[0m, \u001b[32m'gradient_clip_val'\u001b[0m: \u001b[1;36m5.0\u001b[0m\u001b[1m}\u001b[0m\u001b[1m)\u001b[0m, \u001b[32m'distributed'\u001b[0m: \u001b[1;35mMunch\u001b[0m\u001b[1m(\u001b[0m\u001b[1m{\u001b[0m\u001b[32m'distributed'\u001b[0m: \u001b[3;92mTrue\u001b[0m, \u001b[32m'nodes'\u001b[0m: \u001b[1m[\u001b[0m\u001b[1m(\u001b[0m\u001b[32m'qrnd10.internal.qure.ai'\u001b[0m, \u001b[1m[\u001b[0m\u001b[32m'10.67.21.10'\u001b[0m, \u001b[1;36m4\u001b[0m\u001b[1m]\u001b[0m\u001b[1m)\u001b[0m, \u001b[1m(\u001b[0m\u001b[32m'qrnd21.l40.sr.internal.qure.ai'\u001b[0m, \u001b[1m[\u001b[0m\u001b[32m'10.67.21.21'\u001b[0m, \u001b[1;36m4\u001b[0m\u001b[1m]\u001b[0m\u001b[1m)\u001b[0m, \u001b[1m(\u001b[0m\u001b[32m'qrnd8.internal.qure.ai'\u001b[0m, \u001b[1m[\u001b[0m\u001b[32m'10.67.21.8'\u001b[0m, \u001b[1;36m4\u001b[0m\u001b[1m]\u001b[0m\u001b[1m)\u001b[0m, \u001b[1m(\u001b[0m\u001b[32m'qrnd9.internal.qure.ai'\u001b[0m, \u001b[1m[\u001b[0m\u001b[32m'10.67.21.9'\u001b[0m, \u001b[1;36m4\u001b[0m\u001b[1m]\u001b[0m\u001b[1m)\u001b[0m\u001b[1m]\u001b[0m, \u001b[32m'num_nodes'\u001b[0m: \u001b[1;36m4\u001b[0m, \u001b[32m'devices'\u001b[0m: \u001b[1;36m4\u001b[0m, \u001b[32m'cluster_environment'\u001b[0m: \u001b[1m<\u001b[0m\u001b[1;95mdiffusion_3d.utils.environment.set_multi_node_environment.\u001b[0m\u001b[39m<locals>.MyClusterEnvironment object at \u001b[0m\u001b[1;36m0x7f2d7e7ce190\u001b[0m\u001b[1m>\u001b[0m\u001b[1m}\u001b[0m\u001b[1m)\u001b[0m, \u001b[32m'additional'\u001b[0m: \u001b[1;35mMunch\u001b[0m\u001b[1m(\u001b[0m\u001b[1m{\u001b[0m\u001b[32m'task_name'\u001b[0m: \u001b[32m'v69__2025_04_23'\u001b[0m, \u001b[32m'log_on_clearml'\u001b[0m: \u001b[3;92mTrue\u001b[0m, \u001b[32m'clearml_project'\u001b[0m: \u001b[32m'adaptive_autoencoder'\u001b[0m, \u001b[32m'clearml_tags'\u001b[0m: \u001b[1m[\u001b[0m\u001b[32m'Training image size: \u001b[0m\u001b[32m(\u001b[0m\u001b[32m8, 512, 512\u001b[0m\u001b[32m)\u001b[0m\u001b[32m'\u001b[0m, \u001b[32m'Dimensions: \u001b[0m\u001b[32m[\u001b[0m\u001b[32m16, 32, 64\u001b[0m\u001b[32m]\u001b[0m\u001b[32m'\u001b[0m, \u001b[32m'Latent dimensions: \u001b[0m\u001b[32m[\u001b[0m\u001b[32mNone, None, 4\u001b[0m\u001b[32m]\u001b[0m\u001b[32m'\u001b[0m, \u001b[32m'Train batch size: 3'\u001b[0m, \u001b[32m'Compression: 4'\u001b[0m, \u001b[32m'Checkpointing level: 0'\u001b[0m, \u001b[32m'Frozen scales: \u001b[0m\u001b[32m[\u001b[0m\u001b[32m]\u001b[0m\u001b[32m'\u001b[0m, \u001b[32m'NVAE'\u001b[0m, \u001b[32m'ms_ssim kernel = 2'\u001b[0m, \u001b[32m'Doubled intermediate channels'\u001b[0m, \u001b[32m'Replaced upsample and downsample conv layers with pixel shuffle'\u001b[0m, \u001b[32m'Revised windowing to \u001b[0m\u001b[32m[\u001b[0m\u001b[32m-1500, 1500\u001b[0m\u001b[32m]\u001b[0m\u001b[32m Hu values'\u001b[0m, \u001b[32m'Not doing gaussian sharpening because of small input'\u001b[0m, \u001b[32m'Reduced gaussian noise std'\u001b[0m\u001b[1m]\u001b[0m\u001b[1m}\u001b[0m\u001b[1m)\u001b[0m, \u001b[32m'image_size'\u001b[0m: \u001b[1m(\u001b[0m\u001b[1;36m8\u001b[0m, \u001b[1;36m512\u001b[0m, \u001b[1;36m512\u001b[0m\u001b[1m)\u001b[0m\u001b[1m}\u001b[0m\u001b[1m)\u001b[0m"
      ]
     },
     "execution_count": 5,
     "metadata": {},
     "output_type": "execute_result"
    }
   ],
   "source": [
    "cfg = get_config((8, 512, 512))\n",
    "cfg"
   ]
  },
  {
   "cell_type": "markdown",
   "metadata": {},
   "source": [
    "# Train dataset and dataloader"
   ]
  },
  {
   "cell_type": "code",
   "execution_count": 6,
   "metadata": {},
   "outputs": [
    {
     "data": {
      "application/vnd.jupyter.widget-view+json": {
       "model_id": "078c68dd14e34388979e551c56a988c8",
       "version_major": 2,
       "version_minor": 0
      },
      "text/plain": [
       "train:   0%|          | 0/48996 [00:00<?, ?it/s]"
      ]
     },
     "metadata": {},
     "output_type": "display_data"
    },
    {
     "name": "stdout",
     "output_type": "stream",
     "text": [
      "No. of train datapoints: 48993\n"
     ]
    }
   ],
   "source": [
    "dataset = CTRATEDataset(cfg.data, \"train\")"
   ]
  },
  {
   "cell_type": "code",
   "execution_count": 7,
   "metadata": {},
   "outputs": [
    {
     "name": "stdout",
     "output_type": "stream",
     "text": [
      "torch.Size([1, 8, 512, 512]) metatensor(-0.6827) metatensor(0.7591)\n",
      "torch.Size([1, 8, 512, 512]) metatensor(-0.7984) metatensor(1.)\n",
      "torch.Size([1, 8, 512, 512]) metatensor(-0.6827) metatensor(0.9358)\n",
      "torch.Size([1, 8, 512, 512]) metatensor(-0.7919) metatensor(1.)\n"
     ]
    },
    {
     "data": {
      "application/vnd.jupyter.widget-view+json": {
       "model_id": "19b8c7adf9c14d6aad1a4bafb968266b",
       "version_major": 2,
       "version_minor": 0
      },
      "text/plain": [
       "interactive(children=(IntSlider(value=0, description='z', max=7), Output()), _dom_classes=('widget-interact',)…"
      ]
     },
     "metadata": {},
     "output_type": "display_data"
    }
   ],
   "source": [
    "plots = []\n",
    "for _ in range(4):\n",
    "    image = dataset[1][0][\"image\"]\n",
    "    print(image.shape, image.min(), image.max())\n",
    "    image[..., 0, 0] = -1\n",
    "    image[..., -1, -1] = 1\n",
    "    plots.append(image[0])\n",
    "\n",
    "plot_scans(plots)"
   ]
  },
  {
   "cell_type": "code",
   "execution_count": 5,
   "metadata": {},
   "outputs": [
    {
     "data": {
      "text/html": [
       "<pre style=\"white-space:pre;overflow-x:auto;line-height:normal;font-family:Menlo,'DejaVu Sans Mono',consolas,'Courier New',monospace\"></pre>\n"
      ],
      "text/plain": []
     },
     "metadata": {},
     "output_type": "display_data"
    },
    {
     "data": {
      "text/plain": [
       "\n",
       "\u001b[1m{\u001b[0m\n",
       "    \u001b[32m'SeriesUID'\u001b[0m: \u001b[32m'train_9077_a_2'\u001b[0m,\n",
       "    \u001b[32m'StudyUID'\u001b[0m: \u001b[32m'train_9077'\u001b[0m,\n",
       "    \u001b[32m'Modality'\u001b[0m: \u001b[32m'ct'\u001b[0m,\n",
       "    \u001b[32m'BodyPart'\u001b[0m: \u001b[32m'chest'\u001b[0m,\n",
       "    \u001b[32m'Source'\u001b[0m: \u001b[32m'ct_rate'\u001b[0m,\n",
       "    \u001b[32m'Spacing'\u001b[0m: \u001b[1m(\u001b[0m\u001b[1;36m0.75\u001b[0m, \u001b[1;36m0.7188\u001b[0m, \u001b[1;36m0.7188\u001b[0m\u001b[1m)\u001b[0m,\n",
       "    \u001b[32m'Shape'\u001b[0m: \u001b[1;35mtensor\u001b[0m\u001b[1m(\u001b[0m\u001b[1m[\u001b[0m\u001b[1;36m401\u001b[0m, \u001b[1;36m630\u001b[0m, \u001b[1;36m496\u001b[0m\u001b[1m]\u001b[0m, \u001b[33mdtype\u001b[0m=\u001b[35mtorch\u001b[0m.int32\u001b[1m)\u001b[0m,\n",
       "    \u001b[32m'FilePath'\u001b[0m: \u001b[32m'ct_rate/batch_0/train_9077_a_2.safetensors'\u001b[0m,\n",
       "    \u001b[32m'SliceThickness'\u001b[0m: \u001b[1;36m0.75\u001b[0m,\n",
       "    \u001b[32m'image'\u001b[0m: \u001b[1;35mmetatensor\u001b[0m\u001b[1m(\u001b[0m\u001b[1m[\u001b[0m\u001b[1m[\u001b[0m\u001b[1m[\u001b[0m\u001b[1m[\u001b[0m\u001b[1;36m-1.0000\u001b[0m, \u001b[1;36m-1.0000\u001b[0m, \u001b[1;36m-1.0000\u001b[0m,  \u001b[33m...\u001b[0m, \u001b[1;36m-1.0000\u001b[0m, \u001b[1;36m-1.0000\u001b[0m, \u001b[1;36m-0.8603\u001b[0m\u001b[1m]\u001b[0m,\n",
       "          \u001b[1m[\u001b[0m\u001b[1;36m-1.0000\u001b[0m, \u001b[1;36m-1.0000\u001b[0m, \u001b[1;36m-1.0000\u001b[0m,  \u001b[33m...\u001b[0m, \u001b[1;36m-1.0000\u001b[0m, \u001b[1;36m-1.0000\u001b[0m, \u001b[1;36m-1.0000\u001b[0m\u001b[1m]\u001b[0m,\n",
       "          \u001b[1m[\u001b[0m\u001b[1;36m-1.0000\u001b[0m, \u001b[1;36m-1.0000\u001b[0m, \u001b[1;36m-1.0000\u001b[0m,  \u001b[33m...\u001b[0m, \u001b[1;36m-1.0000\u001b[0m, \u001b[1;36m-1.0000\u001b[0m, \u001b[1;36m-1.0000\u001b[0m\u001b[1m]\u001b[0m,\n",
       "          \u001b[33m...\u001b[0m,\n",
       "          \u001b[1m[\u001b[0m\u001b[1;36m-0.4557\u001b[0m, \u001b[1;36m-0.1670\u001b[0m,  \u001b[1;36m0.1910\u001b[0m,  \u001b[33m...\u001b[0m, \u001b[1;36m-1.0000\u001b[0m, \u001b[1;36m-1.0000\u001b[0m, \u001b[1;36m-1.0000\u001b[0m\u001b[1m]\u001b[0m,\n",
       "          \u001b[1m[\u001b[0m\u001b[1;36m-1.0000\u001b[0m, \u001b[1;36m-1.0000\u001b[0m, \u001b[1;36m-0.7313\u001b[0m,  \u001b[33m...\u001b[0m, \u001b[1;36m-1.0000\u001b[0m, \u001b[1;36m-1.0000\u001b[0m, \u001b[1;36m-1.0000\u001b[0m\u001b[1m]\u001b[0m,\n",
       "          \u001b[1m[\u001b[0m\u001b[1;36m-1.0000\u001b[0m, \u001b[1;36m-1.0000\u001b[0m, \u001b[1;36m-1.0000\u001b[0m,  \u001b[33m...\u001b[0m, \u001b[1;36m-1.0000\u001b[0m, \u001b[1;36m-1.0000\u001b[0m, \u001b[1;36m-1.0000\u001b[0m\u001b[1m]\u001b[0m\u001b[1m]\u001b[0m,\n",
       "\n",
       "         \u001b[1m[\u001b[0m\u001b[1m[\u001b[0m\u001b[1;36m-1.0000\u001b[0m, \u001b[1;36m-1.0000\u001b[0m, \u001b[1;36m-1.0000\u001b[0m,  \u001b[33m...\u001b[0m, \u001b[1;36m-1.0000\u001b[0m, \u001b[1;36m-1.0000\u001b[0m, \u001b[1;36m-0.8720\u001b[0m\u001b[1m]\u001b[0m,\n",
       "          \u001b[1m[\u001b[0m\u001b[1;36m-1.0000\u001b[0m, \u001b[1;36m-1.0000\u001b[0m, \u001b[1;36m-1.0000\u001b[0m,  \u001b[33m...\u001b[0m, \u001b[1;36m-1.0000\u001b[0m, \u001b[1;36m-1.0000\u001b[0m, \u001b[1;36m-1.0000\u001b[0m\u001b[1m]\u001b[0m,\n",
       "          \u001b[1m[\u001b[0m\u001b[1;36m-1.0000\u001b[0m, \u001b[1;36m-1.0000\u001b[0m, \u001b[1;36m-1.0000\u001b[0m,  \u001b[33m...\u001b[0m, \u001b[1;36m-1.0000\u001b[0m, \u001b[1;36m-1.0000\u001b[0m, \u001b[1;36m-1.0000\u001b[0m\u001b[1m]\u001b[0m,\n",
       "          \u001b[33m...\u001b[0m,\n",
       "          \u001b[1m[\u001b[0m\u001b[1;36m-0.5153\u001b[0m, \u001b[1;36m-0.1468\u001b[0m,  \u001b[1;36m0.2460\u001b[0m,  \u001b[33m...\u001b[0m, \u001b[1;36m-1.0000\u001b[0m, \u001b[1;36m-1.0000\u001b[0m, \u001b[1;36m-1.0000\u001b[0m\u001b[1m]\u001b[0m,\n",
       "          \u001b[1m[\u001b[0m\u001b[1;36m-1.0000\u001b[0m, \u001b[1;36m-1.0000\u001b[0m, \u001b[1;36m-0.7251\u001b[0m,  \u001b[33m...\u001b[0m, \u001b[1;36m-1.0000\u001b[0m, \u001b[1;36m-1.0000\u001b[0m, \u001b[1;36m-1.0000\u001b[0m\u001b[1m]\u001b[0m,\n",
       "          \u001b[1m[\u001b[0m\u001b[1;36m-1.0000\u001b[0m, \u001b[1;36m-1.0000\u001b[0m, \u001b[1;36m-1.0000\u001b[0m,  \u001b[33m...\u001b[0m, \u001b[1;36m-1.0000\u001b[0m, \u001b[1;36m-1.0000\u001b[0m, \u001b[1;36m-1.0000\u001b[0m\u001b[1m]\u001b[0m\u001b[1m]\u001b[0m,\n",
       "\n",
       "         \u001b[1m[\u001b[0m\u001b[1m[\u001b[0m\u001b[1;36m-1.0000\u001b[0m, \u001b[1;36m-1.0000\u001b[0m, \u001b[1;36m-1.0000\u001b[0m,  \u001b[33m...\u001b[0m, \u001b[1;36m-1.0000\u001b[0m, \u001b[1;36m-1.0000\u001b[0m, \u001b[1;36m-0.7986\u001b[0m\u001b[1m]\u001b[0m,\n",
       "          \u001b[1m[\u001b[0m\u001b[1;36m-1.0000\u001b[0m, \u001b[1;36m-1.0000\u001b[0m, \u001b[1;36m-1.0000\u001b[0m,  \u001b[33m...\u001b[0m, \u001b[1;36m-1.0000\u001b[0m, \u001b[1;36m-1.0000\u001b[0m, \u001b[1;36m-1.0000\u001b[0m\u001b[1m]\u001b[0m,\n",
       "          \u001b[1m[\u001b[0m\u001b[1;36m-1.0000\u001b[0m, \u001b[1;36m-1.0000\u001b[0m, \u001b[1;36m-0.8899\u001b[0m,  \u001b[33m...\u001b[0m, \u001b[1;36m-0.9108\u001b[0m, \u001b[1;36m-1.0000\u001b[0m, \u001b[1;36m-1.0000\u001b[0m\u001b[1m]\u001b[0m,\n",
       "          \u001b[33m...\u001b[0m,\n",
       "          \u001b[1m[\u001b[0m\u001b[1;36m-0.4974\u001b[0m, \u001b[1;36m-0.1148\u001b[0m,  \u001b[1;36m0.2684\u001b[0m,  \u001b[33m...\u001b[0m, \u001b[1;36m-0.8368\u001b[0m, \u001b[1;36m-1.0000\u001b[0m, \u001b[1;36m-1.0000\u001b[0m\u001b[1m]\u001b[0m,\n",
       "          \u001b[1m[\u001b[0m\u001b[1;36m-1.0000\u001b[0m, \u001b[1;36m-1.0000\u001b[0m, \u001b[1;36m-0.6395\u001b[0m,  \u001b[33m...\u001b[0m, \u001b[1;36m-1.0000\u001b[0m, \u001b[1;36m-1.0000\u001b[0m, \u001b[1;36m-1.0000\u001b[0m\u001b[1m]\u001b[0m,\n",
       "          \u001b[1m[\u001b[0m\u001b[1;36m-1.0000\u001b[0m, \u001b[1;36m-1.0000\u001b[0m, \u001b[1;36m-1.0000\u001b[0m,  \u001b[33m...\u001b[0m, \u001b[1;36m-1.0000\u001b[0m, \u001b[1;36m-1.0000\u001b[0m, \u001b[1;36m-1.0000\u001b[0m\u001b[1m]\u001b[0m\u001b[1m]\u001b[0m,\n",
       "\n",
       "         \u001b[33m...\u001b[0m,\n",
       "\n",
       "         \u001b[1m[\u001b[0m\u001b[1m[\u001b[0m\u001b[1;36m-1.0000\u001b[0m, \u001b[1;36m-1.0000\u001b[0m, \u001b[1;36m-1.0000\u001b[0m,  \u001b[33m...\u001b[0m, \u001b[1;36m-1.0000\u001b[0m, \u001b[1;36m-1.0000\u001b[0m, \u001b[1;36m-1.0000\u001b[0m\u001b[1m]\u001b[0m,\n",
       "          \u001b[1m[\u001b[0m\u001b[1;36m-1.0000\u001b[0m, \u001b[1;36m-1.0000\u001b[0m, \u001b[1;36m-1.0000\u001b[0m,  \u001b[33m...\u001b[0m, \u001b[1;36m-1.0000\u001b[0m, \u001b[1;36m-1.0000\u001b[0m, \u001b[1;36m-1.0000\u001b[0m\u001b[1m]\u001b[0m,\n",
       "          \u001b[1m[\u001b[0m\u001b[1;36m-1.0000\u001b[0m, \u001b[1;36m-1.0000\u001b[0m, \u001b[1;36m-0.8544\u001b[0m,  \u001b[33m...\u001b[0m, \u001b[1;36m-0.9544\u001b[0m, \u001b[1;36m-1.0000\u001b[0m, \u001b[1;36m-1.0000\u001b[0m\u001b[1m]\u001b[0m,\n",
       "          \u001b[33m...\u001b[0m,\n",
       "          \u001b[1m[\u001b[0m\u001b[1;36m-0.3746\u001b[0m, \u001b[1;36m-0.0757\u001b[0m,  \u001b[1;36m0.3016\u001b[0m,  \u001b[33m...\u001b[0m, \u001b[1;36m-0.8440\u001b[0m, \u001b[1;36m-1.0000\u001b[0m, \u001b[1;36m-1.0000\u001b[0m\u001b[1m]\u001b[0m,\n",
       "          \u001b[1m[\u001b[0m\u001b[1;36m-1.0000\u001b[0m, \u001b[1;36m-1.0000\u001b[0m, \u001b[1;36m-0.5118\u001b[0m,  \u001b[33m...\u001b[0m, \u001b[1;36m-1.0000\u001b[0m, \u001b[1;36m-1.0000\u001b[0m, \u001b[1;36m-1.0000\u001b[0m\u001b[1m]\u001b[0m,\n",
       "          \u001b[1m[\u001b[0m\u001b[1;36m-1.0000\u001b[0m, \u001b[1;36m-1.0000\u001b[0m, \u001b[1;36m-1.0000\u001b[0m,  \u001b[33m...\u001b[0m, \u001b[1;36m-1.0000\u001b[0m, \u001b[1;36m-1.0000\u001b[0m, \u001b[1;36m-1.0000\u001b[0m\u001b[1m]\u001b[0m\u001b[1m]\u001b[0m,\n",
       "\n",
       "         \u001b[1m[\u001b[0m\u001b[1m[\u001b[0m\u001b[1;36m-1.0000\u001b[0m, \u001b[1;36m-1.0000\u001b[0m, \u001b[1;36m-1.0000\u001b[0m,  \u001b[33m...\u001b[0m, \u001b[1;36m-1.0000\u001b[0m, \u001b[1;36m-1.0000\u001b[0m, \u001b[1;36m-1.0000\u001b[0m\u001b[1m]\u001b[0m,\n",
       "          \u001b[1m[\u001b[0m\u001b[1;36m-1.0000\u001b[0m, \u001b[1;36m-1.0000\u001b[0m, \u001b[1;36m-1.0000\u001b[0m,  \u001b[33m...\u001b[0m, \u001b[1;36m-1.0000\u001b[0m, \u001b[1;36m-1.0000\u001b[0m, \u001b[1;36m-1.0000\u001b[0m\u001b[1m]\u001b[0m,\n",
       "          \u001b[1m[\u001b[0m\u001b[1;36m-1.0000\u001b[0m, \u001b[1;36m-1.0000\u001b[0m, \u001b[1;36m-1.0000\u001b[0m,  \u001b[33m...\u001b[0m, \u001b[1;36m-1.0000\u001b[0m, \u001b[1;36m-1.0000\u001b[0m, \u001b[1;36m-1.0000\u001b[0m\u001b[1m]\u001b[0m,\n",
       "          \u001b[33m...\u001b[0m,\n",
       "          \u001b[1m[\u001b[0m\u001b[1;36m-0.3807\u001b[0m, \u001b[1;36m-0.0784\u001b[0m,  \u001b[1;36m0.3093\u001b[0m,  \u001b[33m...\u001b[0m, \u001b[1;36m-1.0000\u001b[0m, \u001b[1;36m-1.0000\u001b[0m, \u001b[1;36m-1.0000\u001b[0m\u001b[1m]\u001b[0m,\n",
       "          \u001b[1m[\u001b[0m\u001b[1;36m-1.0000\u001b[0m, \u001b[1;36m-1.0000\u001b[0m, \u001b[1;36m-0.5718\u001b[0m,  \u001b[33m...\u001b[0m, \u001b[1;36m-1.0000\u001b[0m, \u001b[1;36m-1.0000\u001b[0m, \u001b[1;36m-1.0000\u001b[0m\u001b[1m]\u001b[0m,\n",
       "          \u001b[1m[\u001b[0m\u001b[1;36m-1.0000\u001b[0m, \u001b[1;36m-1.0000\u001b[0m, \u001b[1;36m-1.0000\u001b[0m,  \u001b[33m...\u001b[0m, \u001b[1;36m-1.0000\u001b[0m, \u001b[1;36m-1.0000\u001b[0m, \u001b[1;36m-1.0000\u001b[0m\u001b[1m]\u001b[0m\u001b[1m]\u001b[0m,\n",
       "\n",
       "         \u001b[1m[\u001b[0m\u001b[1m[\u001b[0m\u001b[1;36m-1.0000\u001b[0m, \u001b[1;36m-1.0000\u001b[0m, \u001b[1;36m-1.0000\u001b[0m,  \u001b[33m...\u001b[0m, \u001b[1;36m-1.0000\u001b[0m, \u001b[1;36m-1.0000\u001b[0m, \u001b[1;36m-1.0000\u001b[0m\u001b[1m]\u001b[0m,\n",
       "          \u001b[1m[\u001b[0m\u001b[1;36m-1.0000\u001b[0m, \u001b[1;36m-1.0000\u001b[0m, \u001b[1;36m-1.0000\u001b[0m,  \u001b[33m...\u001b[0m, \u001b[1;36m-1.0000\u001b[0m, \u001b[1;36m-1.0000\u001b[0m, \u001b[1;36m-1.0000\u001b[0m\u001b[1m]\u001b[0m,\n",
       "          \u001b[1m[\u001b[0m\u001b[1;36m-1.0000\u001b[0m, \u001b[1;36m-1.0000\u001b[0m, \u001b[1;36m-1.0000\u001b[0m,  \u001b[33m...\u001b[0m, \u001b[1;36m-1.0000\u001b[0m, \u001b[1;36m-1.0000\u001b[0m, \u001b[1;36m-1.0000\u001b[0m\u001b[1m]\u001b[0m,\n",
       "          \u001b[33m...\u001b[0m,\n",
       "          \u001b[1m[\u001b[0m\u001b[1;36m-0.3373\u001b[0m, \u001b[1;36m-0.0797\u001b[0m,  \u001b[1;36m0.2732\u001b[0m,  \u001b[33m...\u001b[0m, \u001b[1;36m-1.0000\u001b[0m, \u001b[1;36m-1.0000\u001b[0m, \u001b[1;36m-1.0000\u001b[0m\u001b[1m]\u001b[0m,\n",
       "          \u001b[1m[\u001b[0m\u001b[1;36m-1.0000\u001b[0m, \u001b[1;36m-1.0000\u001b[0m, \u001b[1;36m-0.5647\u001b[0m,  \u001b[33m...\u001b[0m, \u001b[1;36m-1.0000\u001b[0m, \u001b[1;36m-1.0000\u001b[0m, \u001b[1;36m-1.0000\u001b[0m\u001b[1m]\u001b[0m,\n",
       "          \u001b[1m[\u001b[0m\u001b[1;36m-1.0000\u001b[0m, \u001b[1;36m-1.0000\u001b[0m, \u001b[1;36m-1.0000\u001b[0m,  \u001b[33m...\u001b[0m, \u001b[1;36m-1.0000\u001b[0m, \u001b[1;36m-1.0000\u001b[0m, \u001b[1;36m-1.0000\u001b[0m\u001b[1m]\u001b[0m\u001b[1m]\u001b[0m\u001b[1m]\u001b[0m\u001b[1m]\u001b[0m\u001b[1m)\u001b[0m,\n",
       "    \u001b[32m'foreground_start_coord'\u001b[0m: \u001b[1;35marray\u001b[0m\u001b[1m(\u001b[0m\u001b[1m[\u001b[0m \u001b[1;36m0\u001b[0m, \u001b[1;36m23\u001b[0m,  \u001b[1;36m0\u001b[0m\u001b[1m]\u001b[0m\u001b[1m)\u001b[0m,\n",
       "    \u001b[32m'foreground_end_coord'\u001b[0m: \u001b[1;35marray\u001b[0m\u001b[1m(\u001b[0m\u001b[1m[\u001b[0m\u001b[1;36m401\u001b[0m, \u001b[1;36m512\u001b[0m, \u001b[1;36m512\u001b[0m\u001b[1m]\u001b[0m\u001b[1m)\u001b[0m,\n",
       "    \u001b[32m'crop_offset'\u001b[0m: \u001b[1;35mtensor\u001b[0m\u001b[1m(\u001b[0m\u001b[1m[\u001b[0m\u001b[1;36m311\u001b[0m, \u001b[1;36m509\u001b[0m, \u001b[1;36m457\u001b[0m\u001b[1m]\u001b[0m, \u001b[33mdtype\u001b[0m=\u001b[35mtorch\u001b[0m.int32\u001b[1m)\u001b[0m\n",
       "\u001b[1m}\u001b[0m"
      ]
     },
     "execution_count": 5,
     "metadata": {},
     "output_type": "execute_result"
    }
   ],
   "source": [
    "dataset[1][0]"
   ]
  },
  {
   "cell_type": "code",
   "execution_count": 6,
   "metadata": {},
   "outputs": [
    {
     "data": {
      "application/vnd.jupyter.widget-view+json": {
       "model_id": "874639bef58e4c0ea5619eafd83255da",
       "version_major": 2,
       "version_minor": 0
      },
      "text/plain": [
       "train:   0%|          | 0/48996 [00:00<?, ?it/s]"
      ]
     },
     "metadata": {},
     "output_type": "display_data"
    },
    {
     "name": "stdout",
     "output_type": "stream",
     "text": [
      "No. of train datapoints: 48993\n"
     ]
    },
    {
     "data": {
      "application/vnd.jupyter.widget-view+json": {
       "model_id": "c5ba662a34fc457aa8f7e4541a6b8cb1",
       "version_major": 2,
       "version_minor": 0
      },
      "text/plain": [
       "Calculating sample weights:   0%|          | 0/48993 [00:00<?, ?it/s]"
      ]
     },
     "metadata": {},
     "output_type": "display_data"
    },
    {
     "name": "stdout",
     "output_type": "stream",
     "text": [
      "torch.Size([300, 1, 32, 32, 32])\n"
     ]
    }
   ],
   "source": [
    "dataloader = CTRATEDataModule(cfg.data).train_dataloader()\n",
    "for batch in dataloader:\n",
    "    print(batch[\"image\"].shape)\n",
    "    break"
   ]
  },
  {
   "cell_type": "markdown",
   "metadata": {},
   "source": [
    "# Val dataset and dataloader"
   ]
  },
  {
   "cell_type": "code",
   "execution_count": null,
   "metadata": {},
   "outputs": [
    {
     "data": {
      "application/vnd.jupyter.widget-view+json": {
       "model_id": "8d83c3dc496a4f17b4abffa26f19e060",
       "version_major": 2,
       "version_minor": 0
      },
      "text/plain": [
       "valid:   0%|          | 0/500 [00:00<?, ?it/s]"
      ]
     },
     "metadata": {},
     "output_type": "display_data"
    },
    {
     "name": "stdout",
     "output_type": "stream",
     "text": [
      "No. of valid datapoints: 500\n"
     ]
    }
   ],
   "source": [
    "dataset = CTRATEDataset(cfg.data, \"valid\")"
   ]
  },
  {
   "cell_type": "code",
   "execution_count": 9,
   "metadata": {},
   "outputs": [
    {
     "name": "stdout",
     "output_type": "stream",
     "text": [
      "torch.Size([1, 64, 64, 64]) metatensor(-0.6253) metatensor(-0.2333)\n"
     ]
    },
    {
     "data": {
      "application/vnd.jupyter.widget-view+json": {
       "model_id": "7ad61b64d1fd4c979d2570b446a16114",
       "version_major": 2,
       "version_minor": 0
      },
      "text/plain": [
       "interactive(children=(IntSlider(value=0, description='z', max=63), Output()), _dom_classes=('widget-interact',…"
      ]
     },
     "metadata": {},
     "output_type": "display_data"
    },
    {
     "name": "stdout",
     "output_type": "stream",
     "text": [
      "torch.Size([1, 64, 64, 64]) metatensor(-1.) metatensor(0.5313)\n"
     ]
    },
    {
     "data": {
      "application/vnd.jupyter.widget-view+json": {
       "model_id": "5a1e3791d8b4493881772c350e7f31cf",
       "version_major": 2,
       "version_minor": 0
      },
      "text/plain": [
       "interactive(children=(IntSlider(value=0, description='z', max=63), Output()), _dom_classes=('widget-interact',…"
      ]
     },
     "metadata": {},
     "output_type": "display_data"
    },
    {
     "name": "stdout",
     "output_type": "stream",
     "text": [
      "torch.Size([1, 64, 64, 64]) metatensor(-1.) metatensor(0.2793)\n"
     ]
    },
    {
     "data": {
      "application/vnd.jupyter.widget-view+json": {
       "model_id": "a6fda229bd1543a1ab91b91d173fdbb4",
       "version_major": 2,
       "version_minor": 0
      },
      "text/plain": [
       "interactive(children=(IntSlider(value=0, description='z', max=63), Output()), _dom_classes=('widget-interact',…"
      ]
     },
     "metadata": {},
     "output_type": "display_data"
    }
   ],
   "source": [
    "for i in range(3):\n",
    "    image = dataset[5 * i][0][\"image\"]\n",
    "    print(image.shape, image.min(), image.max())\n",
    "    plot_scans(image[0])"
   ]
  },
  {
   "cell_type": "code",
   "execution_count": 10,
   "metadata": {},
   "outputs": [
    {
     "data": {
      "application/vnd.jupyter.widget-view+json": {
       "model_id": "b3e267f9e2294ab592d3176d43d8605a",
       "version_major": 2,
       "version_minor": 0
      },
      "text/plain": [
       "valid:   0%|          | 0/500 [00:00<?, ?it/s]"
      ]
     },
     "metadata": {},
     "output_type": "display_data"
    },
    {
     "name": "stdout",
     "output_type": "stream",
     "text": [
      "No. of valid datapoints: 500\n",
      "torch.Size([60, 1, 64, 64, 64])\n"
     ]
    }
   ],
   "source": [
    "dataloader = CTRATEDataModule(cfg.data).val_dataloader()\n",
    "for batch in dataloader:\n",
    "    print(batch[\"image\"].shape)\n",
    "    break"
   ]
  },
  {
   "cell_type": "code",
   "execution_count": null,
   "metadata": {},
   "outputs": [],
   "source": []
  },
  {
   "cell_type": "code",
   "execution_count": null,
   "metadata": {},
   "outputs": [],
   "source": []
  }
 ],
 "metadata": {
  "kernelspec": {
   "display_name": "env",
   "language": "python",
   "name": "python3"
  },
  "language_info": {
   "codemirror_mode": {
    "name": "ipython",
    "version": 3
   },
   "file_extension": ".py",
   "mimetype": "text/x-python",
   "name": "python",
   "nbconvert_exporter": "python",
   "pygments_lexer": "ipython3",
   "version": "3.11.11"
  }
 },
 "nbformat": 4,
 "nbformat_minor": 2
}

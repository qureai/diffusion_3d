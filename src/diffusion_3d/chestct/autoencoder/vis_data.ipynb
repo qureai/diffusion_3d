{
 "cells": [
  {
   "cell_type": "code",
   "execution_count": 29,
   "metadata": {},
   "outputs": [],
   "source": [
    "from diffusion_3d.chestct.autoencoder.vae.config import get_config\n",
    "from diffusion_3d.datasets.ct_rate import CTRATEDataModule, CTRATEDataset\n",
    "from diffusion_3d.utils.visualize import plot_scans"
   ]
  },
  {
   "cell_type": "code",
   "execution_count": null,
   "metadata": {},
   "outputs": [
    {
     "data": {
      "text/html": [
       "<pre style=\"white-space:pre;overflow-x:auto;line-height:normal;font-family:Menlo,'DejaVu Sans Mono',consolas,'Courier New',monospace\"></pre>\n"
      ],
      "text/plain": []
     },
     "metadata": {},
     "output_type": "display_data"
    },
    {
     "data": {
      "text/plain": [
       "\u001b[1;35mMunch\u001b[0m\u001b[1m(\u001b[0m\u001b[1m{\u001b[0m\u001b[32m'data'\u001b[0m: \u001b[1;35mMunch\u001b[0m\u001b[1m(\u001b[0m\u001b[1m{\u001b[0m\u001b[32m'csvpath'\u001b[0m: \u001b[32m'/raid3/arjun/ct_pretraining/csvs/sources.csv'\u001b[0m, \u001b[32m'datapath'\u001b[0m: \u001b[32m'/raid3/arjun/ct_pretraining/scans/'\u001b[0m, \u001b[32m'checkpointspath'\u001b[0m: \u001b[32m'/raid3/arjun/checkpoints/adaptive_autoencoder/'\u001b[0m, \u001b[32m'limited_dataset_size'\u001b[0m: \u001b[3;35mNone\u001b[0m, \u001b[32m'allowed_spacings'\u001b[0m: \u001b[1m(\u001b[0m\u001b[1m(\u001b[0m\u001b[1;36m0.4\u001b[0m, \u001b[1;36m7\u001b[0m\u001b[1m)\u001b[0m, \u001b[1m(\u001b[0m\u001b[1;36m-1\u001b[0m, \u001b[1;36m-1\u001b[0m\u001b[1m)\u001b[0m, \u001b[1m(\u001b[0m\u001b[1;36m-1\u001b[0m, \u001b[1;36m-1\u001b[0m\u001b[1m)\u001b[0m\u001b[1m)\u001b[0m, \u001b[32m'allowed_shapes'\u001b[0m: \u001b[1m(\u001b[0m\u001b[1m(\u001b[0m\u001b[1;36m225\u001b[0m, \u001b[1;36m256\u001b[0m\u001b[1m)\u001b[0m, \u001b[1m(\u001b[0m\u001b[1;36m128\u001b[0m, \u001b[1;36m-1\u001b[0m\u001b[1m)\u001b[0m, \u001b[1m(\u001b[0m\u001b[1;36m128\u001b[0m, \u001b[1;36m-1\u001b[0m\u001b[1m)\u001b[0m\u001b[1m)\u001b[0m, \u001b[32m'train_augmentations'\u001b[0m: \u001b[1m[\u001b[0m\u001b[1;35mMunch\u001b[0m\u001b[1m(\u001b[0m\u001b[1m{\u001b[0m\u001b[32m'__fn_name__'\u001b[0m: \u001b[32m'random_resize_2d'\u001b[0m, \u001b[32m'min_shape'\u001b[0m: \u001b[1m(\u001b[0m\u001b[3;35mNone\u001b[0m, \u001b[1;36m128\u001b[0m, \u001b[1;36m128\u001b[0m\u001b[1m)\u001b[0m, \u001b[32m'max_shape'\u001b[0m: \u001b[1m(\u001b[0m\u001b[3;35mNone\u001b[0m, \u001b[1;36m128\u001b[0m, \u001b[1;36m128\u001b[0m\u001b[1m)\u001b[0m, \u001b[32m'interpolation_mode'\u001b[0m: \u001b[32m'bicubic'\u001b[0m\u001b[1m}\u001b[0m\u001b[1m)\u001b[0m, \u001b[1;35mMunch\u001b[0m\u001b[1m(\u001b[0m\u001b[1m{\u001b[0m\u001b[32m'__fn_name__'\u001b[0m: \u001b[32m'random_crop'\u001b[0m, \u001b[32m'target_shape'\u001b[0m: \u001b[1m(\u001b[0m\u001b[1;36m-1\u001b[0m, \u001b[1;36m128\u001b[0m, \u001b[1;36m128\u001b[0m\u001b[1m)\u001b[0m\u001b[1m}\u001b[0m\u001b[1m)\u001b[0m, \u001b[1;35mMunch\u001b[0m\u001b[1m(\u001b[0m\u001b[1m{\u001b[0m\u001b[32m'__fn_name__'\u001b[0m: \u001b[32m'pad_to_multiple_of'\u001b[0m, \u001b[32m'min_size'\u001b[0m: \u001b[1m(\u001b[0m\u001b[1;36m32\u001b[0m, \u001b[1;36m128\u001b[0m, \u001b[1;36m128\u001b[0m\u001b[1m)\u001b[0m, \u001b[32m'tile_size'\u001b[0m: \u001b[1m(\u001b[0m\u001b[1;36m32\u001b[0m, \u001b[1;36m32\u001b[0m, \u001b[1;36m32\u001b[0m\u001b[1m)\u001b[0m\u001b[1m}\u001b[0m\u001b[1m)\u001b[0m, \u001b[1;35mMunch\u001b[0m\u001b[1m(\u001b[0m\u001b[1m{\u001b[0m\u001b[32m'__fn_name__'\u001b[0m: \u001b[32m'random_rotate'\u001b[0m, \u001b[32m'degrees'\u001b[0m: \u001b[1;36m15\u001b[0m\u001b[1m}\u001b[0m\u001b[1m)\u001b[0m, \u001b[1;35mMunch\u001b[0m\u001b[1m(\u001b[0m\u001b[1m{\u001b[0m\u001b[32m'__fn_name__'\u001b[0m: \u001b[32m'random_windowing'\u001b[0m, \u001b[32m'window_choices'\u001b[0m: \u001b[1m[\u001b[0m\u001b[1m(\u001b[0m\u001b[1;36m3000\u001b[0m, \u001b[1;36m500\u001b[0m\u001b[1m)\u001b[0m\u001b[1m]\u001b[0m, \u001b[32m'normalize_range'\u001b[0m: \u001b[1m(\u001b[0m\u001b[1;36m-1.0\u001b[0m, \u001b[1;36m1.0\u001b[0m\u001b[1m)\u001b[0m\u001b[1m}\u001b[0m\u001b[1m)\u001b[0m, \u001b[1;35mMunch\u001b[0m\u001b[1m(\u001b[0m\u001b[1m{\u001b[0m\u001b[32m'__fn_name__'\u001b[0m: \u001b[32m'random_horizontal_flip'\u001b[0m, \u001b[32m'probability'\u001b[0m: \u001b[1;36m0.5\u001b[0m\u001b[1m}\u001b[0m\u001b[1m)\u001b[0m, \u001b[1m[\u001b[0m\u001b[1m[\u001b[0m\u001b[1;36m0.4\u001b[0m, \u001b[1;36m0.3\u001b[0m, \u001b[1;36m0.3\u001b[0m\u001b[1m]\u001b[0m, \u001b[1m[\u001b[0m\u001b[1m]\u001b[0m, \u001b[1m[\u001b[0m\u001b[1;35mMunch\u001b[0m\u001b[1m(\u001b[0m\u001b[1m{\u001b[0m\u001b[32m'__fn_name__'\u001b[0m: \u001b[32m'random_gaussian_blurring'\u001b[0m, \u001b[32m'sigma_range'\u001b[0m: \u001b[1m(\u001b[0m\u001b[1;36m0\u001b[0m, \u001b[1;36m1\u001b[0m\u001b[1m)\u001b[0m\u001b[1m}\u001b[0m\u001b[1m)\u001b[0m\u001b[1m]\u001b[0m, \u001b[1m[\u001b[0m\u001b[1;35mMunch\u001b[0m\u001b[1m(\u001b[0m\u001b[1m{\u001b[0m\u001b[32m'__fn_name__'\u001b[0m: \u001b[32m'random_unsharp_masking'\u001b[0m, \u001b[32m'sigma_range'\u001b[0m: \u001b[1m(\u001b[0m\u001b[1;36m0\u001b[0m, \u001b[1;36m1\u001b[0m\u001b[1m)\u001b[0m, \u001b[32m'alpha_range'\u001b[0m: \u001b[1m(\u001b[0m\u001b[1;36m0.5\u001b[0m, \u001b[1;36m2\u001b[0m\u001b[1m)\u001b[0m\u001b[1m}\u001b[0m\u001b[1m)\u001b[0m\u001b[1m]\u001b[0m\u001b[1m]\u001b[0m\u001b[1m]\u001b[0m, \u001b[32m'val_augmentations'\u001b[0m: \u001b[1m[\u001b[0m\u001b[1;35mMunch\u001b[0m\u001b[1m(\u001b[0m\u001b[1m{\u001b[0m\u001b[32m'__fn_name__'\u001b[0m: \u001b[32m'resize_2d'\u001b[0m, \u001b[32m'target_shape'\u001b[0m: \u001b[1m(\u001b[0m\u001b[3;35mNone\u001b[0m, \u001b[1;36m128\u001b[0m, \u001b[1;36m128\u001b[0m\u001b[1m)\u001b[0m, \u001b[32m'interpolation_mode'\u001b[0m: \u001b[32m'bicubic'\u001b[0m\u001b[1m}\u001b[0m\u001b[1m)\u001b[0m, \u001b[1;35mMunch\u001b[0m\u001b[1m(\u001b[0m\u001b[1m{\u001b[0m\u001b[32m'__fn_name__'\u001b[0m: \u001b[32m'pad_to_multiple_of'\u001b[0m, \u001b[32m'min_size'\u001b[0m: \u001b[1m(\u001b[0m\u001b[1;36m32\u001b[0m, \u001b[1;36m128\u001b[0m, \u001b[1;36m128\u001b[0m\u001b[1m)\u001b[0m, \u001b[32m'tile_size'\u001b[0m: \u001b[1m(\u001b[0m\u001b[1;36m32\u001b[0m, \u001b[1;36m32\u001b[0m, \u001b[1;36m32\u001b[0m\u001b[1m)\u001b[0m\u001b[1m}\u001b[0m\u001b[1m)\u001b[0m, \u001b[1;35mMunch\u001b[0m\u001b[1m(\u001b[0m\u001b[1m{\u001b[0m\u001b[32m'__fn_name__'\u001b[0m: \u001b[32m'random_windowing'\u001b[0m, \u001b[32m'window_choices'\u001b[0m: \u001b[1m[\u001b[0m\u001b[1m(\u001b[0m\u001b[1;36m3000\u001b[0m, \u001b[1;36m500\u001b[0m\u001b[1m)\u001b[0m\u001b[1m]\u001b[0m, \u001b[32m'normalize_range'\u001b[0m: \u001b[1m(\u001b[0m\u001b[1;36m-1.0\u001b[0m, \u001b[1;36m1.0\u001b[0m\u001b[1m)\u001b[0m\u001b[1m}\u001b[0m\u001b[1m)\u001b[0m\u001b[1m]\u001b[0m, \u001b[32m'num_workers'\u001b[0m: \u001b[1;36m12\u001b[0m, \u001b[32m'batch_size'\u001b[0m: \u001b[1;36m4\u001b[0m, \u001b[32m'train_sample_size'\u001b[0m: \u001b[1;36m4000\u001b[0m, \u001b[32m'sample_balance_cols'\u001b[0m: \u001b[1m[\u001b[0m\u001b[32m'Source'\u001b[0m, \u001b[32m'BodyPart'\u001b[0m\u001b[1m]\u001b[0m\u001b[1m}\u001b[0m\u001b[1m)\u001b[0m, \u001b[32m'model'\u001b[0m: \u001b[1;35mMunch\u001b[0m\u001b[1m(\u001b[0m\u001b[1m{\u001b[0m\u001b[32m'swin'\u001b[0m: \u001b[1;35mSwinV23DConfig\u001b[0m\u001b[1m(\u001b[0m\u001b[33min_channels\u001b[0m=\u001b[1;36m1\u001b[0m, \u001b[33mdim\u001b[0m=\u001b[1;36m12\u001b[0m, \u001b[33mpatch_size\u001b[0m=\u001b[1m(\u001b[0m\u001b[1;36m2\u001b[0m, \u001b[1;36m2\u001b[0m, \u001b[1;36m2\u001b[0m\u001b[1m)\u001b[0m, \u001b[33mstages\u001b[0m=\u001b[1m[\u001b[0m\u001b[1;35mSwinV23DStageConfig\u001b[0m\u001b[1m(\u001b[0m\u001b[33mdepth\u001b[0m=\u001b[1;36m1\u001b[0m, \u001b[33mwindow_size\u001b[0m=\u001b[1m(\u001b[0m\u001b[1;36m4\u001b[0m, \u001b[1;36m4\u001b[0m, \u001b[1;36m4\u001b[0m\u001b[1m)\u001b[0m, \u001b[33mnum_heads\u001b[0m=\u001b[1;36m2\u001b[0m, \u001b[33mintermediate_ratio\u001b[0m=\u001b[1;36m4\u001b[0m, \u001b[33mlayer_norm_eps\u001b[0m=\u001b[1;36m1e\u001b[0m\u001b[1;36m-06\u001b[0m, \u001b[33muse_relative_position_bias\u001b[0m=\u001b[3;92mTrue\u001b[0m, \u001b[33mpatch_merging\u001b[0m=\u001b[3;35mNone\u001b[0m, \u001b[33mpatch_splitting\u001b[0m=\u001b[3;35mNone\u001b[0m, \u001b[33mattn_drop_prob\u001b[0m=\u001b[1;36m0\u001b[0m\u001b[1;36m.1\u001b[0m, \u001b[33mproj_drop_prob\u001b[0m=\u001b[1;36m0\u001b[0m\u001b[1;36m.1\u001b[0m, \u001b[33mmlp_drop_prob\u001b[0m=\u001b[1;36m0\u001b[0m\u001b[1;36m.1\u001b[0m\u001b[1m)\u001b[0m, \u001b[1;35mSwinV23DStageConfig\u001b[0m\u001b[1m(\u001b[0m\u001b[33mdepth\u001b[0m=\u001b[1;36m1\u001b[0m, \u001b[33mwindow_size\u001b[0m=\u001b[1m(\u001b[0m\u001b[1;36m4\u001b[0m, \u001b[1;36m4\u001b[0m, \u001b[1;36m4\u001b[0m\u001b[1m)\u001b[0m, \u001b[33mnum_heads\u001b[0m=\u001b[1;36m4\u001b[0m, \u001b[33mintermediate_ratio\u001b[0m=\u001b[1;36m4\u001b[0m, \u001b[33mlayer_norm_eps\u001b[0m=\u001b[1;36m1e\u001b[0m\u001b[1;36m-06\u001b[0m, \u001b[33muse_relative_position_bias\u001b[0m=\u001b[3;92mTrue\u001b[0m, \u001b[33mpatch_merging\u001b[0m=\u001b[1m{\u001b[0m\u001b[32m'merge_window_size'\u001b[0m: \u001b[1m(\u001b[0m\u001b[1;36m2\u001b[0m, \u001b[1;36m2\u001b[0m, \u001b[1;36m2\u001b[0m\u001b[1m)\u001b[0m, \u001b[32m'out_dim_ratio'\u001b[0m: \u001b[1;36m4\u001b[0m\u001b[1m}\u001b[0m, \u001b[33mpatch_splitting\u001b[0m=\u001b[3;35mNone\u001b[0m, \u001b[33mattn_drop_prob\u001b[0m=\u001b[1;36m0\u001b[0m\u001b[1;36m.1\u001b[0m, \u001b[33mproj_drop_prob\u001b[0m=\u001b[1;36m0\u001b[0m\u001b[1;36m.1\u001b[0m, \u001b[33mmlp_drop_prob\u001b[0m=\u001b[1;36m0\u001b[0m\u001b[1;36m.1\u001b[0m\u001b[1m)\u001b[0m, \u001b[1;35mSwinV23DStageConfig\u001b[0m\u001b[1m(\u001b[0m\u001b[33mdepth\u001b[0m=\u001b[1;36m3\u001b[0m, \u001b[33mwindow_size\u001b[0m=\u001b[1m(\u001b[0m\u001b[1;36m4\u001b[0m, \u001b[1;36m4\u001b[0m, \u001b[1;36m4\u001b[0m\u001b[1m)\u001b[0m, \u001b[33mnum_heads\u001b[0m=\u001b[1;36m8\u001b[0m, \u001b[33mintermediate_ratio\u001b[0m=\u001b[1;36m4\u001b[0m, \u001b[33mlayer_norm_eps\u001b[0m=\u001b[1;36m1e\u001b[0m\u001b[1;36m-06\u001b[0m, \u001b[33muse_relative_position_bias\u001b[0m=\u001b[3;92mTrue\u001b[0m, \u001b[33mpatch_merging\u001b[0m=\u001b[1m{\u001b[0m\u001b[32m'merge_window_size'\u001b[0m: \u001b[1m(\u001b[0m\u001b[1;36m2\u001b[0m, \u001b[1;36m2\u001b[0m, \u001b[1;36m2\u001b[0m\u001b[1m)\u001b[0m, \u001b[32m'out_dim_ratio'\u001b[0m: \u001b[1;36m4\u001b[0m\u001b[1m}\u001b[0m, \u001b[33mpatch_splitting\u001b[0m=\u001b[3;35mNone\u001b[0m, \u001b[33mattn_drop_prob\u001b[0m=\u001b[1;36m0\u001b[0m\u001b[1;36m.1\u001b[0m, \u001b[33mproj_drop_prob\u001b[0m=\u001b[1;36m0\u001b[0m\u001b[1;36m.1\u001b[0m, \u001b[33mmlp_drop_prob\u001b[0m=\u001b[1;36m0\u001b[0m\u001b[1;36m.1\u001b[0m\u001b[1m)\u001b[0m, \u001b[1;35mSwinV23DStageConfig\u001b[0m\u001b[1m(\u001b[0m\u001b[33mdepth\u001b[0m=\u001b[1;36m1\u001b[0m, \u001b[33mwindow_size\u001b[0m=\u001b[1m(\u001b[0m\u001b[1;36m2\u001b[0m, \u001b[1;36m4\u001b[0m, \u001b[1;36m4\u001b[0m\u001b[1m)\u001b[0m, \u001b[33mnum_heads\u001b[0m=\u001b[1;36m16\u001b[0m, \u001b[33mintermediate_ratio\u001b[0m=\u001b[1;36m4\u001b[0m, \u001b[33mlayer_norm_eps\u001b[0m=\u001b[1;36m1e\u001b[0m\u001b[1;36m-06\u001b[0m, \u001b[33muse_relative_position_bias\u001b[0m=\u001b[3;92mTrue\u001b[0m, \u001b[33mpatch_merging\u001b[0m=\u001b[1m{\u001b[0m\u001b[32m'merge_window_size'\u001b[0m: \u001b[1m(\u001b[0m\u001b[1;36m2\u001b[0m, \u001b[1;36m2\u001b[0m, \u001b[1;36m2\u001b[0m\u001b[1m)\u001b[0m, \u001b[32m'out_dim_ratio'\u001b[0m: \u001b[1;36m4\u001b[0m\u001b[1m}\u001b[0m, \u001b[33mpatch_splitting\u001b[0m=\u001b[3;35mNone\u001b[0m, \u001b[33mattn_drop_prob\u001b[0m=\u001b[1;36m0\u001b[0m\u001b[1;36m.1\u001b[0m, \u001b[33mproj_drop_prob\u001b[0m=\u001b[1;36m0\u001b[0m\u001b[1;36m.1\u001b[0m, \u001b[33mmlp_drop_prob\u001b[0m=\u001b[1;36m0\u001b[0m\u001b[1;36m.1\u001b[0m\u001b[1m)\u001b[0m\u001b[1m]\u001b[0m, \u001b[33mimage_size\u001b[0m=\u001b[3;35mNone\u001b[0m, \u001b[33mdrop_prob\u001b[0m=\u001b[1;36m0\u001b[0m\u001b[1;36m.1\u001b[0m, \u001b[33membed_spacing_info\u001b[0m=\u001b[3;91mFalse\u001b[0m, \u001b[33muse_absolute_position_embeddings\u001b[0m=\u001b[3;92mTrue\u001b[0m, \u001b[33mlearnable_absolute_position_embeddings\u001b[0m=\u001b[3;91mFalse\u001b[0m\u001b[1m)\u001b[0m, \u001b[32m'adaptor'\u001b[0m: \u001b[1;35mMunch\u001b[0m\u001b[1m(\u001b[0m\u001b[1m{\u001b[0m\u001b[32m'dim'\u001b[0m: \u001b[1;36m768\u001b[0m, \u001b[32m'adaptive_queries_size'\u001b[0m: \u001b[1m(\u001b[0m\u001b[1;36m24\u001b[0m, \u001b[1;36m8\u001b[0m, \u001b[1;36m8\u001b[0m\u001b[1m)\u001b[0m, \u001b[32m'num_heads'\u001b[0m: \u001b[1;36m16\u001b[0m, \u001b[32m'decoder_depth'\u001b[0m: \u001b[1;36m2\u001b[0m, \u001b[32m'intermediate_ratio'\u001b[0m: \u001b[1;36m4\u001b[0m, \u001b[32m'layer_norm_eps'\u001b[0m: \u001b[1;36m1e-06\u001b[0m, \u001b[32m'attn_drop_prob'\u001b[0m: \u001b[1;36m0.1\u001b[0m, \u001b[32m'proj_drop_prob'\u001b[0m: \u001b[1;36m0.1\u001b[0m, \u001b[32m'mlp_drop_prob'\u001b[0m: \u001b[1;36m0.1\u001b[0m\u001b[1m}\u001b[0m\u001b[1m)\u001b[0m, \u001b[32m'decoder'\u001b[0m: \u001b[1;35mMunch\u001b[0m\u001b[1m(\u001b[0m\u001b[1m{\u001b[0m\u001b[32m'spatial_dims'\u001b[0m: \u001b[1;36m3\u001b[0m, \u001b[32m'channels'\u001b[0m: \u001b[1m[\u001b[0m\u001b[1;36m12\u001b[0m, \u001b[1;36m12\u001b[0m, \u001b[1;36m48\u001b[0m, \u001b[1;36m192\u001b[0m\u001b[1m]\u001b[0m, \u001b[32m'in_channels'\u001b[0m: \u001b[1;36m768\u001b[0m, \u001b[32m'out_channels'\u001b[0m: \u001b[1;36m1\u001b[0m, \u001b[32m'num_res_blocks'\u001b[0m: \u001b[1m[\u001b[0m\u001b[1;36m1\u001b[0m, \u001b[1;36m2\u001b[0m, \u001b[1;36m2\u001b[0m, \u001b[1;36m6\u001b[0m\u001b[1m]\u001b[0m, \u001b[32m'norm_num_groups'\u001b[0m: \u001b[1;36m12\u001b[0m, \u001b[32m'norm_eps'\u001b[0m: \u001b[1;36m1e-06\u001b[0m, \u001b[32m'attention_levels'\u001b[0m: \u001b[1m[\u001b[0m\u001b[3;91mFalse\u001b[0m, \u001b[3;91mFalse\u001b[0m, \u001b[3;91mFalse\u001b[0m, \u001b[3;91mFalse\u001b[0m\u001b[1m]\u001b[0m, \u001b[32m'use_convtranspose'\u001b[0m: \u001b[3;92mTrue\u001b[0m\u001b[1m}\u001b[0m\u001b[1m)\u001b[0m, \u001b[32m'final_layer'\u001b[0m: \u001b[1;35mMunch\u001b[0m\u001b[1m(\u001b[0m\u001b[1m{\u001b[0m\u001b[32m'in_channels'\u001b[0m: \u001b[1;36m1\u001b[0m, \u001b[32m'out_channels'\u001b[0m: \u001b[1;36m1\u001b[0m\u001b[1m}\u001b[0m\u001b[1m)\u001b[0m\u001b[1m}\u001b[0m\u001b[1m)\u001b[0m, \u001b[32m'training'\u001b[0m: \u001b[1;35mMunch\u001b[0m\u001b[1m(\u001b[0m\u001b[1m{\u001b[0m\u001b[32m'start_from_checkpoint'\u001b[0m: \u001b[3;35mNone\u001b[0m, \u001b[32m'max_epochs'\u001b[0m: \u001b[1;36m1000\u001b[0m, \u001b[32m'inital_lr'\u001b[0m: \u001b[1;36m0.0001\u001b[0m, \u001b[32m'seed'\u001b[0m: \u001b[1;36m42\u001b[0m, \u001b[32m'check_val_every_n_epoch'\u001b[0m: \u001b[1;36m1\u001b[0m, \u001b[32m'loss_weights'\u001b[0m: \u001b[1;35mMunch\u001b[0m\u001b[1m(\u001b[0m\u001b[1m{\u001b[0m\u001b[32m'reconstruction_loss'\u001b[0m: \u001b[1;36m1.0\u001b[0m, \u001b[32m'kl_loss'\u001b[0m: \u001b[1;36m0.01\u001b[0m, \u001b[32m'perceptual_loss'\u001b[0m: \u001b[1;36m0.1\u001b[0m\u001b[1m}\u001b[0m\u001b[1m)\u001b[0m, \u001b[32m'fast_dev_run'\u001b[0m: \u001b[1;36m20\u001b[0m, \u001b[32m'strategy'\u001b[0m: \u001b[32m'ddp'\u001b[0m, \u001b[32m'accumulate_grad_batches'\u001b[0m: \u001b[1;36m10\u001b[0m, \u001b[32m'gradient_clip_val'\u001b[0m: \u001b[1;36m1.0\u001b[0m\u001b[1m}\u001b[0m\u001b[1m)\u001b[0m, \u001b[32m'distributed'\u001b[0m: \u001b[1;35mMunch\u001b[0m\u001b[1m(\u001b[0m\u001b[1m{\u001b[0m\u001b[32m'distributed'\u001b[0m: \u001b[3;91mFalse\u001b[0m, \u001b[32m'nodes'\u001b[0m: \u001b[1m[\u001b[0m\u001b[1m(\u001b[0m\u001b[32m'e2ecloud16.e2e.qure.ai'\u001b[0m, \u001b[1m[\u001b[0m\u001b[32m'10.4.234.22'\u001b[0m, \u001b[1;36m4\u001b[0m\u001b[1m]\u001b[0m\u001b[1m)\u001b[0m, \u001b[1m(\u001b[0m\u001b[32m'e2ecloud14.e2e.qure.ai'\u001b[0m, \u001b[1m[\u001b[0m\u001b[32m'10.4.234.9'\u001b[0m, \u001b[1;36m2\u001b[0m\u001b[1m]\u001b[0m\u001b[1m)\u001b[0m, \u001b[1m(\u001b[0m\u001b[32m'e2ecloud23.e2e.qure.ai'\u001b[0m, \u001b[1m[\u001b[0m\u001b[32m'10.4.234.12'\u001b[0m, \u001b[1;36m2\u001b[0m\u001b[1m]\u001b[0m\u001b[1m)\u001b[0m\u001b[1m]\u001b[0m\u001b[1m}\u001b[0m\u001b[1m)\u001b[0m, \u001b[32m'additional'\u001b[0m: \u001b[1;35mMunch\u001b[0m\u001b[1m(\u001b[0m\u001b[1m{\u001b[0m\u001b[32m'task_name'\u001b[0m: \u001b[32m'v14__2025_02_21'\u001b[0m, \u001b[32m'log_on_clearml'\u001b[0m: \u001b[3;92mTrue\u001b[0m, \u001b[32m'clearml_project'\u001b[0m: \u001b[32m'adaptive_autoencoder'\u001b[0m, \u001b[32m'clearml_tags'\u001b[0m: \u001b[1m[\u001b[0m\u001b[32m'Training image size: \u001b[0m\u001b[32m(\u001b[0m\u001b[32m256, 128, 128\u001b[0m\u001b[32m)\u001b[0m\u001b[32m'\u001b[0m, \u001b[32m'Patch sizes: \u001b[0m\u001b[32m[\u001b[0m\u001b[32m(\u001b[0m\u001b[32m2, 2, 2\u001b[0m\u001b[32m)\u001b[0m\u001b[32m, \u001b[0m\u001b[32m(\u001b[0m\u001b[32m4, 4, 4\u001b[0m\u001b[32m)\u001b[0m\u001b[32m, \u001b[0m\u001b[32m(\u001b[0m\u001b[32m8, 8, 8\u001b[0m\u001b[32m)\u001b[0m\u001b[32m, \u001b[0m\u001b[32m(\u001b[0m\u001b[32m16, 16, 16\u001b[0m\u001b[32m)\u001b[0m\u001b[32m]\u001b[0m\u001b[32m'\u001b[0m, \u001b[32m'Grid sizes: \u001b[0m\u001b[32m[\u001b[0m\u001b[32m(\u001b[0m\u001b[32m128, 64, 64\u001b[0m\u001b[32m)\u001b[0m\u001b[32m, \u001b[0m\u001b[32m(\u001b[0m\u001b[32m64, 32, 32\u001b[0m\u001b[32m)\u001b[0m\u001b[32m, \u001b[0m\u001b[32m(\u001b[0m\u001b[32m32, 16, 16\u001b[0m\u001b[32m)\u001b[0m\u001b[32m, \u001b[0m\u001b[32m(\u001b[0m\u001b[32m16, 8, 8\u001b[0m\u001b[32m)\u001b[0m\u001b[32m]\u001b[0m\u001b[32m'\u001b[0m, \u001b[32m'Dimensions: \u001b[0m\u001b[32m[\u001b[0m\u001b[32m12, 48, 192, 768\u001b[0m\u001b[32m]\u001b[0m\u001b[32m'\u001b[0m, \u001b[32m'Batch size: 4'\u001b[0m, \u001b[32m'Simple VAE'\u001b[0m, \u001b[32m'Smaller input size'\u001b[0m, \u001b[32m'Redesigned compression'\u001b[0m\u001b[1m]\u001b[0m\u001b[1m}\u001b[0m\u001b[1m)\u001b[0m, \u001b[32m'image_size'\u001b[0m: \u001b[1m(\u001b[0m\u001b[1;36m256\u001b[0m, \u001b[1;36m128\u001b[0m, \u001b[1;36m128\u001b[0m\u001b[1m)\u001b[0m\u001b[1m}\u001b[0m\u001b[1m)\u001b[0m"
      ]
     },
     "execution_count": 30,
     "metadata": {},
     "output_type": "execute_result"
    }
   ],
   "source": [
    "cfg = get_config()\n",
    "cfg"
   ]
  },
  {
   "cell_type": "code",
   "execution_count": 27,
   "metadata": {},
   "outputs": [
    {
     "data": {
      "application/vnd.jupyter.widget-view+json": {
       "model_id": "e295e6704c63431ba5b8a9022bd0eee4",
       "version_major": 2,
       "version_minor": 0
      },
      "text/plain": [
       "train:   0%|          | 0/47606 [00:00<?, ?it/s]"
      ]
     },
     "metadata": {},
     "output_type": "display_data"
    },
    {
     "name": "stdout",
     "output_type": "stream",
     "text": [
      "No. of train datapoints: 12015\n",
      "torch.Size([1, 256, 128, 128])\n"
     ]
    },
    {
     "data": {
      "application/vnd.jupyter.widget-view+json": {
       "model_id": "279b3993a73845a4a9f0eb0ca75b2e04",
       "version_major": 2,
       "version_minor": 0
      },
      "text/plain": [
       "interactive(children=(IntSlider(value=0, description='z', max=255), Output()), _dom_classes=('widget-interact'…"
      ]
     },
     "metadata": {},
     "output_type": "display_data"
    }
   ],
   "source": [
    "dataset = CTRATEDataset(cfg.data, \"train\")\n",
    "\n",
    "scan = dataset[1][\"scan\"]\n",
    "\n",
    "print(scan.shape)\n",
    "plot_scans(scan[0])"
   ]
  },
  {
   "cell_type": "code",
   "execution_count": 28,
   "metadata": {},
   "outputs": [
    {
     "data": {
      "application/vnd.jupyter.widget-view+json": {
       "model_id": "453d13c0d20e4653a5f343b247e22e3d",
       "version_major": 2,
       "version_minor": 0
      },
      "text/plain": [
       "valid:   0%|          | 0/2579 [00:00<?, ?it/s]"
      ]
     },
     "metadata": {},
     "output_type": "display_data"
    },
    {
     "name": "stdout",
     "output_type": "stream",
     "text": [
      "No. of valid datapoints: 648\n",
      "torch.Size([1, 256, 128, 128])\n"
     ]
    },
    {
     "data": {
      "application/vnd.jupyter.widget-view+json": {
       "model_id": "a03c9deecf354748a24b0258e619bb41",
       "version_major": 2,
       "version_minor": 0
      },
      "text/plain": [
       "interactive(children=(IntSlider(value=0, description='z', max=255), Output()), _dom_classes=('widget-interact'…"
      ]
     },
     "metadata": {},
     "output_type": "display_data"
    }
   ],
   "source": [
    "dataset = CTRATEDataset(cfg.data, \"valid\")\n",
    "\n",
    "scan = dataset[5][\"scan\"]\n",
    "\n",
    "print(scan.shape)\n",
    "plot_scans(scan[0])"
   ]
  },
  {
   "cell_type": "code",
   "execution_count": null,
   "metadata": {},
   "outputs": [],
   "source": []
  },
  {
   "cell_type": "code",
   "execution_count": null,
   "metadata": {},
   "outputs": [],
   "source": []
  }
 ],
 "metadata": {
  "kernelspec": {
   "display_name": "base",
   "language": "python",
   "name": "python3"
  },
  "language_info": {
   "codemirror_mode": {
    "name": "ipython",
    "version": 3
   },
   "file_extension": ".py",
   "mimetype": "text/x-python",
   "name": "python",
   "nbconvert_exporter": "python",
   "pygments_lexer": "ipython3",
   "version": "3.10.14"
  }
 },
 "nbformat": 4,
 "nbformat_minor": 2
}

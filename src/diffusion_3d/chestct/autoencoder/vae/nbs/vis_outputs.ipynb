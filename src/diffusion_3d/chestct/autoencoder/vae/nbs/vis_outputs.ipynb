{
 "cells": [
  {
   "cell_type": "code",
   "execution_count": null,
   "metadata": {},
   "outputs": [],
   "source": [
    "import numpy as np\n",
    "import torch\n",
    "from einops import rearrange\n",
    "from sklearn.decomposition import PCA\n",
    "from tqdm.auto import tqdm\n",
    "\n",
    "from diffusion_3d.chestct.autoencoder.vae.config import get_config\n",
    "from diffusion_3d.chestct.autoencoder.vae.model import AdaptiveVAELightning\n",
    "from diffusion_3d.datasets.ct_rate import CTRATEDataModule\n",
    "from diffusion_3d.utils.visualize import plot_scans"
   ]
  },
  {
   "cell_type": "code",
   "execution_count": null,
   "metadata": {},
   "outputs": [
    {
     "data": {
      "text/html": [
       "<pre style=\"white-space:pre;overflow-x:auto;line-height:normal;font-family:Menlo,'DejaVu Sans Mono',consolas,'Courier New',monospace\"></pre>\n"
      ],
      "text/plain": []
     },
     "metadata": {},
     "output_type": "display_data"
    },
    {
     "data": {
      "text/plain": [
       "\u001b[1;35mMunch\u001b[0m\u001b[1m(\u001b[0m\u001b[1m{\u001b[0m\u001b[32m'data'\u001b[0m: \u001b[1;35mMunch\u001b[0m\u001b[1m(\u001b[0m\u001b[1m{\u001b[0m\u001b[32m'csvpath'\u001b[0m: \u001b[32m'/raid3/arjun/ct_pretraining/csvs/sources.csv'\u001b[0m, \u001b[32m'datapath'\u001b[0m: \u001b[32m'/raid3/arjun/ct_pretraining/scans/'\u001b[0m, \u001b[32m'checkpointspath'\u001b[0m: \u001b[32m'/raid3/arjun/checkpoints/adaptive_autoencoder/'\u001b[0m, \u001b[32m'limited_dataset_size'\u001b[0m: \u001b[3;35mNone\u001b[0m, \u001b[32m'allowed_spacings'\u001b[0m: \u001b[1m(\u001b[0m\u001b[1m(\u001b[0m\u001b[1;36m0.4\u001b[0m, \u001b[1;36m7\u001b[0m\u001b[1m)\u001b[0m, \u001b[1m(\u001b[0m\u001b[1;36m-1\u001b[0m, \u001b[1;36m-1\u001b[0m\u001b[1m)\u001b[0m, \u001b[1m(\u001b[0m\u001b[1;36m-1\u001b[0m, \u001b[1;36m-1\u001b[0m\u001b[1m)\u001b[0m\u001b[1m)\u001b[0m, \u001b[32m'allowed_shapes'\u001b[0m: \u001b[1m(\u001b[0m\u001b[1m(\u001b[0m\u001b[1;36m96\u001b[0m, \u001b[1;36m-1\u001b[0m\u001b[1m)\u001b[0m, \u001b[1m(\u001b[0m\u001b[1;36m256\u001b[0m, \u001b[1;36m-1\u001b[0m\u001b[1m)\u001b[0m, \u001b[1m(\u001b[0m\u001b[1;36m256\u001b[0m, \u001b[1;36m-1\u001b[0m\u001b[1m)\u001b[0m\u001b[1m)\u001b[0m, \u001b[32m'train_augmentations'\u001b[0m: \u001b[1;35mMunch\u001b[0m\u001b[1m(\u001b[0m\u001b[1m{\u001b[0m\u001b[32m'_target_'\u001b[0m: \u001b[32m'monai.transforms.Compose'\u001b[0m, \u001b[32m'transforms'\u001b[0m: \u001b[1m[\u001b[0m\u001b[1;35mMunch\u001b[0m\u001b[1m(\u001b[0m\u001b[1m{\u001b[0m\u001b[32m'_target_'\u001b[0m: \u001b[32m'monai.transforms.CropForegroundd'\u001b[0m, \u001b[32m'keys'\u001b[0m: \u001b[1m[\u001b[0m\u001b[32m'image'\u001b[0m\u001b[1m]\u001b[0m, \u001b[32m'source_key'\u001b[0m: \u001b[32m'image'\u001b[0m, \u001b[32m'allow_smaller'\u001b[0m: \u001b[3;92mTrue\u001b[0m\u001b[1m}\u001b[0m\u001b[1m)\u001b[0m, \u001b[1;35mMunch\u001b[0m\u001b[1m(\u001b[0m\u001b[1m{\u001b[0m\u001b[32m'_target_'\u001b[0m: \u001b[32m'monai.transforms.ScaleIntensityRanged'\u001b[0m, \u001b[32m'keys'\u001b[0m: \u001b[1m[\u001b[0m\u001b[32m'image'\u001b[0m\u001b[1m]\u001b[0m, \u001b[32m'a_min'\u001b[0m: \u001b[1;36m-1000\u001b[0m, \u001b[32m'a_max'\u001b[0m: \u001b[1;36m2000\u001b[0m, \u001b[32m'b_min'\u001b[0m: \u001b[1;36m-1.0\u001b[0m, \u001b[32m'b_max'\u001b[0m: \u001b[1;36m1.0\u001b[0m, \u001b[32m'clip'\u001b[0m: \u001b[3;92mTrue\u001b[0m\u001b[1m}\u001b[0m\u001b[1m)\u001b[0m, \u001b[1;35mMunch\u001b[0m\u001b[1m(\u001b[0m\u001b[1m{\u001b[0m\u001b[32m'_target_'\u001b[0m: \u001b[32m'monai.transforms.RandSpatialCropSamplesd'\u001b[0m, \u001b[32m'keys'\u001b[0m: \u001b[1m[\u001b[0m\u001b[32m'image'\u001b[0m\u001b[1m]\u001b[0m, \u001b[32m'roi_size'\u001b[0m: \u001b[1m(\u001b[0m\u001b[1;36m76\u001b[0m, \u001b[1;36m76\u001b[0m, \u001b[1;36m76\u001b[0m\u001b[1m)\u001b[0m, \u001b[32m'max_roi_size'\u001b[0m: \u001b[1m(\u001b[0m\u001b[1;36m115\u001b[0m, \u001b[1;36m115\u001b[0m, \u001b[1;36m115\u001b[0m\u001b[1m)\u001b[0m, \u001b[32m'random_size'\u001b[0m: \u001b[3;92mTrue\u001b[0m, \u001b[32m'num_samples'\u001b[0m: \u001b[1;36m5\u001b[0m\u001b[1m}\u001b[0m\u001b[1m)\u001b[0m, \u001b[1;35mMunch\u001b[0m\u001b[1m(\u001b[0m\u001b[1m{\u001b[0m\u001b[32m'_target_'\u001b[0m: \u001b[32m'monai.transforms.Resized'\u001b[0m, \u001b[32m'keys'\u001b[0m: \u001b[1m[\u001b[0m\u001b[32m'image'\u001b[0m\u001b[1m]\u001b[0m, \u001b[32m'spatial_size'\u001b[0m: \u001b[1m(\u001b[0m\u001b[1;36m96\u001b[0m, \u001b[1;36m96\u001b[0m, \u001b[1;36m96\u001b[0m\u001b[1m)\u001b[0m, \u001b[32m'mode'\u001b[0m: \u001b[32m'trilinear'\u001b[0m, \u001b[32m'anti_aliasing'\u001b[0m: \u001b[3;92mTrue\u001b[0m\u001b[1m}\u001b[0m\u001b[1m)\u001b[0m, \u001b[1;35mMunch\u001b[0m\u001b[1m(\u001b[0m\u001b[1m{\u001b[0m\u001b[32m'_target_'\u001b[0m: \u001b[32m'monai.transforms.ScaleIntensityRanged'\u001b[0m, \u001b[32m'keys'\u001b[0m: \u001b[1m[\u001b[0m\u001b[32m'image'\u001b[0m\u001b[1m]\u001b[0m, \u001b[32m'a_min'\u001b[0m: \u001b[1;36m-1.0\u001b[0m, \u001b[32m'a_max'\u001b[0m: \u001b[1;36m1.0\u001b[0m, \u001b[32m'b_min'\u001b[0m: \u001b[1;36m-1.0\u001b[0m, \u001b[32m'b_max'\u001b[0m: \u001b[1;36m1.0\u001b[0m, \u001b[32m'clip'\u001b[0m: \u001b[3;92mTrue\u001b[0m\u001b[1m}\u001b[0m\u001b[1m)\u001b[0m, \u001b[1;35mMunch\u001b[0m\u001b[1m(\u001b[0m\u001b[1m{\u001b[0m\u001b[32m'_target_'\u001b[0m: \u001b[32m'monai.transforms.RandomOrder'\u001b[0m, \u001b[32m'transforms'\u001b[0m: \u001b[1m[\u001b[0m\u001b[1;35mMunch\u001b[0m\u001b[1m(\u001b[0m\u001b[1m{\u001b[0m\u001b[32m'_target_'\u001b[0m: \u001b[32m'monai.transforms.RandFlipd'\u001b[0m, \u001b[32m'keys'\u001b[0m: \u001b[1m[\u001b[0m\u001b[32m'image'\u001b[0m\u001b[1m]\u001b[0m, \u001b[32m'prob'\u001b[0m: \u001b[1;36m0.5\u001b[0m\u001b[1m}\u001b[0m\u001b[1m)\u001b[0m, \u001b[1;35mMunch\u001b[0m\u001b[1m(\u001b[0m\u001b[1m{\u001b[0m\u001b[32m'_target_'\u001b[0m: \u001b[32m'monai.transforms.Compose'\u001b[0m, \u001b[32m'transforms'\u001b[0m: \u001b[1m[\u001b[0m\u001b[1;35mMunch\u001b[0m\u001b[1m(\u001b[0m\u001b[1m{\u001b[0m\u001b[32m'_target_'\u001b[0m: \u001b[32m'monai.transforms.RandKSpaceSpikeNoised'\u001b[0m, \u001b[32m'keys'\u001b[0m: \u001b[1m[\u001b[0m\u001b[32m'image'\u001b[0m\u001b[1m]\u001b[0m, \u001b[32m'prob'\u001b[0m: \u001b[1;36m0.1\u001b[0m\u001b[1m}\u001b[0m\u001b[1m)\u001b[0m, \u001b[1;35mMunch\u001b[0m\u001b[1m(\u001b[0m\u001b[1m{\u001b[0m\u001b[32m'_target_'\u001b[0m: \u001b[32m'monai.transforms.ScaleIntensityRanged'\u001b[0m, \u001b[32m'keys'\u001b[0m: \u001b[1m[\u001b[0m\u001b[32m'image'\u001b[0m\u001b[1m]\u001b[0m, \u001b[32m'a_min'\u001b[0m: \u001b[1;36m-1.0\u001b[0m, \u001b[32m'a_max'\u001b[0m: \u001b[1;36m1.0\u001b[0m, \u001b[32m'b_min'\u001b[0m: \u001b[1;36m-1.0\u001b[0m, \u001b[32m'b_max'\u001b[0m: \u001b[1;36m1.0\u001b[0m, \u001b[32m'clip'\u001b[0m: \u001b[3;92mTrue\u001b[0m\u001b[1m}\u001b[0m\u001b[1m)\u001b[0m\u001b[1m]\u001b[0m\u001b[1m}\u001b[0m\u001b[1m)\u001b[0m, \u001b[1;35mMunch\u001b[0m\u001b[1m(\u001b[0m\u001b[1m{\u001b[0m\u001b[32m'_target_'\u001b[0m: \u001b[32m'monai.transforms.OneOf'\u001b[0m, \u001b[32m'transforms'\u001b[0m: \u001b[1m[\u001b[0m\u001b[1;35mMunch\u001b[0m\u001b[1m(\u001b[0m\u001b[1m{\u001b[0m\u001b[32m'_target_'\u001b[0m: \u001b[32m'monai.transforms.Compose'\u001b[0m, \u001b[32m'transforms'\u001b[0m: \u001b[1m[\u001b[0m\u001b[1;35mMunch\u001b[0m\u001b[1m(\u001b[0m\u001b[1m{\u001b[0m\u001b[32m'_target_'\u001b[0m: \u001b[32m'monai.transforms.RandGaussianNoised'\u001b[0m, \u001b[32m'keys'\u001b[0m: \u001b[1m[\u001b[0m\u001b[32m'image'\u001b[0m\u001b[1m]\u001b[0m, \u001b[32m'prob'\u001b[0m: \u001b[1;36m0.75\u001b[0m\u001b[1m}\u001b[0m\u001b[1m)\u001b[0m, \u001b[1;35mMunch\u001b[0m\u001b[1m(\u001b[0m\u001b[1m{\u001b[0m\u001b[32m'_target_'\u001b[0m: \u001b[32m'monai.transforms.ScaleIntensityRanged'\u001b[0m, \u001b[32m'keys'\u001b[0m: \u001b[1m[\u001b[0m\u001b[32m'image'\u001b[0m\u001b[1m]\u001b[0m, \u001b[32m'a_min'\u001b[0m: \u001b[1;36m-1.0\u001b[0m, \u001b[32m'a_max'\u001b[0m: \u001b[1;36m1.0\u001b[0m, \u001b[32m'b_min'\u001b[0m: \u001b[1;36m-1.0\u001b[0m, \u001b[32m'b_max'\u001b[0m: \u001b[1;36m1.0\u001b[0m, \u001b[32m'clip'\u001b[0m: \u001b[3;92mTrue\u001b[0m\u001b[1m}\u001b[0m\u001b[1m)\u001b[0m\u001b[1m]\u001b[0m\u001b[1m}\u001b[0m\u001b[1m)\u001b[0m, \u001b[1;35mMunch\u001b[0m\u001b[1m(\u001b[0m\u001b[1m{\u001b[0m\u001b[32m'_target_'\u001b[0m: \u001b[32m'monai.transforms.Compose'\u001b[0m, \u001b[32m'transforms'\u001b[0m: \u001b[1m[\u001b[0m\u001b[1;35mMunch\u001b[0m\u001b[1m(\u001b[0m\u001b[1m{\u001b[0m\u001b[32m'_target_'\u001b[0m: \u001b[32m'monai.transforms.RandGaussianSmoothd'\u001b[0m, \u001b[32m'keys'\u001b[0m: \u001b[1m[\u001b[0m\u001b[32m'image'\u001b[0m\u001b[1m]\u001b[0m, \u001b[32m'prob'\u001b[0m: \u001b[1;36m0.75\u001b[0m\u001b[1m}\u001b[0m\u001b[1m)\u001b[0m, \u001b[1;35mMunch\u001b[0m\u001b[1m(\u001b[0m\u001b[1m{\u001b[0m\u001b[32m'_target_'\u001b[0m: \u001b[32m'monai.transforms.ScaleIntensityRanged'\u001b[0m, \u001b[32m'keys'\u001b[0m: \u001b[1m[\u001b[0m\u001b[32m'image'\u001b[0m\u001b[1m]\u001b[0m, \u001b[32m'a_min'\u001b[0m: \u001b[1;36m-1.0\u001b[0m, \u001b[32m'a_max'\u001b[0m: \u001b[1;36m1.0\u001b[0m, \u001b[32m'b_min'\u001b[0m: \u001b[1;36m-1.0\u001b[0m, \u001b[32m'b_max'\u001b[0m: \u001b[1;36m1.0\u001b[0m, \u001b[32m'clip'\u001b[0m: \u001b[3;92mTrue\u001b[0m\u001b[1m}\u001b[0m\u001b[1m)\u001b[0m\u001b[1m]\u001b[0m\u001b[1m}\u001b[0m\u001b[1m)\u001b[0m, \u001b[1;35mMunch\u001b[0m\u001b[1m(\u001b[0m\u001b[1m{\u001b[0m\u001b[32m'_target_'\u001b[0m: \u001b[32m'monai.transforms.Compose'\u001b[0m, \u001b[32m'transforms'\u001b[0m: \u001b[1m[\u001b[0m\u001b[1;35mMunch\u001b[0m\u001b[1m(\u001b[0m\u001b[1m{\u001b[0m\u001b[32m'_target_'\u001b[0m: \u001b[32m'monai.transforms.RandGaussianSharpend'\u001b[0m, \u001b[32m'keys'\u001b[0m: \u001b[1m[\u001b[0m\u001b[32m'image'\u001b[0m\u001b[1m]\u001b[0m, \u001b[32m'prob'\u001b[0m: \u001b[1;36m0.75\u001b[0m\u001b[1m}\u001b[0m\u001b[1m)\u001b[0m, \u001b[1;35mMunch\u001b[0m\u001b[1m(\u001b[0m\u001b[1m{\u001b[0m\u001b[32m'_target_'\u001b[0m: \u001b[32m'monai.transforms.ScaleIntensityRanged'\u001b[0m, \u001b[32m'keys'\u001b[0m: \u001b[1m[\u001b[0m\u001b[32m'image'\u001b[0m\u001b[1m]\u001b[0m, \u001b[32m'a_min'\u001b[0m: \u001b[1;36m-1.0\u001b[0m, \u001b[32m'a_max'\u001b[0m: \u001b[1;36m1.0\u001b[0m, \u001b[32m'b_min'\u001b[0m: \u001b[1;36m-1.0\u001b[0m, \u001b[32m'b_max'\u001b[0m: \u001b[1;36m1.0\u001b[0m, \u001b[32m'clip'\u001b[0m: \u001b[3;92mTrue\u001b[0m\u001b[1m}\u001b[0m\u001b[1m)\u001b[0m\u001b[1m]\u001b[0m\u001b[1m}\u001b[0m\u001b[1m)\u001b[0m\u001b[1m]\u001b[0m\u001b[1m}\u001b[0m\u001b[1m)\u001b[0m\u001b[1m]\u001b[0m\u001b[1m}\u001b[0m\u001b[1m)\u001b[0m, \u001b[1;35mMunch\u001b[0m\u001b[1m(\u001b[0m\u001b[1m{\u001b[0m\u001b[32m'_target_'\u001b[0m: \u001b[32m'monai.transforms.ScaleIntensityRanged'\u001b[0m, \u001b[32m'keys'\u001b[0m: \u001b[1m[\u001b[0m\u001b[32m'image'\u001b[0m\u001b[1m]\u001b[0m, \u001b[32m'a_min'\u001b[0m: \u001b[1;36m-1.0\u001b[0m, \u001b[32m'a_max'\u001b[0m: \u001b[1;36m1.0\u001b[0m, \u001b[32m'b_min'\u001b[0m: \u001b[1;36m-1.0\u001b[0m, \u001b[32m'b_max'\u001b[0m: \u001b[1;36m1.0\u001b[0m, \u001b[32m'clip'\u001b[0m: \u001b[3;92mTrue\u001b[0m\u001b[1m}\u001b[0m\u001b[1m)\u001b[0m\u001b[1m]\u001b[0m\u001b[1m}\u001b[0m\u001b[1m)\u001b[0m, \u001b[32m'val_augmentations'\u001b[0m: \u001b[1;35mMunch\u001b[0m\u001b[1m(\u001b[0m\u001b[1m{\u001b[0m\u001b[32m'_target_'\u001b[0m: \u001b[32m'monai.transforms.Compose'\u001b[0m, \u001b[32m'transforms'\u001b[0m: \u001b[1m[\u001b[0m\u001b[1;35mMunch\u001b[0m\u001b[1m(\u001b[0m\u001b[1m{\u001b[0m\u001b[32m'_target_'\u001b[0m: \u001b[32m'monai.transforms.CropForegroundd'\u001b[0m, \u001b[32m'keys'\u001b[0m: \u001b[1m[\u001b[0m\u001b[32m'image'\u001b[0m\u001b[1m]\u001b[0m, \u001b[32m'source_key'\u001b[0m: \u001b[32m'image'\u001b[0m, \u001b[32m'allow_smaller'\u001b[0m: \u001b[3;92mTrue\u001b[0m\u001b[1m}\u001b[0m\u001b[1m)\u001b[0m, \u001b[1;35mMunch\u001b[0m\u001b[1m(\u001b[0m\u001b[1m{\u001b[0m\u001b[32m'_target_'\u001b[0m: \u001b[32m'monai.transforms.ScaleIntensityRanged'\u001b[0m, \u001b[32m'keys'\u001b[0m: \u001b[1m[\u001b[0m\u001b[32m'image'\u001b[0m\u001b[1m]\u001b[0m, \u001b[32m'a_min'\u001b[0m: \u001b[1;36m-1000\u001b[0m, \u001b[32m'a_max'\u001b[0m: \u001b[1;36m2000\u001b[0m, \u001b[32m'b_min'\u001b[0m: \u001b[1;36m-1.0\u001b[0m, \u001b[32m'b_max'\u001b[0m: \u001b[1;36m1.0\u001b[0m, \u001b[32m'clip'\u001b[0m: \u001b[3;92mTrue\u001b[0m\u001b[1m}\u001b[0m\u001b[1m)\u001b[0m, \u001b[1;35mMunch\u001b[0m\u001b[1m(\u001b[0m\u001b[1m{\u001b[0m\u001b[32m'_target_'\u001b[0m: \u001b[32m'monai.transforms.RandSpatialCropSamplesd'\u001b[0m, \u001b[32m'keys'\u001b[0m: \u001b[1m[\u001b[0m\u001b[32m'image'\u001b[0m\u001b[1m]\u001b[0m, \u001b[32m'roi_size'\u001b[0m: \u001b[1m(\u001b[0m\u001b[1;36m96\u001b[0m, \u001b[1;36m96\u001b[0m, \u001b[1;36m96\u001b[0m\u001b[1m)\u001b[0m, \u001b[32m'num_samples'\u001b[0m: \u001b[1;36m20\u001b[0m\u001b[1m}\u001b[0m\u001b[1m)\u001b[0m, \u001b[1;35mMunch\u001b[0m\u001b[1m(\u001b[0m\u001b[1m{\u001b[0m\u001b[32m'_target_'\u001b[0m: \u001b[32m'monai.transforms.ScaleIntensityRanged'\u001b[0m, \u001b[32m'keys'\u001b[0m: \u001b[1m[\u001b[0m\u001b[32m'image'\u001b[0m\u001b[1m]\u001b[0m, \u001b[32m'a_min'\u001b[0m: \u001b[1;36m-1.0\u001b[0m, \u001b[32m'a_max'\u001b[0m: \u001b[1;36m1.0\u001b[0m, \u001b[32m'b_min'\u001b[0m: \u001b[1;36m-1.0\u001b[0m, \u001b[32m'b_max'\u001b[0m: \u001b[1;36m1.0\u001b[0m, \u001b[32m'clip'\u001b[0m: \u001b[3;92mTrue\u001b[0m\u001b[1m}\u001b[0m\u001b[1m)\u001b[0m\u001b[1m]\u001b[0m\u001b[1m}\u001b[0m\u001b[1m)\u001b[0m, \u001b[32m'test_augmentations'\u001b[0m: \u001b[1;35mMunch\u001b[0m\u001b[1m(\u001b[0m\u001b[1m{\u001b[0m\u001b[32m'_target_'\u001b[0m: \u001b[32m'monai.transforms.Compose'\u001b[0m, \u001b[32m'transforms'\u001b[0m: \u001b[1m[\u001b[0m\u001b[1;35mMunch\u001b[0m\u001b[1m(\u001b[0m\u001b[1m{\u001b[0m\u001b[32m'_target_'\u001b[0m: \u001b[32m'monai.transforms.CropForegroundd'\u001b[0m, \u001b[32m'keys'\u001b[0m: \u001b[1m[\u001b[0m\u001b[32m'image'\u001b[0m\u001b[1m]\u001b[0m, \u001b[32m'source_key'\u001b[0m: \u001b[32m'image'\u001b[0m, \u001b[32m'allow_smaller'\u001b[0m: \u001b[3;92mTrue\u001b[0m\u001b[1m}\u001b[0m\u001b[1m)\u001b[0m, \u001b[1;35mMunch\u001b[0m\u001b[1m(\u001b[0m\u001b[1m{\u001b[0m\u001b[32m'_target_'\u001b[0m: \u001b[32m'monai.transforms.ScaleIntensityRanged'\u001b[0m, \u001b[32m'keys'\u001b[0m: \u001b[1m[\u001b[0m\u001b[32m'image'\u001b[0m\u001b[1m]\u001b[0m, \u001b[32m'a_min'\u001b[0m: \u001b[1;36m-1000\u001b[0m, \u001b[32m'a_max'\u001b[0m: \u001b[1;36m2000\u001b[0m, \u001b[32m'b_min'\u001b[0m: \u001b[1;36m-1.0\u001b[0m, \u001b[32m'b_max'\u001b[0m: \u001b[1;36m1.0\u001b[0m, \u001b[32m'clip'\u001b[0m: \u001b[3;92mTrue\u001b[0m\u001b[1m}\u001b[0m\u001b[1m)\u001b[0m, \u001b[1;35mMunch\u001b[0m\u001b[1m(\u001b[0m\u001b[1m{\u001b[0m\u001b[32m'_target_'\u001b[0m: \u001b[32m'monai.transforms.SpatialPadd'\u001b[0m, \u001b[32m'keys'\u001b[0m: \u001b[1m[\u001b[0m\u001b[32m'image'\u001b[0m\u001b[1m]\u001b[0m, \u001b[32m'spatial_size'\u001b[0m: \u001b[1m(\u001b[0m\u001b[1;36m32\u001b[0m, \u001b[1;36m128\u001b[0m, \u001b[1;36m128\u001b[0m\u001b[1m)\u001b[0m, \u001b[32m'mode'\u001b[0m: \u001b[32m'constant'\u001b[0m, \u001b[32m'value'\u001b[0m: \u001b[1;36m-1\u001b[0m\u001b[1m}\u001b[0m\u001b[1m)\u001b[0m, \u001b[1;35mMunch\u001b[0m\u001b[1m(\u001b[0m\u001b[1m{\u001b[0m\u001b[32m'_target_'\u001b[0m: \u001b[32m'monai.transforms.DivisiblePadd'\u001b[0m, \u001b[32m'keys'\u001b[0m: \u001b[1m[\u001b[0m\u001b[32m'image'\u001b[0m\u001b[1m]\u001b[0m, \u001b[32m'k'\u001b[0m: \u001b[1m(\u001b[0m\u001b[1;36m16\u001b[0m, \u001b[1;36m16\u001b[0m, \u001b[1;36m16\u001b[0m\u001b[1m)\u001b[0m, \u001b[32m'mode'\u001b[0m: \u001b[32m'constant'\u001b[0m, \u001b[32m'value'\u001b[0m: \u001b[1;36m-1\u001b[0m\u001b[1m}\u001b[0m\u001b[1m)\u001b[0m\u001b[1m]\u001b[0m\u001b[1m}\u001b[0m\u001b[1m)\u001b[0m, \u001b[32m'num_workers'\u001b[0m: \u001b[1;36m16\u001b[0m, \u001b[32m'train_batch_size'\u001b[0m: \u001b[1;36m4\u001b[0m, \u001b[32m'val_batch_size'\u001b[0m: \u001b[1;36m1\u001b[0m, \u001b[32m'train_sample_size'\u001b[0m: \u001b[1;36m2000\u001b[0m, \u001b[32m'sample_balance_cols'\u001b[0m: \u001b[1m[\u001b[0m\u001b[32m'Source'\u001b[0m, \u001b[32m'BodyPart'\u001b[0m\u001b[1m]\u001b[0m\u001b[1m}\u001b[0m\u001b[1m)\u001b[0m, \u001b[32m'model'\u001b[0m: \u001b[1;35mMunch\u001b[0m\u001b[1m(\u001b[0m\u001b[1m{\u001b[0m\u001b[32m'swin'\u001b[0m: \u001b[1;35mSwinV23DConfig\u001b[0m\u001b[1m(\u001b[0m\u001b[33mdim\u001b[0m=\u001b[1;36m24\u001b[0m, \u001b[33mstages\u001b[0m=\u001b[1m[\u001b[0m\u001b[1;35mSwinV23DStageConfig\u001b[0m\u001b[1m(\u001b[0m\u001b[33mdim\u001b[0m=\u001b[1;36m24\u001b[0m, \u001b[33mmlp_ratio\u001b[0m=\u001b[1;36m4\u001b[0m, \u001b[33mactivation\u001b[0m=\u001b[32m'gelu'\u001b[0m, \u001b[33mmlp_drop_prob\u001b[0m=\u001b[1;36m0\u001b[0m\u001b[1;36m.1\u001b[0m, \u001b[33mnum_heads\u001b[0m=\u001b[1;36m8\u001b[0m, \u001b[33mratio_q_to_kv_heads\u001b[0m=\u001b[1;36m1\u001b[0m, \u001b[33mlogit_scale_learnable\u001b[0m=\u001b[3;91mFalse\u001b[0m, \u001b[33mattn_drop_prob\u001b[0m=\u001b[1;36m0\u001b[0m\u001b[1;36m.1\u001b[0m, \u001b[33mproj_drop_prob\u001b[0m=\u001b[1;36m0\u001b[0m\u001b[1;36m.1\u001b[0m, \u001b[33mmax_attention_batch_size\u001b[0m=\u001b[1;36m4096\u001b[0m, \u001b[33mnorm_location\u001b[0m=\u001b[32m'post'\u001b[0m, \u001b[33mlayer_norm_eps\u001b[0m=\u001b[1;36m1e\u001b[0m\u001b[1;36m-06\u001b[0m, \u001b[33mdepth\u001b[0m=\u001b[1;36m2\u001b[0m, \u001b[33mwindow_size\u001b[0m=\u001b[1m(\u001b[0m\u001b[1;36m4\u001b[0m, \u001b[1;36m4\u001b[0m, \u001b[1;36m4\u001b[0m\u001b[1m)\u001b[0m, \u001b[33muse_relative_position_bias\u001b[0m=\u001b[3;92mTrue\u001b[0m, \u001b[33mpatch_merging\u001b[0m=\u001b[3;35mNone\u001b[0m, \u001b[33mpatch_splitting\u001b[0m=\u001b[3;35mNone\u001b[0m, \u001b[33min_dim\u001b[0m=\u001b[1;36m24\u001b[0m, \u001b[33mout_dim\u001b[0m=\u001b[1;36m24\u001b[0m\u001b[1m)\u001b[0m, \u001b[1;35mSwinV23DStageConfig\u001b[0m\u001b[1m(\u001b[0m\u001b[33mdim\u001b[0m=\u001b[1;36m48\u001b[0m, \u001b[33mmlp_ratio\u001b[0m=\u001b[1;36m4\u001b[0m, \u001b[33mactivation\u001b[0m=\u001b[32m'gelu'\u001b[0m, \u001b[33mmlp_drop_prob\u001b[0m=\u001b[1;36m0\u001b[0m\u001b[1;36m.1\u001b[0m, \u001b[33mnum_heads\u001b[0m=\u001b[1;36m8\u001b[0m, \u001b[33mratio_q_to_kv_heads\u001b[0m=\u001b[1;36m1\u001b[0m, \u001b[33mlogit_scale_learnable\u001b[0m=\u001b[3;91mFalse\u001b[0m, \u001b[33mattn_drop_prob\u001b[0m=\u001b[1;36m0\u001b[0m\u001b[1;36m.1\u001b[0m, \u001b[33mproj_drop_prob\u001b[0m=\u001b[1;36m0\u001b[0m\u001b[1;36m.1\u001b[0m, \u001b[33mmax_attention_batch_size\u001b[0m=\u001b[1;36m4096\u001b[0m, \u001b[33mnorm_location\u001b[0m=\u001b[32m'post'\u001b[0m, \u001b[33mlayer_norm_eps\u001b[0m=\u001b[1;36m1e\u001b[0m\u001b[1;36m-06\u001b[0m, \u001b[33mdepth\u001b[0m=\u001b[1;36m2\u001b[0m, \u001b[33mwindow_size\u001b[0m=\u001b[1m(\u001b[0m\u001b[1;36m4\u001b[0m, \u001b[1;36m4\u001b[0m, \u001b[1;36m4\u001b[0m\u001b[1m)\u001b[0m, \u001b[33muse_relative_position_bias\u001b[0m=\u001b[3;92mTrue\u001b[0m, \u001b[33mpatch_merging\u001b[0m=\u001b[1;35mSwinV23DPatchMergingConfig\u001b[0m\u001b[1m(\u001b[0m\u001b[33mout_dim_ratio\u001b[0m=\u001b[1;36m2\u001b[0m, \u001b[33mmerge_window_size\u001b[0m=\u001b[1m(\u001b[0m\u001b[1;36m2\u001b[0m, \u001b[1;36m2\u001b[0m, \u001b[1;36m2\u001b[0m\u001b[1m)\u001b[0m\u001b[1m)\u001b[0m, \u001b[33mpatch_splitting\u001b[0m=\u001b[3;35mNone\u001b[0m, \u001b[33min_dim\u001b[0m=\u001b[1;36m24\u001b[0m, \u001b[33mout_dim\u001b[0m=\u001b[1;36m48\u001b[0m\u001b[1m)\u001b[0m, \u001b[1;35mSwinV23DStageConfig\u001b[0m\u001b[1m(\u001b[0m\u001b[33mdim\u001b[0m=\u001b[1;36m96\u001b[0m, \u001b[33mmlp_ratio\u001b[0m=\u001b[1;36m4\u001b[0m, \u001b[33mactivation\u001b[0m=\u001b[32m'gelu'\u001b[0m, \u001b[33mmlp_drop_prob\u001b[0m=\u001b[1;36m0\u001b[0m\u001b[1;36m.1\u001b[0m, \u001b[33mnum_heads\u001b[0m=\u001b[1;36m16\u001b[0m, \u001b[33mratio_q_to_kv_heads\u001b[0m=\u001b[1;36m1\u001b[0m, \u001b[33mlogit_scale_learnable\u001b[0m=\u001b[3;91mFalse\u001b[0m, \u001b[33mattn_drop_prob\u001b[0m=\u001b[1;36m0\u001b[0m\u001b[1;36m.1\u001b[0m, \u001b[33mproj_drop_prob\u001b[0m=\u001b[1;36m0\u001b[0m\u001b[1;36m.1\u001b[0m, \u001b[33mmax_attention_batch_size\u001b[0m=\u001b[1;36m4096\u001b[0m, \u001b[33mnorm_location\u001b[0m=\u001b[32m'post'\u001b[0m, \u001b[33mlayer_norm_eps\u001b[0m=\u001b[1;36m1e\u001b[0m\u001b[1;36m-06\u001b[0m, \u001b[33mdepth\u001b[0m=\u001b[1;36m4\u001b[0m, \u001b[33mwindow_size\u001b[0m=\u001b[1m(\u001b[0m\u001b[1;36m4\u001b[0m, \u001b[1;36m4\u001b[0m, \u001b[1;36m4\u001b[0m\u001b[1m)\u001b[0m, \u001b[33muse_relative_position_bias\u001b[0m=\u001b[3;92mTrue\u001b[0m, \u001b[33mpatch_merging\u001b[0m=\u001b[1;35mSwinV23DPatchMergingConfig\u001b[0m\u001b[1m(\u001b[0m\u001b[33mout_dim_ratio\u001b[0m=\u001b[1;36m2\u001b[0m, \u001b[33mmerge_window_size\u001b[0m=\u001b[1m(\u001b[0m\u001b[1;36m2\u001b[0m, \u001b[1;36m2\u001b[0m, \u001b[1;36m2\u001b[0m\u001b[1m)\u001b[0m\u001b[1m)\u001b[0m, \u001b[33mpatch_splitting\u001b[0m=\u001b[3;35mNone\u001b[0m, \u001b[33min_dim\u001b[0m=\u001b[1;36m48\u001b[0m, \u001b[33mout_dim\u001b[0m=\u001b[1;36m96\u001b[0m\u001b[1m)\u001b[0m, \u001b[1;35mSwinV23DStageConfig\u001b[0m\u001b[1m(\u001b[0m\u001b[33mdim\u001b[0m=\u001b[1;36m192\u001b[0m, \u001b[33mmlp_ratio\u001b[0m=\u001b[1;36m4\u001b[0m, \u001b[33mactivation\u001b[0m=\u001b[32m'gelu'\u001b[0m, \u001b[33mmlp_drop_prob\u001b[0m=\u001b[1;36m0\u001b[0m\u001b[1;36m.1\u001b[0m, \u001b[33mnum_heads\u001b[0m=\u001b[1;36m16\u001b[0m, \u001b[33mratio_q_to_kv_heads\u001b[0m=\u001b[1;36m1\u001b[0m, \u001b[33mlogit_scale_learnable\u001b[0m=\u001b[3;91mFalse\u001b[0m, \u001b[33mattn_drop_prob\u001b[0m=\u001b[1;36m0\u001b[0m\u001b[1;36m.1\u001b[0m, \u001b[33mproj_drop_prob\u001b[0m=\u001b[1;36m0\u001b[0m\u001b[1;36m.1\u001b[0m, \u001b[33mmax_attention_batch_size\u001b[0m=\u001b[1;36m4096\u001b[0m, \u001b[33mnorm_location\u001b[0m=\u001b[32m'post'\u001b[0m, \u001b[33mlayer_norm_eps\u001b[0m=\u001b[1;36m1e\u001b[0m\u001b[1;36m-06\u001b[0m, \u001b[33mdepth\u001b[0m=\u001b[1;36m2\u001b[0m, \u001b[33mwindow_size\u001b[0m=\u001b[1m(\u001b[0m\u001b[1;36m6\u001b[0m, \u001b[1;36m6\u001b[0m, \u001b[1;36m6\u001b[0m\u001b[1m)\u001b[0m, \u001b[33muse_relative_position_bias\u001b[0m=\u001b[3;92mTrue\u001b[0m, \u001b[33mpatch_merging\u001b[0m=\u001b[1;35mSwinV23DPatchMergingConfig\u001b[0m\u001b[1m(\u001b[0m\u001b[33mout_dim_ratio\u001b[0m=\u001b[1;36m2\u001b[0m, \u001b[33mmerge_window_size\u001b[0m=\u001b[1m(\u001b[0m\u001b[1;36m2\u001b[0m, \u001b[1;36m2\u001b[0m, \u001b[1;36m2\u001b[0m\u001b[1m)\u001b[0m\u001b[1m)\u001b[0m, \u001b[33mpatch_splitting\u001b[0m=\u001b[3;35mNone\u001b[0m, \u001b[33min_dim\u001b[0m=\u001b[1;36m96\u001b[0m, \u001b[33mout_dim\u001b[0m=\u001b[1;36m192\u001b[0m\u001b[1m)\u001b[0m\u001b[1m]\u001b[0m, \u001b[33mdrop_prob\u001b[0m=\u001b[1;36m0\u001b[0m\u001b[1;36m.1\u001b[0m, \u001b[33membed_spacing_info\u001b[0m=\u001b[3;91mFalse\u001b[0m, \u001b[33min_channels\u001b[0m=\u001b[1;36m1\u001b[0m, \u001b[33mpatch_size\u001b[0m=\u001b[1m(\u001b[0m\u001b[1;36m2\u001b[0m, \u001b[1;36m2\u001b[0m, \u001b[1;36m2\u001b[0m\u001b[1m)\u001b[0m, \u001b[33mimage_size\u001b[0m=\u001b[3;35mNone\u001b[0m, \u001b[33muse_absolute_position_embeddings\u001b[0m=\u001b[3;92mTrue\u001b[0m, \u001b[33mlearnable_absolute_position_embeddings\u001b[0m=\u001b[3;91mFalse\u001b[0m\u001b[1m)\u001b[0m, \u001b[32m'adaptor'\u001b[0m: \u001b[1;35mPerceiver3DConfig\u001b[0m\u001b[1m(\u001b[0m\u001b[33mencode\u001b[0m=\u001b[1;35mPerceiver3DEncoderEncodeConfig\u001b[0m\u001b[1m(\u001b[0m\u001b[33mdim\u001b[0m=\u001b[1;36m192\u001b[0m, \u001b[33mmlp_ratio\u001b[0m=\u001b[1;36m4\u001b[0m, \u001b[33mactivation\u001b[0m=\u001b[32m'gelu'\u001b[0m, \u001b[33mmlp_drop_prob\u001b[0m=\u001b[1;36m0\u001b[0m\u001b[1;36m.1\u001b[0m, \u001b[33mnum_heads\u001b[0m=\u001b[1;36m16\u001b[0m, \u001b[33mratio_q_to_kv_heads\u001b[0m=\u001b[1;36m1\u001b[0m, \u001b[33mlogit_scale_learnable\u001b[0m=\u001b[3;91mFalse\u001b[0m, \u001b[33mattn_drop_prob\u001b[0m=\u001b[1;36m0\u001b[0m\u001b[1;36m.1\u001b[0m, \u001b[33mproj_drop_prob\u001b[0m=\u001b[1;36m0\u001b[0m\u001b[1;36m.1\u001b[0m, \u001b[33mmax_attention_batch_size\u001b[0m=\u001b[1;36m-1\u001b[0m, \u001b[33mnorm_location\u001b[0m=\u001b[32m'post'\u001b[0m, \u001b[33mlayer_norm_eps\u001b[0m=\u001b[1;36m1e\u001b[0m\u001b[1;36m-06\u001b[0m, \u001b[33mnum_latent_tokens\u001b[0m=\u001b[1;36m1024\u001b[0m, \u001b[33mnum_layers\u001b[0m=\u001b[1;36m2\u001b[0m\u001b[1m)\u001b[0m, \u001b[33mprocess\u001b[0m=\u001b[1;35mPerceiver3DEncoderProcessConfig\u001b[0m\u001b[1m(\u001b[0m\u001b[33mdim\u001b[0m=\u001b[1;36m192\u001b[0m, \u001b[33mmlp_ratio\u001b[0m=\u001b[1;36m4\u001b[0m, \u001b[33mactivation\u001b[0m=\u001b[32m'gelu'\u001b[0m, \u001b[33mmlp_drop_prob\u001b[0m=\u001b[1;36m0\u001b[0m\u001b[1;36m.1\u001b[0m, \u001b[33mnum_heads\u001b[0m=\u001b[1;36m16\u001b[0m, \u001b[33mratio_q_to_kv_heads\u001b[0m=\u001b[1;36m1\u001b[0m, \u001b[33mlogit_scale_learnable\u001b[0m=\u001b[3;91mFalse\u001b[0m, \u001b[33mattn_drop_prob\u001b[0m=\u001b[1;36m0\u001b[0m\u001b[1;36m.1\u001b[0m, \u001b[33mproj_drop_prob\u001b[0m=\u001b[1;36m0\u001b[0m\u001b[1;36m.1\u001b[0m, \u001b[33mmax_attention_batch_size\u001b[0m=\u001b[1;36m-1\u001b[0m, \u001b[33mnorm_location\u001b[0m=\u001b[32m'post'\u001b[0m, \u001b[33mlayer_norm_eps\u001b[0m=\u001b[1;36m1e\u001b[0m\u001b[1;36m-06\u001b[0m, \u001b[33mnum_layers\u001b[0m=\u001b[1;36m4\u001b[0m\u001b[1m)\u001b[0m, \u001b[33mdecode\u001b[0m=\u001b[1;35mPerceiver3DDecoderConfig\u001b[0m\u001b[1m(\u001b[0m\u001b[33mdim\u001b[0m=\u001b[1;36m192\u001b[0m, \u001b[33mmlp_ratio\u001b[0m=\u001b[1;36m4\u001b[0m, \u001b[33mactivation\u001b[0m=\u001b[32m'gelu'\u001b[0m, \u001b[33mmlp_drop_prob\u001b[0m=\u001b[1;36m0\u001b[0m\u001b[1;36m.1\u001b[0m, \u001b[33mnum_heads\u001b[0m=\u001b[1;36m16\u001b[0m, \u001b[33mratio_q_to_kv_heads\u001b[0m=\u001b[1;36m1\u001b[0m, \u001b[33mlogit_scale_learnable\u001b[0m=\u001b[3;91mFalse\u001b[0m, \u001b[33mattn_drop_prob\u001b[0m=\u001b[1;36m0\u001b[0m\u001b[1;36m.1\u001b[0m, \u001b[33mproj_drop_prob\u001b[0m=\u001b[1;36m0\u001b[0m\u001b[1;36m.1\u001b[0m, \u001b[33mmax_attention_batch_size\u001b[0m=\u001b[1;36m-1\u001b[0m, \u001b[33mnorm_location\u001b[0m=\u001b[32m'post'\u001b[0m, \u001b[33mlayer_norm_eps\u001b[0m=\u001b[1;36m1e\u001b[0m\u001b[1;36m-06\u001b[0m, \u001b[33mnum_layers\u001b[0m=\u001b[1;36m2\u001b[0m, \u001b[33mout_channels\u001b[0m=\u001b[1;36m192\u001b[0m\u001b[1m)\u001b[0m\u001b[1m)\u001b[0m, \u001b[32m'decoder'\u001b[0m: \u001b[1;35mSwinV23DDecoderConfig\u001b[0m\u001b[1m(\u001b[0m\u001b[33mdim\u001b[0m=\u001b[1;36m192\u001b[0m, \u001b[33mstages\u001b[0m=\u001b[1m[\u001b[0m\u001b[1;35mSwinV23DStageConfig\u001b[0m\u001b[1m(\u001b[0m\u001b[33mdim\u001b[0m=\u001b[1;36m192\u001b[0m, \u001b[33mmlp_ratio\u001b[0m=\u001b[1;36m4\u001b[0m, \u001b[33mactivation\u001b[0m=\u001b[32m'gelu'\u001b[0m, \u001b[33mmlp_drop_prob\u001b[0m=\u001b[1;36m0\u001b[0m\u001b[1;36m.1\u001b[0m, \u001b[33mnum_heads\u001b[0m=\u001b[1;36m16\u001b[0m, \u001b[33mratio_q_to_kv_heads\u001b[0m=\u001b[1;36m1\u001b[0m, \u001b[33mlogit_scale_learnable\u001b[0m=\u001b[3;91mFalse\u001b[0m, \u001b[33mattn_drop_prob\u001b[0m=\u001b[1;36m0\u001b[0m\u001b[1;36m.1\u001b[0m, \u001b[33mproj_drop_prob\u001b[0m=\u001b[1;36m0\u001b[0m\u001b[1;36m.1\u001b[0m, \u001b[33mmax_attention_batch_size\u001b[0m=\u001b[1;36m4096\u001b[0m, \u001b[33mnorm_location\u001b[0m=\u001b[32m'post'\u001b[0m, \u001b[33mlayer_norm_eps\u001b[0m=\u001b[1;36m1e\u001b[0m\u001b[1;36m-06\u001b[0m, \u001b[33mdepth\u001b[0m=\u001b[1;36m2\u001b[0m, \u001b[33mwindow_size\u001b[0m=\u001b[1m(\u001b[0m\u001b[1;36m6\u001b[0m, \u001b[1;36m6\u001b[0m, \u001b[1;36m6\u001b[0m\u001b[1m)\u001b[0m, \u001b[33muse_relative_position_bias\u001b[0m=\u001b[3;92mTrue\u001b[0m, \u001b[33mpatch_merging\u001b[0m=\u001b[3;35mNone\u001b[0m, \u001b[33mpatch_splitting\u001b[0m=\u001b[1;35mSwinV23DPatchSplittingConfig\u001b[0m\u001b[1m(\u001b[0m\u001b[33mout_dim_ratio\u001b[0m=\u001b[1;36m2\u001b[0m, \u001b[33mfinal_window_size\u001b[0m=\u001b[1m(\u001b[0m\u001b[1;36m2\u001b[0m, \u001b[1;36m2\u001b[0m, \u001b[1;36m2\u001b[0m\u001b[1m)\u001b[0m\u001b[1m)\u001b[0m, \u001b[33min_dim\u001b[0m=\u001b[1;36m192\u001b[0m, \u001b[33mout_dim\u001b[0m=\u001b[1;36m96\u001b[0m\u001b[1m)\u001b[0m, \u001b[1;35mSwinV23DStageConfig\u001b[0m\u001b[1m(\u001b[0m\u001b[33mdim\u001b[0m=\u001b[1;36m96\u001b[0m, \u001b[33mmlp_ratio\u001b[0m=\u001b[1;36m4\u001b[0m, \u001b[33mactivation\u001b[0m=\u001b[32m'gelu'\u001b[0m, \u001b[33mmlp_drop_prob\u001b[0m=\u001b[1;36m0\u001b[0m\u001b[1;36m.1\u001b[0m, \u001b[33mnum_heads\u001b[0m=\u001b[1;36m16\u001b[0m, \u001b[33mratio_q_to_kv_heads\u001b[0m=\u001b[1;36m1\u001b[0m, \u001b[33mlogit_scale_learnable\u001b[0m=\u001b[3;91mFalse\u001b[0m, \u001b[33mattn_drop_prob\u001b[0m=\u001b[1;36m0\u001b[0m\u001b[1;36m.1\u001b[0m, \u001b[33mproj_drop_prob\u001b[0m=\u001b[1;36m0\u001b[0m\u001b[1;36m.1\u001b[0m, \u001b[33mmax_attention_batch_size\u001b[0m=\u001b[1;36m4096\u001b[0m, \u001b[33mnorm_location\u001b[0m=\u001b[32m'post'\u001b[0m, \u001b[33mlayer_norm_eps\u001b[0m=\u001b[1;36m1e\u001b[0m\u001b[1;36m-06\u001b[0m, \u001b[33mdepth\u001b[0m=\u001b[1;36m4\u001b[0m, \u001b[33mwindow_size\u001b[0m=\u001b[1m(\u001b[0m\u001b[1;36m4\u001b[0m, \u001b[1;36m4\u001b[0m, \u001b[1;36m4\u001b[0m\u001b[1m)\u001b[0m, \u001b[33muse_relative_position_bias\u001b[0m=\u001b[3;92mTrue\u001b[0m, \u001b[33mpatch_merging\u001b[0m=\u001b[3;35mNone\u001b[0m, \u001b[33mpatch_splitting\u001b[0m=\u001b[1;35mSwinV23DPatchSplittingConfig\u001b[0m\u001b[1m(\u001b[0m\u001b[33mout_dim_ratio\u001b[0m=\u001b[1;36m2\u001b[0m, \u001b[33mfinal_window_size\u001b[0m=\u001b[1m(\u001b[0m\u001b[1;36m2\u001b[0m, \u001b[1;36m2\u001b[0m, \u001b[1;36m2\u001b[0m\u001b[1m)\u001b[0m\u001b[1m)\u001b[0m, \u001b[33min_dim\u001b[0m=\u001b[1;36m96\u001b[0m, \u001b[33mout_dim\u001b[0m=\u001b[1;36m48\u001b[0m\u001b[1m)\u001b[0m, \u001b[1;35mSwinV23DStageConfig\u001b[0m\u001b[1m(\u001b[0m\u001b[33mdim\u001b[0m=\u001b[1;36m48\u001b[0m, \u001b[33mmlp_ratio\u001b[0m=\u001b[1;36m4\u001b[0m, \u001b[33mactivation\u001b[0m=\u001b[32m'gelu'\u001b[0m, \u001b[33mmlp_drop_prob\u001b[0m=\u001b[1;36m0\u001b[0m\u001b[1;36m.1\u001b[0m, \u001b[33mnum_heads\u001b[0m=\u001b[1;36m8\u001b[0m, \u001b[33mratio_q_to_kv_heads\u001b[0m=\u001b[1;36m1\u001b[0m, \u001b[33mlogit_scale_learnable\u001b[0m=\u001b[3;91mFalse\u001b[0m, \u001b[33mattn_drop_prob\u001b[0m=\u001b[1;36m0\u001b[0m\u001b[1;36m.1\u001b[0m, \u001b[33mproj_drop_prob\u001b[0m=\u001b[1;36m0\u001b[0m\u001b[1;36m.1\u001b[0m, \u001b[33mmax_attention_batch_size\u001b[0m=\u001b[1;36m4096\u001b[0m, \u001b[33mnorm_location\u001b[0m=\u001b[32m'post'\u001b[0m, \u001b[33mlayer_norm_eps\u001b[0m=\u001b[1;36m1e\u001b[0m\u001b[1;36m-06\u001b[0m, \u001b[33mdepth\u001b[0m=\u001b[1;36m2\u001b[0m, \u001b[33mwindow_size\u001b[0m=\u001b[1m(\u001b[0m\u001b[1;36m4\u001b[0m, \u001b[1;36m4\u001b[0m, \u001b[1;36m4\u001b[0m\u001b[1m)\u001b[0m, \u001b[33muse_relative_position_bias\u001b[0m=\u001b[3;92mTrue\u001b[0m, \u001b[33mpatch_merging\u001b[0m=\u001b[3;35mNone\u001b[0m, \u001b[33mpatch_splitting\u001b[0m=\u001b[1;35mSwinV23DPatchSplittingConfig\u001b[0m\u001b[1m(\u001b[0m\u001b[33mout_dim_ratio\u001b[0m=\u001b[1;36m2\u001b[0m, \u001b[33mfinal_window_size\u001b[0m=\u001b[1m(\u001b[0m\u001b[1;36m2\u001b[0m, \u001b[1;36m2\u001b[0m, \u001b[1;36m2\u001b[0m\u001b[1m)\u001b[0m\u001b[1m)\u001b[0m, \u001b[33min_dim\u001b[0m=\u001b[1;36m48\u001b[0m, \u001b[33mout_dim\u001b[0m=\u001b[1;36m24\u001b[0m\u001b[1m)\u001b[0m, \u001b[1;35mSwinV23DStageConfig\u001b[0m\u001b[1m(\u001b[0m\u001b[33mdim\u001b[0m=\u001b[1;36m24\u001b[0m, \u001b[33mmlp_ratio\u001b[0m=\u001b[1;36m4\u001b[0m, \u001b[33mactivation\u001b[0m=\u001b[32m'gelu'\u001b[0m, \u001b[33mmlp_drop_prob\u001b[0m=\u001b[1;36m0\u001b[0m\u001b[1;36m.1\u001b[0m, \u001b[33mnum_heads\u001b[0m=\u001b[1;36m4\u001b[0m, \u001b[33mratio_q_to_kv_heads\u001b[0m=\u001b[1;36m1\u001b[0m, \u001b[33mlogit_scale_learnable\u001b[0m=\u001b[3;91mFalse\u001b[0m, \u001b[33mattn_drop_prob\u001b[0m=\u001b[1;36m0\u001b[0m\u001b[1;36m.1\u001b[0m, \u001b[33mproj_drop_prob\u001b[0m=\u001b[1;36m0\u001b[0m\u001b[1;36m.1\u001b[0m, \u001b[33mmax_attention_batch_size\u001b[0m=\u001b[1;36m4096\u001b[0m, \u001b[33mnorm_location\u001b[0m=\u001b[32m'post'\u001b[0m, \u001b[33mlayer_norm_eps\u001b[0m=\u001b[1;36m1e\u001b[0m\u001b[1;36m-06\u001b[0m, \u001b[33mdepth\u001b[0m=\u001b[1;36m2\u001b[0m, \u001b[33mwindow_size\u001b[0m=\u001b[1m(\u001b[0m\u001b[1;36m4\u001b[0m, \u001b[1;36m4\u001b[0m, \u001b[1;36m4\u001b[0m\u001b[1m)\u001b[0m, \u001b[33muse_relative_position_bias\u001b[0m=\u001b[3;92mTrue\u001b[0m, \u001b[33mpatch_merging\u001b[0m=\u001b[3;35mNone\u001b[0m, \u001b[33mpatch_splitting\u001b[0m=\u001b[3;35mNone\u001b[0m, \u001b[33min_dim\u001b[0m=\u001b[1;36m24\u001b[0m, \u001b[33mout_dim\u001b[0m=\u001b[1;36m24\u001b[0m\u001b[1m)\u001b[0m\u001b[1m]\u001b[0m, \u001b[33mdrop_prob\u001b[0m=\u001b[1;36m0\u001b[0m\u001b[1;36m.1\u001b[0m, \u001b[33membed_spacing_info\u001b[0m=\u001b[3;91mFalse\u001b[0m\u001b[1m)\u001b[0m, \u001b[32m'unembedding'\u001b[0m: \u001b[1;35mMunch\u001b[0m\u001b[1m(\u001b[0m\u001b[1m{\u001b[0m\u001b[32m'num_upsamples'\u001b[0m: \u001b[1;36m1\u001b[0m, \u001b[32m'upsample_channels'\u001b[0m: \u001b[1m[\u001b[0m\u001b[1;36m12\u001b[0m\u001b[1m]\u001b[0m, \u001b[32m'in_channels'\u001b[0m: \u001b[1;36m24\u001b[0m, \u001b[32m'out_channels'\u001b[0m: \u001b[1;36m1\u001b[0m\u001b[1m}\u001b[0m\u001b[1m)\u001b[0m, \u001b[32m'pathway_drop_prob'\u001b[0m: \u001b[1;36m0.1\u001b[0m\u001b[1m}\u001b[0m\u001b[1m)\u001b[0m, \u001b[32m'training'\u001b[0m: \u001b[1;35mMunch\u001b[0m\u001b[1m(\u001b[0m\u001b[1m{\u001b[0m\u001b[32m'start_from_checkpoint'\u001b[0m: \u001b[32m'/raid3/arjun/checkpoints/adaptive_autoencoder/v27__2025_03_07/version_0/checkpoints/last.ckpt'\u001b[0m, \u001b[32m'max_epochs'\u001b[0m: \u001b[1;36m200\u001b[0m, \u001b[32m'lr'\u001b[0m: \u001b[1;36m0.0005\u001b[0m, \u001b[32m'seed'\u001b[0m: \u001b[1;36m42\u001b[0m, \u001b[32m'check_val_every_n_epoch'\u001b[0m: \u001b[1;36m1\u001b[0m, \u001b[32m'loss_weights'\u001b[0m: \u001b[1;35mMunch\u001b[0m\u001b[1m(\u001b[0m\u001b[1m{\u001b[0m\u001b[32m'reconstruction_loss'\u001b[0m: \u001b[1;36m1.0\u001b[0m, \u001b[32m'perceptual_loss'\u001b[0m: \u001b[1;36m0.1\u001b[0m, \u001b[32m'ms_ssim_loss'\u001b[0m: \u001b[1;36m0.1\u001b[0m, \u001b[32m'kl_loss'\u001b[0m: \u001b[1;36m0.0001\u001b[0m\u001b[1m}\u001b[0m\u001b[1m)\u001b[0m, \u001b[32m'kl_annealing_start_epoch'\u001b[0m: \u001b[1;36m25\u001b[0m, \u001b[32m'kl_annealing_epochs'\u001b[0m: \u001b[1;36m30\u001b[0m, \u001b[32m'residual_connection_epochs'\u001b[0m: \u001b[1;36m50\u001b[0m, \u001b[32m'checkpointing_level'\u001b[0m: \u001b[1;36m2\u001b[0m, \u001b[32m'fast_dev_run'\u001b[0m: \u001b[3;91mFalse\u001b[0m, \u001b[32m'strategy'\u001b[0m: \u001b[32m'ddp'\u001b[0m, \u001b[32m'accumulate_grad_batches'\u001b[0m: \u001b[1;36m10\u001b[0m, \u001b[32m'gradient_clip_val'\u001b[0m: \u001b[1;36m1.0\u001b[0m\u001b[1m}\u001b[0m\u001b[1m)\u001b[0m, \u001b[32m'distributed'\u001b[0m: \u001b[1;35mMunch\u001b[0m\u001b[1m(\u001b[0m\u001b[1m{\u001b[0m\u001b[32m'distributed'\u001b[0m: \u001b[3;91mFalse\u001b[0m, \u001b[32m'nodes'\u001b[0m: \u001b[1m[\u001b[0m\u001b[1m(\u001b[0m\u001b[32m'qrnd10.internal.qure.ai'\u001b[0m, \u001b[1m[\u001b[0m\u001b[32m'10.67.21.10'\u001b[0m, \u001b[1;36m4\u001b[0m\u001b[1m]\u001b[0m\u001b[1m)\u001b[0m, \u001b[1m(\u001b[0m\u001b[32m'qrnd8.internal.qure.ai'\u001b[0m, \u001b[1m[\u001b[0m\u001b[32m'10.67.21.8'\u001b[0m, \u001b[1;36m4\u001b[0m\u001b[1m]\u001b[0m\u001b[1m)\u001b[0m\u001b[1m]\u001b[0m\u001b[1m}\u001b[0m\u001b[1m)\u001b[0m, \u001b[32m'additional'\u001b[0m: \u001b[1;35mMunch\u001b[0m\u001b[1m(\u001b[0m\u001b[1m{\u001b[0m\u001b[32m'task_name'\u001b[0m: \u001b[32m'v28__2025_03_08__v27'\u001b[0m, \u001b[32m'log_on_clearml'\u001b[0m: \u001b[3;92mTrue\u001b[0m, \u001b[32m'clearml_project'\u001b[0m: \u001b[32m'adaptive_autoencoder'\u001b[0m, \u001b[32m'clearml_tags'\u001b[0m: \u001b[1m[\u001b[0m\u001b[32m'Training image size: \u001b[0m\u001b[32m(\u001b[0m\u001b[32m96, 96, 96\u001b[0m\u001b[32m)\u001b[0m\u001b[32m'\u001b[0m, \u001b[32m'Patch sizes: \u001b[0m\u001b[32m[\u001b[0m\u001b[32m(\u001b[0m\u001b[32m2, 2, 2\u001b[0m\u001b[32m)\u001b[0m\u001b[32m, \u001b[0m\u001b[32m(\u001b[0m\u001b[32m2, 2, 2\u001b[0m\u001b[32m)\u001b[0m\u001b[32m, \u001b[0m\u001b[32m(\u001b[0m\u001b[32m4, 4, 4\u001b[0m\u001b[32m)\u001b[0m\u001b[32m, \u001b[0m\u001b[32m(\u001b[0m\u001b[32m8, 8, 8\u001b[0m\u001b[32m)\u001b[0m\u001b[32m, \u001b[0m\u001b[32m(\u001b[0m\u001b[32m16, 16, 16\u001b[0m\u001b[32m)\u001b[0m\u001b[32m]\u001b[0m\u001b[32m'\u001b[0m, \u001b[32m'Grid sizes: \u001b[0m\u001b[32m[\u001b[0m\u001b[32m(\u001b[0m\u001b[32m48, 48, 48\u001b[0m\u001b[32m)\u001b[0m\u001b[32m, \u001b[0m\u001b[32m(\u001b[0m\u001b[32m48, 48, 48\u001b[0m\u001b[32m)\u001b[0m\u001b[32m, \u001b[0m\u001b[32m(\u001b[0m\u001b[32m24, 24, 24\u001b[0m\u001b[32m)\u001b[0m\u001b[32m, \u001b[0m\u001b[32m(\u001b[0m\u001b[32m12, 12, 12\u001b[0m\u001b[32m)\u001b[0m\u001b[32m, \u001b[0m\u001b[32m(\u001b[0m\u001b[32m6, 6, 6\u001b[0m\u001b[32m)\u001b[0m\u001b[32m]\u001b[0m\u001b[32m'\u001b[0m, \u001b[32m'Dimensions: \u001b[0m\u001b[32m[\u001b[0m\u001b[32m24, 48, 96, 192\u001b[0m\u001b[32m]\u001b[0m\u001b[32m'\u001b[0m, \u001b[32m'Train batch size: 4'\u001b[0m, \u001b[32m'Compression: \u001b[0m\u001b[32m(\u001b[0m\u001b[32m16, 16, 16\u001b[0m\u001b[32m)\u001b[0m\u001b[32m'\u001b[0m, \u001b[32m'Checkpointing level: 2'\u001b[0m, \u001b[32m'VAE'\u001b[0m, \u001b[32m'Added sigmoid scheduler to kl and resuidual connection'\u001b[0m, \u001b[32m'Added gradient flow stabilizers'\u001b[0m, \u001b[32m'Added residual connection skipping the perceiver with annealing'\u001b[0m\u001b[1m]\u001b[0m\u001b[1m}\u001b[0m\u001b[1m)\u001b[0m, \u001b[32m'image_size'\u001b[0m: \u001b[1m(\u001b[0m\u001b[1;36m96\u001b[0m, \u001b[1;36m96\u001b[0m, \u001b[1;36m96\u001b[0m\u001b[1m)\u001b[0m\u001b[1m}\u001b[0m\u001b[1m)\u001b[0m"
      ]
     },
     "execution_count": 21,
     "metadata": {},
     "output_type": "execute_result"
    }
   ],
   "source": [
    "config = get_config()\n",
    "config"
   ]
  },
  {
   "cell_type": "code",
   "execution_count": null,
   "metadata": {},
   "outputs": [
    {
     "data": {
      "text/html": [
       "<pre style=\"white-space:pre;overflow-x:auto;line-height:normal;font-family:Menlo,'DejaVu Sans Mono',consolas,'Courier New',monospace\"><span style=\"color: #800000; text-decoration-color: #800000\">╭─────────────────────────────── </span><span style=\"color: #800000; text-decoration-color: #800000; font-weight: bold\">Traceback </span><span style=\"color: #bf7f7f; text-decoration-color: #bf7f7f; font-weight: bold\">(most recent call last)</span><span style=\"color: #800000; text-decoration-color: #800000\"> ────────────────────────────────╮</span>\n",
       "<span style=\"color: #800000; text-decoration-color: #800000\">│</span> in <span style=\"color: #00ff00; text-decoration-color: #00ff00\">&lt;module&gt;</span>:<span style=\"color: #0000ff; text-decoration-color: #0000ff\">3</span>                                                                                    <span style=\"color: #800000; text-decoration-color: #800000\">│</span>\n",
       "<span style=\"color: #800000; text-decoration-color: #800000\">│</span>                                                                                                  <span style=\"color: #800000; text-decoration-color: #800000\">│</span>\n",
       "<span style=\"color: #800000; text-decoration-color: #800000\">│</span>   <span style=\"color: #7f7f7f; text-decoration-color: #7f7f7f\">1 </span>checkpoint_path = <span style=\"color: #808000; text-decoration-color: #808000\">r\"/raid3/arjun/checkpoints/adaptive_autoencoder/v28__2025_03_08__v27/v</span>     <span style=\"color: #800000; text-decoration-color: #800000\">│</span>\n",
       "<span style=\"color: #800000; text-decoration-color: #800000\">│</span>   <span style=\"color: #7f7f7f; text-decoration-color: #7f7f7f\">2 </span>                                                                                             <span style=\"color: #800000; text-decoration-color: #800000\">│</span>\n",
       "<span style=\"color: #800000; text-decoration-color: #800000\">│</span> <span style=\"color: #800000; text-decoration-color: #800000\">❱ </span>3 model = AdaptiveVAELightning.load_from_checkpoint(                                           <span style=\"color: #800000; text-decoration-color: #800000\">│</span>\n",
       "<span style=\"color: #800000; text-decoration-color: #800000\">│</span>   <span style=\"color: #7f7f7f; text-decoration-color: #7f7f7f\">4 </span><span style=\"color: #7f7f7f; text-decoration-color: #7f7f7f\">│   </span>checkpoint_path,                                                                         <span style=\"color: #800000; text-decoration-color: #800000\">│</span>\n",
       "<span style=\"color: #800000; text-decoration-color: #800000\">│</span>   <span style=\"color: #7f7f7f; text-decoration-color: #7f7f7f\">5 </span><span style=\"color: #7f7f7f; text-decoration-color: #7f7f7f\">│   </span>map_location=<span style=\"color: #808000; text-decoration-color: #808000\">\"cpu\"</span>,                                                                      <span style=\"color: #800000; text-decoration-color: #800000\">│</span>\n",
       "<span style=\"color: #800000; text-decoration-color: #800000\">│</span>   <span style=\"color: #7f7f7f; text-decoration-color: #7f7f7f\">6 </span><span style=\"color: #7f7f7f; text-decoration-color: #7f7f7f\">│   </span>model_config=config.model,                                                               <span style=\"color: #800000; text-decoration-color: #800000\">│</span>\n",
       "<span style=\"color: #800000; text-decoration-color: #800000\">│</span>                                                                                                  <span style=\"color: #800000; text-decoration-color: #800000\">│</span>\n",
       "<span style=\"color: #800000; text-decoration-color: #800000\">│</span> <span style=\"color: #bfbf7f; text-decoration-color: #bfbf7f\">/home/ubuntu/miniconda3/lib/python3.10/site-packages/lightning/pytorch/utilities/</span><span style=\"color: #808000; text-decoration-color: #808000; font-weight: bold\">model_helpers.p</span> <span style=\"color: #800000; text-decoration-color: #800000\">│</span>\n",
       "<span style=\"color: #800000; text-decoration-color: #800000\">│</span> <span style=\"color: #808000; text-decoration-color: #808000; font-weight: bold\">y</span>:<span style=\"color: #0000ff; text-decoration-color: #0000ff\">125</span> in <span style=\"color: #00ff00; text-decoration-color: #00ff00\">wrapper</span>                                                                                 <span style=\"color: #800000; text-decoration-color: #800000\">│</span>\n",
       "<span style=\"color: #800000; text-decoration-color: #800000\">│</span>                                                                                                  <span style=\"color: #800000; text-decoration-color: #800000\">│</span>\n",
       "<span style=\"color: #800000; text-decoration-color: #800000\">│</span>   <span style=\"color: #7f7f7f; text-decoration-color: #7f7f7f\">122 </span><span style=\"color: #7f7f7f; text-decoration-color: #7f7f7f\">│   │   │   │   │   </span><span style=\"color: #808000; text-decoration-color: #808000\">f\"The classmethod `{</span><span style=\"color: #00ffff; text-decoration-color: #00ffff\">cls</span>.<span style=\"color: #ff0000; text-decoration-color: #ff0000\">__name__</span><span style=\"color: #808000; text-decoration-color: #808000\">}.{</span><span style=\"color: #00ffff; text-decoration-color: #00ffff\">self</span>.method.<span style=\"color: #ff0000; text-decoration-color: #ff0000\">__name__</span><span style=\"color: #808000; text-decoration-color: #808000\">}` cannot be </span>   <span style=\"color: #800000; text-decoration-color: #800000\">│</span>\n",
       "<span style=\"color: #800000; text-decoration-color: #800000\">│</span>   <span style=\"color: #7f7f7f; text-decoration-color: #7f7f7f\">123 </span><span style=\"color: #7f7f7f; text-decoration-color: #7f7f7f\">│   │   │   │   │   </span><span style=\"color: #808000; text-decoration-color: #808000\">\" Please call it on the class type and make sure the return value is</span>   <span style=\"color: #800000; text-decoration-color: #800000\">│</span>\n",
       "<span style=\"color: #800000; text-decoration-color: #800000\">│</span>   <span style=\"color: #7f7f7f; text-decoration-color: #7f7f7f\">124 </span><span style=\"color: #7f7f7f; text-decoration-color: #7f7f7f\">│   │   │   │   </span>)                                                                          <span style=\"color: #800000; text-decoration-color: #800000\">│</span>\n",
       "<span style=\"color: #800000; text-decoration-color: #800000\">│</span> <span style=\"color: #800000; text-decoration-color: #800000\">❱ </span>125 <span style=\"color: #7f7f7f; text-decoration-color: #7f7f7f\">│   │   │   </span><span style=\"color: #0000ff; text-decoration-color: #0000ff\">return</span> <span style=\"color: #00ffff; text-decoration-color: #00ffff\">self</span>.method(<span style=\"color: #00ffff; text-decoration-color: #00ffff\">cls</span>, *args, **kwargs)                                       <span style=\"color: #800000; text-decoration-color: #800000\">│</span>\n",
       "<span style=\"color: #800000; text-decoration-color: #800000\">│</span>   <span style=\"color: #7f7f7f; text-decoration-color: #7f7f7f\">126 </span><span style=\"color: #7f7f7f; text-decoration-color: #7f7f7f\">│   │   </span>                                                                                   <span style=\"color: #800000; text-decoration-color: #800000\">│</span>\n",
       "<span style=\"color: #800000; text-decoration-color: #800000\">│</span>   <span style=\"color: #7f7f7f; text-decoration-color: #7f7f7f\">127 </span><span style=\"color: #7f7f7f; text-decoration-color: #7f7f7f\">│   │   </span><span style=\"color: #0000ff; text-decoration-color: #0000ff\">return</span> wrapper                                                                     <span style=\"color: #800000; text-decoration-color: #800000\">│</span>\n",
       "<span style=\"color: #800000; text-decoration-color: #800000\">│</span>   <span style=\"color: #7f7f7f; text-decoration-color: #7f7f7f\">128 </span>                                                                                           <span style=\"color: #800000; text-decoration-color: #800000\">│</span>\n",
       "<span style=\"color: #800000; text-decoration-color: #800000\">│</span>                                                                                                  <span style=\"color: #800000; text-decoration-color: #800000\">│</span>\n",
       "<span style=\"color: #800000; text-decoration-color: #800000\">│</span> <span style=\"color: #bfbf7f; text-decoration-color: #bfbf7f\">/home/ubuntu/miniconda3/lib/python3.10/site-packages/lightning/pytorch/core/</span><span style=\"color: #808000; text-decoration-color: #808000; font-weight: bold\">module.py</span>:<span style=\"color: #0000ff; text-decoration-color: #0000ff\">1582</span> in    <span style=\"color: #800000; text-decoration-color: #800000\">│</span>\n",
       "<span style=\"color: #800000; text-decoration-color: #800000\">│</span> <span style=\"color: #00ff00; text-decoration-color: #00ff00\">load_from_checkpoint</span>                                                                             <span style=\"color: #800000; text-decoration-color: #800000\">│</span>\n",
       "<span style=\"color: #800000; text-decoration-color: #800000\">│</span>                                                                                                  <span style=\"color: #800000; text-decoration-color: #800000\">│</span>\n",
       "<span style=\"color: #800000; text-decoration-color: #800000\">│</span>   <span style=\"color: #7f7f7f; text-decoration-color: #7f7f7f\">1579 </span><span style=\"color: #bfbf7f; text-decoration-color: #bfbf7f\">│   │   │   </span><span style=\"color: #808000; text-decoration-color: #808000\">y_hat = pretrained_model(x)</span>                                                   <span style=\"color: #800000; text-decoration-color: #800000\">│</span>\n",
       "<span style=\"color: #800000; text-decoration-color: #800000\">│</span>   <span style=\"color: #7f7f7f; text-decoration-color: #7f7f7f\">1580 </span><span style=\"color: #7f7f7f; text-decoration-color: #7f7f7f\">│   │   </span>                                                                                  <span style=\"color: #800000; text-decoration-color: #800000\">│</span>\n",
       "<span style=\"color: #800000; text-decoration-color: #800000\">│</span>   <span style=\"color: #7f7f7f; text-decoration-color: #7f7f7f\">1581 </span><span style=\"color: #bfbf7f; text-decoration-color: #bfbf7f\">│   │   </span><span style=\"color: #808000; text-decoration-color: #808000\">\"\"\"</span>                                                                               <span style=\"color: #800000; text-decoration-color: #800000\">│</span>\n",
       "<span style=\"color: #800000; text-decoration-color: #800000\">│</span> <span style=\"color: #800000; text-decoration-color: #800000\">❱ </span>1582 <span style=\"color: #7f7f7f; text-decoration-color: #7f7f7f\">│   │   </span>loaded = _load_from_checkpoint(                                                   <span style=\"color: #800000; text-decoration-color: #800000\">│</span>\n",
       "<span style=\"color: #800000; text-decoration-color: #800000\">│</span>   <span style=\"color: #7f7f7f; text-decoration-color: #7f7f7f\">1583 </span><span style=\"color: #7f7f7f; text-decoration-color: #7f7f7f\">│   │   │   </span><span style=\"color: #00ffff; text-decoration-color: #00ffff\">cls</span>,                                                                          <span style=\"color: #800000; text-decoration-color: #800000\">│</span>\n",
       "<span style=\"color: #800000; text-decoration-color: #800000\">│</span>   <span style=\"color: #7f7f7f; text-decoration-color: #7f7f7f\">1584 </span><span style=\"color: #7f7f7f; text-decoration-color: #7f7f7f\">│   │   │   </span>checkpoint_path,                                                              <span style=\"color: #800000; text-decoration-color: #800000\">│</span>\n",
       "<span style=\"color: #800000; text-decoration-color: #800000\">│</span>   <span style=\"color: #7f7f7f; text-decoration-color: #7f7f7f\">1585 </span><span style=\"color: #7f7f7f; text-decoration-color: #7f7f7f\">│   │   │   </span>map_location,                                                                 <span style=\"color: #800000; text-decoration-color: #800000\">│</span>\n",
       "<span style=\"color: #800000; text-decoration-color: #800000\">│</span>                                                                                                  <span style=\"color: #800000; text-decoration-color: #800000\">│</span>\n",
       "<span style=\"color: #800000; text-decoration-color: #800000\">│</span> <span style=\"color: #bfbf7f; text-decoration-color: #bfbf7f\">/home/ubuntu/miniconda3/lib/python3.10/site-packages/lightning/pytorch/core/</span><span style=\"color: #808000; text-decoration-color: #808000; font-weight: bold\">saving.py</span>:<span style=\"color: #0000ff; text-decoration-color: #0000ff\">91</span> in      <span style=\"color: #800000; text-decoration-color: #800000\">│</span>\n",
       "<span style=\"color: #800000; text-decoration-color: #800000\">│</span> <span style=\"color: #00ff00; text-decoration-color: #00ff00\">_load_from_checkpoint</span>                                                                            <span style=\"color: #800000; text-decoration-color: #800000\">│</span>\n",
       "<span style=\"color: #800000; text-decoration-color: #800000\">│</span>                                                                                                  <span style=\"color: #800000; text-decoration-color: #800000\">│</span>\n",
       "<span style=\"color: #800000; text-decoration-color: #800000\">│</span>   <span style=\"color: #7f7f7f; text-decoration-color: #7f7f7f\"> 88 </span><span style=\"color: #7f7f7f; text-decoration-color: #7f7f7f\">│   </span><span style=\"color: #0000ff; text-decoration-color: #0000ff\">if</span> <span style=\"color: #00ffff; text-decoration-color: #00ffff\">issubclass</span>(<span style=\"color: #00ffff; text-decoration-color: #00ffff\">cls</span>, pl.LightningDataModule):                                            <span style=\"color: #800000; text-decoration-color: #800000\">│</span>\n",
       "<span style=\"color: #800000; text-decoration-color: #800000\">│</span>   <span style=\"color: #7f7f7f; text-decoration-color: #7f7f7f\"> 89 </span><span style=\"color: #7f7f7f; text-decoration-color: #7f7f7f\">│   │   </span><span style=\"color: #0000ff; text-decoration-color: #0000ff\">return</span> _load_state(<span style=\"color: #00ffff; text-decoration-color: #00ffff\">cls</span>, checkpoint, **kwargs)                                      <span style=\"color: #800000; text-decoration-color: #800000\">│</span>\n",
       "<span style=\"color: #800000; text-decoration-color: #800000\">│</span>   <span style=\"color: #7f7f7f; text-decoration-color: #7f7f7f\"> 90 </span><span style=\"color: #7f7f7f; text-decoration-color: #7f7f7f\">│   </span><span style=\"color: #0000ff; text-decoration-color: #0000ff\">if</span> <span style=\"color: #00ffff; text-decoration-color: #00ffff\">issubclass</span>(<span style=\"color: #00ffff; text-decoration-color: #00ffff\">cls</span>, pl.LightningModule):                                                <span style=\"color: #800000; text-decoration-color: #800000\">│</span>\n",
       "<span style=\"color: #800000; text-decoration-color: #800000\">│</span> <span style=\"color: #800000; text-decoration-color: #800000\">❱ </span> 91 <span style=\"color: #7f7f7f; text-decoration-color: #7f7f7f\">│   │   </span>model = _load_state(<span style=\"color: #00ffff; text-decoration-color: #00ffff\">cls</span>, checkpoint, strict=strict, **kwargs)                      <span style=\"color: #800000; text-decoration-color: #800000\">│</span>\n",
       "<span style=\"color: #800000; text-decoration-color: #800000\">│</span>   <span style=\"color: #7f7f7f; text-decoration-color: #7f7f7f\"> 92 </span><span style=\"color: #7f7f7f; text-decoration-color: #7f7f7f\">│   │   </span>state_dict = checkpoint[<span style=\"color: #808000; text-decoration-color: #808000\">\"state_dict\"</span>]                                              <span style=\"color: #800000; text-decoration-color: #800000\">│</span>\n",
       "<span style=\"color: #800000; text-decoration-color: #800000\">│</span>   <span style=\"color: #7f7f7f; text-decoration-color: #7f7f7f\"> 93 </span><span style=\"color: #7f7f7f; text-decoration-color: #7f7f7f\">│   │   </span><span style=\"color: #0000ff; text-decoration-color: #0000ff\">if</span> <span style=\"color: #ff00ff; text-decoration-color: #ff00ff\">not</span> state_dict:                                                                 <span style=\"color: #800000; text-decoration-color: #800000\">│</span>\n",
       "<span style=\"color: #800000; text-decoration-color: #800000\">│</span>   <span style=\"color: #7f7f7f; text-decoration-color: #7f7f7f\"> 94 </span><span style=\"color: #7f7f7f; text-decoration-color: #7f7f7f\">│   │   │   </span>rank_zero_warn(<span style=\"color: #808000; text-decoration-color: #808000\">f\"The state dict in {</span>checkpoint_path<span style=\"color: #808000; text-decoration-color: #808000\">!r} contains no parameter</span>   <span style=\"color: #800000; text-decoration-color: #800000\">│</span>\n",
       "<span style=\"color: #800000; text-decoration-color: #800000\">│</span>                                                                                                  <span style=\"color: #800000; text-decoration-color: #800000\">│</span>\n",
       "<span style=\"color: #800000; text-decoration-color: #800000\">│</span> <span style=\"color: #bfbf7f; text-decoration-color: #bfbf7f\">/home/ubuntu/miniconda3/lib/python3.10/site-packages/lightning/pytorch/core/</span><span style=\"color: #808000; text-decoration-color: #808000; font-weight: bold\">saving.py</span>:<span style=\"color: #0000ff; text-decoration-color: #0000ff\">165</span> in     <span style=\"color: #800000; text-decoration-color: #800000\">│</span>\n",
       "<span style=\"color: #800000; text-decoration-color: #800000\">│</span> <span style=\"color: #00ff00; text-decoration-color: #00ff00\">_load_state</span>                                                                                      <span style=\"color: #800000; text-decoration-color: #800000\">│</span>\n",
       "<span style=\"color: #800000; text-decoration-color: #800000\">│</span>                                                                                                  <span style=\"color: #800000; text-decoration-color: #800000\">│</span>\n",
       "<span style=\"color: #800000; text-decoration-color: #800000\">│</span>   <span style=\"color: #7f7f7f; text-decoration-color: #7f7f7f\">162 </span><span style=\"color: #7f7f7f; text-decoration-color: #7f7f7f\">│   │   </span><span style=\"color: #7f7f7f; text-decoration-color: #7f7f7f\"># filter kwargs according to class init unless it allows any argument via kwargs</span>   <span style=\"color: #800000; text-decoration-color: #800000\">│</span>\n",
       "<span style=\"color: #800000; text-decoration-color: #800000\">│</span>   <span style=\"color: #7f7f7f; text-decoration-color: #7f7f7f\">163 </span><span style=\"color: #7f7f7f; text-decoration-color: #7f7f7f\">│   │   </span>_cls_kwargs = {k: v <span style=\"color: #0000ff; text-decoration-color: #0000ff\">for</span> k, v <span style=\"color: #ff00ff; text-decoration-color: #ff00ff\">in</span> _cls_kwargs.items() <span style=\"color: #0000ff; text-decoration-color: #0000ff\">if</span> k <span style=\"color: #ff00ff; text-decoration-color: #ff00ff\">in</span> cls_init_args_name}    <span style=\"color: #800000; text-decoration-color: #800000\">│</span>\n",
       "<span style=\"color: #800000; text-decoration-color: #800000\">│</span>   <span style=\"color: #7f7f7f; text-decoration-color: #7f7f7f\">164 </span><span style=\"color: #7f7f7f; text-decoration-color: #7f7f7f\">│   </span>                                                                                       <span style=\"color: #800000; text-decoration-color: #800000\">│</span>\n",
       "<span style=\"color: #800000; text-decoration-color: #800000\">│</span> <span style=\"color: #800000; text-decoration-color: #800000\">❱ </span>165 <span style=\"color: #7f7f7f; text-decoration-color: #7f7f7f\">│   </span>obj = instantiator(<span style=\"color: #00ffff; text-decoration-color: #00ffff\">cls</span>, _cls_kwargs) <span style=\"color: #0000ff; text-decoration-color: #0000ff\">if</span> instantiator <span style=\"color: #0000ff; text-decoration-color: #0000ff\">else</span> <span style=\"color: #00ffff; text-decoration-color: #00ffff\">cls</span>(**_cls_kwargs)           <span style=\"color: #800000; text-decoration-color: #800000\">│</span>\n",
       "<span style=\"color: #800000; text-decoration-color: #800000\">│</span>   <span style=\"color: #7f7f7f; text-decoration-color: #7f7f7f\">166 </span><span style=\"color: #7f7f7f; text-decoration-color: #7f7f7f\">│   </span>                                                                                       <span style=\"color: #800000; text-decoration-color: #800000\">│</span>\n",
       "<span style=\"color: #800000; text-decoration-color: #800000\">│</span>   <span style=\"color: #7f7f7f; text-decoration-color: #7f7f7f\">167 </span><span style=\"color: #7f7f7f; text-decoration-color: #7f7f7f\">│   </span><span style=\"color: #0000ff; text-decoration-color: #0000ff\">if</span> <span style=\"color: #00ffff; text-decoration-color: #00ffff\">isinstance</span>(obj, pl.LightningDataModule):                                            <span style=\"color: #800000; text-decoration-color: #800000\">│</span>\n",
       "<span style=\"color: #800000; text-decoration-color: #800000\">│</span>   <span style=\"color: #7f7f7f; text-decoration-color: #7f7f7f\">168 </span><span style=\"color: #7f7f7f; text-decoration-color: #7f7f7f\">│   │   </span><span style=\"color: #0000ff; text-decoration-color: #0000ff\">if</span> obj.<span style=\"color: #ff0000; text-decoration-color: #ff0000\">__class__</span>.<span style=\"color: #ff0000; text-decoration-color: #ff0000\">__qualname__</span> <span style=\"color: #ff00ff; text-decoration-color: #ff00ff\">in</span> checkpoint:                                       <span style=\"color: #800000; text-decoration-color: #800000\">│</span>\n",
       "<span style=\"color: #800000; text-decoration-color: #800000\">│</span>                                                                                                  <span style=\"color: #800000; text-decoration-color: #800000\">│</span>\n",
       "<span style=\"color: #800000; text-decoration-color: #800000\">│</span> <span style=\"color: #bfbf7f; text-decoration-color: #bfbf7f\">/home/ubuntu/projects/diffusion_3d/src/diffusion_3d/chestct/autoencoder/vae/</span><span style=\"color: #808000; text-decoration-color: #808000; font-weight: bold\">model.py</span>:<span style=\"color: #0000ff; text-decoration-color: #0000ff\">29</span> in       <span style=\"color: #800000; text-decoration-color: #800000\">│</span>\n",
       "<span style=\"color: #800000; text-decoration-color: #800000\">│</span> <span style=\"color: #00ff00; text-decoration-color: #00ff00\">__init__</span>                                                                                         <span style=\"color: #800000; text-decoration-color: #800000\">│</span>\n",
       "<span style=\"color: #800000; text-decoration-color: #800000\">│</span>                                                                                                  <span style=\"color: #800000; text-decoration-color: #800000\">│</span>\n",
       "<span style=\"color: #800000; text-decoration-color: #800000\">│</span>   <span style=\"color: #7f7f7f; text-decoration-color: #7f7f7f\"> 26 </span><span style=\"color: #7f7f7f; text-decoration-color: #7f7f7f\">│   │   </span><span style=\"color: #00ffff; text-decoration-color: #00ffff\">self</span>.model_config = model_config                                                   <span style=\"color: #800000; text-decoration-color: #800000\">│</span>\n",
       "<span style=\"color: #800000; text-decoration-color: #800000\">│</span>   <span style=\"color: #7f7f7f; text-decoration-color: #7f7f7f\"> 27 </span><span style=\"color: #7f7f7f; text-decoration-color: #7f7f7f\">│   │   </span><span style=\"color: #00ffff; text-decoration-color: #00ffff\">self</span>.training_config = training_config                                             <span style=\"color: #800000; text-decoration-color: #800000\">│</span>\n",
       "<span style=\"color: #800000; text-decoration-color: #800000\">│</span>   <span style=\"color: #7f7f7f; text-decoration-color: #7f7f7f\"> 28 </span><span style=\"color: #7f7f7f; text-decoration-color: #7f7f7f\">│   │   </span>                                                                                   <span style=\"color: #800000; text-decoration-color: #800000\">│</span>\n",
       "<span style=\"color: #800000; text-decoration-color: #800000\">│</span> <span style=\"color: #800000; text-decoration-color: #800000\">❱ </span> 29 <span style=\"color: #7f7f7f; text-decoration-color: #7f7f7f\">│   │   </span><span style=\"color: #00ffff; text-decoration-color: #00ffff\">self</span>.autoencoder = AdaptiveVAE(model_config, training_config.checkpointing_level   <span style=\"color: #800000; text-decoration-color: #800000\">│</span>\n",
       "<span style=\"color: #800000; text-decoration-color: #800000\">│</span>   <span style=\"color: #7f7f7f; text-decoration-color: #7f7f7f\"> 30 </span><span style=\"color: #7f7f7f; text-decoration-color: #7f7f7f\">│   │   </span>                                                                                   <span style=\"color: #800000; text-decoration-color: #800000\">│</span>\n",
       "<span style=\"color: #800000; text-decoration-color: #800000\">│</span>   <span style=\"color: #7f7f7f; text-decoration-color: #7f7f7f\"> 31 </span><span style=\"color: #7f7f7f; text-decoration-color: #7f7f7f\">│   │   </span><span style=\"color: #00ffff; text-decoration-color: #00ffff\">self</span>.reconstruction_loss = L1Loss()                                                <span style=\"color: #800000; text-decoration-color: #800000\">│</span>\n",
       "<span style=\"color: #800000; text-decoration-color: #800000\">│</span>   <span style=\"color: #7f7f7f; text-decoration-color: #7f7f7f\"> 32 </span><span style=\"color: #7f7f7f; text-decoration-color: #7f7f7f\">│   │   </span><span style=\"color: #00ffff; text-decoration-color: #00ffff\">self</span>.perceptual_loss = PerceptualLoss(                                             <span style=\"color: #800000; text-decoration-color: #800000\">│</span>\n",
       "<span style=\"color: #800000; text-decoration-color: #800000\">│</span>                                                                                                  <span style=\"color: #800000; text-decoration-color: #800000\">│</span>\n",
       "<span style=\"color: #800000; text-decoration-color: #800000\">│</span> <span style=\"color: #bfbf7f; text-decoration-color: #bfbf7f\">/home/ubuntu/projects/diffusion_3d/src/diffusion_3d/chestct/autoencoder/vae/</span><span style=\"color: #808000; text-decoration-color: #808000; font-weight: bold\">nn.py</span>:<span style=\"color: #0000ff; text-decoration-color: #0000ff\">204</span> in         <span style=\"color: #800000; text-decoration-color: #800000\">│</span>\n",
       "<span style=\"color: #800000; text-decoration-color: #800000\">│</span> <span style=\"color: #00ff00; text-decoration-color: #00ff00\">__init__</span>                                                                                         <span style=\"color: #800000; text-decoration-color: #800000\">│</span>\n",
       "<span style=\"color: #800000; text-decoration-color: #800000\">│</span>                                                                                                  <span style=\"color: #800000; text-decoration-color: #800000\">│</span>\n",
       "<span style=\"color: #800000; text-decoration-color: #800000\">│</span>   <span style=\"color: #7f7f7f; text-decoration-color: #7f7f7f\">201 </span><span style=\"color: #7f7f7f; text-decoration-color: #7f7f7f\">│   │   │   </span>in_channels={stage.dim <span style=\"color: #0000ff; text-decoration-color: #0000ff\">for</span> stage <span style=\"color: #ff00ff; text-decoration-color: #ff00ff\">in</span> model_config.swin.stages},                 <span style=\"color: #800000; text-decoration-color: #800000\">│</span>\n",
       "<span style=\"color: #800000; text-decoration-color: #800000\">│</span>   <span style=\"color: #7f7f7f; text-decoration-color: #7f7f7f\">202 </span><span style=\"color: #7f7f7f; text-decoration-color: #7f7f7f\">│   │   │   </span>out_channels=latent_channels,                                                  <span style=\"color: #800000; text-decoration-color: #800000\">│</span>\n",
       "<span style=\"color: #800000; text-decoration-color: #800000\">│</span>   <span style=\"color: #7f7f7f; text-decoration-color: #7f7f7f\">203 </span><span style=\"color: #7f7f7f; text-decoration-color: #7f7f7f\">│   │   </span>)                                                                                  <span style=\"color: #800000; text-decoration-color: #800000\">│</span>\n",
       "<span style=\"color: #800000; text-decoration-color: #800000\">│</span> <span style=\"color: #800000; text-decoration-color: #800000\">❱ </span>204 <span style=\"color: #7f7f7f; text-decoration-color: #7f7f7f\">│   │   </span>input_channel_mapping = Perceiver3DChannelMapping(input_channel_mapping_config)    <span style=\"color: #800000; text-decoration-color: #800000\">│</span>\n",
       "<span style=\"color: #800000; text-decoration-color: #800000\">│</span>   <span style=\"color: #7f7f7f; text-decoration-color: #7f7f7f\">205 </span><span style=\"color: #7f7f7f; text-decoration-color: #7f7f7f\">│   │   </span>decode_position_embeddings = AbsolutePositionEmbeddings3D(dim=latent_channels)     <span style=\"color: #800000; text-decoration-color: #800000\">│</span>\n",
       "<span style=\"color: #800000; text-decoration-color: #800000\">│</span>   <span style=\"color: #7f7f7f; text-decoration-color: #7f7f7f\">206 </span><span style=\"color: #7f7f7f; text-decoration-color: #7f7f7f\">│   │   </span>                                                                                   <span style=\"color: #800000; text-decoration-color: #800000\">│</span>\n",
       "<span style=\"color: #800000; text-decoration-color: #800000\">│</span>   <span style=\"color: #7f7f7f; text-decoration-color: #7f7f7f\">207 </span><span style=\"color: #7f7f7f; text-decoration-color: #7f7f7f\">│   │   </span><span style=\"color: #00ffff; text-decoration-color: #00ffff\">self</span>.encoder = SwinV23DModel(model_config.swin, checkpointing_level)               <span style=\"color: #800000; text-decoration-color: #800000\">│</span>\n",
       "<span style=\"color: #800000; text-decoration-color: #800000\">│</span>                                                                                                  <span style=\"color: #800000; text-decoration-color: #800000\">│</span>\n",
       "<span style=\"color: #800000; text-decoration-color: #800000\">│</span> <span style=\"color: #bfbf7f; text-decoration-color: #bfbf7f\">/home/ubuntu/projects/vision_architectures/vision_architectures/nets/</span><span style=\"color: #808000; text-decoration-color: #808000; font-weight: bold\">perceiver_3d.py</span>:<span style=\"color: #0000ff; text-decoration-color: #0000ff\">210</span> in      <span style=\"color: #800000; text-decoration-color: #800000\">│</span>\n",
       "<span style=\"color: #800000; text-decoration-color: #800000\">│</span> <span style=\"color: #00ff00; text-decoration-color: #00ff00\">__init__</span>                                                                                         <span style=\"color: #800000; text-decoration-color: #800000\">│</span>\n",
       "<span style=\"color: #800000; text-decoration-color: #800000\">│</span>                                                                                                  <span style=\"color: #800000; text-decoration-color: #800000\">│</span>\n",
       "<span style=\"color: #800000; text-decoration-color: #800000\">│</span>   <span style=\"color: #7f7f7f; text-decoration-color: #7f7f7f\">207 </span><span style=\"color: #7f7f7f; text-decoration-color: #7f7f7f\">│   </span><span style=\"color: #0000ff; text-decoration-color: #0000ff\">def</span> <span style=\"color: #00ff00; text-decoration-color: #00ff00\">__init__</span>(<span style=\"color: #00ffff; text-decoration-color: #00ffff\">self</span>, config: Perceiver3DChannelMappingConfig = {}, **kwargs):            <span style=\"color: #800000; text-decoration-color: #800000\">│</span>\n",
       "<span style=\"color: #800000; text-decoration-color: #800000\">│</span>   <span style=\"color: #7f7f7f; text-decoration-color: #7f7f7f\">208 </span><span style=\"color: #7f7f7f; text-decoration-color: #7f7f7f\">│   │   </span><span style=\"color: #00ffff; text-decoration-color: #00ffff\">super</span>().<span style=\"color: #00ff00; text-decoration-color: #00ff00\">__init__</span>()                                                                 <span style=\"color: #800000; text-decoration-color: #800000\">│</span>\n",
       "<span style=\"color: #800000; text-decoration-color: #800000\">│</span>   <span style=\"color: #7f7f7f; text-decoration-color: #7f7f7f\">209 </span><span style=\"color: #7f7f7f; text-decoration-color: #7f7f7f\">│   │   </span>                                                                                   <span style=\"color: #800000; text-decoration-color: #800000\">│</span>\n",
       "<span style=\"color: #800000; text-decoration-color: #800000\">│</span> <span style=\"color: #800000; text-decoration-color: #800000\">❱ </span>210 <span style=\"color: #7f7f7f; text-decoration-color: #7f7f7f\">│   │   </span><span style=\"color: #00ffff; text-decoration-color: #00ffff\">self</span>.config = Perceiver3DChannelMappingConfig.model_validate(config | kwargs)      <span style=\"color: #800000; text-decoration-color: #800000\">│</span>\n",
       "<span style=\"color: #800000; text-decoration-color: #800000\">│</span>   <span style=\"color: #7f7f7f; text-decoration-color: #7f7f7f\">211 </span><span style=\"color: #7f7f7f; text-decoration-color: #7f7f7f\">│   │   </span>                                                                                   <span style=\"color: #800000; text-decoration-color: #800000\">│</span>\n",
       "<span style=\"color: #800000; text-decoration-color: #800000\">│</span>   <span style=\"color: #7f7f7f; text-decoration-color: #7f7f7f\">212 </span><span style=\"color: #7f7f7f; text-decoration-color: #7f7f7f\">│   │   </span><span style=\"color: #00ffff; text-decoration-color: #00ffff\">self</span>.in_channels = <span style=\"color: #00ffff; text-decoration-color: #00ffff\">self</span>.config.in_channels                                         <span style=\"color: #800000; text-decoration-color: #800000\">│</span>\n",
       "<span style=\"color: #800000; text-decoration-color: #800000\">│</span>   <span style=\"color: #7f7f7f; text-decoration-color: #7f7f7f\">213 </span><span style=\"color: #7f7f7f; text-decoration-color: #7f7f7f\">│   │   </span><span style=\"color: #00ffff; text-decoration-color: #00ffff\">self</span>.out_channels = <span style=\"color: #00ffff; text-decoration-color: #00ffff\">self</span>.config.out_channels                                       <span style=\"color: #800000; text-decoration-color: #800000\">│</span>\n",
       "<span style=\"color: #800000; text-decoration-color: #800000\">│</span>                                                                                                  <span style=\"color: #800000; text-decoration-color: #800000\">│</span>\n",
       "<span style=\"color: #800000; text-decoration-color: #800000\">│</span> <span style=\"color: #bfbf7f; text-decoration-color: #bfbf7f\">/home/ubuntu/miniconda3/lib/python3.10/site-packages/pydantic/</span><span style=\"color: #808000; text-decoration-color: #808000; font-weight: bold\">main.py</span>:<span style=\"color: #0000ff; text-decoration-color: #0000ff\">627</span> in <span style=\"color: #00ff00; text-decoration-color: #00ff00\">model_validate</span>      <span style=\"color: #800000; text-decoration-color: #800000\">│</span>\n",
       "<span style=\"color: #800000; text-decoration-color: #800000\">│</span>                                                                                                  <span style=\"color: #800000; text-decoration-color: #800000\">│</span>\n",
       "<span style=\"color: #800000; text-decoration-color: #800000\">│</span>   <span style=\"color: #7f7f7f; text-decoration-color: #7f7f7f\"> 624 </span><span style=\"color: #bfbf7f; text-decoration-color: #bfbf7f\">│   │   </span><span style=\"color: #808000; text-decoration-color: #808000\">\"\"\"</span>                                                                               <span style=\"color: #800000; text-decoration-color: #800000\">│</span>\n",
       "<span style=\"color: #800000; text-decoration-color: #800000\">│</span>   <span style=\"color: #7f7f7f; text-decoration-color: #7f7f7f\"> 625 </span><span style=\"color: #7f7f7f; text-decoration-color: #7f7f7f\">│   │   </span><span style=\"color: #7f7f7f; text-decoration-color: #7f7f7f\"># `__tracebackhide__` tells pytest and some other tools to omit this function fr</span>  <span style=\"color: #800000; text-decoration-color: #800000\">│</span>\n",
       "<span style=\"color: #800000; text-decoration-color: #800000\">│</span>   <span style=\"color: #7f7f7f; text-decoration-color: #7f7f7f\"> 626 </span><span style=\"color: #7f7f7f; text-decoration-color: #7f7f7f\">│   │   </span>__tracebackhide__ = <span style=\"color: #0000ff; text-decoration-color: #0000ff\">True</span>                                                          <span style=\"color: #800000; text-decoration-color: #800000\">│</span>\n",
       "<span style=\"color: #800000; text-decoration-color: #800000\">│</span> <span style=\"color: #800000; text-decoration-color: #800000\">❱ </span> 627 <span style=\"color: #7f7f7f; text-decoration-color: #7f7f7f\">│   │   </span><span style=\"color: #0000ff; text-decoration-color: #0000ff\">return</span> <span style=\"color: #00ffff; text-decoration-color: #00ffff\">cls</span>.__pydantic_validator__.validate_python(                                <span style=\"color: #800000; text-decoration-color: #800000\">│</span>\n",
       "<span style=\"color: #800000; text-decoration-color: #800000\">│</span>   <span style=\"color: #7f7f7f; text-decoration-color: #7f7f7f\"> 628 </span><span style=\"color: #7f7f7f; text-decoration-color: #7f7f7f\">│   │   │   </span>obj, strict=strict, from_attributes=from_attributes, context=context          <span style=\"color: #800000; text-decoration-color: #800000\">│</span>\n",
       "<span style=\"color: #800000; text-decoration-color: #800000\">│</span>   <span style=\"color: #7f7f7f; text-decoration-color: #7f7f7f\"> 629 </span><span style=\"color: #7f7f7f; text-decoration-color: #7f7f7f\">│   │   </span>)                                                                                 <span style=\"color: #800000; text-decoration-color: #800000\">│</span>\n",
       "<span style=\"color: #800000; text-decoration-color: #800000\">│</span>   <span style=\"color: #7f7f7f; text-decoration-color: #7f7f7f\"> 630 </span>                                                                                          <span style=\"color: #800000; text-decoration-color: #800000\">│</span>\n",
       "<span style=\"color: #800000; text-decoration-color: #800000\">╰──────────────────────────────────────────────────────────────────────────────────────────────────╯</span>\n",
       "<span style=\"color: #ff0000; text-decoration-color: #ff0000; font-weight: bold\">ValidationError: </span><span style=\"color: #008080; text-decoration-color: #008080; font-weight: bold\">1</span> validation error for Perceiver3DChannelMappingConfig\n",
       "  Input should be a valid dictionary or instance of Perceiver3DChannelMappingConfig <span style=\"font-weight: bold\">[</span><span style=\"color: #808000; text-decoration-color: #808000\">type</span>=<span style=\"color: #800080; text-decoration-color: #800080\">model_type</span>, \n",
       "<span style=\"color: #808000; text-decoration-color: #808000\">input_value</span>=<span style=\"color: #800080; text-decoration-color: #800080\">Perceiver3DChannelMapping</span><span style=\"color: #808000; text-decoration-color: #808000\">...</span> <span style=\"color: #008080; text-decoration-color: #008080; font-weight: bold\">192</span><span style=\"font-weight: bold\">}</span>, <span style=\"color: #808000; text-decoration-color: #808000\">out_channels</span>=<span style=\"color: #008080; text-decoration-color: #008080; font-weight: bold\">192</span><span style=\"font-weight: bold\">)</span>, <span style=\"color: #808000; text-decoration-color: #808000\">input_type</span>=<span style=\"color: #800080; text-decoration-color: #800080\">Perceiver3DChannelMappingConfig</span><span style=\"font-weight: bold\">]</span>\n",
       "    For further information visit <span style=\"color: #0000ff; text-decoration-color: #0000ff; text-decoration: underline\">https://errors.pydantic.dev/2.10/v/model_type</span>\n",
       "</pre>\n"
      ],
      "text/plain": [
       "\u001b[31m╭─\u001b[0m\u001b[31m──────────────────────────────\u001b[0m\u001b[31m \u001b[0m\u001b[1;31mTraceback \u001b[0m\u001b[1;2;31m(most recent call last)\u001b[0m\u001b[31m \u001b[0m\u001b[31m───────────────────────────────\u001b[0m\u001b[31m─╮\u001b[0m\n",
       "\u001b[31m│\u001b[0m in \u001b[92m<module>\u001b[0m:\u001b[94m3\u001b[0m                                                                                    \u001b[31m│\u001b[0m\n",
       "\u001b[31m│\u001b[0m                                                                                                  \u001b[31m│\u001b[0m\n",
       "\u001b[31m│\u001b[0m   \u001b[2m1 \u001b[0mcheckpoint_path = \u001b[33mr\u001b[0m\u001b[33m\"\u001b[0m\u001b[33m/raid3/arjun/checkpoints/adaptive_autoencoder/v28__2025_03_08__v27/v\u001b[0m     \u001b[31m│\u001b[0m\n",
       "\u001b[31m│\u001b[0m   \u001b[2m2 \u001b[0m                                                                                             \u001b[31m│\u001b[0m\n",
       "\u001b[31m│\u001b[0m \u001b[31m❱ \u001b[0m3 model = AdaptiveVAELightning.load_from_checkpoint(                                           \u001b[31m│\u001b[0m\n",
       "\u001b[31m│\u001b[0m   \u001b[2m4 \u001b[0m\u001b[2m│   \u001b[0mcheckpoint_path,                                                                         \u001b[31m│\u001b[0m\n",
       "\u001b[31m│\u001b[0m   \u001b[2m5 \u001b[0m\u001b[2m│   \u001b[0mmap_location=\u001b[33m\"\u001b[0m\u001b[33mcpu\u001b[0m\u001b[33m\"\u001b[0m,                                                                      \u001b[31m│\u001b[0m\n",
       "\u001b[31m│\u001b[0m   \u001b[2m6 \u001b[0m\u001b[2m│   \u001b[0mmodel_config=config.model,                                                               \u001b[31m│\u001b[0m\n",
       "\u001b[31m│\u001b[0m                                                                                                  \u001b[31m│\u001b[0m\n",
       "\u001b[31m│\u001b[0m \u001b[2;33m/home/ubuntu/miniconda3/lib/python3.10/site-packages/lightning/pytorch/utilities/\u001b[0m\u001b[1;33mmodel_helpers.p\u001b[0m \u001b[31m│\u001b[0m\n",
       "\u001b[31m│\u001b[0m \u001b[1;33my\u001b[0m:\u001b[94m125\u001b[0m in \u001b[92mwrapper\u001b[0m                                                                                 \u001b[31m│\u001b[0m\n",
       "\u001b[31m│\u001b[0m                                                                                                  \u001b[31m│\u001b[0m\n",
       "\u001b[31m│\u001b[0m   \u001b[2m122 \u001b[0m\u001b[2m│   │   │   │   │   \u001b[0m\u001b[33mf\u001b[0m\u001b[33m\"\u001b[0m\u001b[33mThe classmethod `\u001b[0m\u001b[33m{\u001b[0m\u001b[96mcls\u001b[0m.\u001b[91m__name__\u001b[0m\u001b[33m}\u001b[0m\u001b[33m.\u001b[0m\u001b[33m{\u001b[0m\u001b[96mself\u001b[0m.method.\u001b[91m__name__\u001b[0m\u001b[33m}\u001b[0m\u001b[33m` cannot be \u001b[0m   \u001b[31m│\u001b[0m\n",
       "\u001b[31m│\u001b[0m   \u001b[2m123 \u001b[0m\u001b[2m│   │   │   │   │   \u001b[0m\u001b[33m\"\u001b[0m\u001b[33m Please call it on the class type and make sure the return value is\u001b[0m   \u001b[31m│\u001b[0m\n",
       "\u001b[31m│\u001b[0m   \u001b[2m124 \u001b[0m\u001b[2m│   │   │   │   \u001b[0m)                                                                          \u001b[31m│\u001b[0m\n",
       "\u001b[31m│\u001b[0m \u001b[31m❱ \u001b[0m125 \u001b[2m│   │   │   \u001b[0m\u001b[94mreturn\u001b[0m \u001b[96mself\u001b[0m.method(\u001b[96mcls\u001b[0m, *args, **kwargs)                                       \u001b[31m│\u001b[0m\n",
       "\u001b[31m│\u001b[0m   \u001b[2m126 \u001b[0m\u001b[2m│   │   \u001b[0m                                                                                   \u001b[31m│\u001b[0m\n",
       "\u001b[31m│\u001b[0m   \u001b[2m127 \u001b[0m\u001b[2m│   │   \u001b[0m\u001b[94mreturn\u001b[0m wrapper                                                                     \u001b[31m│\u001b[0m\n",
       "\u001b[31m│\u001b[0m   \u001b[2m128 \u001b[0m                                                                                           \u001b[31m│\u001b[0m\n",
       "\u001b[31m│\u001b[0m                                                                                                  \u001b[31m│\u001b[0m\n",
       "\u001b[31m│\u001b[0m \u001b[2;33m/home/ubuntu/miniconda3/lib/python3.10/site-packages/lightning/pytorch/core/\u001b[0m\u001b[1;33mmodule.py\u001b[0m:\u001b[94m1582\u001b[0m in    \u001b[31m│\u001b[0m\n",
       "\u001b[31m│\u001b[0m \u001b[92mload_from_checkpoint\u001b[0m                                                                             \u001b[31m│\u001b[0m\n",
       "\u001b[31m│\u001b[0m                                                                                                  \u001b[31m│\u001b[0m\n",
       "\u001b[31m│\u001b[0m   \u001b[2m1579 \u001b[0m\u001b[2;33m│   │   │   \u001b[0m\u001b[33my_hat = pretrained_model(x)\u001b[0m                                                   \u001b[31m│\u001b[0m\n",
       "\u001b[31m│\u001b[0m   \u001b[2m1580 \u001b[0m\u001b[2m│   │   \u001b[0m                                                                                  \u001b[31m│\u001b[0m\n",
       "\u001b[31m│\u001b[0m   \u001b[2m1581 \u001b[0m\u001b[2;33m│   │   \u001b[0m\u001b[33m\"\"\"\u001b[0m                                                                               \u001b[31m│\u001b[0m\n",
       "\u001b[31m│\u001b[0m \u001b[31m❱ \u001b[0m1582 \u001b[2m│   │   \u001b[0mloaded = _load_from_checkpoint(                                                   \u001b[31m│\u001b[0m\n",
       "\u001b[31m│\u001b[0m   \u001b[2m1583 \u001b[0m\u001b[2m│   │   │   \u001b[0m\u001b[96mcls\u001b[0m,                                                                          \u001b[31m│\u001b[0m\n",
       "\u001b[31m│\u001b[0m   \u001b[2m1584 \u001b[0m\u001b[2m│   │   │   \u001b[0mcheckpoint_path,                                                              \u001b[31m│\u001b[0m\n",
       "\u001b[31m│\u001b[0m   \u001b[2m1585 \u001b[0m\u001b[2m│   │   │   \u001b[0mmap_location,                                                                 \u001b[31m│\u001b[0m\n",
       "\u001b[31m│\u001b[0m                                                                                                  \u001b[31m│\u001b[0m\n",
       "\u001b[31m│\u001b[0m \u001b[2;33m/home/ubuntu/miniconda3/lib/python3.10/site-packages/lightning/pytorch/core/\u001b[0m\u001b[1;33msaving.py\u001b[0m:\u001b[94m91\u001b[0m in      \u001b[31m│\u001b[0m\n",
       "\u001b[31m│\u001b[0m \u001b[92m_load_from_checkpoint\u001b[0m                                                                            \u001b[31m│\u001b[0m\n",
       "\u001b[31m│\u001b[0m                                                                                                  \u001b[31m│\u001b[0m\n",
       "\u001b[31m│\u001b[0m   \u001b[2m 88 \u001b[0m\u001b[2m│   \u001b[0m\u001b[94mif\u001b[0m \u001b[96missubclass\u001b[0m(\u001b[96mcls\u001b[0m, pl.LightningDataModule):                                            \u001b[31m│\u001b[0m\n",
       "\u001b[31m│\u001b[0m   \u001b[2m 89 \u001b[0m\u001b[2m│   │   \u001b[0m\u001b[94mreturn\u001b[0m _load_state(\u001b[96mcls\u001b[0m, checkpoint, **kwargs)                                      \u001b[31m│\u001b[0m\n",
       "\u001b[31m│\u001b[0m   \u001b[2m 90 \u001b[0m\u001b[2m│   \u001b[0m\u001b[94mif\u001b[0m \u001b[96missubclass\u001b[0m(\u001b[96mcls\u001b[0m, pl.LightningModule):                                                \u001b[31m│\u001b[0m\n",
       "\u001b[31m│\u001b[0m \u001b[31m❱ \u001b[0m 91 \u001b[2m│   │   \u001b[0mmodel = _load_state(\u001b[96mcls\u001b[0m, checkpoint, strict=strict, **kwargs)                      \u001b[31m│\u001b[0m\n",
       "\u001b[31m│\u001b[0m   \u001b[2m 92 \u001b[0m\u001b[2m│   │   \u001b[0mstate_dict = checkpoint[\u001b[33m\"\u001b[0m\u001b[33mstate_dict\u001b[0m\u001b[33m\"\u001b[0m]                                              \u001b[31m│\u001b[0m\n",
       "\u001b[31m│\u001b[0m   \u001b[2m 93 \u001b[0m\u001b[2m│   │   \u001b[0m\u001b[94mif\u001b[0m \u001b[95mnot\u001b[0m state_dict:                                                                 \u001b[31m│\u001b[0m\n",
       "\u001b[31m│\u001b[0m   \u001b[2m 94 \u001b[0m\u001b[2m│   │   │   \u001b[0mrank_zero_warn(\u001b[33mf\u001b[0m\u001b[33m\"\u001b[0m\u001b[33mThe state dict in \u001b[0m\u001b[33m{\u001b[0mcheckpoint_path\u001b[33m!r}\u001b[0m\u001b[33m contains no parameter\u001b[0m   \u001b[31m│\u001b[0m\n",
       "\u001b[31m│\u001b[0m                                                                                                  \u001b[31m│\u001b[0m\n",
       "\u001b[31m│\u001b[0m \u001b[2;33m/home/ubuntu/miniconda3/lib/python3.10/site-packages/lightning/pytorch/core/\u001b[0m\u001b[1;33msaving.py\u001b[0m:\u001b[94m165\u001b[0m in     \u001b[31m│\u001b[0m\n",
       "\u001b[31m│\u001b[0m \u001b[92m_load_state\u001b[0m                                                                                      \u001b[31m│\u001b[0m\n",
       "\u001b[31m│\u001b[0m                                                                                                  \u001b[31m│\u001b[0m\n",
       "\u001b[31m│\u001b[0m   \u001b[2m162 \u001b[0m\u001b[2m│   │   \u001b[0m\u001b[2m# filter kwargs according to class init unless it allows any argument via kwargs\u001b[0m   \u001b[31m│\u001b[0m\n",
       "\u001b[31m│\u001b[0m   \u001b[2m163 \u001b[0m\u001b[2m│   │   \u001b[0m_cls_kwargs = {k: v \u001b[94mfor\u001b[0m k, v \u001b[95min\u001b[0m _cls_kwargs.items() \u001b[94mif\u001b[0m k \u001b[95min\u001b[0m cls_init_args_name}    \u001b[31m│\u001b[0m\n",
       "\u001b[31m│\u001b[0m   \u001b[2m164 \u001b[0m\u001b[2m│   \u001b[0m                                                                                       \u001b[31m│\u001b[0m\n",
       "\u001b[31m│\u001b[0m \u001b[31m❱ \u001b[0m165 \u001b[2m│   \u001b[0mobj = instantiator(\u001b[96mcls\u001b[0m, _cls_kwargs) \u001b[94mif\u001b[0m instantiator \u001b[94melse\u001b[0m \u001b[96mcls\u001b[0m(**_cls_kwargs)           \u001b[31m│\u001b[0m\n",
       "\u001b[31m│\u001b[0m   \u001b[2m166 \u001b[0m\u001b[2m│   \u001b[0m                                                                                       \u001b[31m│\u001b[0m\n",
       "\u001b[31m│\u001b[0m   \u001b[2m167 \u001b[0m\u001b[2m│   \u001b[0m\u001b[94mif\u001b[0m \u001b[96misinstance\u001b[0m(obj, pl.LightningDataModule):                                            \u001b[31m│\u001b[0m\n",
       "\u001b[31m│\u001b[0m   \u001b[2m168 \u001b[0m\u001b[2m│   │   \u001b[0m\u001b[94mif\u001b[0m obj.\u001b[91m__class__\u001b[0m.\u001b[91m__qualname__\u001b[0m \u001b[95min\u001b[0m checkpoint:                                       \u001b[31m│\u001b[0m\n",
       "\u001b[31m│\u001b[0m                                                                                                  \u001b[31m│\u001b[0m\n",
       "\u001b[31m│\u001b[0m \u001b[2;33m/home/ubuntu/projects/diffusion_3d/src/diffusion_3d/chestct/autoencoder/vae/\u001b[0m\u001b[1;33mmodel.py\u001b[0m:\u001b[94m29\u001b[0m in       \u001b[31m│\u001b[0m\n",
       "\u001b[31m│\u001b[0m \u001b[92m__init__\u001b[0m                                                                                         \u001b[31m│\u001b[0m\n",
       "\u001b[31m│\u001b[0m                                                                                                  \u001b[31m│\u001b[0m\n",
       "\u001b[31m│\u001b[0m   \u001b[2m 26 \u001b[0m\u001b[2m│   │   \u001b[0m\u001b[96mself\u001b[0m.model_config = model_config                                                   \u001b[31m│\u001b[0m\n",
       "\u001b[31m│\u001b[0m   \u001b[2m 27 \u001b[0m\u001b[2m│   │   \u001b[0m\u001b[96mself\u001b[0m.training_config = training_config                                             \u001b[31m│\u001b[0m\n",
       "\u001b[31m│\u001b[0m   \u001b[2m 28 \u001b[0m\u001b[2m│   │   \u001b[0m                                                                                   \u001b[31m│\u001b[0m\n",
       "\u001b[31m│\u001b[0m \u001b[31m❱ \u001b[0m 29 \u001b[2m│   │   \u001b[0m\u001b[96mself\u001b[0m.autoencoder = AdaptiveVAE(model_config, training_config.checkpointing_level   \u001b[31m│\u001b[0m\n",
       "\u001b[31m│\u001b[0m   \u001b[2m 30 \u001b[0m\u001b[2m│   │   \u001b[0m                                                                                   \u001b[31m│\u001b[0m\n",
       "\u001b[31m│\u001b[0m   \u001b[2m 31 \u001b[0m\u001b[2m│   │   \u001b[0m\u001b[96mself\u001b[0m.reconstruction_loss = L1Loss()                                                \u001b[31m│\u001b[0m\n",
       "\u001b[31m│\u001b[0m   \u001b[2m 32 \u001b[0m\u001b[2m│   │   \u001b[0m\u001b[96mself\u001b[0m.perceptual_loss = PerceptualLoss(                                             \u001b[31m│\u001b[0m\n",
       "\u001b[31m│\u001b[0m                                                                                                  \u001b[31m│\u001b[0m\n",
       "\u001b[31m│\u001b[0m \u001b[2;33m/home/ubuntu/projects/diffusion_3d/src/diffusion_3d/chestct/autoencoder/vae/\u001b[0m\u001b[1;33mnn.py\u001b[0m:\u001b[94m204\u001b[0m in         \u001b[31m│\u001b[0m\n",
       "\u001b[31m│\u001b[0m \u001b[92m__init__\u001b[0m                                                                                         \u001b[31m│\u001b[0m\n",
       "\u001b[31m│\u001b[0m                                                                                                  \u001b[31m│\u001b[0m\n",
       "\u001b[31m│\u001b[0m   \u001b[2m201 \u001b[0m\u001b[2m│   │   │   \u001b[0min_channels={stage.dim \u001b[94mfor\u001b[0m stage \u001b[95min\u001b[0m model_config.swin.stages},                 \u001b[31m│\u001b[0m\n",
       "\u001b[31m│\u001b[0m   \u001b[2m202 \u001b[0m\u001b[2m│   │   │   \u001b[0mout_channels=latent_channels,                                                  \u001b[31m│\u001b[0m\n",
       "\u001b[31m│\u001b[0m   \u001b[2m203 \u001b[0m\u001b[2m│   │   \u001b[0m)                                                                                  \u001b[31m│\u001b[0m\n",
       "\u001b[31m│\u001b[0m \u001b[31m❱ \u001b[0m204 \u001b[2m│   │   \u001b[0minput_channel_mapping = Perceiver3DChannelMapping(input_channel_mapping_config)    \u001b[31m│\u001b[0m\n",
       "\u001b[31m│\u001b[0m   \u001b[2m205 \u001b[0m\u001b[2m│   │   \u001b[0mdecode_position_embeddings = AbsolutePositionEmbeddings3D(dim=latent_channels)     \u001b[31m│\u001b[0m\n",
       "\u001b[31m│\u001b[0m   \u001b[2m206 \u001b[0m\u001b[2m│   │   \u001b[0m                                                                                   \u001b[31m│\u001b[0m\n",
       "\u001b[31m│\u001b[0m   \u001b[2m207 \u001b[0m\u001b[2m│   │   \u001b[0m\u001b[96mself\u001b[0m.encoder = SwinV23DModel(model_config.swin, checkpointing_level)               \u001b[31m│\u001b[0m\n",
       "\u001b[31m│\u001b[0m                                                                                                  \u001b[31m│\u001b[0m\n",
       "\u001b[31m│\u001b[0m \u001b[2;33m/home/ubuntu/projects/vision_architectures/vision_architectures/nets/\u001b[0m\u001b[1;33mperceiver_3d.py\u001b[0m:\u001b[94m210\u001b[0m in      \u001b[31m│\u001b[0m\n",
       "\u001b[31m│\u001b[0m \u001b[92m__init__\u001b[0m                                                                                         \u001b[31m│\u001b[0m\n",
       "\u001b[31m│\u001b[0m                                                                                                  \u001b[31m│\u001b[0m\n",
       "\u001b[31m│\u001b[0m   \u001b[2m207 \u001b[0m\u001b[2m│   \u001b[0m\u001b[94mdef\u001b[0m \u001b[92m__init__\u001b[0m(\u001b[96mself\u001b[0m, config: Perceiver3DChannelMappingConfig = {}, **kwargs):            \u001b[31m│\u001b[0m\n",
       "\u001b[31m│\u001b[0m   \u001b[2m208 \u001b[0m\u001b[2m│   │   \u001b[0m\u001b[96msuper\u001b[0m().\u001b[92m__init__\u001b[0m()                                                                 \u001b[31m│\u001b[0m\n",
       "\u001b[31m│\u001b[0m   \u001b[2m209 \u001b[0m\u001b[2m│   │   \u001b[0m                                                                                   \u001b[31m│\u001b[0m\n",
       "\u001b[31m│\u001b[0m \u001b[31m❱ \u001b[0m210 \u001b[2m│   │   \u001b[0m\u001b[96mself\u001b[0m.config = Perceiver3DChannelMappingConfig.model_validate(config | kwargs)      \u001b[31m│\u001b[0m\n",
       "\u001b[31m│\u001b[0m   \u001b[2m211 \u001b[0m\u001b[2m│   │   \u001b[0m                                                                                   \u001b[31m│\u001b[0m\n",
       "\u001b[31m│\u001b[0m   \u001b[2m212 \u001b[0m\u001b[2m│   │   \u001b[0m\u001b[96mself\u001b[0m.in_channels = \u001b[96mself\u001b[0m.config.in_channels                                         \u001b[31m│\u001b[0m\n",
       "\u001b[31m│\u001b[0m   \u001b[2m213 \u001b[0m\u001b[2m│   │   \u001b[0m\u001b[96mself\u001b[0m.out_channels = \u001b[96mself\u001b[0m.config.out_channels                                       \u001b[31m│\u001b[0m\n",
       "\u001b[31m│\u001b[0m                                                                                                  \u001b[31m│\u001b[0m\n",
       "\u001b[31m│\u001b[0m \u001b[2;33m/home/ubuntu/miniconda3/lib/python3.10/site-packages/pydantic/\u001b[0m\u001b[1;33mmain.py\u001b[0m:\u001b[94m627\u001b[0m in \u001b[92mmodel_validate\u001b[0m      \u001b[31m│\u001b[0m\n",
       "\u001b[31m│\u001b[0m                                                                                                  \u001b[31m│\u001b[0m\n",
       "\u001b[31m│\u001b[0m   \u001b[2m 624 \u001b[0m\u001b[2;33m│   │   \u001b[0m\u001b[33m\"\"\"\u001b[0m                                                                               \u001b[31m│\u001b[0m\n",
       "\u001b[31m│\u001b[0m   \u001b[2m 625 \u001b[0m\u001b[2m│   │   \u001b[0m\u001b[2m# `__tracebackhide__` tells pytest and some other tools to omit this function fr\u001b[0m  \u001b[31m│\u001b[0m\n",
       "\u001b[31m│\u001b[0m   \u001b[2m 626 \u001b[0m\u001b[2m│   │   \u001b[0m__tracebackhide__ = \u001b[94mTrue\u001b[0m                                                          \u001b[31m│\u001b[0m\n",
       "\u001b[31m│\u001b[0m \u001b[31m❱ \u001b[0m 627 \u001b[2m│   │   \u001b[0m\u001b[94mreturn\u001b[0m \u001b[96mcls\u001b[0m.__pydantic_validator__.validate_python(                                \u001b[31m│\u001b[0m\n",
       "\u001b[31m│\u001b[0m   \u001b[2m 628 \u001b[0m\u001b[2m│   │   │   \u001b[0mobj, strict=strict, from_attributes=from_attributes, context=context          \u001b[31m│\u001b[0m\n",
       "\u001b[31m│\u001b[0m   \u001b[2m 629 \u001b[0m\u001b[2m│   │   \u001b[0m)                                                                                 \u001b[31m│\u001b[0m\n",
       "\u001b[31m│\u001b[0m   \u001b[2m 630 \u001b[0m                                                                                          \u001b[31m│\u001b[0m\n",
       "\u001b[31m╰──────────────────────────────────────────────────────────────────────────────────────────────────╯\u001b[0m\n",
       "\u001b[1;91mValidationError: \u001b[0m\u001b[1;36m1\u001b[0m validation error for Perceiver3DChannelMappingConfig\n",
       "  Input should be a valid dictionary or instance of Perceiver3DChannelMappingConfig \u001b[1m[\u001b[0m\u001b[33mtype\u001b[0m=\u001b[35mmodel_type\u001b[0m, \n",
       "\u001b[33minput_value\u001b[0m=\u001b[35mPerceiver3DChannelMapping\u001b[0m\u001b[33m...\u001b[0m \u001b[1;36m192\u001b[0m\u001b[1m}\u001b[0m, \u001b[33mout_channels\u001b[0m=\u001b[1;36m192\u001b[0m\u001b[1m)\u001b[0m, \u001b[33minput_type\u001b[0m=\u001b[35mPerceiver3DChannelMappingConfig\u001b[0m\u001b[1m]\u001b[0m\n",
       "    For further information visit \u001b[4;94mhttps://errors.pydantic.dev/2.10/v/model_type\u001b[0m\n"
      ]
     },
     "metadata": {},
     "output_type": "display_data"
    }
   ],
   "source": [
    "checkpoint_path = r\"/raid3/arjun/checkpoints/adaptive_autoencoder/v29__2025_03_10__v27/version_0/checkpoints/last.ckpt\"\n",
    "\n",
    "model = AdaptiveVAELightning.load_from_checkpoint(\n",
    "    checkpoint_path,\n",
    "    map_location=\"cpu\",\n",
    "    model_config=config.model,\n",
    ").autoencoder\n",
    "model.eval()"
   ]
  },
  {
   "cell_type": "code",
   "execution_count": null,
   "metadata": {},
   "outputs": [
    {
     "data": {
      "application/vnd.jupyter.widget-view+json": {
       "model_id": "ee8888e648014f419ff1f02e52e7a452",
       "version_major": 2,
       "version_minor": 0
      },
      "text/plain": [
       "valid:   0%|          | 0/500 [00:00<?, ?it/s]"
      ]
     },
     "metadata": {},
     "output_type": "display_data"
    },
    {
     "name": "stdout",
     "output_type": "stream",
     "text": [
      "No. of valid datapoints: 500\n"
     ]
    },
    {
     "data": {
      "text/html": [
       "<pre style=\"white-space:pre;overflow-x:auto;line-height:normal;font-family:Menlo,'DejaVu Sans Mono',consolas,'Courier New',monospace\"></pre>\n"
      ],
      "text/plain": []
     },
     "metadata": {},
     "output_type": "display_data"
    },
    {
     "data": {
      "text/plain": [
       "\u001b[1;36m500\u001b[0m"
      ]
     },
     "metadata": {},
     "output_type": "display_data"
    }
   ],
   "source": [
    "datamodule = CTRATEDataModule(config.data)\n",
    "dataloader = datamodule.val_dataloader()\n",
    "len(dataloader)"
   ]
  },
  {
   "cell_type": "raw",
   "metadata": {
    "vscode": {
     "languageId": "raw"
    }
   },
   "source": [
    "def analyze_feature_maps(model, input_batch):\n",
    "    # Hook intermediate layers\n",
    "    features = {}\n",
    "    def get_features(name):\n",
    "        def hook(model, input, output):\n",
    "            features[name] = []\n",
    "            for t in [input, output]:\n",
    "                if isinstance(t, torch.Tensor):\n",
    "                    features[name].append(t.detach())\n",
    "                elif isinstance(t, tuple):\n",
    "                    features[name].append(t[0].detach())\n",
    "                else:\n",
    "                    features[name].append(t['reconstructed'].detach())\n",
    "            \n",
    "        return hook\n",
    "\n",
    "    # Register hooks at key points\n",
    "    model.encoder.register_forward_hook(get_features('encoder'))\n",
    "    model.decoder.register_forward_hook(get_features('decoder'))\n",
    "    model.final_layer.register_forward_hook(get_features('final_layer'))\n",
    "    \n",
    "    # Forward pass\n",
    "    output = model.process_step(input_batch, [], 'valid', 0)\n",
    "    \n",
    "    # Analyze statistics\n",
    "    for name, feat in features.items():\n",
    "        print(f\"{name} stats:\")\n",
    "        print('INPUT:')\n",
    "        print(f\"Shape: {feat[0].shape}\")\n",
    "        print(f\"Mean: {feat[0].mean().item():.4f}\")\n",
    "        print(f\"Std: {feat[0].std().item():.4f}\")\n",
    "        print(f\"Max: {feat[0].max().item():.4f}\")\n",
    "        print(f\"Min: {feat[0].min().item():.4f}\")\n",
    "        print('OUTPUT:')\n",
    "        print(f\"Shape: {feat[1].shape}\")\n",
    "        print(f\"Mean: {feat[1].mean().item():.4f}\")\n",
    "        print(f\"Std: {feat[1].std().item():.4f}\")\n",
    "        print(f\"Max: {feat[1].max().item():.4f}\")\n",
    "        print(f\"Min: {feat[1].min().item():.4f}\")\n",
    "        print()\n",
    "\n",
    "analyze_feature_maps(model, x)"
   ]
  },
  {
   "cell_type": "code",
   "execution_count": null,
   "metadata": {},
   "outputs": [
    {
     "name": "stdout",
     "output_type": "stream",
     "text": [
      "Batch idx: 0\n",
      "metatensor(-0.4489) metatensor(-0.1123)\n",
      "torch.Size([4, 1, 96, 96, 96]) torch.Size([4, 1, 96, 96, 96])\n",
      "(metatensor(-1.), metatensor(0.7047)) (metatensor(-0.4489), metatensor(-0.1123))\n"
     ]
    },
    {
     "data": {
      "application/vnd.jupyter.widget-view+json": {
       "model_id": "2181d22cdab84f519384e2098d308c33",
       "version_major": 2,
       "version_minor": 0
      },
      "text/plain": [
       "interactive(children=(IntSlider(value=0, description='z', max=95), Output()), _dom_classes=('widget-interact',…"
      ]
     },
     "metadata": {},
     "output_type": "display_data"
    },
    {
     "data": {
      "application/vnd.jupyter.widget-view+json": {
       "model_id": "1632df15fb40471487d83db58f2a52d5",
       "version_major": 2,
       "version_minor": 0
      },
      "text/plain": [
       "interactive(children=(IntSlider(value=0, description='z', max=95), Output()), _dom_classes=('widget-interact',…"
      ]
     },
     "metadata": {},
     "output_type": "display_data"
    },
    {
     "data": {
      "application/vnd.jupyter.widget-view+json": {
       "model_id": "ec3325eeb4304e548f84dd91f642fe95",
       "version_major": 2,
       "version_minor": 0
      },
      "text/plain": [
       "interactive(children=(IntSlider(value=0, description='z', max=95), Output()), _dom_classes=('widget-interact',…"
      ]
     },
     "metadata": {},
     "output_type": "display_data"
    },
    {
     "data": {
      "application/vnd.jupyter.widget-view+json": {
       "model_id": "dd0ebd8239c84c119fef1e754989c00b",
       "version_major": 2,
       "version_minor": 0
      },
      "text/plain": [
       "interactive(children=(IntSlider(value=0, description='z', max=95), Output()), _dom_classes=('widget-interact',…"
      ]
     },
     "metadata": {},
     "output_type": "display_data"
    }
   ],
   "source": [
    "with torch.no_grad():\n",
    "    for i, batch in enumerate(dataloader):\n",
    "        if i >= 1:\n",
    "            break\n",
    "\n",
    "        x = batch[\"image\"]\n",
    "\n",
    "        reconstructed = model(batch, \"valid\")[\"reconstructed\"].cpu()\n",
    "        print(f\"Batch idx: {i}\")\n",
    "        print(reconstructed.min(), reconstructed.max())\n",
    "        print(x.shape, reconstructed.shape)\n",
    "        print((x.min(), x.max()), (reconstructed.min(), reconstructed.max()))\n",
    "\n",
    "        x[:, :, :, 0, 0] = -1.0\n",
    "        x[:, :, :, -1, -1] = 1.0\n",
    "        reconstructed[:, :, :, 0, 0] = -1.0\n",
    "        reconstructed[:, :, :, -1, -1] = 1.0\n",
    "\n",
    "        for i in range(x.shape[0]):\n",
    "            plot_scans([x[i][0], reconstructed[i][0]], [\"Original\", \"Reconstructed\"])\n",
    "\n",
    "torch.cuda.empty_cache()"
   ]
  },
  {
   "cell_type": "code",
   "execution_count": null,
   "metadata": {},
   "outputs": [],
   "source": []
  },
  {
   "cell_type": "markdown",
   "metadata": {},
   "source": [
    "# Whole CT"
   ]
  },
  {
   "cell_type": "code",
   "execution_count": null,
   "metadata": {},
   "outputs": [
    {
     "data": {
      "text/html": [
       "<pre style=\"white-space:pre;overflow-x:auto;line-height:normal;font-family:Menlo,'DejaVu Sans Mono',consolas,'Courier New',monospace\"><span style=\"color: #800000; text-decoration-color: #800000\">╭─────────────────────────────── </span><span style=\"color: #800000; text-decoration-color: #800000; font-weight: bold\">Traceback </span><span style=\"color: #bf7f7f; text-decoration-color: #bf7f7f; font-weight: bold\">(most recent call last)</span><span style=\"color: #800000; text-decoration-color: #800000\"> ────────────────────────────────╮</span>\n",
       "<span style=\"color: #800000; text-decoration-color: #800000\">│</span> in <span style=\"color: #00ff00; text-decoration-color: #00ff00\">&lt;module&gt;</span>:<span style=\"color: #0000ff; text-decoration-color: #0000ff\">1</span>                                                                                    <span style=\"color: #800000; text-decoration-color: #800000\">│</span>\n",
       "<span style=\"color: #800000; text-decoration-color: #800000\">│</span>                                                                                                  <span style=\"color: #800000; text-decoration-color: #800000\">│</span>\n",
       "<span style=\"color: #800000; text-decoration-color: #800000\">│</span> <span style=\"color: #800000; text-decoration-color: #800000\">❱ </span>1 <span style=\"color: #0000ff; text-decoration-color: #0000ff\">raise</span> <span style=\"color: #00ffff; text-decoration-color: #00ffff\">Exception</span>(<span style=\"color: #808000; text-decoration-color: #808000\">\"Don't want to automatically run beyond this point\"</span>)                         <span style=\"color: #800000; text-decoration-color: #800000\">│</span>\n",
       "<span style=\"color: #800000; text-decoration-color: #800000\">│</span>   <span style=\"color: #7f7f7f; text-decoration-color: #7f7f7f\">2 </span>                                                                                             <span style=\"color: #800000; text-decoration-color: #800000\">│</span>\n",
       "<span style=\"color: #800000; text-decoration-color: #800000\">╰──────────────────────────────────────────────────────────────────────────────────────────────────╯</span>\n",
       "<span style=\"color: #ff0000; text-decoration-color: #ff0000; font-weight: bold\">Exception: </span>Don't want to automatically run beyond this point\n",
       "</pre>\n"
      ],
      "text/plain": [
       "\u001b[31m╭─\u001b[0m\u001b[31m──────────────────────────────\u001b[0m\u001b[31m \u001b[0m\u001b[1;31mTraceback \u001b[0m\u001b[1;2;31m(most recent call last)\u001b[0m\u001b[31m \u001b[0m\u001b[31m───────────────────────────────\u001b[0m\u001b[31m─╮\u001b[0m\n",
       "\u001b[31m│\u001b[0m in \u001b[92m<module>\u001b[0m:\u001b[94m1\u001b[0m                                                                                    \u001b[31m│\u001b[0m\n",
       "\u001b[31m│\u001b[0m                                                                                                  \u001b[31m│\u001b[0m\n",
       "\u001b[31m│\u001b[0m \u001b[31m❱ \u001b[0m1 \u001b[94mraise\u001b[0m \u001b[96mException\u001b[0m(\u001b[33m\"\u001b[0m\u001b[33mDon\u001b[0m\u001b[33m'\u001b[0m\u001b[33mt want to automatically run beyond this point\u001b[0m\u001b[33m\"\u001b[0m)                         \u001b[31m│\u001b[0m\n",
       "\u001b[31m│\u001b[0m   \u001b[2m2 \u001b[0m                                                                                             \u001b[31m│\u001b[0m\n",
       "\u001b[31m╰──────────────────────────────────────────────────────────────────────────────────────────────────╯\u001b[0m\n",
       "\u001b[1;91mException: \u001b[0mDon't want to automatically run beyond this point\n"
      ]
     },
     "metadata": {},
     "output_type": "display_data"
    }
   ],
   "source": [
    "raise Exception(\"Don't want to automatically run beyond this point\")"
   ]
  },
  {
   "cell_type": "code",
   "execution_count": null,
   "metadata": {},
   "outputs": [
    {
     "data": {
      "application/vnd.jupyter.widget-view+json": {
       "model_id": "3af6fa499b32427e94f633679eed5697",
       "version_major": 2,
       "version_minor": 0
      },
      "text/plain": [
       "test:   0%|          | 0/500 [00:00<?, ?it/s]"
      ]
     },
     "metadata": {},
     "output_type": "display_data"
    },
    {
     "name": "stdout",
     "output_type": "stream",
     "text": [
      "No. of test datapoints: 500\n"
     ]
    },
    {
     "data": {
      "text/html": [
       "<pre style=\"white-space:pre;overflow-x:auto;line-height:normal;font-family:Menlo,'DejaVu Sans Mono',consolas,'Courier New',monospace\"></pre>\n"
      ],
      "text/plain": []
     },
     "metadata": {},
     "output_type": "display_data"
    },
    {
     "data": {
      "text/plain": [
       "\u001b[1;36m500\u001b[0m"
      ]
     },
     "execution_count": 5,
     "metadata": {},
     "output_type": "execute_result"
    }
   ],
   "source": [
    "dataloader = datamodule.test_dataloader()\n",
    "len(dataloader)"
   ]
  },
  {
   "cell_type": "code",
   "execution_count": null,
   "metadata": {},
   "outputs": [
    {
     "name": "stdout",
     "output_type": "stream",
     "text": [
      "torch.Size([1, 1, 512, 512, 512])\n",
      "torch.Size([1, 1, 512, 256, 256])\n",
      "Batch idx: 1\n",
      "metatensor(-0.9945) metatensor(0.5118)\n",
      "torch.Size([1, 1, 512, 256, 256]) torch.Size([1, 1, 512, 256, 256])\n",
      "(metatensor(-1.), metatensor(1.)) (metatensor(-0.9945), metatensor(0.5118))\n"
     ]
    },
    {
     "data": {
      "application/vnd.jupyter.widget-view+json": {
       "model_id": "c1c3342fb8b84663b317c919d438faf6",
       "version_major": 2,
       "version_minor": 0
      },
      "text/plain": [
       "interactive(children=(IntSlider(value=0, description='z', max=511), Output()), _dom_classes=('widget-interact'…"
      ]
     },
     "metadata": {},
     "output_type": "display_data"
    }
   ],
   "source": [
    "with torch.no_grad():\n",
    "    for i, batch in enumerate(dataloader):\n",
    "        if i < 1:\n",
    "            continue\n",
    "\n",
    "        if i >= 2:\n",
    "            break\n",
    "\n",
    "        x = batch[\"image\"]\n",
    "        print(x.shape)\n",
    "        x = x[:, :, :, 128:384, 128:384]\n",
    "        print(x.shape)\n",
    "\n",
    "        model.cuda()\n",
    "        x = x.float()\n",
    "\n",
    "        reconstructed = model(x.cuda(), \"valid\")[\"reconstructed\"].cpu()\n",
    "        print(f\"Batch idx: {i}\")\n",
    "        print(reconstructed.min(), reconstructed.max())\n",
    "        print(x.shape, reconstructed.shape)\n",
    "        print((x.min(), x.max()), (reconstructed.min(), reconstructed.max()))\n",
    "\n",
    "        reconstructed[:, :, :, 0, 0] = -1.0\n",
    "        reconstructed[:, :, :, -1, -1] = 1.0\n",
    "\n",
    "        for i in range(x.shape[0]):\n",
    "            plot_scans([x[i][0], reconstructed[i][0]], [\"Original\", \"Reconstructed\"])\n",
    "\n",
    "torch.cuda.empty_cache()"
   ]
  },
  {
   "cell_type": "code",
   "execution_count": null,
   "metadata": {},
   "outputs": [],
   "source": []
  },
  {
   "cell_type": "markdown",
   "metadata": {},
   "source": [
    "# PCA"
   ]
  },
  {
   "cell_type": "code",
   "execution_count": null,
   "metadata": {},
   "outputs": [],
   "source": [
    "raise Exception(\"Don't want to automatically run beyond this point\")"
   ]
  },
  {
   "cell_type": "code",
   "execution_count": null,
   "metadata": {},
   "outputs": [
    {
     "data": {
      "application/vnd.jupyter.widget-view+json": {
       "model_id": "95bc499e006743419189e791ada10a3f",
       "version_major": 2,
       "version_minor": 0
      },
      "text/plain": [
       "  0%|          | 0/500 [00:00<?, ?it/s]"
      ]
     },
     "metadata": {},
     "output_type": "display_data"
    },
    {
     "data": {
      "text/html": [
       "<pre style=\"white-space:pre;overflow-x:auto;line-height:normal;font-family:Menlo,'DejaVu Sans Mono',consolas,'Courier New',monospace\"><span style=\"color: #800000; text-decoration-color: #800000\">╭─────────────────────────────── </span><span style=\"color: #800000; text-decoration-color: #800000; font-weight: bold\">Traceback </span><span style=\"color: #bf7f7f; text-decoration-color: #bf7f7f; font-weight: bold\">(most recent call last)</span><span style=\"color: #800000; text-decoration-color: #800000\"> ────────────────────────────────╮</span>\n",
       "<span style=\"color: #800000; text-decoration-color: #800000\">│</span> in <span style=\"color: #00ff00; text-decoration-color: #00ff00\">&lt;module&gt;</span>:<span style=\"color: #0000ff; text-decoration-color: #0000ff\">14</span>                                                                                   <span style=\"color: #800000; text-decoration-color: #800000\">│</span>\n",
       "<span style=\"color: #800000; text-decoration-color: #800000\">│</span>                                                                                                  <span style=\"color: #800000; text-decoration-color: #800000\">│</span>\n",
       "<span style=\"color: #800000; text-decoration-color: #800000\">│</span>   <span style=\"color: #7f7f7f; text-decoration-color: #7f7f7f\">11 </span><span style=\"color: #0000ff; text-decoration-color: #0000ff\">with</span> torch.no_grad():                                                                       <span style=\"color: #800000; text-decoration-color: #800000\">│</span>\n",
       "<span style=\"color: #800000; text-decoration-color: #800000\">│</span>   <span style=\"color: #7f7f7f; text-decoration-color: #7f7f7f\">12 </span><span style=\"color: #7f7f7f; text-decoration-color: #7f7f7f\">│   </span><span style=\"color: #0000ff; text-decoration-color: #0000ff\">for</span> batch <span style=\"color: #ff00ff; text-decoration-color: #ff00ff\">in</span> tqdm(dataloader):                                                          <span style=\"color: #800000; text-decoration-color: #800000\">│</span>\n",
       "<span style=\"color: #800000; text-decoration-color: #800000\">│</span>   <span style=\"color: #7f7f7f; text-decoration-color: #7f7f7f\">13 </span><span style=\"color: #7f7f7f; text-decoration-color: #7f7f7f\">│   │   </span>x = batch[<span style=\"color: #808000; text-decoration-color: #808000\">\"image\"</span>].to(device)                                                       <span style=\"color: #800000; text-decoration-color: #800000\">│</span>\n",
       "<span style=\"color: #800000; text-decoration-color: #800000\">│</span> <span style=\"color: #800000; text-decoration-color: #800000\">❱ </span>14 <span style=\"color: #7f7f7f; text-decoration-color: #7f7f7f\">│   │   </span>mu, _, stage_outputs = model.encode(x, return_stage_outputs=<span style=\"color: #0000ff; text-decoration-color: #0000ff\">True</span>)                   <span style=\"color: #800000; text-decoration-color: #800000\">│</span>\n",
       "<span style=\"color: #800000; text-decoration-color: #800000\">│</span>   <span style=\"color: #7f7f7f; text-decoration-color: #7f7f7f\">15 </span><span style=\"color: #7f7f7f; text-decoration-color: #7f7f7f\">│   │   </span>x.cpu()                                                                             <span style=\"color: #800000; text-decoration-color: #800000\">│</span>\n",
       "<span style=\"color: #800000; text-decoration-color: #800000\">│</span>   <span style=\"color: #7f7f7f; text-decoration-color: #7f7f7f\">16 </span><span style=\"color: #7f7f7f; text-decoration-color: #7f7f7f\">│   │   </span><span style=\"color: #0000ff; text-decoration-color: #0000ff\">del</span> x                                                                               <span style=\"color: #800000; text-decoration-color: #800000\">│</span>\n",
       "<span style=\"color: #800000; text-decoration-color: #800000\">│</span>   <span style=\"color: #7f7f7f; text-decoration-color: #7f7f7f\">17 </span><span style=\"color: #7f7f7f; text-decoration-color: #7f7f7f\">│   │   </span>latent_vectors.append(mu.cpu().numpy())                                             <span style=\"color: #800000; text-decoration-color: #800000\">│</span>\n",
       "<span style=\"color: #800000; text-decoration-color: #800000\">│</span>                                                                                                  <span style=\"color: #800000; text-decoration-color: #800000\">│</span>\n",
       "<span style=\"color: #800000; text-decoration-color: #800000\">│</span> <span style=\"color: #bfbf7f; text-decoration-color: #bfbf7f\">/home/ubuntu/projects/diffusion_3d/src/diffusion_3d/chestct/autoencoder/vae/</span><span style=\"color: #808000; text-decoration-color: #808000; font-weight: bold\">nn.py</span>:<span style=\"color: #0000ff; text-decoration-color: #0000ff\">212</span> in <span style=\"color: #00ff00; text-decoration-color: #00ff00\">encode</span>  <span style=\"color: #800000; text-decoration-color: #800000\">│</span>\n",
       "<span style=\"color: #800000; text-decoration-color: #800000\">│</span>                                                                                                  <span style=\"color: #800000; text-decoration-color: #800000\">│</span>\n",
       "<span style=\"color: #800000; text-decoration-color: #800000\">│</span>   <span style=\"color: #7f7f7f; text-decoration-color: #7f7f7f\">209 </span><span style=\"color: #7f7f7f; text-decoration-color: #7f7f7f\">│   │   </span><span style=\"color: #7f7f7f; text-decoration-color: #7f7f7f\">#     sliding_window = 2**14</span>                                                       <span style=\"color: #800000; text-decoration-color: #800000\">│</span>\n",
       "<span style=\"color: #800000; text-decoration-color: #800000\">│</span>   <span style=\"color: #7f7f7f; text-decoration-color: #7f7f7f\">210 </span><span style=\"color: #7f7f7f; text-decoration-color: #7f7f7f\">│   │   </span><span style=\"color: #7f7f7f; text-decoration-color: #7f7f7f\">#     sliding_stride = sliding_window // 2</span>                                         <span style=\"color: #800000; text-decoration-color: #800000\">│</span>\n",
       "<span style=\"color: #800000; text-decoration-color: #800000\">│</span>   <span style=\"color: #7f7f7f; text-decoration-color: #7f7f7f\">211 </span><span style=\"color: #7f7f7f; text-decoration-color: #7f7f7f\">│   │   </span>                                                                                   <span style=\"color: #800000; text-decoration-color: #800000\">│</span>\n",
       "<span style=\"color: #800000; text-decoration-color: #800000\">│</span> <span style=\"color: #800000; text-decoration-color: #800000\">❱ </span>212 <span style=\"color: #7f7f7f; text-decoration-color: #7f7f7f\">│   │   </span>adapted = <span style=\"color: #00ffff; text-decoration-color: #00ffff\">self</span>.adapt(                                                              <span style=\"color: #800000; text-decoration-color: #800000\">│</span>\n",
       "<span style=\"color: #800000; text-decoration-color: #800000\">│</span>   <span style=\"color: #7f7f7f; text-decoration-color: #7f7f7f\">213 </span><span style=\"color: #7f7f7f; text-decoration-color: #7f7f7f\">│   │   │   </span><span style=\"color: #00ffff; text-decoration-color: #00ffff\">list</span>(<span style=\"color: #00ffff; text-decoration-color: #00ffff\">reversed</span>(stage_outputs)),  <span style=\"color: #7f7f7f; text-decoration-color: #7f7f7f\"># Show low frequency features first, then sh</span>   <span style=\"color: #800000; text-decoration-color: #800000\">│</span>\n",
       "<span style=\"color: #800000; text-decoration-color: #800000\">│</span>   <span style=\"color: #7f7f7f; text-decoration-color: #7f7f7f\">214 </span><span style=\"color: #7f7f7f; text-decoration-color: #7f7f7f\">│   │   │   </span>sliding_window=sliding_window,                                                 <span style=\"color: #800000; text-decoration-color: #800000\">│</span>\n",
       "<span style=\"color: #800000; text-decoration-color: #800000\">│</span>   <span style=\"color: #7f7f7f; text-decoration-color: #7f7f7f\">215 </span><span style=\"color: #7f7f7f; text-decoration-color: #7f7f7f\">│   │   │   </span>sliding_stride=sliding_stride,                                                 <span style=\"color: #800000; text-decoration-color: #800000\">│</span>\n",
       "<span style=\"color: #800000; text-decoration-color: #800000\">│</span>                                                                                                  <span style=\"color: #800000; text-decoration-color: #800000\">│</span>\n",
       "<span style=\"color: #800000; text-decoration-color: #800000\">│</span> <span style=\"color: #bfbf7f; text-decoration-color: #bfbf7f\">/home/ubuntu/miniconda3/lib/python3.10/site-packages/torch/nn/modules/</span><span style=\"color: #808000; text-decoration-color: #808000; font-weight: bold\">module.py</span>:<span style=\"color: #0000ff; text-decoration-color: #0000ff\">1931</span> in          <span style=\"color: #800000; text-decoration-color: #800000\">│</span>\n",
       "<span style=\"color: #800000; text-decoration-color: #800000\">│</span> <span style=\"color: #00ff00; text-decoration-color: #00ff00\">__getattr__</span>                                                                                      <span style=\"color: #800000; text-decoration-color: #800000\">│</span>\n",
       "<span style=\"color: #800000; text-decoration-color: #800000\">│</span>                                                                                                  <span style=\"color: #800000; text-decoration-color: #800000\">│</span>\n",
       "<span style=\"color: #800000; text-decoration-color: #800000\">│</span>   <span style=\"color: #7f7f7f; text-decoration-color: #7f7f7f\">1928 </span><span style=\"color: #7f7f7f; text-decoration-color: #7f7f7f\">│   │   │   </span>modules = <span style=\"color: #00ffff; text-decoration-color: #00ffff\">self</span>.<span style=\"color: #ff0000; text-decoration-color: #ff0000\">__dict__</span>[<span style=\"color: #808000; text-decoration-color: #808000\">\"_modules\"</span>]                                           <span style=\"color: #800000; text-decoration-color: #800000\">│</span>\n",
       "<span style=\"color: #800000; text-decoration-color: #800000\">│</span>   <span style=\"color: #7f7f7f; text-decoration-color: #7f7f7f\">1929 </span><span style=\"color: #7f7f7f; text-decoration-color: #7f7f7f\">│   │   │   </span><span style=\"color: #0000ff; text-decoration-color: #0000ff\">if</span> name <span style=\"color: #ff00ff; text-decoration-color: #ff00ff\">in</span> modules:                                                           <span style=\"color: #800000; text-decoration-color: #800000\">│</span>\n",
       "<span style=\"color: #800000; text-decoration-color: #800000\">│</span>   <span style=\"color: #7f7f7f; text-decoration-color: #7f7f7f\">1930 </span><span style=\"color: #7f7f7f; text-decoration-color: #7f7f7f\">│   │   │   │   </span><span style=\"color: #0000ff; text-decoration-color: #0000ff\">return</span> modules[name]                                                      <span style=\"color: #800000; text-decoration-color: #800000\">│</span>\n",
       "<span style=\"color: #800000; text-decoration-color: #800000\">│</span> <span style=\"color: #800000; text-decoration-color: #800000\">❱ </span>1931 <span style=\"color: #7f7f7f; text-decoration-color: #7f7f7f\">│   │   </span><span style=\"color: #0000ff; text-decoration-color: #0000ff\">raise</span> <span style=\"color: #00ffff; text-decoration-color: #00ffff\">AttributeError</span>(                                                             <span style=\"color: #800000; text-decoration-color: #800000\">│</span>\n",
       "<span style=\"color: #800000; text-decoration-color: #800000\">│</span>   <span style=\"color: #7f7f7f; text-decoration-color: #7f7f7f\">1932 </span><span style=\"color: #7f7f7f; text-decoration-color: #7f7f7f\">│   │   │   </span><span style=\"color: #808000; text-decoration-color: #808000\">f\"'{</span><span style=\"color: #00ffff; text-decoration-color: #00ffff\">type</span>(<span style=\"color: #00ffff; text-decoration-color: #00ffff\">self</span>).<span style=\"color: #ff0000; text-decoration-color: #ff0000\">__name__</span><span style=\"color: #808000; text-decoration-color: #808000\">}' object has no attribute '{</span>name<span style=\"color: #808000; text-decoration-color: #808000\">}'\"</span>                   <span style=\"color: #800000; text-decoration-color: #800000\">│</span>\n",
       "<span style=\"color: #800000; text-decoration-color: #800000\">│</span>   <span style=\"color: #7f7f7f; text-decoration-color: #7f7f7f\">1933 </span><span style=\"color: #7f7f7f; text-decoration-color: #7f7f7f\">│   │   </span>)                                                                                 <span style=\"color: #800000; text-decoration-color: #800000\">│</span>\n",
       "<span style=\"color: #800000; text-decoration-color: #800000\">│</span>   <span style=\"color: #7f7f7f; text-decoration-color: #7f7f7f\">1934 </span>                                                                                          <span style=\"color: #800000; text-decoration-color: #800000\">│</span>\n",
       "<span style=\"color: #800000; text-decoration-color: #800000\">╰──────────────────────────────────────────────────────────────────────────────────────────────────╯</span>\n",
       "<span style=\"color: #ff0000; text-decoration-color: #ff0000; font-weight: bold\">AttributeError: </span><span style=\"color: #008000; text-decoration-color: #008000\">'AdaptiveVAE'</span> object has no attribute <span style=\"color: #008000; text-decoration-color: #008000\">'adapt'</span>\n",
       "</pre>\n"
      ],
      "text/plain": [
       "\u001b[31m╭─\u001b[0m\u001b[31m──────────────────────────────\u001b[0m\u001b[31m \u001b[0m\u001b[1;31mTraceback \u001b[0m\u001b[1;2;31m(most recent call last)\u001b[0m\u001b[31m \u001b[0m\u001b[31m───────────────────────────────\u001b[0m\u001b[31m─╮\u001b[0m\n",
       "\u001b[31m│\u001b[0m in \u001b[92m<module>\u001b[0m:\u001b[94m14\u001b[0m                                                                                   \u001b[31m│\u001b[0m\n",
       "\u001b[31m│\u001b[0m                                                                                                  \u001b[31m│\u001b[0m\n",
       "\u001b[31m│\u001b[0m   \u001b[2m11 \u001b[0m\u001b[94mwith\u001b[0m torch.no_grad():                                                                       \u001b[31m│\u001b[0m\n",
       "\u001b[31m│\u001b[0m   \u001b[2m12 \u001b[0m\u001b[2m│   \u001b[0m\u001b[94mfor\u001b[0m batch \u001b[95min\u001b[0m tqdm(dataloader):                                                          \u001b[31m│\u001b[0m\n",
       "\u001b[31m│\u001b[0m   \u001b[2m13 \u001b[0m\u001b[2m│   │   \u001b[0mx = batch[\u001b[33m\"\u001b[0m\u001b[33mimage\u001b[0m\u001b[33m\"\u001b[0m].to(device)                                                       \u001b[31m│\u001b[0m\n",
       "\u001b[31m│\u001b[0m \u001b[31m❱ \u001b[0m14 \u001b[2m│   │   \u001b[0mmu, _, stage_outputs = model.encode(x, return_stage_outputs=\u001b[94mTrue\u001b[0m)                   \u001b[31m│\u001b[0m\n",
       "\u001b[31m│\u001b[0m   \u001b[2m15 \u001b[0m\u001b[2m│   │   \u001b[0mx.cpu()                                                                             \u001b[31m│\u001b[0m\n",
       "\u001b[31m│\u001b[0m   \u001b[2m16 \u001b[0m\u001b[2m│   │   \u001b[0m\u001b[94mdel\u001b[0m x                                                                               \u001b[31m│\u001b[0m\n",
       "\u001b[31m│\u001b[0m   \u001b[2m17 \u001b[0m\u001b[2m│   │   \u001b[0mlatent_vectors.append(mu.cpu().numpy())                                             \u001b[31m│\u001b[0m\n",
       "\u001b[31m│\u001b[0m                                                                                                  \u001b[31m│\u001b[0m\n",
       "\u001b[31m│\u001b[0m \u001b[2;33m/home/ubuntu/projects/diffusion_3d/src/diffusion_3d/chestct/autoencoder/vae/\u001b[0m\u001b[1;33mnn.py\u001b[0m:\u001b[94m212\u001b[0m in \u001b[92mencode\u001b[0m  \u001b[31m│\u001b[0m\n",
       "\u001b[31m│\u001b[0m                                                                                                  \u001b[31m│\u001b[0m\n",
       "\u001b[31m│\u001b[0m   \u001b[2m209 \u001b[0m\u001b[2m│   │   \u001b[0m\u001b[2m#     sliding_window = 2**14\u001b[0m                                                       \u001b[31m│\u001b[0m\n",
       "\u001b[31m│\u001b[0m   \u001b[2m210 \u001b[0m\u001b[2m│   │   \u001b[0m\u001b[2m#     sliding_stride = sliding_window // 2\u001b[0m                                         \u001b[31m│\u001b[0m\n",
       "\u001b[31m│\u001b[0m   \u001b[2m211 \u001b[0m\u001b[2m│   │   \u001b[0m                                                                                   \u001b[31m│\u001b[0m\n",
       "\u001b[31m│\u001b[0m \u001b[31m❱ \u001b[0m212 \u001b[2m│   │   \u001b[0madapted = \u001b[96mself\u001b[0m.adapt(                                                              \u001b[31m│\u001b[0m\n",
       "\u001b[31m│\u001b[0m   \u001b[2m213 \u001b[0m\u001b[2m│   │   │   \u001b[0m\u001b[96mlist\u001b[0m(\u001b[96mreversed\u001b[0m(stage_outputs)),  \u001b[2m# Show low frequency features first, then sh\u001b[0m   \u001b[31m│\u001b[0m\n",
       "\u001b[31m│\u001b[0m   \u001b[2m214 \u001b[0m\u001b[2m│   │   │   \u001b[0msliding_window=sliding_window,                                                 \u001b[31m│\u001b[0m\n",
       "\u001b[31m│\u001b[0m   \u001b[2m215 \u001b[0m\u001b[2m│   │   │   \u001b[0msliding_stride=sliding_stride,                                                 \u001b[31m│\u001b[0m\n",
       "\u001b[31m│\u001b[0m                                                                                                  \u001b[31m│\u001b[0m\n",
       "\u001b[31m│\u001b[0m \u001b[2;33m/home/ubuntu/miniconda3/lib/python3.10/site-packages/torch/nn/modules/\u001b[0m\u001b[1;33mmodule.py\u001b[0m:\u001b[94m1931\u001b[0m in          \u001b[31m│\u001b[0m\n",
       "\u001b[31m│\u001b[0m \u001b[92m__getattr__\u001b[0m                                                                                      \u001b[31m│\u001b[0m\n",
       "\u001b[31m│\u001b[0m                                                                                                  \u001b[31m│\u001b[0m\n",
       "\u001b[31m│\u001b[0m   \u001b[2m1928 \u001b[0m\u001b[2m│   │   │   \u001b[0mmodules = \u001b[96mself\u001b[0m.\u001b[91m__dict__\u001b[0m[\u001b[33m\"\u001b[0m\u001b[33m_modules\u001b[0m\u001b[33m\"\u001b[0m]                                           \u001b[31m│\u001b[0m\n",
       "\u001b[31m│\u001b[0m   \u001b[2m1929 \u001b[0m\u001b[2m│   │   │   \u001b[0m\u001b[94mif\u001b[0m name \u001b[95min\u001b[0m modules:                                                           \u001b[31m│\u001b[0m\n",
       "\u001b[31m│\u001b[0m   \u001b[2m1930 \u001b[0m\u001b[2m│   │   │   │   \u001b[0m\u001b[94mreturn\u001b[0m modules[name]                                                      \u001b[31m│\u001b[0m\n",
       "\u001b[31m│\u001b[0m \u001b[31m❱ \u001b[0m1931 \u001b[2m│   │   \u001b[0m\u001b[94mraise\u001b[0m \u001b[96mAttributeError\u001b[0m(                                                             \u001b[31m│\u001b[0m\n",
       "\u001b[31m│\u001b[0m   \u001b[2m1932 \u001b[0m\u001b[2m│   │   │   \u001b[0m\u001b[33mf\u001b[0m\u001b[33m\"\u001b[0m\u001b[33m'\u001b[0m\u001b[33m{\u001b[0m\u001b[96mtype\u001b[0m(\u001b[96mself\u001b[0m).\u001b[91m__name__\u001b[0m\u001b[33m}\u001b[0m\u001b[33m'\u001b[0m\u001b[33m object has no attribute \u001b[0m\u001b[33m'\u001b[0m\u001b[33m{\u001b[0mname\u001b[33m}\u001b[0m\u001b[33m'\u001b[0m\u001b[33m\"\u001b[0m                   \u001b[31m│\u001b[0m\n",
       "\u001b[31m│\u001b[0m   \u001b[2m1933 \u001b[0m\u001b[2m│   │   \u001b[0m)                                                                                 \u001b[31m│\u001b[0m\n",
       "\u001b[31m│\u001b[0m   \u001b[2m1934 \u001b[0m                                                                                          \u001b[31m│\u001b[0m\n",
       "\u001b[31m╰──────────────────────────────────────────────────────────────────────────────────────────────────╯\u001b[0m\n",
       "\u001b[1;91mAttributeError: \u001b[0m\u001b[32m'AdaptiveVAE'\u001b[0m object has no attribute \u001b[32m'adapt'\u001b[0m\n"
      ]
     },
     "metadata": {},
     "output_type": "display_data"
    }
   ],
   "source": [
    "import gc\n",
    "from collections import defaultdict\n",
    "\n",
    "device = torch.device(\"cuda:0\")\n",
    "\n",
    "latent_vectors = []\n",
    "stage_output_vectors = defaultdict(list)\n",
    "\n",
    "model.to(device)\n",
    "\n",
    "with torch.no_grad():\n",
    "    for batch in tqdm(dataloader):\n",
    "        x = batch[\"image\"].to(device)\n",
    "        mu, _, stage_outputs = model.encode(x, return_stage_outputs=True)\n",
    "        x.cpu()\n",
    "        del x\n",
    "        latent_vectors.append(mu.cpu().numpy())\n",
    "        for i in range(len(stage_outputs)):\n",
    "            stage_output_vectors[i].append(stage_outputs[i].cpu().numpy())\n",
    "\n",
    "gc.collect()\n",
    "torch.cuda.empty_cache()\n",
    "\n",
    "latent_vectors = np.concatenate(latent_vectors, axis=0)"
   ]
  },
  {
   "cell_type": "code",
   "execution_count": null,
   "metadata": {},
   "outputs": [],
   "source": [
    "pattern = \"b c z y x -> (b z y x) c\"\n",
    "# pattern = \"b c z y x -> b (c z y x)\"\n",
    "\n",
    "latent_vectors_rearranged = rearrange(latent_vectors, pattern)\n",
    "for i in range(len(stage_output_vectors)):\n",
    "    stage_output_vectors[i] = np.concatenate(stage_output_vectors[i], axis=0)\n",
    "    stage_output_vectors[i] = rearrange(stage_output_vectors[i], pattern)\n",
    "\n",
    "for name, fit_vectors in [(f\"Stage {i+1}\", stage_output_vectors[i]) for i in range(len(stage_output_vectors))] + [\n",
    "    (\"Sampled\", latent_vectors_rearranged)\n",
    "]:\n",
    "    try:\n",
    "        # Compute PCA\n",
    "        pca = PCA()\n",
    "        pca.fit(fit_vectors)\n",
    "\n",
    "        # Calculate effective dimensionality\n",
    "        explained_variance_ratio = pca.explained_variance_ratio_\n",
    "        cumulative_variance = np.cumsum(explained_variance_ratio)\n",
    "        effective_dim = np.argmax(cumulative_variance > 0.95) + 1\n",
    "\n",
    "        print(\n",
    "            f\"Effective dim {name}: {effective_dim} / {fit_vectors.shape[1]}\\t({int(effective_dim * 100 / fit_vectors.shape[1])}%)\"\n",
    "        )\n",
    "    except Exception as e:\n",
    "        print(f\"Failed to compute PCA for {name}: {e}\")"
   ]
  },
  {
   "cell_type": "markdown",
   "metadata": {},
   "source": [
    "# Visualize patches"
   ]
  },
  {
   "cell_type": "code",
   "execution_count": null,
   "metadata": {},
   "outputs": [],
   "source": [
    "from matplotlib import pyplot as plt"
   ]
  },
  {
   "cell_type": "code",
   "execution_count": null,
   "metadata": {},
   "outputs": [],
   "source": [
    "patch_size = 4\n",
    "\n",
    "x = batch[\"scan\"]\n",
    "\n",
    "plt.figure(figsize=(10, 10))\n",
    "plt.imshow(x[0][0][128], cmap=\"gray\")\n",
    "plt.grid(color=\"r\", linestyle=\"-\", linewidth=0.3)\n",
    "plt.gca().set_xticks(np.arange(0, x.shape[-1], patch_size))\n",
    "plt.gca().set_yticks(np.arange(0, x.shape[-1], patch_size))\n",
    "plt.show()"
   ]
  },
  {
   "cell_type": "code",
   "execution_count": null,
   "metadata": {},
   "outputs": [],
   "source": []
  },
  {
   "cell_type": "markdown",
   "metadata": {},
   "source": [
    "# Check latent space"
   ]
  },
  {
   "cell_type": "code",
   "execution_count": null,
   "metadata": {},
   "outputs": [],
   "source": [
    "raise Exception(\"Don't want to automatically run beyond this point\")"
   ]
  },
  {
   "cell_type": "code",
   "execution_count": null,
   "metadata": {},
   "outputs": [],
   "source": [
    "dataloader_iter = iter(dataloader)\n",
    "batch1 = next(dataloader_iter)\n",
    "batch2 = next(dataloader_iter)\n",
    "x1, x2 = batch1[\"scan\"], batch2[\"scan\"]\n",
    "(batch1[\"uid\"], batch2[\"uid\"]), (x1.shape, x2.shape)"
   ]
  },
  {
   "cell_type": "code",
   "execution_count": null,
   "metadata": {},
   "outputs": [],
   "source": [
    "with torch.no_grad():\n",
    "    output1 = model.process_step(x1, [], \"valid\", 0)\n",
    "    output2 = model.process_step(x2, [], \"valid\", 0)\n",
    "\n",
    "reconstructed1 = output1[\"reconstructed\"]\n",
    "reconstructed2 = output2[\"reconstructed\"]\n",
    "\n",
    "adapted_encoded1 = output1[\"adapted_encoded\"]\n",
    "adapted_encoded2 = output2[\"adapted_encoded\"]\n",
    "\n",
    "(reconstructed1.shape, reconstructed2.shape), (adapted_encoded1.shape, adapted_encoded2.shape)"
   ]
  },
  {
   "cell_type": "code",
   "execution_count": null,
   "metadata": {},
   "outputs": [],
   "source": [
    "adapted_encoded_inter = (adapted_encoded1 + adapted_encoded2) / 2\n",
    "adapted_encoded_inter.shape"
   ]
  },
  {
   "cell_type": "code",
   "execution_count": null,
   "metadata": {},
   "outputs": [],
   "source": [
    "from torch.nn import functional as F\n",
    "\n",
    "with torch.no_grad():\n",
    "    decoded_inter = model.decode(adapted_encoded_inter)\n",
    "    reconstructed_inter = F.interpolate(decoded_inter, x1.shape[2:], mode=\"trilinear\")\n",
    "reconstructed_inter.shape"
   ]
  },
  {
   "cell_type": "code",
   "execution_count": null,
   "metadata": {},
   "outputs": [],
   "source": [
    "plot_scans(\n",
    "    [x1[0][0], x2[0][0], reconstructed1[0][0], reconstructed2[0][0], reconstructed_inter[0][0]],\n",
    "    [\"Scan1\", \"Scan2\", \"Reconstructed1\", \"Reconstructed2\", \"Reconstructed interpolated latent\"],\n",
    "    cols=2,\n",
    ")"
   ]
  },
  {
   "cell_type": "code",
   "execution_count": null,
   "metadata": {},
   "outputs": [],
   "source": [
    "plot_scans((reconstructed1 - reconstructed2).abs()[0][0])"
   ]
  },
  {
   "cell_type": "code",
   "execution_count": null,
   "metadata": {},
   "outputs": [],
   "source": []
  },
  {
   "cell_type": "code",
   "execution_count": null,
   "metadata": {},
   "outputs": [],
   "source": []
  },
  {
   "cell_type": "code",
   "execution_count": null,
   "metadata": {},
   "outputs": [],
   "source": []
  }
 ],
 "metadata": {
  "kernelspec": {
   "display_name": "base",
   "language": "python",
   "name": "python3"
  },
  "language_info": {
   "codemirror_mode": {
    "name": "ipython",
    "version": 3
   },
   "file_extension": ".py",
   "mimetype": "text/x-python",
   "name": "python",
   "nbconvert_exporter": "python",
   "pygments_lexer": "ipython3",
   "version": "3.10.14"
  }
 },
 "nbformat": 4,
 "nbformat_minor": 2
}

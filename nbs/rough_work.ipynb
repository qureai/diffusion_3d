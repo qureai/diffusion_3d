{
 "cells": [
  {
   "cell_type": "code",
   "execution_count": 2,
   "metadata": {},
   "outputs": [],
   "source": [
    "import ast\n",
    "\n",
    "import pandas as pd\n",
    "import SimpleITK as sitk\n",
    "\n",
    "from diffusion_3d.utils.visualize import plot_scans"
   ]
  },
  {
   "cell_type": "code",
   "execution_count": 3,
   "metadata": {},
   "outputs": [
    {
     "data": {
      "text/html": [
       "<pre style=\"white-space:pre;overflow-x:auto;line-height:normal;font-family:Menlo,'DejaVu Sans Mono',consolas,'Courier New',monospace\"></pre>\n"
      ],
      "text/plain": []
     },
     "metadata": {},
     "output_type": "display_data"
    },
    {
     "data": {
      "text/html": [
       "<div>\n",
       "<style scoped>\n",
       "    .dataframe tbody tr th:only-of-type {\n",
       "        vertical-align: middle;\n",
       "    }\n",
       "\n",
       "    .dataframe tbody tr th {\n",
       "        vertical-align: top;\n",
       "    }\n",
       "\n",
       "    .dataframe thead th {\n",
       "        text-align: right;\n",
       "    }\n",
       "</style>\n",
       "<table border=\"1\" class=\"dataframe\">\n",
       "  <thead>\n",
       "    <tr style=\"text-align: right;\">\n",
       "      <th></th>\n",
       "      <th>VolumeName</th>\n",
       "      <th>Manufacturer</th>\n",
       "      <th>SeriesDescription</th>\n",
       "      <th>ManufacturerModelName</th>\n",
       "      <th>PatientSex</th>\n",
       "      <th>PatientAge</th>\n",
       "      <th>ReconstructionDiameter</th>\n",
       "      <th>DistanceSourceToDetector</th>\n",
       "      <th>DistanceSourceToPatient</th>\n",
       "      <th>GantryDetectorTilt</th>\n",
       "      <th>...</th>\n",
       "      <th>PhotometricInterpretation</th>\n",
       "      <th>Rows</th>\n",
       "      <th>Columns</th>\n",
       "      <th>XYSpacing</th>\n",
       "      <th>RescaleIntercept</th>\n",
       "      <th>RescaleSlope</th>\n",
       "      <th>RescaleType</th>\n",
       "      <th>NumberofSlices</th>\n",
       "      <th>ZSpacing</th>\n",
       "      <th>StudyDate</th>\n",
       "    </tr>\n",
       "  </thead>\n",
       "  <tbody>\n",
       "    <tr>\n",
       "      <th>0</th>\n",
       "      <td>train_1_a_1.nii.gz</td>\n",
       "      <td>Siemens Healthineers</td>\n",
       "      <td>Thorax 1,50 Br40 S3</td>\n",
       "      <td>SOMATOM go.All</td>\n",
       "      <td>NaN</td>\n",
       "      <td>049Y</td>\n",
       "      <td>420.303754</td>\n",
       "      <td>983.0</td>\n",
       "      <td>535.0</td>\n",
       "      <td>0</td>\n",
       "      <td>...</td>\n",
       "      <td>MONOCHROME2</td>\n",
       "      <td>512</td>\n",
       "      <td>512</td>\n",
       "      <td>[0.82090625, 0.82090625]</td>\n",
       "      <td>-8192</td>\n",
       "      <td>1</td>\n",
       "      <td>HU</td>\n",
       "      <td>303</td>\n",
       "      <td>1.00</td>\n",
       "      <td>20220110</td>\n",
       "    </tr>\n",
       "    <tr>\n",
       "      <th>1</th>\n",
       "      <td>train_1_a_2.nii.gz</td>\n",
       "      <td>Siemens Healthineers</td>\n",
       "      <td>Thorax 1,50 Br60 S3</td>\n",
       "      <td>SOMATOM go.All</td>\n",
       "      <td>NaN</td>\n",
       "      <td>049Y</td>\n",
       "      <td>420.303754</td>\n",
       "      <td>983.0</td>\n",
       "      <td>535.0</td>\n",
       "      <td>0</td>\n",
       "      <td>...</td>\n",
       "      <td>MONOCHROME2</td>\n",
       "      <td>512</td>\n",
       "      <td>512</td>\n",
       "      <td>[0.82090625, 0.82090625]</td>\n",
       "      <td>-8192</td>\n",
       "      <td>1</td>\n",
       "      <td>HU</td>\n",
       "      <td>303</td>\n",
       "      <td>1.00</td>\n",
       "      <td>20220110</td>\n",
       "    </tr>\n",
       "    <tr>\n",
       "      <th>2</th>\n",
       "      <td>train_2_a_1.nii.gz</td>\n",
       "      <td>Siemens Healthineers</td>\n",
       "      <td>Thorax 1,50 Br40 S3</td>\n",
       "      <td>SOMATOM go.All</td>\n",
       "      <td>M</td>\n",
       "      <td>045Y</td>\n",
       "      <td>365.000000</td>\n",
       "      <td>983.0</td>\n",
       "      <td>535.0</td>\n",
       "      <td>0</td>\n",
       "      <td>...</td>\n",
       "      <td>MONOCHROME2</td>\n",
       "      <td>512</td>\n",
       "      <td>512</td>\n",
       "      <td>[0.712890625, 0.712890625]</td>\n",
       "      <td>-8192</td>\n",
       "      <td>1</td>\n",
       "      <td>HU</td>\n",
       "      <td>306</td>\n",
       "      <td>1.00</td>\n",
       "      <td>20211116</td>\n",
       "    </tr>\n",
       "    <tr>\n",
       "      <th>3</th>\n",
       "      <td>train_2_a_2.nii.gz</td>\n",
       "      <td>Siemens Healthineers</td>\n",
       "      <td>Thorax 1,50 Br60 S3</td>\n",
       "      <td>SOMATOM go.All</td>\n",
       "      <td>M</td>\n",
       "      <td>045Y</td>\n",
       "      <td>365.000000</td>\n",
       "      <td>983.0</td>\n",
       "      <td>535.0</td>\n",
       "      <td>0</td>\n",
       "      <td>...</td>\n",
       "      <td>MONOCHROME2</td>\n",
       "      <td>512</td>\n",
       "      <td>512</td>\n",
       "      <td>[0.712890625, 0.712890625]</td>\n",
       "      <td>-8192</td>\n",
       "      <td>1</td>\n",
       "      <td>HU</td>\n",
       "      <td>306</td>\n",
       "      <td>1.00</td>\n",
       "      <td>20211116</td>\n",
       "    </tr>\n",
       "    <tr>\n",
       "      <th>4</th>\n",
       "      <td>train_3_a_1.nii.gz</td>\n",
       "      <td>Siemens Healthineers</td>\n",
       "      <td>Thorax 1,50 Bl56 S3</td>\n",
       "      <td>SOMATOM go.All</td>\n",
       "      <td>M</td>\n",
       "      <td>073Y</td>\n",
       "      <td>389.651856</td>\n",
       "      <td>983.0</td>\n",
       "      <td>535.0</td>\n",
       "      <td>0</td>\n",
       "      <td>...</td>\n",
       "      <td>MONOCHROME2</td>\n",
       "      <td>512</td>\n",
       "      <td>512</td>\n",
       "      <td>[0.7610390625, 0.7610390625]</td>\n",
       "      <td>-8192</td>\n",
       "      <td>1</td>\n",
       "      <td>HU</td>\n",
       "      <td>270</td>\n",
       "      <td>1.25</td>\n",
       "      <td>20220608</td>\n",
       "    </tr>\n",
       "  </tbody>\n",
       "</table>\n",
       "<p>5 rows × 44 columns</p>\n",
       "</div>"
      ],
      "text/plain": [
       "\n",
       "           VolumeName          Manufacturer    SeriesDescription  \\\n",
       "\u001b[1;36m0\u001b[0m  train_1_a_1.nii.gz  Siemens Healthineers  Thorax \u001b[1;36m1\u001b[0m,\u001b[1;36m50\u001b[0m Br40 S3   \n",
       "\u001b[1;36m1\u001b[0m  train_1_a_2.nii.gz  Siemens Healthineers  Thorax \u001b[1;36m1\u001b[0m,\u001b[1;36m50\u001b[0m Br60 S3   \n",
       "\u001b[1;36m2\u001b[0m  train_2_a_1.nii.gz  Siemens Healthineers  Thorax \u001b[1;36m1\u001b[0m,\u001b[1;36m50\u001b[0m Br40 S3   \n",
       "\u001b[1;36m3\u001b[0m  train_2_a_2.nii.gz  Siemens Healthineers  Thorax \u001b[1;36m1\u001b[0m,\u001b[1;36m50\u001b[0m Br60 S3   \n",
       "\u001b[1;36m4\u001b[0m  train_3_a_1.nii.gz  Siemens Healthineers  Thorax \u001b[1;36m1\u001b[0m,\u001b[1;36m50\u001b[0m Bl56 S3   \n",
       "\n",
       "  ManufacturerModelName PatientSex PatientAge  ReconstructionDiameter  \\\n",
       "\u001b[1;36m0\u001b[0m        SOMATOM go.All        NaN       049Y              \u001b[1;36m420.303754\u001b[0m   \n",
       "\u001b[1;36m1\u001b[0m        SOMATOM go.All        NaN       049Y              \u001b[1;36m420.303754\u001b[0m   \n",
       "\u001b[1;36m2\u001b[0m        SOMATOM go.All          M       045Y              \u001b[1;36m365.000000\u001b[0m   \n",
       "\u001b[1;36m3\u001b[0m        SOMATOM go.All          M       045Y              \u001b[1;36m365.000000\u001b[0m   \n",
       "\u001b[1;36m4\u001b[0m        SOMATOM go.All          M       073Y              \u001b[1;36m389.651856\u001b[0m   \n",
       "\n",
       "   DistanceSourceToDetector  DistanceSourceToPatient  GantryDetectorTilt  \u001b[33m...\u001b[0m  \\\n",
       "\u001b[1;36m0\u001b[0m                     \u001b[1;36m983.0\u001b[0m                    \u001b[1;36m535.0\u001b[0m                   \u001b[1;36m0\u001b[0m  \u001b[33m...\u001b[0m   \n",
       "\u001b[1;36m1\u001b[0m                     \u001b[1;36m983.0\u001b[0m                    \u001b[1;36m535.0\u001b[0m                   \u001b[1;36m0\u001b[0m  \u001b[33m...\u001b[0m   \n",
       "\u001b[1;36m2\u001b[0m                     \u001b[1;36m983.0\u001b[0m                    \u001b[1;36m535.0\u001b[0m                   \u001b[1;36m0\u001b[0m  \u001b[33m...\u001b[0m   \n",
       "\u001b[1;36m3\u001b[0m                     \u001b[1;36m983.0\u001b[0m                    \u001b[1;36m535.0\u001b[0m                   \u001b[1;36m0\u001b[0m  \u001b[33m...\u001b[0m   \n",
       "\u001b[1;36m4\u001b[0m                     \u001b[1;36m983.0\u001b[0m                    \u001b[1;36m535.0\u001b[0m                   \u001b[1;36m0\u001b[0m  \u001b[33m...\u001b[0m   \n",
       "\n",
       "   PhotometricInterpretation Rows  Columns                     XYSpacing  \\\n",
       "\u001b[1;36m0\u001b[0m                MONOCHROME2  \u001b[1;36m512\u001b[0m      \u001b[1;36m512\u001b[0m      \u001b[1m[\u001b[0m\u001b[1;36m0.82090625\u001b[0m, \u001b[1;36m0.82090625\u001b[0m\u001b[1m]\u001b[0m   \n",
       "\u001b[1;36m1\u001b[0m                MONOCHROME2  \u001b[1;36m512\u001b[0m      \u001b[1;36m512\u001b[0m      \u001b[1m[\u001b[0m\u001b[1;36m0.82090625\u001b[0m, \u001b[1;36m0.82090625\u001b[0m\u001b[1m]\u001b[0m   \n",
       "\u001b[1;36m2\u001b[0m                MONOCHROME2  \u001b[1;36m512\u001b[0m      \u001b[1;36m512\u001b[0m    \u001b[1m[\u001b[0m\u001b[1;36m0.712890625\u001b[0m, \u001b[1;36m0.712890625\u001b[0m\u001b[1m]\u001b[0m   \n",
       "\u001b[1;36m3\u001b[0m                MONOCHROME2  \u001b[1;36m512\u001b[0m      \u001b[1;36m512\u001b[0m    \u001b[1m[\u001b[0m\u001b[1;36m0.712890625\u001b[0m, \u001b[1;36m0.712890625\u001b[0m\u001b[1m]\u001b[0m   \n",
       "\u001b[1;36m4\u001b[0m                MONOCHROME2  \u001b[1;36m512\u001b[0m      \u001b[1;36m512\u001b[0m  \u001b[1m[\u001b[0m\u001b[1;36m0.7610390625\u001b[0m, \u001b[1;36m0.7610390625\u001b[0m\u001b[1m]\u001b[0m   \n",
       "\n",
       "   RescaleIntercept RescaleSlope  RescaleType NumberofSlices ZSpacing  \\\n",
       "\u001b[1;36m0\u001b[0m             \u001b[1;36m-8192\u001b[0m            \u001b[1;36m1\u001b[0m           HU            \u001b[1;36m303\u001b[0m     \u001b[1;36m1.00\u001b[0m   \n",
       "\u001b[1;36m1\u001b[0m             \u001b[1;36m-8192\u001b[0m            \u001b[1;36m1\u001b[0m           HU            \u001b[1;36m303\u001b[0m     \u001b[1;36m1.00\u001b[0m   \n",
       "\u001b[1;36m2\u001b[0m             \u001b[1;36m-8192\u001b[0m            \u001b[1;36m1\u001b[0m           HU            \u001b[1;36m306\u001b[0m     \u001b[1;36m1.00\u001b[0m   \n",
       "\u001b[1;36m3\u001b[0m             \u001b[1;36m-8192\u001b[0m            \u001b[1;36m1\u001b[0m           HU            \u001b[1;36m306\u001b[0m     \u001b[1;36m1.00\u001b[0m   \n",
       "\u001b[1;36m4\u001b[0m             \u001b[1;36m-8192\u001b[0m            \u001b[1;36m1\u001b[0m           HU            \u001b[1;36m270\u001b[0m     \u001b[1;36m1.25\u001b[0m   \n",
       "\n",
       "  StudyDate  \n",
       "\u001b[1;36m0\u001b[0m  \u001b[1;36m20220110\u001b[0m  \n",
       "\u001b[1;36m1\u001b[0m  \u001b[1;36m20220110\u001b[0m  \n",
       "\u001b[1;36m2\u001b[0m  \u001b[1;36m20211116\u001b[0m  \n",
       "\u001b[1;36m3\u001b[0m  \u001b[1;36m20211116\u001b[0m  \n",
       "\u001b[1;36m4\u001b[0m  \u001b[1;36m20220608\u001b[0m  \n",
       "\n",
       "\u001b[1m[\u001b[0m\u001b[1;36m5\u001b[0m rows x \u001b[1;36m44\u001b[0m columns\u001b[1m]\u001b[0m"
      ]
     },
     "execution_count": 3,
     "metadata": {},
     "output_type": "execute_result"
    }
   ],
   "source": [
    "df = pd.read_csv(r'/raid2/open_src_dataset/CT-RATE/dataset/metadata/train_metadata.csv')\n",
    "df.head()"
   ]
  },
  {
   "cell_type": "code",
   "execution_count": 4,
   "metadata": {},
   "outputs": [],
   "source": [
    "paths = [\n",
    "    r'/raid2/open_src_dataset/CT-RATE/dataset/dataset/train/train_10002/train_10002_a/train_10002_a_1.nii.gz',\n",
    "    r'/raid2/open_src_dataset/CT-RATE/dataset/dataset/train/train_10002/train_10002_a/train_10002_a_2.nii.gz',\n",
    "]"
   ]
  },
  {
   "cell_type": "code",
   "execution_count": 5,
   "metadata": {},
   "outputs": [
    {
     "name": "stdout",
     "output_type": "stream",
     "text": [
      "(1.0, 1.0, 1.0)\n",
      "/raid2/open_src_dataset/CT-RATE/dataset/dataset/train/train_10002/train_10002_a/train_10002_a_1.nii.gz\n",
      "(314, 512, 512) -1200.0 400.0\n"
     ]
    },
    {
     "data": {
      "application/vnd.jupyter.widget-view+json": {
       "model_id": "d2e82a93091e4014a9ddd506aac2ec92",
       "version_major": 2,
       "version_minor": 0
      },
      "text/plain": [
       "interactive(children=(IntSlider(value=0, description='z', max=313), Output()), _dom_classes=('widget-interact'…"
      ]
     },
     "metadata": {},
     "output_type": "display_data"
    },
    {
     "name": "stdout",
     "output_type": "stream",
     "text": [
      "(1.0, 1.0, 1.0)\n",
      "/raid2/open_src_dataset/CT-RATE/dataset/dataset/train/train_10002/train_10002_a/train_10002_a_2.nii.gz\n",
      "(314, 512, 512) -1200.0 400.0\n"
     ]
    },
    {
     "data": {
      "application/vnd.jupyter.widget-view+json": {
       "model_id": "55f89f31741b401b8c09b8f26a23b2a9",
       "version_major": 2,
       "version_minor": 0
      },
      "text/plain": [
       "interactive(children=(IntSlider(value=0, description='z', max=313), Output()), _dom_classes=('widget-interact'…"
      ]
     },
     "metadata": {},
     "output_type": "display_data"
    }
   ],
   "source": [
    "for path in paths:\n",
    "    scan = sitk.ReadImage(path)\n",
    "    print(scan.GetSpacing())\n",
    "    scan = sitk.GetArrayFromImage(scan) - 8192\n",
    "    scan = scan.clip(-1200, 400)\n",
    "    print(path)\n",
    "    print(scan.shape, scan.min(), scan.max())\n",
    "    plot_scans(scan)"
   ]
  },
  {
   "cell_type": "code",
   "execution_count": null,
   "metadata": {},
   "outputs": [],
   "source": []
  }
 ],
 "metadata": {
  "kernelspec": {
   "display_name": "base",
   "language": "python",
   "name": "python3"
  },
  "language_info": {
   "codemirror_mode": {
    "name": "ipython",
    "version": 3
   },
   "file_extension": ".py",
   "mimetype": "text/x-python",
   "name": "python",
   "nbconvert_exporter": "python",
   "pygments_lexer": "ipython3",
   "version": "3.10.14"
  }
 },
 "nbformat": 4,
 "nbformat_minor": 2
}
